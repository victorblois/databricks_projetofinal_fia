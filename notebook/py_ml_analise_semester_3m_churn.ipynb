{
 "cells": [
  {
   "cell_type": "code",
   "execution_count": 256,
   "metadata": {},
   "outputs": [],
   "source": [
    "import pandas as pd\n",
    "import numpy as np\n",
    "import matplotlib.pyplot as plt\n",
    "import seaborn as sns\n",
    "import matplotlib\n",
    "matplotlib.use('TkAgg')\n",
    "%matplotlib inline\n",
    "import warnings\n",
    "warnings.filterwarnings('ignore')\n",
    "from sklearn.metrics import confusion_matrix,accuracy_score"
   ]
  },
  {
   "cell_type": "code",
   "execution_count": 138,
   "metadata": {},
   "outputs": [],
   "source": [
    "pd.set_option('precision',4)\n",
    "pd.set_option('display.float_format', lambda x: '%.3f' % x)\n",
    "pd.set_option('display.max_rows', 500)\n",
    "pd.set_option('display.max_columns', 500)\n",
    "pd.set_option('display.width', 1000)"
   ]
  },
  {
   "cell_type": "markdown",
   "metadata": {},
   "source": [
    "# Importar Bases"
   ]
  },
  {
   "cell_type": "code",
   "execution_count": 139,
   "metadata": {},
   "outputs": [],
   "source": [
    "import os.path\n",
    "def path_base(base_name,folder):\n",
    "    current_dir = os.path.abspath(os.path.join(os.getcwd()))\n",
    "    print(current_dir)\n",
    "    data_dir = current_dir.replace('notebook',folder)\n",
    "    print(data_dir)\n",
    "    data_base = data_dir + '\\\\' + base_name\n",
    "    print(data_base)\n",
    "    return data_base"
   ]
  },
  {
   "cell_type": "code",
   "execution_count": 140,
   "metadata": {},
   "outputs": [
    {
     "name": "stdout",
     "output_type": "stream",
     "text": [
      "C:\\MyGit\\databricks_projetofinal_fia\\notebook\n",
      "C:\\MyGit\\databricks_projetofinal_fia\\data\n",
      "C:\\MyGit\\databricks_projetofinal_fia\\data\\db_ml_analise_semester_3m_churn.csv\n"
     ]
    }
   ],
   "source": [
    "base = pd.read_csv(path_base('db_ml_analise_semester_3m_churn.csv','data'))"
   ]
  },
  {
   "cell_type": "code",
   "execution_count": 141,
   "metadata": {},
   "outputs": [
    {
     "data": {
      "text/html": [
       "<div>\n",
       "<style scoped>\n",
       "    .dataframe tbody tr th:only-of-type {\n",
       "        vertical-align: middle;\n",
       "    }\n",
       "\n",
       "    .dataframe tbody tr th {\n",
       "        vertical-align: top;\n",
       "    }\n",
       "\n",
       "    .dataframe thead th {\n",
       "        text-align: right;\n",
       "    }\n",
       "</style>\n",
       "<table border=\"1\" class=\"dataframe\">\n",
       "  <thead>\n",
       "    <tr style=\"text-align: right;\">\n",
       "      <th></th>\n",
       "      <th>yyyymm_ref</th>\n",
       "      <th>seller_id</th>\n",
       "      <th>seller_region</th>\n",
       "      <th>min_order_date</th>\n",
       "      <th>max_order_date</th>\n",
       "      <th>qty_customers</th>\n",
       "      <th>days_first_order_item</th>\n",
       "      <th>days_last_order_item</th>\n",
       "      <th>avg_days_dlv_cust</th>\n",
       "      <th>avg_days_dlv_cust_quarter</th>\n",
       "      <th>avg_days_approval</th>\n",
       "      <th>avg_days_approval_quarter</th>\n",
       "      <th>is_new</th>\n",
       "      <th>is_reactivated</th>\n",
       "      <th>is_active</th>\n",
       "      <th>is_churn</th>\n",
       "      <th>is_inactive</th>\n",
       "      <th>qty_order_item</th>\n",
       "      <th>qty_order_item_month</th>\n",
       "      <th>qty_order_item_quarter</th>\n",
       "      <th>qty_order_item_semester</th>\n",
       "      <th>qty_order_item_year</th>\n",
       "      <th>total_revenue</th>\n",
       "      <th>revenue_month</th>\n",
       "      <th>revenue_quarter</th>\n",
       "      <th>revenue_semester</th>\n",
       "      <th>revenue_year</th>\n",
       "      <th>total_outtime</th>\n",
       "      <th>total_not_delivered</th>\n",
       "      <th>total_canceled</th>\n",
       "      <th>total_bank_slip</th>\n",
       "      <th>total_cc</th>\n",
       "      <th>total_samestate</th>\n",
       "      <th>distinct_product</th>\n",
       "      <th>distinct_category</th>\n",
       "      <th>qty_review_low_4</th>\n",
       "      <th>best_category</th>\n",
       "      <th>revenue_category_semester</th>\n",
       "      <th>target</th>\n",
       "    </tr>\n",
       "  </thead>\n",
       "  <tbody>\n",
       "    <tr>\n",
       "      <th>0</th>\n",
       "      <td>201801</td>\n",
       "      <td>13074f016982ff2bd6c58ced8682f000</td>\n",
       "      <td>S</td>\n",
       "      <td>2017-11-02T20:58:23.000Z</td>\n",
       "      <td>2017-12-04T11:49:02.000Z</td>\n",
       "      <td>7</td>\n",
       "      <td>91</td>\n",
       "      <td>59</td>\n",
       "      <td>12.750</td>\n",
       "      <td>12.750</td>\n",
       "      <td>0.125</td>\n",
       "      <td>0.130</td>\n",
       "      <td>0</td>\n",
       "      <td>0</td>\n",
       "      <td>1</td>\n",
       "      <td>0</td>\n",
       "      <td>0</td>\n",
       "      <td>8</td>\n",
       "      <td>0</td>\n",
       "      <td>8</td>\n",
       "      <td>8</td>\n",
       "      <td>8</td>\n",
       "      <td>1576.110</td>\n",
       "      <td>0.000</td>\n",
       "      <td>1576.110</td>\n",
       "      <td>1576.110</td>\n",
       "      <td>1576.110</td>\n",
       "      <td>2</td>\n",
       "      <td>0</td>\n",
       "      <td>0</td>\n",
       "      <td>1</td>\n",
       "      <td>7</td>\n",
       "      <td>4</td>\n",
       "      <td>3</td>\n",
       "      <td>2</td>\n",
       "      <td>0</td>\n",
       "      <td>home</td>\n",
       "      <td>335.310</td>\n",
       "      <td>0</td>\n",
       "    </tr>\n",
       "    <tr>\n",
       "      <th>1</th>\n",
       "      <td>201801</td>\n",
       "      <td>6750d71153f00fc58829af2a8ef1bcf1</td>\n",
       "      <td>Se</td>\n",
       "      <td>2017-03-28T15:29:43.000Z</td>\n",
       "      <td>2017-08-08T23:13:27.000Z</td>\n",
       "      <td>6</td>\n",
       "      <td>310</td>\n",
       "      <td>177</td>\n",
       "      <td>9.500</td>\n",
       "      <td>0.000</td>\n",
       "      <td>0.333</td>\n",
       "      <td>0.000</td>\n",
       "      <td>0</td>\n",
       "      <td>0</td>\n",
       "      <td>1</td>\n",
       "      <td>0</td>\n",
       "      <td>0</td>\n",
       "      <td>6</td>\n",
       "      <td>0</td>\n",
       "      <td>0</td>\n",
       "      <td>1</td>\n",
       "      <td>6</td>\n",
       "      <td>3626.500</td>\n",
       "      <td>0.000</td>\n",
       "      <td>0.000</td>\n",
       "      <td>177.680</td>\n",
       "      <td>3626.500</td>\n",
       "      <td>0</td>\n",
       "      <td>0</td>\n",
       "      <td>0</td>\n",
       "      <td>1</td>\n",
       "      <td>5</td>\n",
       "      <td>0</td>\n",
       "      <td>6</td>\n",
       "      <td>1</td>\n",
       "      <td>0</td>\n",
       "      <td>esporte_lazer</td>\n",
       "      <td>177.680</td>\n",
       "      <td>1</td>\n",
       "    </tr>\n",
       "    <tr>\n",
       "      <th>2</th>\n",
       "      <td>201801</td>\n",
       "      <td>d650b663c3b5f6fb392b6326366efa9a</td>\n",
       "      <td>SP</td>\n",
       "      <td>2017-12-03T19:47:05.000Z</td>\n",
       "      <td>2017-12-03T19:47:05.000Z</td>\n",
       "      <td>1</td>\n",
       "      <td>60</td>\n",
       "      <td>60</td>\n",
       "      <td>8.000</td>\n",
       "      <td>8.000</td>\n",
       "      <td>0.000</td>\n",
       "      <td>0.000</td>\n",
       "      <td>0</td>\n",
       "      <td>0</td>\n",
       "      <td>1</td>\n",
       "      <td>0</td>\n",
       "      <td>0</td>\n",
       "      <td>1</td>\n",
       "      <td>0</td>\n",
       "      <td>1</td>\n",
       "      <td>1</td>\n",
       "      <td>1</td>\n",
       "      <td>223.980</td>\n",
       "      <td>0.000</td>\n",
       "      <td>223.980</td>\n",
       "      <td>223.980</td>\n",
       "      <td>223.980</td>\n",
       "      <td>0</td>\n",
       "      <td>0</td>\n",
       "      <td>0</td>\n",
       "      <td>0</td>\n",
       "      <td>1</td>\n",
       "      <td>1</td>\n",
       "      <td>1</td>\n",
       "      <td>1</td>\n",
       "      <td>0</td>\n",
       "      <td>presentes</td>\n",
       "      <td>223.980</td>\n",
       "      <td>0</td>\n",
       "    </tr>\n",
       "  </tbody>\n",
       "</table>\n",
       "</div>"
      ],
      "text/plain": [
       "   yyyymm_ref                         seller_id seller_region            min_order_date            max_order_date  qty_customers  days_first_order_item  days_last_order_item  avg_days_dlv_cust  avg_days_dlv_cust_quarter  avg_days_approval  avg_days_approval_quarter  is_new  is_reactivated  is_active  is_churn  is_inactive  qty_order_item  qty_order_item_month  qty_order_item_quarter  qty_order_item_semester  qty_order_item_year  total_revenue  revenue_month  revenue_quarter  revenue_semester  revenue_year  total_outtime  total_not_delivered  total_canceled  total_bank_slip  total_cc  total_samestate  distinct_product  distinct_category  qty_review_low_4  best_category  revenue_category_semester  target\n",
       "0      201801  13074f016982ff2bd6c58ced8682f000             S  2017-11-02T20:58:23.000Z  2017-12-04T11:49:02.000Z              7                     91                    59             12.750                     12.750              0.125                      0.130       0               0          1         0            0               8                     0                       8                        8                    8       1576.110          0.000         1576.110          1576.110      1576.110              2                    0               0                1         7                4                 3                  2                 0           home                    335.310       0\n",
       "1      201801  6750d71153f00fc58829af2a8ef1bcf1            Se  2017-03-28T15:29:43.000Z  2017-08-08T23:13:27.000Z              6                    310                   177              9.500                      0.000              0.333                      0.000       0               0          1         0            0               6                     0                       0                        1                    6       3626.500          0.000            0.000           177.680      3626.500              0                    0               0                1         5                0                 6                  1                 0  esporte_lazer                    177.680       1\n",
       "2      201801  d650b663c3b5f6fb392b6326366efa9a            SP  2017-12-03T19:47:05.000Z  2017-12-03T19:47:05.000Z              1                     60                    60              8.000                      8.000              0.000                      0.000       0               0          1         0            0               1                     0                       1                        1                    1        223.980          0.000          223.980           223.980       223.980              0                    0               0                0         1                1                 1                  1                 0      presentes                    223.980       0"
      ]
     },
     "execution_count": 141,
     "metadata": {},
     "output_type": "execute_result"
    }
   ],
   "source": [
    "base.head(3)"
   ]
  },
  {
   "cell_type": "code",
   "execution_count": 142,
   "metadata": {},
   "outputs": [
    {
     "data": {
      "text/plain": [
       "yyyymm_ref                     int64\n",
       "seller_id                     object\n",
       "seller_region                 object\n",
       "min_order_date                object\n",
       "max_order_date                object\n",
       "qty_customers                  int64\n",
       "days_first_order_item          int64\n",
       "days_last_order_item           int64\n",
       "avg_days_dlv_cust            float64\n",
       "avg_days_dlv_cust_quarter    float64\n",
       "avg_days_approval            float64\n",
       "avg_days_approval_quarter    float64\n",
       "is_new                         int64\n",
       "is_reactivated                 int64\n",
       "is_active                      int64\n",
       "is_churn                       int64\n",
       "is_inactive                    int64\n",
       "qty_order_item                 int64\n",
       "qty_order_item_month           int64\n",
       "qty_order_item_quarter         int64\n",
       "qty_order_item_semester        int64\n",
       "qty_order_item_year            int64\n",
       "total_revenue                float64\n",
       "revenue_month                float64\n",
       "revenue_quarter              float64\n",
       "revenue_semester             float64\n",
       "revenue_year                 float64\n",
       "total_outtime                  int64\n",
       "total_not_delivered            int64\n",
       "total_canceled                 int64\n",
       "total_bank_slip                int64\n",
       "total_cc                       int64\n",
       "total_samestate                int64\n",
       "distinct_product               int64\n",
       "distinct_category              int64\n",
       "qty_review_low_4               int64\n",
       "best_category                 object\n",
       "revenue_category_semester    float64\n",
       "target                         int64\n",
       "dtype: object"
      ]
     },
     "execution_count": 142,
     "metadata": {},
     "output_type": "execute_result"
    }
   ],
   "source": [
    "base.dtypes"
   ]
  },
  {
   "cell_type": "code",
   "execution_count": 143,
   "metadata": {},
   "outputs": [
    {
     "data": {
      "text/plain": [
       "yyyymm_ref                      2\n",
       "seller_id                     868\n",
       "seller_region                   6\n",
       "min_order_date                868\n",
       "max_order_date                868\n",
       "qty_customers                  71\n",
       "days_first_order_item         361\n",
       "days_last_order_item          156\n",
       "avg_days_dlv_cust             430\n",
       "avg_days_dlv_cust_quarter     353\n",
       "avg_days_approval             188\n",
       "avg_days_approval_quarter      73\n",
       "is_new                          1\n",
       "is_reactivated                  1\n",
       "is_active                       1\n",
       "is_churn                        1\n",
       "is_inactive                     1\n",
       "qty_order_item                 77\n",
       "qty_order_item_month            1\n",
       "qty_order_item_quarter         30\n",
       "qty_order_item_semester        53\n",
       "qty_order_item_year            81\n",
       "total_revenue                 863\n",
       "revenue_month                   1\n",
       "revenue_quarter               706\n",
       "revenue_semester             1003\n",
       "revenue_year                  927\n",
       "total_outtime                  23\n",
       "total_not_delivered            11\n",
       "total_canceled                  7\n",
       "total_bank_slip                30\n",
       "total_cc                       63\n",
       "total_samestate                42\n",
       "distinct_product               38\n",
       "distinct_category              12\n",
       "qty_review_low_4                2\n",
       "best_category                  16\n",
       "revenue_category_semester     841\n",
       "target                          2\n",
       "dtype: int64"
      ]
     },
     "execution_count": 143,
     "metadata": {},
     "output_type": "execute_result"
    }
   ],
   "source": [
    "base.nunique()"
   ]
  },
  {
   "cell_type": "code",
   "execution_count": 144,
   "metadata": {},
   "outputs": [
    {
     "data": {
      "text/plain": [
       "yyyymm_ref                    0\n",
       "seller_id                     0\n",
       "seller_region                 0\n",
       "min_order_date                0\n",
       "max_order_date                0\n",
       "qty_customers                 0\n",
       "days_first_order_item         0\n",
       "days_last_order_item          0\n",
       "avg_days_dlv_cust            56\n",
       "avg_days_dlv_cust_quarter    18\n",
       "avg_days_approval             0\n",
       "avg_days_approval_quarter     0\n",
       "is_new                        0\n",
       "is_reactivated                0\n",
       "is_active                     0\n",
       "is_churn                      0\n",
       "is_inactive                   0\n",
       "qty_order_item                0\n",
       "qty_order_item_month          0\n",
       "qty_order_item_quarter        0\n",
       "qty_order_item_semester       0\n",
       "qty_order_item_year           0\n",
       "total_revenue                 0\n",
       "revenue_month                 0\n",
       "revenue_quarter               0\n",
       "revenue_semester              0\n",
       "revenue_year                  0\n",
       "total_outtime                 0\n",
       "total_not_delivered           0\n",
       "total_canceled                0\n",
       "total_bank_slip               0\n",
       "total_cc                      0\n",
       "total_samestate               0\n",
       "distinct_product              0\n",
       "distinct_category             0\n",
       "qty_review_low_4              0\n",
       "best_category                 0\n",
       "revenue_category_semester    73\n",
       "target                        0\n",
       "dtype: int64"
      ]
     },
     "execution_count": 144,
     "metadata": {},
     "output_type": "execute_result"
    }
   ],
   "source": [
    "base.isnull().sum()"
   ]
  },
  {
   "cell_type": "code",
   "execution_count": 145,
   "metadata": {},
   "outputs": [
    {
     "data": {
      "text/plain": [
       "yyyymm_ref                   0\n",
       "seller_id                    0\n",
       "seller_region                0\n",
       "min_order_date               0\n",
       "max_order_date               0\n",
       "qty_customers                0\n",
       "days_first_order_item        0\n",
       "days_last_order_item         0\n",
       "avg_days_dlv_cust            0\n",
       "avg_days_dlv_cust_quarter    0\n",
       "avg_days_approval            0\n",
       "avg_days_approval_quarter    0\n",
       "is_new                       0\n",
       "is_reactivated               0\n",
       "is_active                    0\n",
       "is_churn                     0\n",
       "is_inactive                  0\n",
       "qty_order_item               0\n",
       "qty_order_item_month         0\n",
       "qty_order_item_quarter       0\n",
       "qty_order_item_semester      0\n",
       "qty_order_item_year          0\n",
       "total_revenue                0\n",
       "revenue_month                0\n",
       "revenue_quarter              0\n",
       "revenue_semester             0\n",
       "revenue_year                 0\n",
       "total_outtime                0\n",
       "total_not_delivered          0\n",
       "total_canceled               0\n",
       "total_bank_slip              0\n",
       "total_cc                     0\n",
       "total_samestate              0\n",
       "distinct_product             0\n",
       "distinct_category            0\n",
       "qty_review_low_4             0\n",
       "best_category                0\n",
       "revenue_category_semester    0\n",
       "target                       0\n",
       "dtype: int64"
      ]
     },
     "execution_count": 145,
     "metadata": {},
     "output_type": "execute_result"
    }
   ],
   "source": [
    "base.avg_days_dlv_cust = base.avg_days_dlv_cust.fillna(base.avg_days_dlv_cust.mean())\n",
    "base.avg_days_dlv_cust_quarter = base.avg_days_dlv_cust_quarter.fillna(base.avg_days_dlv_cust_quarter.mean())\n",
    "base.revenue_category_semester = base.revenue_category_semester.fillna(base.revenue_category_semester.mean())\n",
    "base.isnull().sum()"
   ]
  },
  {
   "cell_type": "code",
   "execution_count": 146,
   "metadata": {},
   "outputs": [],
   "source": [
    "dados = base[['seller_region',\n",
    "                'qty_customers',\n",
    "                'days_first_order_item',\n",
    "                'days_last_order_item',\n",
    "                'avg_days_dlv_cust',\n",
    "                'avg_days_dlv_cust_quarter',\n",
    "                'avg_days_approval',\n",
    "                'avg_days_approval_quarter',\n",
    "                'qty_order_item',\n",
    "                'qty_order_item_month',\n",
    "                'qty_order_item_quarter',\n",
    "                'qty_order_item_semester',\n",
    "                'qty_order_item_year',\n",
    "                'total_revenue',\n",
    "                'revenue_month',\n",
    "                'revenue_quarter',\n",
    "                'revenue_semester',\n",
    "                'revenue_year',\n",
    "                'total_outtime',\n",
    "                'total_not_delivered',\n",
    "                'total_canceled',\n",
    "                'total_bank_slip',\n",
    "                'total_cc',\n",
    "                'total_samestate',\n",
    "                'distinct_product',\n",
    "                'distinct_category',\n",
    "                'qty_review_low_4',\n",
    "                'best_category',\n",
    "                'revenue_category_semester',\n",
    "                'target']]"
   ]
  },
  {
   "cell_type": "markdown",
   "metadata": {},
   "source": [
    "# Criar dummies para var categoricas"
   ]
  },
  {
   "cell_type": "code",
   "execution_count": 147,
   "metadata": {},
   "outputs": [],
   "source": [
    "base_categoricas = ['seller_region',\n",
    "                    'best_category'\n",
    "                   ]\n",
    "dum = pd.get_dummies(dados,\n",
    "                    columns=base_categoricas,\n",
    "                    drop_first=True,\n",
    "                    prefix=base_categoricas,\n",
    "                     prefix_sep='_'\n",
    "                    )"
   ]
  },
  {
   "cell_type": "code",
   "execution_count": 148,
   "metadata": {},
   "outputs": [
    {
     "data": {
      "text/html": [
       "<div>\n",
       "<style scoped>\n",
       "    .dataframe tbody tr th:only-of-type {\n",
       "        vertical-align: middle;\n",
       "    }\n",
       "\n",
       "    .dataframe tbody tr th {\n",
       "        vertical-align: top;\n",
       "    }\n",
       "\n",
       "    .dataframe thead th {\n",
       "        text-align: right;\n",
       "    }\n",
       "</style>\n",
       "<table border=\"1\" class=\"dataframe\">\n",
       "  <thead>\n",
       "    <tr style=\"text-align: right;\">\n",
       "      <th></th>\n",
       "      <th>qty_customers</th>\n",
       "      <th>days_first_order_item</th>\n",
       "      <th>days_last_order_item</th>\n",
       "      <th>avg_days_dlv_cust</th>\n",
       "      <th>avg_days_dlv_cust_quarter</th>\n",
       "      <th>avg_days_approval</th>\n",
       "      <th>avg_days_approval_quarter</th>\n",
       "      <th>qty_order_item</th>\n",
       "      <th>qty_order_item_month</th>\n",
       "      <th>qty_order_item_quarter</th>\n",
       "      <th>qty_order_item_semester</th>\n",
       "      <th>qty_order_item_year</th>\n",
       "      <th>total_revenue</th>\n",
       "      <th>revenue_month</th>\n",
       "      <th>revenue_quarter</th>\n",
       "      <th>revenue_semester</th>\n",
       "      <th>revenue_year</th>\n",
       "      <th>total_outtime</th>\n",
       "      <th>total_not_delivered</th>\n",
       "      <th>total_canceled</th>\n",
       "      <th>total_bank_slip</th>\n",
       "      <th>total_cc</th>\n",
       "      <th>total_samestate</th>\n",
       "      <th>distinct_product</th>\n",
       "      <th>distinct_category</th>\n",
       "      <th>qty_review_low_4</th>\n",
       "      <th>revenue_category_semester</th>\n",
       "      <th>target</th>\n",
       "      <th>seller_region_N</th>\n",
       "      <th>seller_region_Ne</th>\n",
       "      <th>seller_region_S</th>\n",
       "      <th>seller_region_SP</th>\n",
       "      <th>seller_region_Se</th>\n",
       "      <th>best_category_automotivo</th>\n",
       "      <th>best_category_bebes</th>\n",
       "      <th>best_category_beleza_saude</th>\n",
       "      <th>best_category_eletro</th>\n",
       "      <th>best_category_escritorio</th>\n",
       "      <th>best_category_esporte_lazer</th>\n",
       "      <th>best_category_fashion</th>\n",
       "      <th>best_category_home</th>\n",
       "      <th>best_category_informatica</th>\n",
       "      <th>best_category_livros_papelaria</th>\n",
       "      <th>best_category_ni</th>\n",
       "      <th>best_category_pet_shop</th>\n",
       "      <th>best_category_presentes</th>\n",
       "      <th>best_category_servico</th>\n",
       "      <th>best_category_telefonia</th>\n",
       "    </tr>\n",
       "  </thead>\n",
       "  <tbody>\n",
       "    <tr>\n",
       "      <th>0</th>\n",
       "      <td>7</td>\n",
       "      <td>91</td>\n",
       "      <td>59</td>\n",
       "      <td>12.750</td>\n",
       "      <td>12.750</td>\n",
       "      <td>0.125</td>\n",
       "      <td>0.130</td>\n",
       "      <td>8</td>\n",
       "      <td>0</td>\n",
       "      <td>8</td>\n",
       "      <td>8</td>\n",
       "      <td>8</td>\n",
       "      <td>1576.110</td>\n",
       "      <td>0.000</td>\n",
       "      <td>1576.110</td>\n",
       "      <td>1576.110</td>\n",
       "      <td>1576.110</td>\n",
       "      <td>2</td>\n",
       "      <td>0</td>\n",
       "      <td>0</td>\n",
       "      <td>1</td>\n",
       "      <td>7</td>\n",
       "      <td>4</td>\n",
       "      <td>3</td>\n",
       "      <td>2</td>\n",
       "      <td>0</td>\n",
       "      <td>335.310</td>\n",
       "      <td>0</td>\n",
       "      <td>0</td>\n",
       "      <td>0</td>\n",
       "      <td>1</td>\n",
       "      <td>0</td>\n",
       "      <td>0</td>\n",
       "      <td>0</td>\n",
       "      <td>0</td>\n",
       "      <td>0</td>\n",
       "      <td>0</td>\n",
       "      <td>0</td>\n",
       "      <td>0</td>\n",
       "      <td>0</td>\n",
       "      <td>1</td>\n",
       "      <td>0</td>\n",
       "      <td>0</td>\n",
       "      <td>0</td>\n",
       "      <td>0</td>\n",
       "      <td>0</td>\n",
       "      <td>0</td>\n",
       "      <td>0</td>\n",
       "    </tr>\n",
       "    <tr>\n",
       "      <th>1</th>\n",
       "      <td>6</td>\n",
       "      <td>310</td>\n",
       "      <td>177</td>\n",
       "      <td>9.500</td>\n",
       "      <td>0.000</td>\n",
       "      <td>0.333</td>\n",
       "      <td>0.000</td>\n",
       "      <td>6</td>\n",
       "      <td>0</td>\n",
       "      <td>0</td>\n",
       "      <td>1</td>\n",
       "      <td>6</td>\n",
       "      <td>3626.500</td>\n",
       "      <td>0.000</td>\n",
       "      <td>0.000</td>\n",
       "      <td>177.680</td>\n",
       "      <td>3626.500</td>\n",
       "      <td>0</td>\n",
       "      <td>0</td>\n",
       "      <td>0</td>\n",
       "      <td>1</td>\n",
       "      <td>5</td>\n",
       "      <td>0</td>\n",
       "      <td>6</td>\n",
       "      <td>1</td>\n",
       "      <td>0</td>\n",
       "      <td>177.680</td>\n",
       "      <td>1</td>\n",
       "      <td>0</td>\n",
       "      <td>0</td>\n",
       "      <td>0</td>\n",
       "      <td>0</td>\n",
       "      <td>1</td>\n",
       "      <td>0</td>\n",
       "      <td>0</td>\n",
       "      <td>0</td>\n",
       "      <td>0</td>\n",
       "      <td>0</td>\n",
       "      <td>1</td>\n",
       "      <td>0</td>\n",
       "      <td>0</td>\n",
       "      <td>0</td>\n",
       "      <td>0</td>\n",
       "      <td>0</td>\n",
       "      <td>0</td>\n",
       "      <td>0</td>\n",
       "      <td>0</td>\n",
       "      <td>0</td>\n",
       "    </tr>\n",
       "    <tr>\n",
       "      <th>2</th>\n",
       "      <td>1</td>\n",
       "      <td>60</td>\n",
       "      <td>60</td>\n",
       "      <td>8.000</td>\n",
       "      <td>8.000</td>\n",
       "      <td>0.000</td>\n",
       "      <td>0.000</td>\n",
       "      <td>1</td>\n",
       "      <td>0</td>\n",
       "      <td>1</td>\n",
       "      <td>1</td>\n",
       "      <td>1</td>\n",
       "      <td>223.980</td>\n",
       "      <td>0.000</td>\n",
       "      <td>223.980</td>\n",
       "      <td>223.980</td>\n",
       "      <td>223.980</td>\n",
       "      <td>0</td>\n",
       "      <td>0</td>\n",
       "      <td>0</td>\n",
       "      <td>0</td>\n",
       "      <td>1</td>\n",
       "      <td>1</td>\n",
       "      <td>1</td>\n",
       "      <td>1</td>\n",
       "      <td>0</td>\n",
       "      <td>223.980</td>\n",
       "      <td>0</td>\n",
       "      <td>0</td>\n",
       "      <td>0</td>\n",
       "      <td>0</td>\n",
       "      <td>1</td>\n",
       "      <td>0</td>\n",
       "      <td>0</td>\n",
       "      <td>0</td>\n",
       "      <td>0</td>\n",
       "      <td>0</td>\n",
       "      <td>0</td>\n",
       "      <td>0</td>\n",
       "      <td>0</td>\n",
       "      <td>0</td>\n",
       "      <td>0</td>\n",
       "      <td>0</td>\n",
       "      <td>0</td>\n",
       "      <td>0</td>\n",
       "      <td>1</td>\n",
       "      <td>0</td>\n",
       "      <td>0</td>\n",
       "    </tr>\n",
       "  </tbody>\n",
       "</table>\n",
       "</div>"
      ],
      "text/plain": [
       "   qty_customers  days_first_order_item  days_last_order_item  avg_days_dlv_cust  avg_days_dlv_cust_quarter  avg_days_approval  avg_days_approval_quarter  qty_order_item  qty_order_item_month  qty_order_item_quarter  qty_order_item_semester  qty_order_item_year  total_revenue  revenue_month  revenue_quarter  revenue_semester  revenue_year  total_outtime  total_not_delivered  total_canceled  total_bank_slip  total_cc  total_samestate  distinct_product  distinct_category  qty_review_low_4  revenue_category_semester  target  seller_region_N  seller_region_Ne  seller_region_S  seller_region_SP  seller_region_Se  best_category_automotivo  best_category_bebes  best_category_beleza_saude  best_category_eletro  best_category_escritorio  best_category_esporte_lazer  best_category_fashion  best_category_home  best_category_informatica  best_category_livros_papelaria  best_category_ni  best_category_pet_shop  best_category_presentes  best_category_servico  best_category_telefonia\n",
       "0              7                     91                    59             12.750                     12.750              0.125                      0.130               8                     0                       8                        8                    8       1576.110          0.000         1576.110          1576.110      1576.110              2                    0               0                1         7                4                 3                  2                 0                    335.310       0                0                 0                1                 0                 0                         0                    0                           0                     0                         0                            0                      0                   1                          0                               0                 0                       0                        0                      0                        0\n",
       "1              6                    310                   177              9.500                      0.000              0.333                      0.000               6                     0                       0                        1                    6       3626.500          0.000            0.000           177.680      3626.500              0                    0               0                1         5                0                 6                  1                 0                    177.680       1                0                 0                0                 0                 1                         0                    0                           0                     0                         0                            1                      0                   0                          0                               0                 0                       0                        0                      0                        0\n",
       "2              1                     60                    60              8.000                      8.000              0.000                      0.000               1                     0                       1                        1                    1        223.980          0.000          223.980           223.980       223.980              0                    0               0                0         1                1                 1                  1                 0                    223.980       0                0                 0                0                 1                 0                         0                    0                           0                     0                         0                            0                      0                   0                          0                               0                 0                       0                        1                      0                        0"
      ]
     },
     "execution_count": 148,
     "metadata": {},
     "output_type": "execute_result"
    }
   ],
   "source": [
    "dum.head(3)"
   ]
  },
  {
   "cell_type": "code",
   "execution_count": 149,
   "metadata": {},
   "outputs": [
    {
     "data": {
      "text/plain": [
       "Index(['qty_customers', 'days_first_order_item', 'days_last_order_item', 'avg_days_dlv_cust', 'avg_days_dlv_cust_quarter', 'avg_days_approval', 'avg_days_approval_quarter', 'qty_order_item', 'qty_order_item_month', 'qty_order_item_quarter', 'qty_order_item_semester', 'qty_order_item_year', 'total_revenue', 'revenue_month', 'revenue_quarter', 'revenue_semester', 'revenue_year', 'total_outtime', 'total_not_delivered', 'total_canceled', 'total_bank_slip', 'total_cc', 'total_samestate', 'distinct_product', 'distinct_category', 'qty_review_low_4', 'revenue_category_semester', 'target', 'seller_region_N', 'seller_region_Ne', 'seller_region_S', 'seller_region_SP', 'seller_region_Se', 'best_category_automotivo', 'best_category_bebes', 'best_category_beleza_saude', 'best_category_eletro', 'best_category_escritorio', 'best_category_esporte_lazer', 'best_category_fashion', 'best_category_home', 'best_category_informatica', 'best_category_livros_papelaria', 'best_category_ni',\n",
       "       'best_category_pet_shop', 'best_category_presentes', 'best_category_servico', 'best_category_telefonia'],\n",
       "      dtype='object')"
      ]
     },
     "execution_count": 149,
     "metadata": {},
     "output_type": "execute_result"
    }
   ],
   "source": [
    "dum.columns"
   ]
  },
  {
   "cell_type": "code",
   "execution_count": 150,
   "metadata": {},
   "outputs": [],
   "source": [
    "dados_selecionados = dum[['qty_customers', 'days_first_order_item', 'days_last_order_item', 'avg_days_dlv_cust', 'avg_days_dlv_cust_quarter', 'avg_days_approval', 'avg_days_approval_quarter', \n",
    "                          'qty_order_item', 'qty_order_item_month', 'qty_order_item_quarter', 'qty_order_item_semester', 'qty_order_item_year', \n",
    "                          'total_revenue', 'revenue_month', 'revenue_quarter', 'revenue_semester', 'revenue_year', \n",
    "                          'total_outtime', 'total_not_delivered', 'total_canceled', \n",
    "                          'total_bank_slip', 'total_cc', 'total_samestate', \n",
    "                          'distinct_product', 'distinct_category', 'qty_review_low_4', 'revenue_category_semester', 'target', \n",
    "                          'seller_region_N', 'seller_region_Ne', 'seller_region_S', 'seller_region_SP', 'seller_region_Se', \n",
    "                          'best_category_automotivo', 'best_category_bebes', 'best_category_beleza_saude', 'best_category_eletro', \n",
    "                          'best_category_escritorio', 'best_category_esporte_lazer', 'best_category_fashion', 'best_category_home', \n",
    "                          'best_category_informatica', 'best_category_livros_papelaria', 'best_category_ni','best_category_pet_shop', \n",
    "                          'best_category_presentes', 'best_category_servico', 'best_category_telefonia']]"
   ]
  },
  {
   "cell_type": "code",
   "execution_count": 151,
   "metadata": {},
   "outputs": [
    {
     "data": {
      "text/html": [
       "<div>\n",
       "<style scoped>\n",
       "    .dataframe tbody tr th:only-of-type {\n",
       "        vertical-align: middle;\n",
       "    }\n",
       "\n",
       "    .dataframe tbody tr th {\n",
       "        vertical-align: top;\n",
       "    }\n",
       "\n",
       "    .dataframe thead th {\n",
       "        text-align: right;\n",
       "    }\n",
       "</style>\n",
       "<table border=\"1\" class=\"dataframe\">\n",
       "  <thead>\n",
       "    <tr style=\"text-align: right;\">\n",
       "      <th></th>\n",
       "      <th>count</th>\n",
       "      <th>mean</th>\n",
       "      <th>std</th>\n",
       "      <th>min</th>\n",
       "      <th>25%</th>\n",
       "      <th>50%</th>\n",
       "      <th>75%</th>\n",
       "      <th>max</th>\n",
       "    </tr>\n",
       "  </thead>\n",
       "  <tbody>\n",
       "    <tr>\n",
       "      <th>qty_customers</th>\n",
       "      <td>1300.000</td>\n",
       "      <td>9.959</td>\n",
       "      <td>19.793</td>\n",
       "      <td>1.000</td>\n",
       "      <td>2.000</td>\n",
       "      <td>4.000</td>\n",
       "      <td>10.000</td>\n",
       "      <td>264.000</td>\n",
       "    </tr>\n",
       "    <tr>\n",
       "      <th>days_first_order_item</th>\n",
       "      <td>1300.000</td>\n",
       "      <td>203.632</td>\n",
       "      <td>111.512</td>\n",
       "      <td>29.000</td>\n",
       "      <td>107.000</td>\n",
       "      <td>174.500</td>\n",
       "      <td>310.000</td>\n",
       "      <td>418.000</td>\n",
       "    </tr>\n",
       "    <tr>\n",
       "      <th>days_last_order_item</th>\n",
       "      <td>1300.000</td>\n",
       "      <td>87.127</td>\n",
       "      <td>42.467</td>\n",
       "      <td>29.000</td>\n",
       "      <td>51.000</td>\n",
       "      <td>77.500</td>\n",
       "      <td>115.000</td>\n",
       "      <td>184.000</td>\n",
       "    </tr>\n",
       "    <tr>\n",
       "      <th>avg_days_dlv_cust</th>\n",
       "      <td>1300.000</td>\n",
       "      <td>14.432</td>\n",
       "      <td>7.615</td>\n",
       "      <td>1.000</td>\n",
       "      <td>9.832</td>\n",
       "      <td>13.074</td>\n",
       "      <td>16.500</td>\n",
       "      <td>86.000</td>\n",
       "    </tr>\n",
       "    <tr>\n",
       "      <th>avg_days_dlv_cust_quarter</th>\n",
       "      <td>1300.000</td>\n",
       "      <td>4.806</td>\n",
       "      <td>7.590</td>\n",
       "      <td>0.000</td>\n",
       "      <td>0.000</td>\n",
       "      <td>1.390</td>\n",
       "      <td>6.682</td>\n",
       "      <td>53.000</td>\n",
       "    </tr>\n",
       "    <tr>\n",
       "      <th>avg_days_approval</th>\n",
       "      <td>1300.000</td>\n",
       "      <td>0.518</td>\n",
       "      <td>0.556</td>\n",
       "      <td>0.000</td>\n",
       "      <td>0.000</td>\n",
       "      <td>0.424</td>\n",
       "      <td>0.750</td>\n",
       "      <td>4.000</td>\n",
       "    </tr>\n",
       "    <tr>\n",
       "      <th>avg_days_approval_quarter</th>\n",
       "      <td>1300.000</td>\n",
       "      <td>0.163</td>\n",
       "      <td>0.395</td>\n",
       "      <td>0.000</td>\n",
       "      <td>0.000</td>\n",
       "      <td>0.000</td>\n",
       "      <td>0.122</td>\n",
       "      <td>3.000</td>\n",
       "    </tr>\n",
       "    <tr>\n",
       "      <th>qty_order_item</th>\n",
       "      <td>1300.000</td>\n",
       "      <td>11.298</td>\n",
       "      <td>22.015</td>\n",
       "      <td>1.000</td>\n",
       "      <td>2.000</td>\n",
       "      <td>4.000</td>\n",
       "      <td>11.000</td>\n",
       "      <td>272.000</td>\n",
       "    </tr>\n",
       "    <tr>\n",
       "      <th>qty_order_item_month</th>\n",
       "      <td>1300.000</td>\n",
       "      <td>0.000</td>\n",
       "      <td>0.000</td>\n",
       "      <td>0.000</td>\n",
       "      <td>0.000</td>\n",
       "      <td>0.000</td>\n",
       "      <td>0.000</td>\n",
       "      <td>0.000</td>\n",
       "    </tr>\n",
       "    <tr>\n",
       "      <th>qty_order_item_quarter</th>\n",
       "      <td>1300.000</td>\n",
       "      <td>2.122</td>\n",
       "      <td>5.325</td>\n",
       "      <td>0.000</td>\n",
       "      <td>0.000</td>\n",
       "      <td>1.000</td>\n",
       "      <td>2.000</td>\n",
       "      <td>98.000</td>\n",
       "    </tr>\n",
       "    <tr>\n",
       "      <th>qty_order_item_semester</th>\n",
       "      <td>1300.000</td>\n",
       "      <td>5.930</td>\n",
       "      <td>11.775</td>\n",
       "      <td>1.000</td>\n",
       "      <td>1.000</td>\n",
       "      <td>3.000</td>\n",
       "      <td>6.000</td>\n",
       "      <td>197.000</td>\n",
       "    </tr>\n",
       "    <tr>\n",
       "      <th>qty_order_item_year</th>\n",
       "      <td>1300.000</td>\n",
       "      <td>10.948</td>\n",
       "      <td>21.508</td>\n",
       "      <td>1.000</td>\n",
       "      <td>2.000</td>\n",
       "      <td>4.000</td>\n",
       "      <td>11.000</td>\n",
       "      <td>272.000</td>\n",
       "    </tr>\n",
       "    <tr>\n",
       "      <th>total_revenue</th>\n",
       "      <td>1300.000</td>\n",
       "      <td>1877.359</td>\n",
       "      <td>3865.444</td>\n",
       "      <td>23.260</td>\n",
       "      <td>224.505</td>\n",
       "      <td>661.930</td>\n",
       "      <td>1788.790</td>\n",
       "      <td>59590.590</td>\n",
       "    </tr>\n",
       "    <tr>\n",
       "      <th>revenue_month</th>\n",
       "      <td>1300.000</td>\n",
       "      <td>0.000</td>\n",
       "      <td>0.000</td>\n",
       "      <td>0.000</td>\n",
       "      <td>0.000</td>\n",
       "      <td>0.000</td>\n",
       "      <td>0.000</td>\n",
       "      <td>0.000</td>\n",
       "    </tr>\n",
       "    <tr>\n",
       "      <th>revenue_quarter</th>\n",
       "      <td>1300.000</td>\n",
       "      <td>395.605</td>\n",
       "      <td>1138.453</td>\n",
       "      <td>0.000</td>\n",
       "      <td>0.000</td>\n",
       "      <td>79.375</td>\n",
       "      <td>350.240</td>\n",
       "      <td>18363.870</td>\n",
       "    </tr>\n",
       "    <tr>\n",
       "      <th>revenue_semester</th>\n",
       "      <td>1300.000</td>\n",
       "      <td>1043.586</td>\n",
       "      <td>2239.658</td>\n",
       "      <td>18.840</td>\n",
       "      <td>152.483</td>\n",
       "      <td>362.910</td>\n",
       "      <td>1080.560</td>\n",
       "      <td>29590.650</td>\n",
       "    </tr>\n",
       "    <tr>\n",
       "      <th>revenue_year</th>\n",
       "      <td>1300.000</td>\n",
       "      <td>1817.156</td>\n",
       "      <td>3771.791</td>\n",
       "      <td>23.260</td>\n",
       "      <td>223.577</td>\n",
       "      <td>652.090</td>\n",
       "      <td>1775.473</td>\n",
       "      <td>59590.590</td>\n",
       "    </tr>\n",
       "    <tr>\n",
       "      <th>total_outtime</th>\n",
       "      <td>1300.000</td>\n",
       "      <td>1.378</td>\n",
       "      <td>2.987</td>\n",
       "      <td>0.000</td>\n",
       "      <td>0.000</td>\n",
       "      <td>0.000</td>\n",
       "      <td>2.000</td>\n",
       "      <td>35.000</td>\n",
       "    </tr>\n",
       "    <tr>\n",
       "      <th>total_not_delivered</th>\n",
       "      <td>1300.000</td>\n",
       "      <td>0.525</td>\n",
       "      <td>1.268</td>\n",
       "      <td>0.000</td>\n",
       "      <td>0.000</td>\n",
       "      <td>0.000</td>\n",
       "      <td>1.000</td>\n",
       "      <td>18.000</td>\n",
       "    </tr>\n",
       "    <tr>\n",
       "      <th>total_canceled</th>\n",
       "      <td>1300.000</td>\n",
       "      <td>0.115</td>\n",
       "      <td>0.498</td>\n",
       "      <td>0.000</td>\n",
       "      <td>0.000</td>\n",
       "      <td>0.000</td>\n",
       "      <td>0.000</td>\n",
       "      <td>6.000</td>\n",
       "    </tr>\n",
       "    <tr>\n",
       "      <th>total_bank_slip</th>\n",
       "      <td>1300.000</td>\n",
       "      <td>2.391</td>\n",
       "      <td>5.033</td>\n",
       "      <td>0.000</td>\n",
       "      <td>0.000</td>\n",
       "      <td>1.000</td>\n",
       "      <td>2.000</td>\n",
       "      <td>63.000</td>\n",
       "    </tr>\n",
       "    <tr>\n",
       "      <th>total_cc</th>\n",
       "      <td>1300.000</td>\n",
       "      <td>8.615</td>\n",
       "      <td>17.008</td>\n",
       "      <td>0.000</td>\n",
       "      <td>1.000</td>\n",
       "      <td>3.000</td>\n",
       "      <td>8.000</td>\n",
       "      <td>233.000</td>\n",
       "    </tr>\n",
       "    <tr>\n",
       "      <th>total_samestate</th>\n",
       "      <td>1300.000</td>\n",
       "      <td>3.567</td>\n",
       "      <td>8.949</td>\n",
       "      <td>0.000</td>\n",
       "      <td>0.000</td>\n",
       "      <td>1.000</td>\n",
       "      <td>3.000</td>\n",
       "      <td>108.000</td>\n",
       "    </tr>\n",
       "    <tr>\n",
       "      <th>distinct_product</th>\n",
       "      <td>1300.000</td>\n",
       "      <td>4.808</td>\n",
       "      <td>6.324</td>\n",
       "      <td>1.000</td>\n",
       "      <td>1.000</td>\n",
       "      <td>3.000</td>\n",
       "      <td>5.000</td>\n",
       "      <td>59.000</td>\n",
       "    </tr>\n",
       "    <tr>\n",
       "      <th>distinct_category</th>\n",
       "      <td>1300.000</td>\n",
       "      <td>1.539</td>\n",
       "      <td>1.334</td>\n",
       "      <td>0.000</td>\n",
       "      <td>1.000</td>\n",
       "      <td>1.000</td>\n",
       "      <td>2.000</td>\n",
       "      <td>12.000</td>\n",
       "    </tr>\n",
       "    <tr>\n",
       "      <th>qty_review_low_4</th>\n",
       "      <td>1300.000</td>\n",
       "      <td>0.007</td>\n",
       "      <td>0.083</td>\n",
       "      <td>0.000</td>\n",
       "      <td>0.000</td>\n",
       "      <td>0.000</td>\n",
       "      <td>0.000</td>\n",
       "      <td>1.000</td>\n",
       "    </tr>\n",
       "    <tr>\n",
       "      <th>revenue_category_semester</th>\n",
       "      <td>1300.000</td>\n",
       "      <td>304.661</td>\n",
       "      <td>416.289</td>\n",
       "      <td>11.630</td>\n",
       "      <td>84.343</td>\n",
       "      <td>168.890</td>\n",
       "      <td>315.840</td>\n",
       "      <td>3297.400</td>\n",
       "    </tr>\n",
       "    <tr>\n",
       "      <th>target</th>\n",
       "      <td>1300.000</td>\n",
       "      <td>0.639</td>\n",
       "      <td>0.480</td>\n",
       "      <td>0.000</td>\n",
       "      <td>0.000</td>\n",
       "      <td>1.000</td>\n",
       "      <td>1.000</td>\n",
       "      <td>1.000</td>\n",
       "    </tr>\n",
       "    <tr>\n",
       "      <th>seller_region_N</th>\n",
       "      <td>1300.000</td>\n",
       "      <td>0.002</td>\n",
       "      <td>0.039</td>\n",
       "      <td>0.000</td>\n",
       "      <td>0.000</td>\n",
       "      <td>0.000</td>\n",
       "      <td>0.000</td>\n",
       "      <td>1.000</td>\n",
       "    </tr>\n",
       "    <tr>\n",
       "      <th>seller_region_Ne</th>\n",
       "      <td>1300.000</td>\n",
       "      <td>0.020</td>\n",
       "      <td>0.140</td>\n",
       "      <td>0.000</td>\n",
       "      <td>0.000</td>\n",
       "      <td>0.000</td>\n",
       "      <td>0.000</td>\n",
       "      <td>1.000</td>\n",
       "    </tr>\n",
       "    <tr>\n",
       "      <th>seller_region_S</th>\n",
       "      <td>1300.000</td>\n",
       "      <td>0.234</td>\n",
       "      <td>0.423</td>\n",
       "      <td>0.000</td>\n",
       "      <td>0.000</td>\n",
       "      <td>0.000</td>\n",
       "      <td>0.000</td>\n",
       "      <td>1.000</td>\n",
       "    </tr>\n",
       "    <tr>\n",
       "      <th>seller_region_SP</th>\n",
       "      <td>1300.000</td>\n",
       "      <td>0.580</td>\n",
       "      <td>0.494</td>\n",
       "      <td>0.000</td>\n",
       "      <td>0.000</td>\n",
       "      <td>1.000</td>\n",
       "      <td>1.000</td>\n",
       "      <td>1.000</td>\n",
       "    </tr>\n",
       "    <tr>\n",
       "      <th>seller_region_Se</th>\n",
       "      <td>1300.000</td>\n",
       "      <td>0.145</td>\n",
       "      <td>0.353</td>\n",
       "      <td>0.000</td>\n",
       "      <td>0.000</td>\n",
       "      <td>0.000</td>\n",
       "      <td>0.000</td>\n",
       "      <td>1.000</td>\n",
       "    </tr>\n",
       "    <tr>\n",
       "      <th>best_category_automotivo</th>\n",
       "      <td>1300.000</td>\n",
       "      <td>0.068</td>\n",
       "      <td>0.253</td>\n",
       "      <td>0.000</td>\n",
       "      <td>0.000</td>\n",
       "      <td>0.000</td>\n",
       "      <td>0.000</td>\n",
       "      <td>1.000</td>\n",
       "    </tr>\n",
       "    <tr>\n",
       "      <th>best_category_bebes</th>\n",
       "      <td>1300.000</td>\n",
       "      <td>0.016</td>\n",
       "      <td>0.126</td>\n",
       "      <td>0.000</td>\n",
       "      <td>0.000</td>\n",
       "      <td>0.000</td>\n",
       "      <td>0.000</td>\n",
       "      <td>1.000</td>\n",
       "    </tr>\n",
       "    <tr>\n",
       "      <th>best_category_beleza_saude</th>\n",
       "      <td>1300.000</td>\n",
       "      <td>0.093</td>\n",
       "      <td>0.291</td>\n",
       "      <td>0.000</td>\n",
       "      <td>0.000</td>\n",
       "      <td>0.000</td>\n",
       "      <td>0.000</td>\n",
       "      <td>1.000</td>\n",
       "    </tr>\n",
       "    <tr>\n",
       "      <th>best_category_eletro</th>\n",
       "      <td>1300.000</td>\n",
       "      <td>0.049</td>\n",
       "      <td>0.216</td>\n",
       "      <td>0.000</td>\n",
       "      <td>0.000</td>\n",
       "      <td>0.000</td>\n",
       "      <td>0.000</td>\n",
       "      <td>1.000</td>\n",
       "    </tr>\n",
       "    <tr>\n",
       "      <th>best_category_escritorio</th>\n",
       "      <td>1300.000</td>\n",
       "      <td>0.007</td>\n",
       "      <td>0.083</td>\n",
       "      <td>0.000</td>\n",
       "      <td>0.000</td>\n",
       "      <td>0.000</td>\n",
       "      <td>0.000</td>\n",
       "      <td>1.000</td>\n",
       "    </tr>\n",
       "    <tr>\n",
       "      <th>best_category_esporte_lazer</th>\n",
       "      <td>1300.000</td>\n",
       "      <td>0.099</td>\n",
       "      <td>0.299</td>\n",
       "      <td>0.000</td>\n",
       "      <td>0.000</td>\n",
       "      <td>0.000</td>\n",
       "      <td>0.000</td>\n",
       "      <td>1.000</td>\n",
       "    </tr>\n",
       "    <tr>\n",
       "      <th>best_category_fashion</th>\n",
       "      <td>1300.000</td>\n",
       "      <td>0.055</td>\n",
       "      <td>0.229</td>\n",
       "      <td>0.000</td>\n",
       "      <td>0.000</td>\n",
       "      <td>0.000</td>\n",
       "      <td>0.000</td>\n",
       "      <td>1.000</td>\n",
       "    </tr>\n",
       "    <tr>\n",
       "      <th>best_category_home</th>\n",
       "      <td>1300.000</td>\n",
       "      <td>0.272</td>\n",
       "      <td>0.445</td>\n",
       "      <td>0.000</td>\n",
       "      <td>0.000</td>\n",
       "      <td>0.000</td>\n",
       "      <td>1.000</td>\n",
       "      <td>1.000</td>\n",
       "    </tr>\n",
       "    <tr>\n",
       "      <th>best_category_informatica</th>\n",
       "      <td>1300.000</td>\n",
       "      <td>0.050</td>\n",
       "      <td>0.218</td>\n",
       "      <td>0.000</td>\n",
       "      <td>0.000</td>\n",
       "      <td>0.000</td>\n",
       "      <td>0.000</td>\n",
       "      <td>1.000</td>\n",
       "    </tr>\n",
       "    <tr>\n",
       "      <th>best_category_livros_papelaria</th>\n",
       "      <td>1300.000</td>\n",
       "      <td>0.052</td>\n",
       "      <td>0.221</td>\n",
       "      <td>0.000</td>\n",
       "      <td>0.000</td>\n",
       "      <td>0.000</td>\n",
       "      <td>0.000</td>\n",
       "      <td>1.000</td>\n",
       "    </tr>\n",
       "    <tr>\n",
       "      <th>best_category_ni</th>\n",
       "      <td>1300.000</td>\n",
       "      <td>0.056</td>\n",
       "      <td>0.230</td>\n",
       "      <td>0.000</td>\n",
       "      <td>0.000</td>\n",
       "      <td>0.000</td>\n",
       "      <td>0.000</td>\n",
       "      <td>1.000</td>\n",
       "    </tr>\n",
       "    <tr>\n",
       "      <th>best_category_pet_shop</th>\n",
       "      <td>1300.000</td>\n",
       "      <td>0.023</td>\n",
       "      <td>0.150</td>\n",
       "      <td>0.000</td>\n",
       "      <td>0.000</td>\n",
       "      <td>0.000</td>\n",
       "      <td>0.000</td>\n",
       "      <td>1.000</td>\n",
       "    </tr>\n",
       "    <tr>\n",
       "      <th>best_category_presentes</th>\n",
       "      <td>1300.000</td>\n",
       "      <td>0.112</td>\n",
       "      <td>0.315</td>\n",
       "      <td>0.000</td>\n",
       "      <td>0.000</td>\n",
       "      <td>0.000</td>\n",
       "      <td>0.000</td>\n",
       "      <td>1.000</td>\n",
       "    </tr>\n",
       "    <tr>\n",
       "      <th>best_category_servico</th>\n",
       "      <td>1300.000</td>\n",
       "      <td>0.013</td>\n",
       "      <td>0.114</td>\n",
       "      <td>0.000</td>\n",
       "      <td>0.000</td>\n",
       "      <td>0.000</td>\n",
       "      <td>0.000</td>\n",
       "      <td>1.000</td>\n",
       "    </tr>\n",
       "    <tr>\n",
       "      <th>best_category_telefonia</th>\n",
       "      <td>1300.000</td>\n",
       "      <td>0.021</td>\n",
       "      <td>0.143</td>\n",
       "      <td>0.000</td>\n",
       "      <td>0.000</td>\n",
       "      <td>0.000</td>\n",
       "      <td>0.000</td>\n",
       "      <td>1.000</td>\n",
       "    </tr>\n",
       "  </tbody>\n",
       "</table>\n",
       "</div>"
      ],
      "text/plain": [
       "                                  count     mean      std    min     25%     50%      75%       max\n",
       "qty_customers                  1300.000    9.959   19.793  1.000   2.000   4.000   10.000   264.000\n",
       "days_first_order_item          1300.000  203.632  111.512 29.000 107.000 174.500  310.000   418.000\n",
       "days_last_order_item           1300.000   87.127   42.467 29.000  51.000  77.500  115.000   184.000\n",
       "avg_days_dlv_cust              1300.000   14.432    7.615  1.000   9.832  13.074   16.500    86.000\n",
       "avg_days_dlv_cust_quarter      1300.000    4.806    7.590  0.000   0.000   1.390    6.682    53.000\n",
       "avg_days_approval              1300.000    0.518    0.556  0.000   0.000   0.424    0.750     4.000\n",
       "avg_days_approval_quarter      1300.000    0.163    0.395  0.000   0.000   0.000    0.122     3.000\n",
       "qty_order_item                 1300.000   11.298   22.015  1.000   2.000   4.000   11.000   272.000\n",
       "qty_order_item_month           1300.000    0.000    0.000  0.000   0.000   0.000    0.000     0.000\n",
       "qty_order_item_quarter         1300.000    2.122    5.325  0.000   0.000   1.000    2.000    98.000\n",
       "qty_order_item_semester        1300.000    5.930   11.775  1.000   1.000   3.000    6.000   197.000\n",
       "qty_order_item_year            1300.000   10.948   21.508  1.000   2.000   4.000   11.000   272.000\n",
       "total_revenue                  1300.000 1877.359 3865.444 23.260 224.505 661.930 1788.790 59590.590\n",
       "revenue_month                  1300.000    0.000    0.000  0.000   0.000   0.000    0.000     0.000\n",
       "revenue_quarter                1300.000  395.605 1138.453  0.000   0.000  79.375  350.240 18363.870\n",
       "revenue_semester               1300.000 1043.586 2239.658 18.840 152.483 362.910 1080.560 29590.650\n",
       "revenue_year                   1300.000 1817.156 3771.791 23.260 223.577 652.090 1775.473 59590.590\n",
       "total_outtime                  1300.000    1.378    2.987  0.000   0.000   0.000    2.000    35.000\n",
       "total_not_delivered            1300.000    0.525    1.268  0.000   0.000   0.000    1.000    18.000\n",
       "total_canceled                 1300.000    0.115    0.498  0.000   0.000   0.000    0.000     6.000\n",
       "total_bank_slip                1300.000    2.391    5.033  0.000   0.000   1.000    2.000    63.000\n",
       "total_cc                       1300.000    8.615   17.008  0.000   1.000   3.000    8.000   233.000\n",
       "total_samestate                1300.000    3.567    8.949  0.000   0.000   1.000    3.000   108.000\n",
       "distinct_product               1300.000    4.808    6.324  1.000   1.000   3.000    5.000    59.000\n",
       "distinct_category              1300.000    1.539    1.334  0.000   1.000   1.000    2.000    12.000\n",
       "qty_review_low_4               1300.000    0.007    0.083  0.000   0.000   0.000    0.000     1.000\n",
       "revenue_category_semester      1300.000  304.661  416.289 11.630  84.343 168.890  315.840  3297.400\n",
       "target                         1300.000    0.639    0.480  0.000   0.000   1.000    1.000     1.000\n",
       "seller_region_N                1300.000    0.002    0.039  0.000   0.000   0.000    0.000     1.000\n",
       "seller_region_Ne               1300.000    0.020    0.140  0.000   0.000   0.000    0.000     1.000\n",
       "seller_region_S                1300.000    0.234    0.423  0.000   0.000   0.000    0.000     1.000\n",
       "seller_region_SP               1300.000    0.580    0.494  0.000   0.000   1.000    1.000     1.000\n",
       "seller_region_Se               1300.000    0.145    0.353  0.000   0.000   0.000    0.000     1.000\n",
       "best_category_automotivo       1300.000    0.068    0.253  0.000   0.000   0.000    0.000     1.000\n",
       "best_category_bebes            1300.000    0.016    0.126  0.000   0.000   0.000    0.000     1.000\n",
       "best_category_beleza_saude     1300.000    0.093    0.291  0.000   0.000   0.000    0.000     1.000\n",
       "best_category_eletro           1300.000    0.049    0.216  0.000   0.000   0.000    0.000     1.000\n",
       "best_category_escritorio       1300.000    0.007    0.083  0.000   0.000   0.000    0.000     1.000\n",
       "best_category_esporte_lazer    1300.000    0.099    0.299  0.000   0.000   0.000    0.000     1.000\n",
       "best_category_fashion          1300.000    0.055    0.229  0.000   0.000   0.000    0.000     1.000\n",
       "best_category_home             1300.000    0.272    0.445  0.000   0.000   0.000    1.000     1.000\n",
       "best_category_informatica      1300.000    0.050    0.218  0.000   0.000   0.000    0.000     1.000\n",
       "best_category_livros_papelaria 1300.000    0.052    0.221  0.000   0.000   0.000    0.000     1.000\n",
       "best_category_ni               1300.000    0.056    0.230  0.000   0.000   0.000    0.000     1.000\n",
       "best_category_pet_shop         1300.000    0.023    0.150  0.000   0.000   0.000    0.000     1.000\n",
       "best_category_presentes        1300.000    0.112    0.315  0.000   0.000   0.000    0.000     1.000\n",
       "best_category_servico          1300.000    0.013    0.114  0.000   0.000   0.000    0.000     1.000\n",
       "best_category_telefonia        1300.000    0.021    0.143  0.000   0.000   0.000    0.000     1.000"
      ]
     },
     "execution_count": 151,
     "metadata": {},
     "output_type": "execute_result"
    }
   ],
   "source": [
    "dados_selecionados.describe().transpose()"
   ]
  },
  {
   "cell_type": "markdown",
   "metadata": {},
   "source": [
    "# Determinar melhores variaveis para todos os modelos"
   ]
  },
  {
   "cell_type": "code",
   "execution_count": 152,
   "metadata": {},
   "outputs": [],
   "source": [
    "from sklearn.feature_selection import SelectKBest\n",
    "from sklearn.feature_selection import chi2\n",
    "from sklearn.preprocessing import StandardScaler"
   ]
  },
  {
   "cell_type": "code",
   "execution_count": 153,
   "metadata": {},
   "outputs": [],
   "source": [
    "expl = dados_selecionados.drop(columns=['target'])\n",
    "target = dados_selecionados.target"
   ]
  },
  {
   "cell_type": "code",
   "execution_count": 154,
   "metadata": {},
   "outputs": [],
   "source": [
    "# Normalizar\n",
    "expl_norm = StandardScaler().fit_transform(expl)"
   ]
  },
  {
   "cell_type": "code",
   "execution_count": 155,
   "metadata": {},
   "outputs": [
    {
     "data": {
      "text/plain": [
       "array([[-0.1495693 , -1.01043231, -0.66257578, ..., -0.35431783,\n",
       "        -0.11510949, -0.14563564],\n",
       "       [-0.2001126 ,  0.95423201,  2.11710766, ..., -0.35431783,\n",
       "        -0.11510949, -0.14563564],\n",
       "       [-0.45282912, -1.28853548, -0.63901914, ...,  2.82232479,\n",
       "        -0.11510949, -0.14563564],\n",
       "       ...,\n",
       "       [-0.40228582, -1.10014301, -0.42700939, ..., -0.35431783,\n",
       "        -0.11510949, -0.14563564],\n",
       "       [ 0.20423383,  1.42072765,  0.06768004, ..., -0.35431783,\n",
       "        -0.11510949, -0.14563564],\n",
       "       [ 0.05260392,  1.38484337,  1.45752176, ..., -0.35431783,\n",
       "        -0.11510949, -0.14563564]])"
      ]
     },
     "execution_count": 155,
     "metadata": {},
     "output_type": "execute_result"
    }
   ],
   "source": [
    "expl_norm"
   ]
  },
  {
   "cell_type": "markdown",
   "metadata": {},
   "source": [
    "### baseado em filtro"
   ]
  },
  {
   "cell_type": "code",
   "execution_count": 156,
   "metadata": {},
   "outputs": [
    {
     "data": {
      "text/plain": [
       "SelectKBest(k=25, score_func=<function chi2 at 0x0000019FD84DA708>)"
      ]
     },
     "execution_count": 156,
     "metadata": {},
     "output_type": "execute_result"
    }
   ],
   "source": [
    "chi_selector = SelectKBest(chi2,k=25)\n",
    "chi_selector.fit(expl,target)"
   ]
  },
  {
   "cell_type": "code",
   "execution_count": 157,
   "metadata": {},
   "outputs": [],
   "source": [
    "chi_support = chi_selector.get_support()\n",
    "chi_feature = expl.loc[:,chi_support].columns.tolist()"
   ]
  },
  {
   "cell_type": "code",
   "execution_count": 158,
   "metadata": {},
   "outputs": [
    {
     "name": "stdout",
     "output_type": "stream",
     "text": [
      "25  é número de variaveis selecionadas\n",
      "['qty_customers', 'days_first_order_item', 'days_last_order_item', 'avg_days_dlv_cust_quarter', 'avg_days_approval_quarter', 'qty_order_item', 'qty_order_item_quarter', 'qty_order_item_semester', 'qty_order_item_year', 'total_revenue', 'revenue_quarter', 'revenue_semester', 'revenue_year', 'total_outtime', 'total_not_delivered', 'total_canceled', 'total_bank_slip', 'total_cc', 'total_samestate', 'distinct_product', 'distinct_category', 'revenue_category_semester', 'best_category_bebes', 'best_category_fashion', 'best_category_ni']\n"
     ]
    }
   ],
   "source": [
    "print(len(chi_feature), ' é número de variaveis selecionadas')\n",
    "print(chi_feature)"
   ]
  },
  {
   "cell_type": "markdown",
   "metadata": {},
   "source": [
    "### wraper"
   ]
  },
  {
   "cell_type": "code",
   "execution_count": 159,
   "metadata": {},
   "outputs": [],
   "source": [
    "from sklearn.feature_selection import RFE\n",
    "from sklearn.linear_model import LogisticRegression"
   ]
  },
  {
   "cell_type": "code",
   "execution_count": 160,
   "metadata": {},
   "outputs": [],
   "source": [
    "rfe_selector = RFE(estimator=LogisticRegression( C=1.0, class_weight=None, dual=False,\n",
    "                                                 fit_intercept=True, intercept_scaling=1,\n",
    "                                                 l1_ratio=None, max_iter=1000,\n",
    "                                                 multi_class='auto', n_jobs=None, penalty='l2',\n",
    "                                                 random_state=42, solver='lbfgs', tol=0.0001,\n",
    "                                                 verbose=0, warm_start=False),\n",
    "                  step=100,           \n",
    "                  n_features_to_select=25)\n",
    "rfe_selector.fit(expl,target)\n",
    "rfe_support = rfe_selector.get_support()\n",
    "rfe_feature = expl.loc[:,rfe_support].columns.tolist()"
   ]
  },
  {
   "cell_type": "code",
   "execution_count": 161,
   "metadata": {},
   "outputs": [
    {
     "name": "stdout",
     "output_type": "stream",
     "text": [
      "25  é número de variaveis selecionadas\n",
      "['qty_customers', 'days_last_order_item', 'avg_days_dlv_cust_quarter', 'avg_days_approval', 'qty_order_item', 'qty_order_item_quarter', 'qty_order_item_year', 'total_outtime', 'total_not_delivered', 'total_canceled', 'total_samestate', 'distinct_category', 'seller_region_S', 'seller_region_SP', 'seller_region_Se', 'best_category_automotivo', 'best_category_bebes', 'best_category_beleza_saude', 'best_category_eletro', 'best_category_esporte_lazer', 'best_category_fashion', 'best_category_home', 'best_category_livros_papelaria', 'best_category_ni', 'best_category_presentes']\n"
     ]
    }
   ],
   "source": [
    "print(len(rfe_feature), ' é número de variaveis selecionadas')\n",
    "print(rfe_feature)"
   ]
  },
  {
   "cell_type": "code",
   "execution_count": 162,
   "metadata": {},
   "outputs": [],
   "source": [
    "from sklearn.feature_selection import SelectFromModel\n",
    "from sklearn.ensemble import RandomForestClassifier\n",
    "rfe_selector1 = RFE(estimator=RandomForestClassifier(n_estimators=300),\n",
    "                  step=100,           \n",
    "                  n_features_to_select=25)\n",
    "rfe_selector1.fit(expl,target)\n",
    "rfe_support1 = rfe_selector1.get_support()\n",
    "rfe_feature1 = expl.loc[:,rfe_support1].columns.tolist()"
   ]
  },
  {
   "cell_type": "code",
   "execution_count": 163,
   "metadata": {},
   "outputs": [
    {
     "name": "stdout",
     "output_type": "stream",
     "text": [
      "25  é número de variaveis selecionadas\n",
      "['qty_customers', 'days_first_order_item', 'days_last_order_item', 'avg_days_dlv_cust', 'avg_days_dlv_cust_quarter', 'avg_days_approval', 'avg_days_approval_quarter', 'qty_order_item', 'qty_order_item_quarter', 'qty_order_item_semester', 'qty_order_item_year', 'total_revenue', 'revenue_quarter', 'revenue_semester', 'revenue_year', 'total_outtime', 'total_not_delivered', 'total_bank_slip', 'total_cc', 'total_samestate', 'distinct_product', 'distinct_category', 'revenue_category_semester', 'seller_region_SP', 'best_category_home']\n"
     ]
    }
   ],
   "source": [
    "print(len(rfe_feature1), ' é número de variaveis selecionadas')\n",
    "print(rfe_feature1)"
   ]
  },
  {
   "cell_type": "markdown",
   "metadata": {},
   "source": [
    "### Embarcada"
   ]
  },
  {
   "cell_type": "code",
   "execution_count": 164,
   "metadata": {},
   "outputs": [],
   "source": [
    "from sklearn.feature_selection import SelectFromModel\n",
    "from sklearn.ensemble import RandomForestClassifier"
   ]
  },
  {
   "cell_type": "code",
   "execution_count": 165,
   "metadata": {},
   "outputs": [],
   "source": [
    "rf_selector = SelectFromModel(estimator=RandomForestClassifier(n_estimators=300),\n",
    "                              max_features=25)\n",
    "rf_selector.fit(expl,target)\n",
    "rf_support = rf_selector.get_support()\n",
    "rf_feature = expl.loc[:,rf_support].columns.tolist()"
   ]
  },
  {
   "cell_type": "code",
   "execution_count": 166,
   "metadata": {},
   "outputs": [
    {
     "name": "stdout",
     "output_type": "stream",
     "text": [
      "19  é número de variaveis selecionadas\n",
      "['qty_customers', 'days_first_order_item', 'days_last_order_item', 'avg_days_dlv_cust', 'avg_days_dlv_cust_quarter', 'avg_days_approval', 'avg_days_approval_quarter', 'qty_order_item', 'qty_order_item_quarter', 'qty_order_item_semester', 'qty_order_item_year', 'total_revenue', 'revenue_quarter', 'revenue_semester', 'revenue_year', 'total_cc', 'total_samestate', 'distinct_product', 'revenue_category_semester']\n"
     ]
    }
   ],
   "source": [
    "print(len(rf_feature), ' é número de variaveis selecionadas')\n",
    "print(rf_feature)"
   ]
  },
  {
   "cell_type": "code",
   "execution_count": 167,
   "metadata": {},
   "outputs": [],
   "source": [
    "from sklearn.ensemble import GradientBoostingClassifier\n",
    "rf_selector1 = SelectFromModel(estimator=GradientBoostingClassifier(random_state=42),\n",
    "                              max_features=25)\n",
    "rf_selector1.fit(expl,target)\n",
    "rf_support1 = rf_selector1.get_support()\n",
    "rf_feature1 = expl.loc[:,rf_support1].columns.tolist()"
   ]
  },
  {
   "cell_type": "code",
   "execution_count": 168,
   "metadata": {},
   "outputs": [
    {
     "name": "stdout",
     "output_type": "stream",
     "text": [
      "9  é número de variaveis selecionadas\n",
      "['days_first_order_item', 'days_last_order_item', 'avg_days_dlv_cust', 'avg_days_dlv_cust_quarter', 'total_revenue', 'revenue_semester', 'revenue_year', 'total_not_delivered', 'revenue_category_semester']\n"
     ]
    }
   ],
   "source": [
    "print(len(rf_feature1), ' é número de variaveis selecionadas')\n",
    "print(rf_feature1)"
   ]
  },
  {
   "cell_type": "code",
   "execution_count": 169,
   "metadata": {},
   "outputs": [
    {
     "data": {
      "text/html": [
       "<div>\n",
       "<style scoped>\n",
       "    .dataframe tbody tr th:only-of-type {\n",
       "        vertical-align: middle;\n",
       "    }\n",
       "\n",
       "    .dataframe tbody tr th {\n",
       "        vertical-align: top;\n",
       "    }\n",
       "\n",
       "    .dataframe thead th {\n",
       "        text-align: right;\n",
       "    }\n",
       "</style>\n",
       "<table border=\"1\" class=\"dataframe\">\n",
       "  <thead>\n",
       "    <tr style=\"text-align: right;\">\n",
       "      <th></th>\n",
       "      <th>Variaveis</th>\n",
       "      <th>Chi-2</th>\n",
       "      <th>RFE</th>\n",
       "      <th>RFE1</th>\n",
       "      <th>RF</th>\n",
       "      <th>RF1</th>\n",
       "      <th>Total</th>\n",
       "    </tr>\n",
       "  </thead>\n",
       "  <tbody>\n",
       "    <tr>\n",
       "      <th>1</th>\n",
       "      <td>days_last_order_item</td>\n",
       "      <td>True</td>\n",
       "      <td>True</td>\n",
       "      <td>True</td>\n",
       "      <td>True</td>\n",
       "      <td>True</td>\n",
       "      <td>5</td>\n",
       "    </tr>\n",
       "    <tr>\n",
       "      <th>2</th>\n",
       "      <td>avg_days_dlv_cust_quarter</td>\n",
       "      <td>True</td>\n",
       "      <td>True</td>\n",
       "      <td>True</td>\n",
       "      <td>True</td>\n",
       "      <td>True</td>\n",
       "      <td>5</td>\n",
       "    </tr>\n",
       "    <tr>\n",
       "      <th>3</th>\n",
       "      <td>total_samestate</td>\n",
       "      <td>True</td>\n",
       "      <td>True</td>\n",
       "      <td>True</td>\n",
       "      <td>True</td>\n",
       "      <td>False</td>\n",
       "      <td>4</td>\n",
       "    </tr>\n",
       "    <tr>\n",
       "      <th>4</th>\n",
       "      <td>total_revenue</td>\n",
       "      <td>True</td>\n",
       "      <td>False</td>\n",
       "      <td>True</td>\n",
       "      <td>True</td>\n",
       "      <td>True</td>\n",
       "      <td>4</td>\n",
       "    </tr>\n",
       "    <tr>\n",
       "      <th>5</th>\n",
       "      <td>total_not_delivered</td>\n",
       "      <td>True</td>\n",
       "      <td>True</td>\n",
       "      <td>True</td>\n",
       "      <td>False</td>\n",
       "      <td>True</td>\n",
       "      <td>4</td>\n",
       "    </tr>\n",
       "    <tr>\n",
       "      <th>6</th>\n",
       "      <td>revenue_year</td>\n",
       "      <td>True</td>\n",
       "      <td>False</td>\n",
       "      <td>True</td>\n",
       "      <td>True</td>\n",
       "      <td>True</td>\n",
       "      <td>4</td>\n",
       "    </tr>\n",
       "    <tr>\n",
       "      <th>7</th>\n",
       "      <td>revenue_semester</td>\n",
       "      <td>True</td>\n",
       "      <td>False</td>\n",
       "      <td>True</td>\n",
       "      <td>True</td>\n",
       "      <td>True</td>\n",
       "      <td>4</td>\n",
       "    </tr>\n",
       "    <tr>\n",
       "      <th>8</th>\n",
       "      <td>revenue_category_semester</td>\n",
       "      <td>True</td>\n",
       "      <td>False</td>\n",
       "      <td>True</td>\n",
       "      <td>True</td>\n",
       "      <td>True</td>\n",
       "      <td>4</td>\n",
       "    </tr>\n",
       "    <tr>\n",
       "      <th>9</th>\n",
       "      <td>qty_order_item_year</td>\n",
       "      <td>True</td>\n",
       "      <td>True</td>\n",
       "      <td>True</td>\n",
       "      <td>True</td>\n",
       "      <td>False</td>\n",
       "      <td>4</td>\n",
       "    </tr>\n",
       "    <tr>\n",
       "      <th>10</th>\n",
       "      <td>qty_order_item_quarter</td>\n",
       "      <td>True</td>\n",
       "      <td>True</td>\n",
       "      <td>True</td>\n",
       "      <td>True</td>\n",
       "      <td>False</td>\n",
       "      <td>4</td>\n",
       "    </tr>\n",
       "    <tr>\n",
       "      <th>11</th>\n",
       "      <td>qty_order_item</td>\n",
       "      <td>True</td>\n",
       "      <td>True</td>\n",
       "      <td>True</td>\n",
       "      <td>True</td>\n",
       "      <td>False</td>\n",
       "      <td>4</td>\n",
       "    </tr>\n",
       "    <tr>\n",
       "      <th>12</th>\n",
       "      <td>qty_customers</td>\n",
       "      <td>True</td>\n",
       "      <td>True</td>\n",
       "      <td>True</td>\n",
       "      <td>True</td>\n",
       "      <td>False</td>\n",
       "      <td>4</td>\n",
       "    </tr>\n",
       "    <tr>\n",
       "      <th>13</th>\n",
       "      <td>days_first_order_item</td>\n",
       "      <td>True</td>\n",
       "      <td>False</td>\n",
       "      <td>True</td>\n",
       "      <td>True</td>\n",
       "      <td>True</td>\n",
       "      <td>4</td>\n",
       "    </tr>\n",
       "    <tr>\n",
       "      <th>14</th>\n",
       "      <td>total_outtime</td>\n",
       "      <td>True</td>\n",
       "      <td>True</td>\n",
       "      <td>True</td>\n",
       "      <td>False</td>\n",
       "      <td>False</td>\n",
       "      <td>3</td>\n",
       "    </tr>\n",
       "    <tr>\n",
       "      <th>15</th>\n",
       "      <td>total_cc</td>\n",
       "      <td>True</td>\n",
       "      <td>False</td>\n",
       "      <td>True</td>\n",
       "      <td>True</td>\n",
       "      <td>False</td>\n",
       "      <td>3</td>\n",
       "    </tr>\n",
       "    <tr>\n",
       "      <th>16</th>\n",
       "      <td>revenue_quarter</td>\n",
       "      <td>True</td>\n",
       "      <td>False</td>\n",
       "      <td>True</td>\n",
       "      <td>True</td>\n",
       "      <td>False</td>\n",
       "      <td>3</td>\n",
       "    </tr>\n",
       "    <tr>\n",
       "      <th>17</th>\n",
       "      <td>qty_order_item_semester</td>\n",
       "      <td>True</td>\n",
       "      <td>False</td>\n",
       "      <td>True</td>\n",
       "      <td>True</td>\n",
       "      <td>False</td>\n",
       "      <td>3</td>\n",
       "    </tr>\n",
       "    <tr>\n",
       "      <th>18</th>\n",
       "      <td>distinct_product</td>\n",
       "      <td>True</td>\n",
       "      <td>False</td>\n",
       "      <td>True</td>\n",
       "      <td>True</td>\n",
       "      <td>False</td>\n",
       "      <td>3</td>\n",
       "    </tr>\n",
       "    <tr>\n",
       "      <th>19</th>\n",
       "      <td>distinct_category</td>\n",
       "      <td>True</td>\n",
       "      <td>True</td>\n",
       "      <td>True</td>\n",
       "      <td>False</td>\n",
       "      <td>False</td>\n",
       "      <td>3</td>\n",
       "    </tr>\n",
       "    <tr>\n",
       "      <th>20</th>\n",
       "      <td>avg_days_dlv_cust</td>\n",
       "      <td>False</td>\n",
       "      <td>False</td>\n",
       "      <td>True</td>\n",
       "      <td>True</td>\n",
       "      <td>True</td>\n",
       "      <td>3</td>\n",
       "    </tr>\n",
       "    <tr>\n",
       "      <th>21</th>\n",
       "      <td>avg_days_approval_quarter</td>\n",
       "      <td>True</td>\n",
       "      <td>False</td>\n",
       "      <td>True</td>\n",
       "      <td>True</td>\n",
       "      <td>False</td>\n",
       "      <td>3</td>\n",
       "    </tr>\n",
       "    <tr>\n",
       "      <th>22</th>\n",
       "      <td>avg_days_approval</td>\n",
       "      <td>False</td>\n",
       "      <td>True</td>\n",
       "      <td>True</td>\n",
       "      <td>True</td>\n",
       "      <td>False</td>\n",
       "      <td>3</td>\n",
       "    </tr>\n",
       "    <tr>\n",
       "      <th>23</th>\n",
       "      <td>total_canceled</td>\n",
       "      <td>True</td>\n",
       "      <td>True</td>\n",
       "      <td>False</td>\n",
       "      <td>False</td>\n",
       "      <td>False</td>\n",
       "      <td>2</td>\n",
       "    </tr>\n",
       "    <tr>\n",
       "      <th>24</th>\n",
       "      <td>total_bank_slip</td>\n",
       "      <td>True</td>\n",
       "      <td>False</td>\n",
       "      <td>True</td>\n",
       "      <td>False</td>\n",
       "      <td>False</td>\n",
       "      <td>2</td>\n",
       "    </tr>\n",
       "    <tr>\n",
       "      <th>25</th>\n",
       "      <td>seller_region_SP</td>\n",
       "      <td>False</td>\n",
       "      <td>True</td>\n",
       "      <td>True</td>\n",
       "      <td>False</td>\n",
       "      <td>False</td>\n",
       "      <td>2</td>\n",
       "    </tr>\n",
       "    <tr>\n",
       "      <th>26</th>\n",
       "      <td>best_category_ni</td>\n",
       "      <td>True</td>\n",
       "      <td>True</td>\n",
       "      <td>False</td>\n",
       "      <td>False</td>\n",
       "      <td>False</td>\n",
       "      <td>2</td>\n",
       "    </tr>\n",
       "    <tr>\n",
       "      <th>27</th>\n",
       "      <td>best_category_home</td>\n",
       "      <td>False</td>\n",
       "      <td>True</td>\n",
       "      <td>True</td>\n",
       "      <td>False</td>\n",
       "      <td>False</td>\n",
       "      <td>2</td>\n",
       "    </tr>\n",
       "    <tr>\n",
       "      <th>28</th>\n",
       "      <td>best_category_fashion</td>\n",
       "      <td>True</td>\n",
       "      <td>True</td>\n",
       "      <td>False</td>\n",
       "      <td>False</td>\n",
       "      <td>False</td>\n",
       "      <td>2</td>\n",
       "    </tr>\n",
       "    <tr>\n",
       "      <th>29</th>\n",
       "      <td>best_category_bebes</td>\n",
       "      <td>True</td>\n",
       "      <td>True</td>\n",
       "      <td>False</td>\n",
       "      <td>False</td>\n",
       "      <td>False</td>\n",
       "      <td>2</td>\n",
       "    </tr>\n",
       "    <tr>\n",
       "      <th>30</th>\n",
       "      <td>seller_region_Se</td>\n",
       "      <td>False</td>\n",
       "      <td>True</td>\n",
       "      <td>False</td>\n",
       "      <td>False</td>\n",
       "      <td>False</td>\n",
       "      <td>1</td>\n",
       "    </tr>\n",
       "    <tr>\n",
       "      <th>31</th>\n",
       "      <td>seller_region_S</td>\n",
       "      <td>False</td>\n",
       "      <td>True</td>\n",
       "      <td>False</td>\n",
       "      <td>False</td>\n",
       "      <td>False</td>\n",
       "      <td>1</td>\n",
       "    </tr>\n",
       "    <tr>\n",
       "      <th>32</th>\n",
       "      <td>best_category_presentes</td>\n",
       "      <td>False</td>\n",
       "      <td>True</td>\n",
       "      <td>False</td>\n",
       "      <td>False</td>\n",
       "      <td>False</td>\n",
       "      <td>1</td>\n",
       "    </tr>\n",
       "    <tr>\n",
       "      <th>33</th>\n",
       "      <td>best_category_livros_papelaria</td>\n",
       "      <td>False</td>\n",
       "      <td>True</td>\n",
       "      <td>False</td>\n",
       "      <td>False</td>\n",
       "      <td>False</td>\n",
       "      <td>1</td>\n",
       "    </tr>\n",
       "    <tr>\n",
       "      <th>34</th>\n",
       "      <td>best_category_esporte_lazer</td>\n",
       "      <td>False</td>\n",
       "      <td>True</td>\n",
       "      <td>False</td>\n",
       "      <td>False</td>\n",
       "      <td>False</td>\n",
       "      <td>1</td>\n",
       "    </tr>\n",
       "    <tr>\n",
       "      <th>35</th>\n",
       "      <td>best_category_eletro</td>\n",
       "      <td>False</td>\n",
       "      <td>True</td>\n",
       "      <td>False</td>\n",
       "      <td>False</td>\n",
       "      <td>False</td>\n",
       "      <td>1</td>\n",
       "    </tr>\n",
       "    <tr>\n",
       "      <th>36</th>\n",
       "      <td>best_category_beleza_saude</td>\n",
       "      <td>False</td>\n",
       "      <td>True</td>\n",
       "      <td>False</td>\n",
       "      <td>False</td>\n",
       "      <td>False</td>\n",
       "      <td>1</td>\n",
       "    </tr>\n",
       "    <tr>\n",
       "      <th>37</th>\n",
       "      <td>best_category_automotivo</td>\n",
       "      <td>False</td>\n",
       "      <td>True</td>\n",
       "      <td>False</td>\n",
       "      <td>False</td>\n",
       "      <td>False</td>\n",
       "      <td>1</td>\n",
       "    </tr>\n",
       "    <tr>\n",
       "      <th>38</th>\n",
       "      <td>seller_region_Ne</td>\n",
       "      <td>False</td>\n",
       "      <td>False</td>\n",
       "      <td>False</td>\n",
       "      <td>False</td>\n",
       "      <td>False</td>\n",
       "      <td>0</td>\n",
       "    </tr>\n",
       "    <tr>\n",
       "      <th>39</th>\n",
       "      <td>seller_region_N</td>\n",
       "      <td>False</td>\n",
       "      <td>False</td>\n",
       "      <td>False</td>\n",
       "      <td>False</td>\n",
       "      <td>False</td>\n",
       "      <td>0</td>\n",
       "    </tr>\n",
       "    <tr>\n",
       "      <th>40</th>\n",
       "      <td>revenue_month</td>\n",
       "      <td>False</td>\n",
       "      <td>False</td>\n",
       "      <td>False</td>\n",
       "      <td>False</td>\n",
       "      <td>False</td>\n",
       "      <td>0</td>\n",
       "    </tr>\n",
       "    <tr>\n",
       "      <th>41</th>\n",
       "      <td>qty_review_low_4</td>\n",
       "      <td>False</td>\n",
       "      <td>False</td>\n",
       "      <td>False</td>\n",
       "      <td>False</td>\n",
       "      <td>False</td>\n",
       "      <td>0</td>\n",
       "    </tr>\n",
       "    <tr>\n",
       "      <th>42</th>\n",
       "      <td>qty_order_item_month</td>\n",
       "      <td>False</td>\n",
       "      <td>False</td>\n",
       "      <td>False</td>\n",
       "      <td>False</td>\n",
       "      <td>False</td>\n",
       "      <td>0</td>\n",
       "    </tr>\n",
       "    <tr>\n",
       "      <th>43</th>\n",
       "      <td>best_category_telefonia</td>\n",
       "      <td>False</td>\n",
       "      <td>False</td>\n",
       "      <td>False</td>\n",
       "      <td>False</td>\n",
       "      <td>False</td>\n",
       "      <td>0</td>\n",
       "    </tr>\n",
       "    <tr>\n",
       "      <th>44</th>\n",
       "      <td>best_category_servico</td>\n",
       "      <td>False</td>\n",
       "      <td>False</td>\n",
       "      <td>False</td>\n",
       "      <td>False</td>\n",
       "      <td>False</td>\n",
       "      <td>0</td>\n",
       "    </tr>\n",
       "    <tr>\n",
       "      <th>45</th>\n",
       "      <td>best_category_pet_shop</td>\n",
       "      <td>False</td>\n",
       "      <td>False</td>\n",
       "      <td>False</td>\n",
       "      <td>False</td>\n",
       "      <td>False</td>\n",
       "      <td>0</td>\n",
       "    </tr>\n",
       "    <tr>\n",
       "      <th>46</th>\n",
       "      <td>best_category_informatica</td>\n",
       "      <td>False</td>\n",
       "      <td>False</td>\n",
       "      <td>False</td>\n",
       "      <td>False</td>\n",
       "      <td>False</td>\n",
       "      <td>0</td>\n",
       "    </tr>\n",
       "    <tr>\n",
       "      <th>47</th>\n",
       "      <td>best_category_escritorio</td>\n",
       "      <td>False</td>\n",
       "      <td>False</td>\n",
       "      <td>False</td>\n",
       "      <td>False</td>\n",
       "      <td>False</td>\n",
       "      <td>0</td>\n",
       "    </tr>\n",
       "  </tbody>\n",
       "</table>\n",
       "</div>"
      ],
      "text/plain": [
       "                         Variaveis  Chi-2    RFE   RFE1     RF    RF1  Total\n",
       "1             days_last_order_item   True   True   True   True   True      5\n",
       "2        avg_days_dlv_cust_quarter   True   True   True   True   True      5\n",
       "3                  total_samestate   True   True   True   True  False      4\n",
       "4                    total_revenue   True  False   True   True   True      4\n",
       "5              total_not_delivered   True   True   True  False   True      4\n",
       "6                     revenue_year   True  False   True   True   True      4\n",
       "7                 revenue_semester   True  False   True   True   True      4\n",
       "8        revenue_category_semester   True  False   True   True   True      4\n",
       "9              qty_order_item_year   True   True   True   True  False      4\n",
       "10          qty_order_item_quarter   True   True   True   True  False      4\n",
       "11                  qty_order_item   True   True   True   True  False      4\n",
       "12                   qty_customers   True   True   True   True  False      4\n",
       "13           days_first_order_item   True  False   True   True   True      4\n",
       "14                   total_outtime   True   True   True  False  False      3\n",
       "15                        total_cc   True  False   True   True  False      3\n",
       "16                 revenue_quarter   True  False   True   True  False      3\n",
       "17         qty_order_item_semester   True  False   True   True  False      3\n",
       "18                distinct_product   True  False   True   True  False      3\n",
       "19               distinct_category   True   True   True  False  False      3\n",
       "20               avg_days_dlv_cust  False  False   True   True   True      3\n",
       "21       avg_days_approval_quarter   True  False   True   True  False      3\n",
       "22               avg_days_approval  False   True   True   True  False      3\n",
       "23                  total_canceled   True   True  False  False  False      2\n",
       "24                 total_bank_slip   True  False   True  False  False      2\n",
       "25                seller_region_SP  False   True   True  False  False      2\n",
       "26                best_category_ni   True   True  False  False  False      2\n",
       "27              best_category_home  False   True   True  False  False      2\n",
       "28           best_category_fashion   True   True  False  False  False      2\n",
       "29             best_category_bebes   True   True  False  False  False      2\n",
       "30                seller_region_Se  False   True  False  False  False      1\n",
       "31                 seller_region_S  False   True  False  False  False      1\n",
       "32         best_category_presentes  False   True  False  False  False      1\n",
       "33  best_category_livros_papelaria  False   True  False  False  False      1\n",
       "34     best_category_esporte_lazer  False   True  False  False  False      1\n",
       "35            best_category_eletro  False   True  False  False  False      1\n",
       "36      best_category_beleza_saude  False   True  False  False  False      1\n",
       "37        best_category_automotivo  False   True  False  False  False      1\n",
       "38                seller_region_Ne  False  False  False  False  False      0\n",
       "39                 seller_region_N  False  False  False  False  False      0\n",
       "40                   revenue_month  False  False  False  False  False      0\n",
       "41                qty_review_low_4  False  False  False  False  False      0\n",
       "42            qty_order_item_month  False  False  False  False  False      0\n",
       "43         best_category_telefonia  False  False  False  False  False      0\n",
       "44           best_category_servico  False  False  False  False  False      0\n",
       "45          best_category_pet_shop  False  False  False  False  False      0\n",
       "46       best_category_informatica  False  False  False  False  False      0\n",
       "47        best_category_escritorio  False  False  False  False  False      0"
      ]
     },
     "execution_count": 169,
     "metadata": {},
     "output_type": "execute_result"
    }
   ],
   "source": [
    "#comparando \n",
    "feature_selection_df = pd.DataFrame({'Variaveis': expl.columns,\n",
    "                                    'Chi-2':chi_support,\n",
    "                                    'RFE': rfe_support,\n",
    "                                     'RFE1':rfe_support1,\n",
    "                                    'RF':rf_support,\n",
    "                                    'RF1':rf_support1})\n",
    "\n",
    "#count\n",
    "feature_selection_df['Total'] = np.sum(feature_selection_df,axis=1)\n",
    "\n",
    "#print\n",
    "feature_selection_df = feature_selection_df.sort_values(['Total','Variaveis'],\n",
    "                                                        ascending=False)\n",
    "feature_selection_df.index = range(1, len(feature_selection_df)+1)\n",
    "feature_selection_df"
   ]
  },
  {
   "cell_type": "code",
   "execution_count": 170,
   "metadata": {},
   "outputs": [
    {
     "data": {
      "text/plain": [
       "1               days_last_order_item\n",
       "2          avg_days_dlv_cust_quarter\n",
       "3                    total_samestate\n",
       "4                      total_revenue\n",
       "5                total_not_delivered\n",
       "6                       revenue_year\n",
       "7                   revenue_semester\n",
       "8          revenue_category_semester\n",
       "9                qty_order_item_year\n",
       "10            qty_order_item_quarter\n",
       "11                    qty_order_item\n",
       "12                     qty_customers\n",
       "13             days_first_order_item\n",
       "14                     total_outtime\n",
       "15                          total_cc\n",
       "16                   revenue_quarter\n",
       "17           qty_order_item_semester\n",
       "18                  distinct_product\n",
       "19                 distinct_category\n",
       "20                 avg_days_dlv_cust\n",
       "21         avg_days_approval_quarter\n",
       "22                 avg_days_approval\n",
       "23                    total_canceled\n",
       "24                   total_bank_slip\n",
       "25                  seller_region_SP\n",
       "26                  best_category_ni\n",
       "27                best_category_home\n",
       "28             best_category_fashion\n",
       "29               best_category_bebes\n",
       "30                  seller_region_Se\n",
       "31                   seller_region_S\n",
       "32           best_category_presentes\n",
       "33    best_category_livros_papelaria\n",
       "34       best_category_esporte_lazer\n",
       "35              best_category_eletro\n",
       "36        best_category_beleza_saude\n",
       "37          best_category_automotivo\n",
       "Name: Variaveis, dtype: object"
      ]
     },
     "execution_count": 170,
     "metadata": {},
     "output_type": "execute_result"
    }
   ],
   "source": [
    "feature_selection_df[feature_selection_df.Total.isin([5,4,3,2,1])].Variaveis"
   ]
  },
  {
   "cell_type": "code",
   "execution_count": 171,
   "metadata": {},
   "outputs": [],
   "source": [
    "explicativas = dados_selecionados[['total_samestate',\n",
    "                                    'distinct_product',\n",
    "                                    'days_last_order_item',\n",
    "                                    'total_revenue',\n",
    "                                    'total_not_delivered',\n",
    "                                    'revenue_year',\n",
    "                                    'revenue_semester',\n",
    "                                    'revenue_quarter',\n",
    "                                    'revenue_category_semester',\n",
    "                                    'qty_order_item_year',\n",
    "                                    'qty_order_item_semester',\n",
    "                                    'qty_order_item_quarter',\n",
    "                                    'qty_order_item',\n",
    "                                    'days_first_order_item',\n",
    "                                    'avg_days_dlv_cust_quarter',\n",
    "                                    'total_outtime',\n",
    "                                    'total_cc',\n",
    "                                    'total_bank_slip',\n",
    "                                    'qty_customers',\n",
    "                                    'distinct_category',\n",
    "                                    'avg_days_dlv_cust',\n",
    "                                    'avg_days_approval_quarter',\n",
    "                                    'avg_days_approval',\n",
    "                                    'total_canceled',\n",
    "                                    'seller_region_SP',\n",
    "                                    'seller_region_Ne',\n",
    "                                    'best_category_ni',\n",
    "                                    'best_category_fashion',\n",
    "                                    'best_category_bebes',\n",
    "                                    'seller_region_Se',\n",
    "                                    'seller_region_S',\n",
    "                                    'best_category_presentes',\n",
    "                                    'best_category_livros_papelaria',\n",
    "                                    'best_category_esporte_lazer',\n",
    "                                    'best_category_eletro',\n",
    "                                    'best_category_beleza_saude',\n",
    "                                    'best_category_automotivo'                                   \n",
    "                                  ]]"
   ]
  },
  {
   "cell_type": "markdown",
   "metadata": {},
   "source": [
    "# Treino só com variaveis escolhas"
   ]
  },
  {
   "cell_type": "code",
   "execution_count": 172,
   "metadata": {},
   "outputs": [],
   "source": [
    "from sklearn.model_selection import train_test_split"
   ]
  },
  {
   "cell_type": "code",
   "execution_count": 173,
   "metadata": {},
   "outputs": [],
   "source": [
    "x_treino, x_teste, y_treino, y_teste = train_test_split(explicativas,\n",
    "                                                       target,\n",
    "                                                       test_size=0.25,\n",
    "                                                       random_state = 2)"
   ]
  },
  {
   "cell_type": "markdown",
   "metadata": {},
   "source": [
    "# Regressão Logistica"
   ]
  },
  {
   "cell_type": "code",
   "execution_count": 174,
   "metadata": {},
   "outputs": [],
   "source": [
    "# dicionario\n",
    "lr_grid_dc = {\n",
    "    'tol': [0.0001,0.00001,0.000001],\n",
    "    'C': [1.0,2,3,5],\n",
    "    'random_state' : [42]\n",
    "}"
   ]
  },
  {
   "cell_type": "code",
   "execution_count": 175,
   "metadata": {},
   "outputs": [],
   "source": [
    "lr = LogisticRegression()"
   ]
  },
  {
   "cell_type": "code",
   "execution_count": 176,
   "metadata": {},
   "outputs": [
    {
     "data": {
      "text/plain": [
       "GridSearchCV(cv=5, error_score=nan,\n",
       "             estimator=LogisticRegression(C=1.0, class_weight=None, dual=False,\n",
       "                                          fit_intercept=True,\n",
       "                                          intercept_scaling=1, l1_ratio=None,\n",
       "                                          max_iter=100, multi_class='auto',\n",
       "                                          n_jobs=None, penalty='l2',\n",
       "                                          random_state=None, solver='lbfgs',\n",
       "                                          tol=0.0001, verbose=0,\n",
       "                                          warm_start=False),\n",
       "             iid='deprecated', n_jobs=None,\n",
       "             param_grid={'C': [1.0, 2, 3, 5], 'random_state': [42],\n",
       "                         'tol': [0.0001, 1e-05, 1e-06]},\n",
       "             pre_dispatch='2*n_jobs', refit=True, return_train_score=False,\n",
       "             scoring=None, verbose=0)"
      ]
     },
     "execution_count": 176,
     "metadata": {},
     "output_type": "execute_result"
    }
   ],
   "source": [
    "from sklearn.model_selection import GridSearchCV\n",
    "lr_grid = GridSearchCV(estimator=lr,\n",
    "                      param_grid=lr_grid_dc,\n",
    "                       cv=5)\n",
    "\n",
    "lr_grid.fit(x_treino,y_treino)"
   ]
  },
  {
   "cell_type": "code",
   "execution_count": 177,
   "metadata": {},
   "outputs": [
    {
     "data": {
      "text/plain": [
       "{'C': 5, 'random_state': 42, 'tol': 0.0001}"
      ]
     },
     "execution_count": 177,
     "metadata": {},
     "output_type": "execute_result"
    }
   ],
   "source": [
    "lr_grid.best_params_"
   ]
  },
  {
   "cell_type": "code",
   "execution_count": 178,
   "metadata": {},
   "outputs": [
    {
     "data": {
      "text/plain": [
       "0.6984615384615385"
      ]
     },
     "execution_count": 178,
     "metadata": {},
     "output_type": "execute_result"
    }
   ],
   "source": [
    "lr_grid.best_score_"
   ]
  },
  {
   "cell_type": "code",
   "execution_count": 179,
   "metadata": {},
   "outputs": [
    {
     "name": "stdout",
     "output_type": "stream",
     "text": [
      "C:\\MyGit\\databricks_projetofinal_fia\\notebook\n",
      "C:\\MyGit\\databricks_projetofinal_fia\\model\n",
      "C:\\MyGit\\databricks_projetofinal_fia\\model\\modelo_lr_schurn_gridsearch.pkl\n",
      "C:\\MyGit\\databricks_projetofinal_fia\\notebook\n",
      "C:\\MyGit\\databricks_projetofinal_fia\\model\n",
      "C:\\MyGit\\databricks_projetofinal_fia\\model\\modelo_lr_schurn_gridsearch.pkl\n"
     ]
    }
   ],
   "source": [
    "from sklearn.externals import joblib\n",
    "joblib.dump(lr_grid.best_estimator_,path_base('modelo_lr_schurn_gridsearch.pkl','model'),compress=1)\n",
    "modelo_treinado_lr = open(path_base('modelo_lr_schurn_gridsearch.pkl','model'),'rb')\n",
    "model_lr = joblib.load(modelo_treinado_lr)"
   ]
  },
  {
   "cell_type": "code",
   "execution_count": 180,
   "metadata": {},
   "outputs": [
    {
     "data": {
      "text/plain": [
       "LogisticRegression(C=5, class_weight=None, dual=False, fit_intercept=True,\n",
       "                   intercept_scaling=1, l1_ratio=None, max_iter=100,\n",
       "                   multi_class='auto', n_jobs=None, penalty='l2',\n",
       "                   random_state=42, solver='lbfgs', tol=0.0001, verbose=0,\n",
       "                   warm_start=False)"
      ]
     },
     "execution_count": 180,
     "metadata": {},
     "output_type": "execute_result"
    }
   ],
   "source": [
    "model_lr"
   ]
  },
  {
   "cell_type": "code",
   "execution_count": 181,
   "metadata": {},
   "outputs": [
    {
     "data": {
      "text/plain": [
       "array([1, 0, 1, 1, 0, 1, 1, 1, 0, 1, 1, 0, 1, 1, 0, 1, 1, 1, 0, 1, 1, 0,\n",
       "       1, 1, 1, 1, 0, 1, 0, 1, 1, 1, 1, 1, 1, 1, 0, 0, 1, 1, 1, 1, 1, 1,\n",
       "       1, 1, 1, 1, 1, 1, 1, 1, 1, 1, 1, 1, 0, 1, 1, 1, 1, 0, 1, 1, 1, 1,\n",
       "       1, 0, 1, 1, 1, 1, 1, 1, 1, 1, 1, 1, 1, 1, 1, 1, 0, 1, 1, 1, 1, 1,\n",
       "       1, 1, 0, 1, 1, 1, 1, 1, 0, 0, 0, 0, 1, 1, 1, 1, 0, 1, 1, 1, 1, 1,\n",
       "       1, 1, 1, 1, 1, 1, 1, 1, 1, 1, 0, 1, 1, 1, 1, 1, 1, 1, 1, 0, 1, 1,\n",
       "       0, 0, 1, 1, 0, 1, 0, 1, 1, 1, 0, 1, 1, 1, 1, 1, 0, 1, 0, 1, 0, 1,\n",
       "       1, 1, 1, 1, 1, 1, 1, 1, 1, 0, 0, 1, 1, 1, 1, 0, 0, 1, 1, 1, 1, 0,\n",
       "       0, 1, 0, 0, 1, 1, 1, 1, 0, 0, 0, 1, 1, 1, 1, 1, 1, 1, 1, 1, 1, 1,\n",
       "       1, 1, 1, 1, 1, 1, 1, 1, 1, 1, 1, 1, 1, 0, 1, 1, 1, 0, 0, 1, 1, 1,\n",
       "       1, 1, 0, 1, 1, 1, 1, 0, 1, 0, 1, 1, 1, 1, 1, 1, 1, 1, 1, 0, 0, 1,\n",
       "       0, 1, 1, 0, 1, 1, 1, 1, 1, 0, 1, 1, 0, 1, 1, 1, 0, 0, 0, 0, 1, 0,\n",
       "       1, 1, 1, 1, 1, 1, 0, 0, 0, 1, 1, 0, 1, 0, 0, 1, 1, 0, 1, 1, 0, 1,\n",
       "       1, 1, 1, 0, 1, 1, 1, 1, 1, 0, 1, 0, 1, 0, 1, 1, 0, 1, 1, 1, 0, 0,\n",
       "       1, 0, 1, 1, 1, 1, 1, 1, 1, 1, 1, 0, 1, 1, 1, 1, 1], dtype=int64)"
      ]
     },
     "execution_count": 181,
     "metadata": {},
     "output_type": "execute_result"
    }
   ],
   "source": [
    "model_lr.predict(x_teste)"
   ]
  },
  {
   "cell_type": "code",
   "execution_count": 262,
   "metadata": {},
   "outputs": [
    {
     "name": "stdout",
     "output_type": "stream",
     "text": [
      "Teste:  70.15\n",
      "Matriz:  [[ 47  68]\n",
      " [ 29 181]]\n"
     ]
    }
   ],
   "source": [
    "from sklearn.metrics import accuracy_score\n",
    "y_lr_teste = model_lr.predict(x_teste)\n",
    "acc_lr_teste = round(accuracy_score(y_lr_teste,y_teste)*100,2)\n",
    "matriz = confusion_matrix(y_teste,y_lr_teste)\n",
    "print('Teste: ',acc_lr_teste)\n",
    "print('Matriz: ',matriz)"
   ]
  },
  {
   "cell_type": "markdown",
   "metadata": {},
   "source": [
    "# Tree"
   ]
  },
  {
   "cell_type": "code",
   "execution_count": 183,
   "metadata": {},
   "outputs": [],
   "source": [
    "# dicionario\n",
    "tree_grid_dc = { 'min_samples_leaf': [1,5,10],\n",
    "                'min_samples_split': [1.0,5],\n",
    "                'max_depth': [1,5,12],\n",
    "                'criterion': ['gini','entropy'],\n",
    "                'random_state' : [42]\n",
    "}"
   ]
  },
  {
   "cell_type": "code",
   "execution_count": 184,
   "metadata": {},
   "outputs": [],
   "source": [
    "from sklearn.tree import DecisionTreeClassifier\n",
    "tree = DecisionTreeClassifier()"
   ]
  },
  {
   "cell_type": "code",
   "execution_count": 185,
   "metadata": {},
   "outputs": [
    {
     "data": {
      "text/plain": [
       "GridSearchCV(cv=5, error_score=nan,\n",
       "             estimator=DecisionTreeClassifier(ccp_alpha=0.0, class_weight=None,\n",
       "                                              criterion='gini', max_depth=None,\n",
       "                                              max_features=None,\n",
       "                                              max_leaf_nodes=None,\n",
       "                                              min_impurity_decrease=0.0,\n",
       "                                              min_impurity_split=None,\n",
       "                                              min_samples_leaf=1,\n",
       "                                              min_samples_split=2,\n",
       "                                              min_weight_fraction_leaf=0.0,\n",
       "                                              presort='deprecated',\n",
       "                                              random_state=None,\n",
       "                                              splitter='best'),\n",
       "             iid='deprecated', n_jobs=None,\n",
       "             param_grid={'criterion': ['gini', 'entropy'],\n",
       "                         'max_depth': [1, 5, 12],\n",
       "                         'min_samples_leaf': [1, 5, 10],\n",
       "                         'min_samples_split': [1.0, 5], 'random_state': [42]},\n",
       "             pre_dispatch='2*n_jobs', refit=True, return_train_score=False,\n",
       "             scoring=None, verbose=0)"
      ]
     },
     "execution_count": 185,
     "metadata": {},
     "output_type": "execute_result"
    }
   ],
   "source": [
    "from sklearn.model_selection import GridSearchCV\n",
    "tree_grid = GridSearchCV(estimator=tree,\n",
    "                      param_grid=tree_grid_dc,\n",
    "                       cv=5)\n",
    "\n",
    "tree_grid.fit(x_treino,y_treino)"
   ]
  },
  {
   "cell_type": "code",
   "execution_count": 186,
   "metadata": {},
   "outputs": [
    {
     "data": {
      "text/plain": [
       "{'criterion': 'gini',\n",
       " 'max_depth': 1,\n",
       " 'min_samples_leaf': 1,\n",
       " 'min_samples_split': 1.0,\n",
       " 'random_state': 42}"
      ]
     },
     "execution_count": 186,
     "metadata": {},
     "output_type": "execute_result"
    }
   ],
   "source": [
    "tree_grid.best_params_"
   ]
  },
  {
   "cell_type": "code",
   "execution_count": 187,
   "metadata": {},
   "outputs": [
    {
     "data": {
      "text/plain": [
       "0.6994871794871795"
      ]
     },
     "execution_count": 187,
     "metadata": {},
     "output_type": "execute_result"
    }
   ],
   "source": [
    "tree_grid.best_score_"
   ]
  },
  {
   "cell_type": "code",
   "execution_count": 188,
   "metadata": {},
   "outputs": [
    {
     "name": "stdout",
     "output_type": "stream",
     "text": [
      "C:\\MyGit\\databricks_projetofinal_fia\\notebook\n",
      "C:\\MyGit\\databricks_projetofinal_fia\\model\n",
      "C:\\MyGit\\databricks_projetofinal_fia\\model\\modelo_tree_schurn_gridsearch.pkl\n",
      "C:\\MyGit\\databricks_projetofinal_fia\\notebook\n",
      "C:\\MyGit\\databricks_projetofinal_fia\\model\n",
      "C:\\MyGit\\databricks_projetofinal_fia\\model\\modelo_tree_schurn_gridsearch.pkl\n"
     ]
    }
   ],
   "source": [
    "joblib.dump(tree_grid.best_estimator_,path_base('modelo_tree_schurn_gridsearch.pkl','model'),compress=1)\n",
    "modelo_treinado_tree = open(path_base('modelo_tree_schurn_gridsearch.pkl','model'),'rb')\n",
    "model_tree = joblib.load(modelo_treinado_tree)"
   ]
  },
  {
   "cell_type": "code",
   "execution_count": 189,
   "metadata": {},
   "outputs": [
    {
     "data": {
      "text/plain": [
       "DecisionTreeClassifier(ccp_alpha=0.0, class_weight=None, criterion='gini',\n",
       "                       max_depth=1, max_features=None, max_leaf_nodes=None,\n",
       "                       min_impurity_decrease=0.0, min_impurity_split=None,\n",
       "                       min_samples_leaf=1, min_samples_split=1.0,\n",
       "                       min_weight_fraction_leaf=0.0, presort='deprecated',\n",
       "                       random_state=42, splitter='best')"
      ]
     },
     "execution_count": 189,
     "metadata": {},
     "output_type": "execute_result"
    }
   ],
   "source": [
    "model_tree"
   ]
  },
  {
   "cell_type": "code",
   "execution_count": 190,
   "metadata": {},
   "outputs": [
    {
     "data": {
      "text/plain": [
       "array([1, 0, 1, 1, 0, 1, 0, 0, 0, 0, 1, 0, 1, 1, 0, 0, 1, 0, 0, 1, 0, 0,\n",
       "       1, 1, 1, 1, 0, 1, 0, 1, 1, 1, 1, 0, 0, 1, 0, 0, 1, 1, 1, 1, 1, 0,\n",
       "       1, 1, 1, 0, 1, 1, 1, 1, 1, 1, 1, 0, 0, 0, 0, 1, 1, 0, 1, 1, 1, 1,\n",
       "       0, 0, 0, 0, 0, 1, 1, 1, 0, 0, 0, 1, 0, 0, 0, 1, 1, 0, 0, 1, 0, 1,\n",
       "       1, 1, 0, 1, 0, 1, 1, 1, 0, 0, 0, 0, 1, 1, 1, 0, 0, 0, 1, 0, 1, 0,\n",
       "       0, 1, 0, 1, 0, 1, 1, 1, 1, 1, 0, 1, 1, 1, 1, 1, 0, 1, 1, 0, 1, 1,\n",
       "       0, 0, 1, 1, 0, 1, 0, 1, 1, 1, 0, 1, 1, 0, 1, 0, 0, 1, 0, 0, 0, 1,\n",
       "       0, 0, 1, 1, 1, 1, 1, 0, 1, 0, 0, 0, 1, 1, 1, 0, 0, 0, 1, 1, 1, 0,\n",
       "       0, 0, 0, 0, 1, 1, 1, 1, 0, 0, 0, 0, 1, 1, 0, 0, 0, 0, 0, 1, 1, 0,\n",
       "       1, 1, 0, 0, 1, 1, 1, 0, 1, 0, 1, 1, 1, 1, 0, 0, 1, 0, 0, 0, 0, 1,\n",
       "       1, 1, 0, 0, 1, 1, 1, 0, 1, 0, 0, 1, 1, 1, 0, 1, 1, 1, 0, 0, 0, 0,\n",
       "       0, 1, 1, 0, 0, 1, 1, 1, 0, 0, 0, 1, 0, 1, 1, 1, 0, 0, 0, 0, 1, 0,\n",
       "       0, 1, 1, 1, 0, 1, 0, 0, 0, 0, 0, 0, 1, 0, 0, 1, 0, 1, 1, 1, 0, 1,\n",
       "       0, 1, 0, 0, 0, 1, 1, 1, 1, 0, 1, 0, 1, 0, 0, 1, 0, 0, 1, 1, 0, 0,\n",
       "       1, 0, 1, 0, 1, 1, 1, 0, 0, 1, 0, 0, 1, 0, 1, 1, 1], dtype=int64)"
      ]
     },
     "execution_count": 190,
     "metadata": {},
     "output_type": "execute_result"
    }
   ],
   "source": [
    "model_tree.predict(x_teste)"
   ]
  },
  {
   "cell_type": "code",
   "execution_count": 261,
   "metadata": {},
   "outputs": [
    {
     "name": "stdout",
     "output_type": "stream",
     "text": [
      "Teste:  68.0\n",
      "Matriz:  [[ 83  32]\n",
      " [ 72 138]]\n"
     ]
    }
   ],
   "source": [
    "y_tree_teste = model_tree.predict(x_teste)\n",
    "acc_tree_teste = round(accuracy_score(y_tree_teste,y_teste)*100,2)\n",
    "matriz = confusion_matrix(y_teste,y_tree_teste)\n",
    "print('Teste: ',acc_tree_teste)\n",
    "print('Matriz: ',matriz)"
   ]
  },
  {
   "cell_type": "code",
   "execution_count": 192,
   "metadata": {},
   "outputs": [
    {
     "data": {
      "image/png": "[encoded data removed]",
      "text/plain": [
       "<Figure size 432x288 with 1 Axes>"
      ]
     },
     "metadata": {
      "needs_background": "light"
     },
     "output_type": "display_data"
    }
   ],
   "source": [
    "import sklearn.metrics as metrics\n",
    "# calculate the fpr and tpr for all thresholds of the classification\n",
    "probs = model_tree.predict_proba(x_teste)\n",
    "preds = probs[:,1]\n",
    "fpr, tpr, threshold = metrics.roc_curve(y_teste, preds)\n",
    "roc_auc = metrics.auc(fpr, tpr)\n",
    "\n",
    "# method I: plt\n",
    "import matplotlib.pyplot as plt\n",
    "plt.title('Receiver Operating Characteristic')\n",
    "plt.plot(fpr, tpr, 'b', label = 'AUC = %0.2f' % roc_auc)\n",
    "plt.legend(loc = 'lower right')\n",
    "plt.plot([0, 1], [0, 1],'r--')\n",
    "plt.xlim([0, 1])\n",
    "plt.ylim([0, 1])\n",
    "plt.ylabel('True Positive Rate')\n",
    "plt.xlabel('False Positive Rate')\n",
    "plt.show()\n",
    "\n"
   ]
  },
  {
   "cell_type": "markdown",
   "metadata": {},
   "source": [
    "# Random Forest"
   ]
  },
  {
   "cell_type": "code",
   "execution_count": 193,
   "metadata": {},
   "outputs": [],
   "source": [
    "rf_grid_dc = {\n",
    "    'n_estimators': [100,500],\n",
    "    'criterion': ['entropy'],\n",
    "    'bootstrap': [True],\n",
    "    'random_state' : [42]\n",
    "}"
   ]
  },
  {
   "cell_type": "code",
   "execution_count": 194,
   "metadata": {},
   "outputs": [],
   "source": [
    "from sklearn.ensemble import RandomForestClassifier\n",
    "rf = RandomForestClassifier()\n"
   ]
  },
  {
   "cell_type": "code",
   "execution_count": 195,
   "metadata": {},
   "outputs": [],
   "source": [
    "from sklearn.model_selection import GridSearchCV\n",
    "rf_grid = GridSearchCV(estimator=rf,\n",
    "                      param_grid=rf_grid_dc,\n",
    "                       scoring ='accuracy',\n",
    "                       cv=5)"
   ]
  },
  {
   "cell_type": "code",
   "execution_count": 196,
   "metadata": {},
   "outputs": [
    {
     "data": {
      "text/plain": [
       "GridSearchCV(cv=5, error_score=nan,\n",
       "             estimator=RandomForestClassifier(bootstrap=True, ccp_alpha=0.0,\n",
       "                                              class_weight=None,\n",
       "                                              criterion='gini', max_depth=None,\n",
       "                                              max_features='auto',\n",
       "                                              max_leaf_nodes=None,\n",
       "                                              max_samples=None,\n",
       "                                              min_impurity_decrease=0.0,\n",
       "                                              min_impurity_split=None,\n",
       "                                              min_samples_leaf=1,\n",
       "                                              min_samples_split=2,\n",
       "                                              min_weight_fraction_leaf=0.0,\n",
       "                                              n_estimators=100, n_jobs=None,\n",
       "                                              oob_score=False,\n",
       "                                              random_state=None, verbose=0,\n",
       "                                              warm_start=False),\n",
       "             iid='deprecated', n_jobs=None,\n",
       "             param_grid={'bootstrap': [True], 'criterion': ['entropy'],\n",
       "                         'n_estimators': [100, 500], 'random_state': [42]},\n",
       "             pre_dispatch='2*n_jobs', refit=True, return_train_score=False,\n",
       "             scoring='accuracy', verbose=0)"
      ]
     },
     "execution_count": 196,
     "metadata": {},
     "output_type": "execute_result"
    }
   ],
   "source": [
    "rf_grid.fit(x_treino,y_treino)"
   ]
  },
  {
   "cell_type": "code",
   "execution_count": 197,
   "metadata": {},
   "outputs": [
    {
     "data": {
      "text/plain": [
       "{'bootstrap': True,\n",
       " 'criterion': 'entropy',\n",
       " 'n_estimators': 500,\n",
       " 'random_state': 42}"
      ]
     },
     "execution_count": 197,
     "metadata": {},
     "output_type": "execute_result"
    }
   ],
   "source": [
    "rf_grid.best_params_"
   ]
  },
  {
   "cell_type": "code",
   "execution_count": 198,
   "metadata": {},
   "outputs": [
    {
     "data": {
      "text/plain": [
       "0.7302564102564103"
      ]
     },
     "execution_count": 198,
     "metadata": {},
     "output_type": "execute_result"
    }
   ],
   "source": [
    "rf_grid.best_score_"
   ]
  },
  {
   "cell_type": "code",
   "execution_count": 199,
   "metadata": {},
   "outputs": [
    {
     "name": "stdout",
     "output_type": "stream",
     "text": [
      "C:\\MyGit\\databricks_projetofinal_fia\\notebook\n",
      "C:\\MyGit\\databricks_projetofinal_fia\\model\n",
      "C:\\MyGit\\databricks_projetofinal_fia\\model\\modelo_rf_schurn_gridsearch.pkl\n",
      "C:\\MyGit\\databricks_projetofinal_fia\\notebook\n",
      "C:\\MyGit\\databricks_projetofinal_fia\\model\n",
      "C:\\MyGit\\databricks_projetofinal_fia\\model\\modelo_rf_schurn_gridsearch.pkl\n"
     ]
    }
   ],
   "source": [
    "joblib.dump(rf_grid.best_estimator_,path_base('modelo_rf_schurn_gridsearch.pkl','model'),compress=1)\n",
    "modelo_treinado_rf = open(path_base('modelo_rf_schurn_gridsearch.pkl','model'),'rb')\n",
    "model_rf = joblib.load(modelo_treinado_rf)"
   ]
  },
  {
   "cell_type": "code",
   "execution_count": 200,
   "metadata": {},
   "outputs": [
    {
     "data": {
      "text/plain": [
       "RandomForestClassifier(bootstrap=True, ccp_alpha=0.0, class_weight=None,\n",
       "                       criterion='entropy', max_depth=None, max_features='auto',\n",
       "                       max_leaf_nodes=None, max_samples=None,\n",
       "                       min_impurity_decrease=0.0, min_impurity_split=None,\n",
       "                       min_samples_leaf=1, min_samples_split=2,\n",
       "                       min_weight_fraction_leaf=0.0, n_estimators=500,\n",
       "                       n_jobs=None, oob_score=False, random_state=42, verbose=0,\n",
       "                       warm_start=False)"
      ]
     },
     "execution_count": 200,
     "metadata": {},
     "output_type": "execute_result"
    }
   ],
   "source": [
    "model_rf"
   ]
  },
  {
   "cell_type": "code",
   "execution_count": 266,
   "metadata": {},
   "outputs": [
    {
     "data": {
      "text/plain": [
       "array([1, 0, 1, 1, 0, 1, 1, 1, 0, 1, 1, 1, 1, 1, 0, 1, 1, 1, 1, 1, 0, 0,\n",
       "       1, 1, 1, 1, 0, 1, 0, 1, 1, 1, 1, 0, 0, 1, 1, 0, 1, 1, 1, 1, 1, 0,\n",
       "       1, 1, 1, 1, 1, 1, 1, 1, 1, 1, 1, 0, 0, 0, 0, 1, 1, 0, 1, 1, 0, 1,\n",
       "       0, 0, 1, 1, 0, 1, 1, 1, 1, 1, 0, 1, 0, 1, 1, 1, 1, 1, 0, 1, 0, 0,\n",
       "       1, 1, 0, 1, 0, 1, 1, 1, 0, 0, 0, 0, 1, 1, 1, 0, 0, 1, 1, 0, 1, 1,\n",
       "       0, 1, 0, 1, 0, 1, 1, 1, 0, 1, 0, 1, 1, 1, 1, 1, 1, 1, 1, 1, 1, 1,\n",
       "       0, 0, 1, 1, 1, 1, 0, 1, 1, 1, 0, 1, 1, 1, 1, 0, 0, 1, 1, 0, 0, 1,\n",
       "       1, 1, 1, 1, 1, 1, 1, 1, 1, 0, 1, 0, 1, 1, 1, 0, 0, 0, 1, 0, 0, 0,\n",
       "       0, 1, 0, 0, 1, 1, 1, 1, 0, 0, 1, 0, 1, 1, 0, 1, 0, 0, 0, 1, 1, 1,\n",
       "       1, 1, 0, 1, 1, 1, 1, 0, 1, 1, 1, 1, 1, 1, 0, 0, 1, 0, 0, 0, 1, 1,\n",
       "       1, 1, 0, 1, 1, 1, 1, 0, 1, 0, 0, 1, 1, 1, 1, 1, 1, 1, 1, 0, 0, 0,\n",
       "       0, 1, 1, 0, 0, 1, 1, 1, 1, 0, 1, 1, 0, 1, 1, 1, 0, 0, 0, 0, 1, 0,\n",
       "       0, 1, 1, 1, 1, 1, 0, 0, 0, 1, 0, 0, 1, 0, 0, 1, 1, 0, 1, 1, 1, 1,\n",
       "       0, 1, 1, 0, 0, 1, 1, 1, 1, 0, 1, 0, 1, 0, 1, 1, 1, 0, 1, 1, 0, 1,\n",
       "       1, 0, 1, 0, 1, 1, 1, 1, 0, 1, 1, 0, 1, 1, 1, 1, 1], dtype=int64)"
      ]
     },
     "execution_count": 266,
     "metadata": {},
     "output_type": "execute_result"
    }
   ],
   "source": [
    "model_rf.predict(x_teste)"
   ]
  },
  {
   "cell_type": "code",
   "execution_count": 270,
   "metadata": {},
   "outputs": [
    {
     "name": "stdout",
     "output_type": "stream",
     "text": [
      "Teste:  76.0\n",
      "Matriz:  [[ 74  41]\n",
      " [ 37 173]]\n"
     ]
    }
   ],
   "source": [
    "y_rf_teste = model_rf.predict(x_teste)\n",
    "acc_rf_teste = round(accuracy_score(y_rf_teste,y_teste)*100,2)\n",
    "matriz = confusion_matrix(y_teste,y_rf_teste)\n",
    "print('Teste: ',acc_rf_teste)\n",
    "print('Matriz: ',matriz)"
   ]
  },
  {
   "cell_type": "code",
   "execution_count": 265,
   "metadata": {},
   "outputs": [
    {
     "data": {
      "image/png": "[encoded data removed]",
      "text/plain": [
       "<Figure size 432x288 with 1 Axes>"
      ]
     },
     "metadata": {
      "needs_background": "light"
     },
     "output_type": "display_data"
    }
   ],
   "source": [
    "import sklearn.metrics as metrics\n",
    "# calculate the fpr and tpr for all thresholds of the classification\n",
    "probs = model_rf.predict_proba(x_teste)\n",
    "preds = probs[:,1]\n",
    "fpr, tpr, threshold = metrics.roc_curve(y_teste, preds)\n",
    "roc_auc = metrics.auc(fpr, tpr)\n",
    "\n",
    "# method I: plt\n",
    "import matplotlib.pyplot as plt\n",
    "plt.title('Receiver Operating Characteristic')\n",
    "plt.plot(fpr, tpr, 'b', label = 'AUC = %0.2f' % roc_auc)\n",
    "plt.legend(loc = 'lower right')\n",
    "plt.plot([0, 1], [0, 1],'r--')\n",
    "plt.xlim([0, 1])\n",
    "plt.ylim([0, 1])\n",
    "plt.ylabel('True Positive Rate')\n",
    "plt.xlabel('False Positive Rate')\n",
    "plt.show()"
   ]
  },
  {
   "cell_type": "markdown",
   "metadata": {},
   "source": [
    "# Gradient Boosting"
   ]
  },
  {
   "cell_type": "code",
   "execution_count": 227,
   "metadata": {},
   "outputs": [],
   "source": [
    "# dicionario\n",
    "gb_grid_dc = {\n",
    "    'min_samples_leaf': [5,20,30],\n",
    "    'min_samples_split': [1.0,3,5],\n",
    "    'max_depth': [5,12,20],\n",
    "    'n_estimators': [50,200,400],\n",
    "    'random_state' : [42]\n",
    "}"
   ]
  },
  {
   "cell_type": "code",
   "execution_count": 228,
   "metadata": {},
   "outputs": [],
   "source": [
    "from sklearn.ensemble import GradientBoostingClassifier\n",
    "gb = GradientBoostingClassifier()\n"
   ]
  },
  {
   "cell_type": "code",
   "execution_count": 229,
   "metadata": {},
   "outputs": [],
   "source": [
    "from sklearn.model_selection import GridSearchCV\n",
    "gb_grid = GridSearchCV(estimator=gb,\n",
    "                      param_grid=gb_grid_dc,\n",
    "                       cv=5)"
   ]
  },
  {
   "cell_type": "code",
   "execution_count": 230,
   "metadata": {},
   "outputs": [
    {
     "data": {
      "text/plain": [
       "GridSearchCV(cv=5, error_score=nan,\n",
       "             estimator=GradientBoostingClassifier(ccp_alpha=0.0,\n",
       "                                                  criterion='friedman_mse',\n",
       "                                                  init=None, learning_rate=0.1,\n",
       "                                                  loss='deviance', max_depth=3,\n",
       "                                                  max_features=None,\n",
       "                                                  max_leaf_nodes=None,\n",
       "                                                  min_impurity_decrease=0.0,\n",
       "                                                  min_impurity_split=None,\n",
       "                                                  min_samples_leaf=1,\n",
       "                                                  min_samples_split=2,\n",
       "                                                  min_weight_fraction_leaf=0.0,\n",
       "                                                  n_estimators=100,\n",
       "                                                  n_iter_no_c...\n",
       "                                                  presort='deprecated',\n",
       "                                                  random_state=None,\n",
       "                                                  subsample=1.0, tol=0.0001,\n",
       "                                                  validation_fraction=0.1,\n",
       "                                                  verbose=0, warm_start=False),\n",
       "             iid='deprecated', n_jobs=None,\n",
       "             param_grid={'max_depth': [5, 12, 20],\n",
       "                         'min_samples_leaf': [5, 20, 30],\n",
       "                         'min_samples_split': [1.0, 3, 5],\n",
       "                         'n_estimators': [50, 200, 400], 'random_state': [42]},\n",
       "             pre_dispatch='2*n_jobs', refit=True, return_train_score=False,\n",
       "             scoring=None, verbose=0)"
      ]
     },
     "execution_count": 230,
     "metadata": {},
     "output_type": "execute_result"
    }
   ],
   "source": [
    "gb_grid.fit(x_treino,y_treino)"
   ]
  },
  {
   "cell_type": "code",
   "execution_count": 231,
   "metadata": {},
   "outputs": [
    {
     "data": {
      "text/plain": [
       "{'max_depth': 12,\n",
       " 'min_samples_leaf': 20,\n",
       " 'min_samples_split': 3,\n",
       " 'n_estimators': 400,\n",
       " 'random_state': 42}"
      ]
     },
     "execution_count": 231,
     "metadata": {},
     "output_type": "execute_result"
    }
   ],
   "source": [
    "gb_grid.best_params_"
   ]
  },
  {
   "cell_type": "code",
   "execution_count": 232,
   "metadata": {},
   "outputs": [
    {
     "data": {
      "text/plain": [
       "0.7517948717948718"
      ]
     },
     "execution_count": 232,
     "metadata": {},
     "output_type": "execute_result"
    }
   ],
   "source": [
    "gb_grid.best_score_"
   ]
  },
  {
   "cell_type": "code",
   "execution_count": 233,
   "metadata": {},
   "outputs": [
    {
     "name": "stdout",
     "output_type": "stream",
     "text": [
      "C:\\MyGit\\databricks_projetofinal_fia\\notebook\n",
      "C:\\MyGit\\databricks_projetofinal_fia\\model\n",
      "C:\\MyGit\\databricks_projetofinal_fia\\model\\modelo_gb_schurn_gridsearch.pkl\n",
      "C:\\MyGit\\databricks_projetofinal_fia\\notebook\n",
      "C:\\MyGit\\databricks_projetofinal_fia\\model\n",
      "C:\\MyGit\\databricks_projetofinal_fia\\model\\modelo_gb_schurn_gridsearch.pkl\n"
     ]
    }
   ],
   "source": [
    "joblib.dump(gb_grid.best_estimator_,path_base('modelo_gb_schurn_gridsearch.pkl','model'),compress=1)\n",
    "modelo_treinado_gb = open(path_base('modelo_gb_schurn_gridsearch.pkl','model'),'rb')\n",
    "model_gb = joblib.load(modelo_treinado_gb)"
   ]
  },
  {
   "cell_type": "code",
   "execution_count": 234,
   "metadata": {},
   "outputs": [
    {
     "data": {
      "text/plain": [
       "GradientBoostingClassifier(ccp_alpha=0.0, criterion='friedman_mse', init=None,\n",
       "                           learning_rate=0.1, loss='deviance', max_depth=12,\n",
       "                           max_features=None, max_leaf_nodes=None,\n",
       "                           min_impurity_decrease=0.0, min_impurity_split=None,\n",
       "                           min_samples_leaf=20, min_samples_split=3,\n",
       "                           min_weight_fraction_leaf=0.0, n_estimators=400,\n",
       "                           n_iter_no_change=None, presort='deprecated',\n",
       "                           random_state=42, subsample=1.0, tol=0.0001,\n",
       "                           validation_fraction=0.1, verbose=0,\n",
       "                           warm_start=False)"
      ]
     },
     "execution_count": 234,
     "metadata": {},
     "output_type": "execute_result"
    }
   ],
   "source": [
    "model_gb"
   ]
  },
  {
   "cell_type": "code",
   "execution_count": 235,
   "metadata": {},
   "outputs": [
    {
     "data": {
      "text/plain": [
       "array([1, 0, 1, 1, 0, 1, 1, 0, 0, 1, 1, 1, 1, 1, 0, 1, 1, 1, 1, 1, 0, 0,\n",
       "       1, 1, 1, 1, 0, 1, 1, 1, 1, 1, 0, 0, 0, 1, 1, 0, 1, 1, 1, 0, 1, 0,\n",
       "       1, 1, 1, 0, 1, 0, 1, 1, 1, 1, 1, 0, 0, 0, 0, 1, 1, 0, 1, 1, 0, 1,\n",
       "       0, 0, 1, 1, 1, 1, 0, 1, 1, 1, 0, 1, 0, 1, 1, 1, 0, 1, 1, 1, 0, 0,\n",
       "       1, 1, 0, 1, 0, 0, 1, 1, 0, 1, 1, 1, 1, 1, 1, 0, 0, 1, 1, 1, 1, 1,\n",
       "       0, 0, 0, 1, 0, 1, 1, 1, 0, 1, 0, 1, 1, 1, 1, 1, 1, 1, 1, 0, 1, 1,\n",
       "       0, 0, 0, 1, 1, 1, 0, 1, 1, 1, 0, 1, 1, 1, 1, 0, 0, 1, 1, 0, 0, 1,\n",
       "       1, 0, 1, 1, 1, 1, 1, 1, 1, 0, 1, 1, 1, 1, 0, 0, 1, 0, 1, 0, 0, 0,\n",
       "       0, 0, 0, 0, 1, 1, 1, 1, 0, 0, 0, 0, 1, 0, 1, 1, 0, 0, 0, 1, 1, 1,\n",
       "       0, 1, 0, 0, 1, 0, 1, 0, 1, 0, 1, 1, 1, 1, 0, 0, 1, 0, 1, 0, 1, 1,\n",
       "       1, 1, 0, 0, 1, 1, 0, 0, 1, 0, 1, 1, 0, 1, 1, 1, 1, 1, 0, 0, 0, 0,\n",
       "       1, 1, 1, 1, 1, 1, 1, 1, 1, 1, 1, 1, 0, 1, 1, 1, 0, 0, 0, 0, 1, 0,\n",
       "       1, 0, 1, 1, 1, 1, 0, 0, 0, 1, 1, 0, 1, 0, 0, 1, 1, 0, 1, 1, 0, 1,\n",
       "       0, 1, 0, 0, 0, 1, 1, 1, 0, 0, 1, 0, 1, 0, 1, 1, 1, 0, 1, 1, 0, 1,\n",
       "       1, 1, 1, 0, 1, 1, 1, 1, 1, 1, 1, 0, 1, 1, 1, 1, 1], dtype=int64)"
      ]
     },
     "execution_count": 235,
     "metadata": {},
     "output_type": "execute_result"
    }
   ],
   "source": [
    "model_gb.predict(x_teste)"
   ]
  },
  {
   "cell_type": "code",
   "execution_count": 271,
   "metadata": {},
   "outputs": [
    {
     "name": "stdout",
     "output_type": "stream",
     "text": [
      "Teste:  77.85\n",
      "Matriz:  [[ 81  34]\n",
      " [ 38 172]]\n"
     ]
    }
   ],
   "source": [
    "y_gb_teste = model_gb.predict(x_teste)\n",
    "acc_gb_teste = round(accuracy_score(y_gb_teste,y_teste)*100,2)\n",
    "matriz = confusion_matrix(y_teste,y_gb_teste)\n",
    "print('Teste: ',acc_gb_teste)\n",
    "print('Matriz: ',matriz)"
   ]
  },
  {
   "cell_type": "code",
   "execution_count": 272,
   "metadata": {},
   "outputs": [
    {
     "data": {
      "image/png": "[encoded data removed]",
      "text/plain": [
       "<Figure size 432x288 with 1 Axes>"
      ]
     },
     "metadata": {
      "needs_background": "light"
     },
     "output_type": "display_data"
    }
   ],
   "source": [
    "import sklearn.metrics as metrics\n",
    "# calculate the fpr and tpr for all thresholds of the classification\n",
    "probs = model_gb.predict_proba(x_teste)\n",
    "preds = probs[:,1]\n",
    "fpr, tpr, threshold = metrics.roc_curve(y_teste, preds)\n",
    "roc_auc = metrics.auc(fpr, tpr)\n",
    "\n",
    "# method I: plt\n",
    "import matplotlib.pyplot as plt\n",
    "plt.title('Receiver Operating Characteristic')\n",
    "plt.plot(fpr, tpr, 'b', label = 'AUC = %0.2f' % roc_auc)\n",
    "plt.legend(loc = 'lower right')\n",
    "plt.plot([0, 1], [0, 1],'r--')\n",
    "plt.xlim([0, 1])\n",
    "plt.ylim([0, 1])\n",
    "plt.ylabel('True Positive Rate')\n",
    "plt.xlabel('False Positive Rate')\n",
    "plt.show()"
   ]
  },
  {
   "cell_type": "markdown",
   "metadata": {},
   "source": [
    "# Neural"
   ]
  },
  {
   "cell_type": "code",
   "execution_count": 277,
   "metadata": {},
   "outputs": [],
   "source": [
    "# dicionario\n",
    "mlp_grid_dc = {\n",
    "    'max_iter': [10,100],\n",
    "    'tol': [0.00010,0.000010],\n",
    "    'solver': ['adam'],\n",
    "    'hidden_layer_sizes':[(50,50),(300)],\n",
    "    'activation': ['relu'],\n",
    "    'random_state' : [42]\n",
    "}"
   ]
  },
  {
   "cell_type": "code",
   "execution_count": 278,
   "metadata": {},
   "outputs": [],
   "source": [
    "from sklearn.neural_network import MLPClassifier\n",
    "mlp = MLPClassifier(verbose = False)\n"
   ]
  },
  {
   "cell_type": "code",
   "execution_count": 279,
   "metadata": {},
   "outputs": [],
   "source": [
    "from sklearn.model_selection import GridSearchCV\n",
    "mlp_grid = GridSearchCV(estimator=mlp,\n",
    "                      param_grid=mlp_grid_dc,\n",
    "                       cv=5)"
   ]
  },
  {
   "cell_type": "code",
   "execution_count": 280,
   "metadata": {},
   "outputs": [
    {
     "data": {
      "text/plain": [
       "GridSearchCV(cv=5, error_score=nan,\n",
       "             estimator=MLPClassifier(activation='relu', alpha=0.0001,\n",
       "                                     batch_size='auto', beta_1=0.9,\n",
       "                                     beta_2=0.999, early_stopping=False,\n",
       "                                     epsilon=1e-08, hidden_layer_sizes=(100,),\n",
       "                                     learning_rate='constant',\n",
       "                                     learning_rate_init=0.001, max_fun=15000,\n",
       "                                     max_iter=200, momentum=0.9,\n",
       "                                     n_iter_no_change=10,\n",
       "                                     nesterovs_momentum=True, power_t=0.5,\n",
       "                                     random_state...le=True,\n",
       "                                     solver='adam', tol=0.0001,\n",
       "                                     validation_fraction=0.1, verbose=False,\n",
       "                                     warm_start=False),\n",
       "             iid='deprecated', n_jobs=None,\n",
       "             param_grid={'activation': ['relu'],\n",
       "                         'hidden_layer_sizes': [(50, 50), 300],\n",
       "                         'max_iter': [10, 100], 'random_state': [42],\n",
       "                         'solver': ['adam'], 'tol': [0.0001, 1e-05]},\n",
       "             pre_dispatch='2*n_jobs', refit=True, return_train_score=False,\n",
       "             scoring=None, verbose=0)"
      ]
     },
     "execution_count": 280,
     "metadata": {},
     "output_type": "execute_result"
    }
   ],
   "source": [
    "mlp_grid.fit(x_treino,y_treino)"
   ]
  },
  {
   "cell_type": "code",
   "execution_count": 281,
   "metadata": {},
   "outputs": [
    {
     "data": {
      "text/plain": [
       "{'activation': 'relu',\n",
       " 'hidden_layer_sizes': (50, 50),\n",
       " 'max_iter': 100,\n",
       " 'random_state': 42,\n",
       " 'solver': 'adam',\n",
       " 'tol': 0.0001}"
      ]
     },
     "execution_count": 281,
     "metadata": {},
     "output_type": "execute_result"
    }
   ],
   "source": [
    "mlp_grid.best_params_"
   ]
  },
  {
   "cell_type": "code",
   "execution_count": 282,
   "metadata": {},
   "outputs": [
    {
     "data": {
      "text/plain": [
       "0.6625641025641026"
      ]
     },
     "execution_count": 282,
     "metadata": {},
     "output_type": "execute_result"
    }
   ],
   "source": [
    "mlp_grid.best_score_"
   ]
  },
  {
   "cell_type": "code",
   "execution_count": 283,
   "metadata": {},
   "outputs": [
    {
     "name": "stdout",
     "output_type": "stream",
     "text": [
      "C:\\MyGit\\databricks_projetofinal_fia\\notebook\n",
      "C:\\MyGit\\databricks_projetofinal_fia\\model\n",
      "C:\\MyGit\\databricks_projetofinal_fia\\model\\modelo_mlp_schurn_gridsearch.pkl\n",
      "C:\\MyGit\\databricks_projetofinal_fia\\notebook\n",
      "C:\\MyGit\\databricks_projetofinal_fia\\model\n",
      "C:\\MyGit\\databricks_projetofinal_fia\\model\\modelo_mlp_schurn_gridsearch.pkl\n"
     ]
    }
   ],
   "source": [
    "from sklearn.externals import joblib\n",
    "joblib.dump(mlp_grid.best_estimator_,path_base('modelo_mlp_schurn_gridsearch.pkl','model'),compress=1)\n",
    "modelo_treinado_mlp = open(path_base('modelo_mlp_schurn_gridsearch.pkl','model'),'rb')\n",
    "model_mlp = joblib.load(modelo_treinado_mlp)"
   ]
  },
  {
   "cell_type": "code",
   "execution_count": 284,
   "metadata": {},
   "outputs": [
    {
     "data": {
      "text/plain": [
       "MLPClassifier(activation='relu', alpha=0.0001, batch_size='auto', beta_1=0.9,\n",
       "              beta_2=0.999, early_stopping=False, epsilon=1e-08,\n",
       "              hidden_layer_sizes=(50, 50), learning_rate='constant',\n",
       "              learning_rate_init=0.001, max_fun=15000, max_iter=100,\n",
       "              momentum=0.9, n_iter_no_change=10, nesterovs_momentum=True,\n",
       "              power_t=0.5, random_state=42, shuffle=True, solver='adam',\n",
       "              tol=0.0001, validation_fraction=0.1, verbose=False,\n",
       "              warm_start=False)"
      ]
     },
     "execution_count": 284,
     "metadata": {},
     "output_type": "execute_result"
    }
   ],
   "source": [
    "model_mlp"
   ]
  },
  {
   "cell_type": "code",
   "execution_count": 285,
   "metadata": {},
   "outputs": [
    {
     "data": {
      "text/plain": [
       "array([1, 1, 1, 1, 0, 1, 1, 0, 1, 1, 1, 1, 1, 1, 1, 0, 1, 1, 1, 1, 1, 0,\n",
       "       1, 1, 1, 1, 1, 1, 1, 1, 1, 1, 0, 1, 1, 0, 1, 1, 1, 1, 1, 1, 1, 1,\n",
       "       1, 1, 1, 1, 1, 1, 1, 0, 1, 1, 1, 1, 1, 1, 1, 0, 1, 0, 1, 1, 0, 1,\n",
       "       0, 0, 1, 1, 1, 1, 1, 1, 1, 1, 1, 1, 1, 0, 0, 1, 1, 0, 0, 1, 1, 1,\n",
       "       1, 1, 1, 1, 1, 1, 1, 1, 1, 1, 1, 0, 1, 1, 1, 1, 0, 1, 0, 1, 1, 1,\n",
       "       1, 1, 1, 1, 1, 1, 1, 1, 1, 1, 1, 1, 1, 0, 1, 1, 1, 1, 1, 1, 1, 1,\n",
       "       1, 0, 1, 1, 0, 1, 1, 1, 1, 0, 1, 0, 1, 1, 1, 0, 1, 0, 0, 1, 0, 1,\n",
       "       1, 1, 1, 0, 1, 1, 1, 1, 1, 1, 1, 1, 1, 1, 1, 0, 1, 1, 1, 0, 1, 0,\n",
       "       0, 1, 1, 1, 1, 1, 1, 1, 0, 0, 0, 1, 1, 0, 1, 1, 1, 1, 1, 1, 1, 1,\n",
       "       1, 1, 0, 1, 1, 1, 1, 1, 1, 0, 1, 1, 1, 1, 0, 1, 1, 0, 1, 1, 1, 1,\n",
       "       1, 1, 1, 1, 1, 1, 1, 0, 1, 1, 1, 1, 1, 1, 1, 1, 1, 0, 0, 0, 0, 1,\n",
       "       0, 1, 1, 0, 0, 1, 1, 1, 0, 1, 1, 1, 0, 1, 1, 1, 1, 0, 0, 0, 1, 0,\n",
       "       1, 1, 1, 1, 0, 0, 1, 1, 1, 1, 1, 1, 1, 1, 1, 1, 1, 1, 1, 1, 0, 1,\n",
       "       1, 1, 0, 0, 0, 1, 0, 1, 1, 0, 1, 0, 1, 0, 1, 1, 1, 0, 1, 1, 1, 1,\n",
       "       1, 0, 1, 0, 1, 1, 1, 1, 1, 1, 1, 0, 1, 0, 1, 1, 1], dtype=int64)"
      ]
     },
     "execution_count": 285,
     "metadata": {},
     "output_type": "execute_result"
    }
   ],
   "source": [
    "model_mlp.predict(x_teste)"
   ]
  },
  {
   "cell_type": "code",
   "execution_count": 286,
   "metadata": {},
   "outputs": [
    {
     "name": "stdout",
     "output_type": "stream",
     "text": [
      "Teste:  65.85\n",
      "Matriz:  [[ 37  78]\n",
      " [ 33 177]]\n"
     ]
    }
   ],
   "source": [
    "from sklearn.metrics import accuracy_score\n",
    "y_mlp_teste = model_mlp.predict(x_teste)\n",
    "acc_mlp_teste = round(accuracy_score(y_mlp_teste,y_teste)*100,2)\n",
    "\n",
    "matriz = confusion_matrix(y_teste,y_mlp_teste)\n",
    "print('Teste: ',acc_mlp_teste)\n",
    "print('Matriz: ',matriz)"
   ]
  },
  {
   "cell_type": "markdown",
   "metadata": {},
   "source": [
    "# xgboost"
   ]
  },
  {
   "cell_type": "code",
   "execution_count": 242,
   "metadata": {},
   "outputs": [],
   "source": [
    "# dicionario\n",
    "xgbc_grid_dc = {\n",
    "    'max_depth': [8],\n",
    "    'learning_rate': [0.1,0.05],\n",
    "    'n_estimators': [200,400],\n",
    "    'colsample_bytree':[0.3,0.8],\n",
    "    'max_depth': [8,12],\n",
    "    'reg_alpha': [10,5],\n",
    "    'random_state' : [42]\n",
    "}"
   ]
  },
  {
   "cell_type": "code",
   "execution_count": 243,
   "metadata": {},
   "outputs": [],
   "source": [
    "import xgboost as xgb\n",
    "from sklearn.metrics import mean_squared_error"
   ]
  },
  {
   "cell_type": "code",
   "execution_count": 244,
   "metadata": {},
   "outputs": [],
   "source": [
    "xgbc = xgb.XGBClassifier(objective='binary:logistic',booster='gbtree',n_jobs=2)"
   ]
  },
  {
   "cell_type": "code",
   "execution_count": 245,
   "metadata": {},
   "outputs": [],
   "source": [
    "from sklearn.model_selection import GridSearchCV\n",
    "xgbc_grid = GridSearchCV(estimator=xgbc,\n",
    "                          param_grid=xgbc_grid_dc,\n",
    "                           cv=5)"
   ]
  },
  {
   "cell_type": "code",
   "execution_count": 246,
   "metadata": {},
   "outputs": [
    {
     "data": {
      "text/plain": [
       "GridSearchCV(cv=5, error_score=nan,\n",
       "             estimator=XGBClassifier(base_score=0.5, booster='gbtree',\n",
       "                                     colsample_bylevel=1, colsample_bynode=1,\n",
       "                                     colsample_bytree=1, gamma=0,\n",
       "                                     learning_rate=0.1, max_delta_step=0,\n",
       "                                     max_depth=3, min_child_weight=1,\n",
       "                                     missing=None, n_estimators=100, n_jobs=2,\n",
       "                                     nthread=None, objective='binary:logistic',\n",
       "                                     random_state=0, reg_alpha=0, reg_lambda=1,\n",
       "                                     scale_pos_weight=1, seed=None, silent=None,\n",
       "                                     subsample=1, verbosity=1),\n",
       "             iid='deprecated', n_jobs=None,\n",
       "             param_grid={'colsample_bytree': [0.3, 0.8],\n",
       "                         'learning_rate': [0.1, 0.05], 'max_depth': [8, 12],\n",
       "                         'n_estimators': [200, 400], 'random_state': [42],\n",
       "                         'reg_alpha': [10, 5]},\n",
       "             pre_dispatch='2*n_jobs', refit=True, return_train_score=False,\n",
       "             scoring=None, verbose=0)"
      ]
     },
     "execution_count": 246,
     "metadata": {},
     "output_type": "execute_result"
    }
   ],
   "source": [
    "xgbc_grid.fit(x_treino,y_treino)"
   ]
  },
  {
   "cell_type": "code",
   "execution_count": 247,
   "metadata": {},
   "outputs": [
    {
     "data": {
      "text/plain": [
       "{'colsample_bytree': 0.8,\n",
       " 'learning_rate': 0.1,\n",
       " 'max_depth': 8,\n",
       " 'n_estimators': 200,\n",
       " 'random_state': 42,\n",
       " 'reg_alpha': 5}"
      ]
     },
     "execution_count": 247,
     "metadata": {},
     "output_type": "execute_result"
    }
   ],
   "source": [
    "xgbc_grid.best_params_"
   ]
  },
  {
   "cell_type": "code",
   "execution_count": 248,
   "metadata": {},
   "outputs": [
    {
     "data": {
      "text/plain": [
       "0.7384615384615385"
      ]
     },
     "execution_count": 248,
     "metadata": {},
     "output_type": "execute_result"
    }
   ],
   "source": [
    "xgbc_grid.best_score_"
   ]
  },
  {
   "cell_type": "code",
   "execution_count": 249,
   "metadata": {},
   "outputs": [
    {
     "name": "stdout",
     "output_type": "stream",
     "text": [
      "C:\\MyGit\\databricks_projetofinal_fia\\notebook\n",
      "C:\\MyGit\\databricks_projetofinal_fia\\model\n",
      "C:\\MyGit\\databricks_projetofinal_fia\\model\\modelo_xgbc_schurn_gridsearch.pkl\n",
      "C:\\MyGit\\databricks_projetofinal_fia\\notebook\n",
      "C:\\MyGit\\databricks_projetofinal_fia\\model\n",
      "C:\\MyGit\\databricks_projetofinal_fia\\model\\modelo_xgbc_schurn_gridsearch.pkl\n"
     ]
    }
   ],
   "source": [
    "from sklearn.externals import joblib\n",
    "joblib.dump(xgbc_grid.best_estimator_,path_base('modelo_xgbc_schurn_gridsearch.pkl','model'),compress=1)\n",
    "modelo_treinado_xgbc = open(path_base('modelo_xgbc_schurn_gridsearch.pkl','model'),'rb')\n",
    "model_xgbc = joblib.load(modelo_treinado_xgbc)"
   ]
  },
  {
   "cell_type": "code",
   "execution_count": 250,
   "metadata": {},
   "outputs": [
    {
     "data": {
      "text/plain": [
       "XGBClassifier(base_score=0.5, booster='gbtree', colsample_bylevel=1,\n",
       "              colsample_bynode=1, colsample_bytree=0.8, gamma=0,\n",
       "              learning_rate=0.1, max_delta_step=0, max_depth=8,\n",
       "              min_child_weight=1, missing=nan, n_estimators=200, n_jobs=2,\n",
       "              nthread=None, objective='binary:logistic', random_state=42,\n",
       "              reg_alpha=5, reg_lambda=1, scale_pos_weight=1, seed=None,\n",
       "              silent=None, subsample=1, verbosity=1)"
      ]
     },
     "execution_count": 250,
     "metadata": {},
     "output_type": "execute_result"
    }
   ],
   "source": [
    "model_xgbc"
   ]
  },
  {
   "cell_type": "code",
   "execution_count": 251,
   "metadata": {},
   "outputs": [
    {
     "data": {
      "text/plain": [
       "array([1, 0, 1, 1, 0, 1, 1, 1, 0, 1, 1, 0, 1, 1, 0, 1, 1, 1, 1, 1, 0, 0,\n",
       "       1, 1, 1, 1, 0, 1, 1, 1, 1, 1, 1, 0, 0, 1, 1, 0, 1, 1, 1, 1, 1, 0,\n",
       "       1, 1, 1, 0, 1, 1, 1, 1, 1, 1, 1, 0, 0, 0, 0, 1, 1, 0, 1, 1, 0, 1,\n",
       "       0, 0, 1, 1, 0, 1, 0, 1, 1, 1, 0, 1, 0, 1, 1, 1, 1, 1, 0, 1, 0, 1,\n",
       "       1, 1, 0, 1, 0, 0, 1, 1, 0, 1, 0, 1, 1, 1, 1, 1, 0, 1, 1, 0, 1, 1,\n",
       "       0, 1, 0, 1, 0, 1, 0, 1, 0, 1, 0, 1, 1, 1, 1, 1, 0, 1, 1, 0, 1, 1,\n",
       "       0, 0, 1, 1, 1, 1, 0, 1, 1, 1, 0, 1, 1, 1, 1, 0, 0, 1, 0, 0, 0, 1,\n",
       "       1, 0, 1, 1, 1, 1, 1, 1, 1, 0, 1, 1, 1, 1, 1, 0, 1, 0, 1, 1, 1, 0,\n",
       "       0, 0, 0, 0, 1, 1, 1, 1, 0, 0, 1, 0, 1, 1, 0, 0, 0, 0, 0, 1, 1, 1,\n",
       "       1, 1, 0, 1, 1, 1, 1, 1, 1, 0, 1, 1, 1, 1, 0, 1, 1, 0, 0, 0, 1, 1,\n",
       "       1, 1, 0, 0, 1, 1, 1, 0, 1, 0, 0, 1, 0, 1, 1, 1, 1, 1, 1, 1, 0, 0,\n",
       "       0, 1, 1, 0, 0, 1, 1, 1, 1, 0, 1, 1, 0, 1, 1, 1, 0, 0, 0, 0, 1, 0,\n",
       "       0, 1, 1, 1, 1, 1, 0, 0, 0, 1, 1, 0, 1, 1, 0, 1, 1, 0, 1, 1, 1, 1,\n",
       "       1, 1, 0, 0, 0, 1, 1, 1, 1, 0, 1, 0, 1, 0, 1, 1, 1, 1, 1, 1, 0, 1,\n",
       "       1, 0, 1, 1, 1, 1, 1, 1, 1, 1, 0, 0, 1, 1, 1, 1, 1], dtype=int64)"
      ]
     },
     "execution_count": 251,
     "metadata": {},
     "output_type": "execute_result"
    }
   ],
   "source": [
    "model_xgbc.predict(x_teste)"
   ]
  },
  {
   "cell_type": "code",
   "execution_count": 273,
   "metadata": {},
   "outputs": [
    {
     "name": "stdout",
     "output_type": "stream",
     "text": [
      "Teste:  74.77\n",
      "Matriz:  [[ 71  44]\n",
      " [ 38 172]]\n"
     ]
    }
   ],
   "source": [
    "from sklearn.metrics import accuracy_score\n",
    "y_xgbc_teste = model_xgbc.predict(x_teste)\n",
    "acc_xgbc_teste = round(accuracy_score(y_xgbc_teste,y_teste)*100,2)\n",
    "matriz = confusion_matrix(y_teste,y_xgbc_teste)\n",
    "print('Teste: ',acc_xgbc_teste)\n",
    "print('Matriz: ',matriz)"
   ]
  },
  {
   "cell_type": "code",
   "execution_count": 253,
   "metadata": {},
   "outputs": [
    {
     "data": {
      "image/png": "[encoded data removed]",
      "text/plain": [
       "<Figure size 432x288 with 1 Axes>"
      ]
     },
     "metadata": {
      "needs_background": "light"
     },
     "output_type": "display_data"
    }
   ],
   "source": [
    "import sklearn.metrics as metrics\n",
    "# calculate the fpr and tpr for all thresholds of the classification\n",
    "probs = model_xgbc.predict_proba(x_teste)\n",
    "preds = probs[:,1]\n",
    "fpr, tpr, threshold = metrics.roc_curve(y_teste, preds)\n",
    "roc_auc = metrics.auc(fpr, tpr)\n",
    "\n",
    "# method I: plt\n",
    "import matplotlib.pyplot as plt\n",
    "plt.title('Receiver Operating Characteristic')\n",
    "plt.plot(fpr, tpr, 'b', label = 'AUC = %0.2f' % roc_auc)\n",
    "plt.legend(loc = 'lower right')\n",
    "plt.plot([0, 1], [0, 1],'r--')\n",
    "plt.xlim([0, 1])\n",
    "plt.ylim([0, 1])\n",
    "plt.ylabel('True Positive Rate')\n",
    "plt.xlabel('False Positive Rate')\n",
    "plt.show()"
   ]
  },
  {
   "cell_type": "markdown",
   "metadata": {},
   "source": [
    "# Conclusão\n",
    "<ul>\n",
    "<li>Feito análise inicial com seleção de variáveis e grid search e algorítimo com melhor resultado foi\n",
    "    Gradient Boost com accuracy média na base de treino 75.18 e de 74.85 na base de testes e com AUC = 0.84 </li>\n",
    "</ul>"
   ]
  },
  {
   "cell_type": "code",
   "execution_count": null,
   "metadata": {},
   "outputs": [],
   "source": []
  }
 ],
 "metadata": {
  "kernelspec": {
   "display_name": "Python 3",
   "language": "python",
   "name": "python3"
  },
  "language_info": {
   "codemirror_mode": {
    "name": "ipython",
    "version": 3
   },
   "file_extension": ".py",
   "mimetype": "text/x-python",
   "name": "python",
   "nbconvert_exporter": "python",
   "pygments_lexer": "ipython3",
   "version": "3.7.6"
  }
 },
 "nbformat": 4,
 "nbformat_minor": 4
}
