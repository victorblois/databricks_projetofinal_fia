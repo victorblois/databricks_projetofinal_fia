{
 "cells": [
  {
   "cell_type": "code",
   "execution_count": 1,
   "metadata": {},
   "outputs": [],
   "source": [
    "import pandas as pd\n",
    "import numpy as np\n",
    "import matplotlib.pyplot as plt\n",
    "import seaborn as sns\n",
    "import matplotlib\n",
    "matplotlib.use('TkAgg')\n",
    "%matplotlib inline\n",
    "import warnings\n",
    "warnings.filterwarnings('ignore')\n",
    "from sklearn.metrics import confusion_matrix,accuracy_score"
   ]
  },
  {
   "cell_type": "code",
   "execution_count": 2,
   "metadata": {},
   "outputs": [],
   "source": [
    "pd.set_option('precision',4)\n",
    "pd.set_option('display.float_format', lambda x: '%.3f' % x)\n",
    "pd.set_option('display.max_rows', 500)\n",
    "pd.set_option('display.max_columns', 500)\n",
    "pd.set_option('display.width', 1000)"
   ]
  },
  {
   "cell_type": "markdown",
   "metadata": {},
   "source": [
    "# Importar Bases"
   ]
  },
  {
   "cell_type": "code",
   "execution_count": 3,
   "metadata": {},
   "outputs": [],
   "source": [
    "import os.path\n",
    "def path_base(base_name,folder):\n",
    "    current_dir = os.path.abspath(os.path.join(os.getcwd()))\n",
    "    print(current_dir)\n",
    "    data_dir = current_dir.replace('notebook',folder)\n",
    "    print(data_dir)\n",
    "    data_base = data_dir + '\\\\' + base_name\n",
    "    print(data_base)\n",
    "    return data_base"
   ]
  },
  {
   "cell_type": "code",
   "execution_count": 4,
   "metadata": {},
   "outputs": [
    {
     "name": "stdout",
     "output_type": "stream",
     "text": [
      "C:\\MyGit\\databricks_projetofinal_fia\\notebook\n",
      "C:\\MyGit\\databricks_projetofinal_fia\\data\n",
      "C:\\MyGit\\databricks_projetofinal_fia\\data\\db_ml_analise_semester_3m_churn.csv\n"
     ]
    }
   ],
   "source": [
    "base = pd.read_csv(path_base('db_ml_analise_semester_3m_churn.csv','data'))"
   ]
  },
  {
   "cell_type": "code",
   "execution_count": 5,
   "metadata": {},
   "outputs": [
    {
     "data": {
      "text/html": [
       "<div>\n",
       "<style scoped>\n",
       "    .dataframe tbody tr th:only-of-type {\n",
       "        vertical-align: middle;\n",
       "    }\n",
       "\n",
       "    .dataframe tbody tr th {\n",
       "        vertical-align: top;\n",
       "    }\n",
       "\n",
       "    .dataframe thead th {\n",
       "        text-align: right;\n",
       "    }\n",
       "</style>\n",
       "<table border=\"1\" class=\"dataframe\">\n",
       "  <thead>\n",
       "    <tr style=\"text-align: right;\">\n",
       "      <th></th>\n",
       "      <th>yyyymm_ref</th>\n",
       "      <th>seller_id</th>\n",
       "      <th>seller_region</th>\n",
       "      <th>min_order_date</th>\n",
       "      <th>max_order_date</th>\n",
       "      <th>qty_customers</th>\n",
       "      <th>days_first_order_item</th>\n",
       "      <th>days_last_order_item</th>\n",
       "      <th>avg_days_dlv_cust</th>\n",
       "      <th>avg_days_dlv_cust_quarter</th>\n",
       "      <th>avg_days_approval</th>\n",
       "      <th>avg_days_approval_quarter</th>\n",
       "      <th>qty_order_item</th>\n",
       "      <th>qty_order_item_month</th>\n",
       "      <th>qty_order_item_quarter</th>\n",
       "      <th>qty_order_item_semester</th>\n",
       "      <th>qty_order_item_year</th>\n",
       "      <th>total_revenue</th>\n",
       "      <th>revenue_month</th>\n",
       "      <th>revenue_quarter</th>\n",
       "      <th>revenue_semester</th>\n",
       "      <th>revenue_year</th>\n",
       "      <th>total_outtime_ratio</th>\n",
       "      <th>total_not_delivered_ratio</th>\n",
       "      <th>total_canceled_ratio</th>\n",
       "      <th>total_bank_slip_ratio</th>\n",
       "      <th>total_cc_ratio</th>\n",
       "      <th>total_samestate_ratio</th>\n",
       "      <th>distinct_product</th>\n",
       "      <th>distinct_category</th>\n",
       "      <th>qty_review_low_4</th>\n",
       "      <th>best_category</th>\n",
       "      <th>revenue_category_semester</th>\n",
       "      <th>target</th>\n",
       "    </tr>\n",
       "  </thead>\n",
       "  <tbody>\n",
       "    <tr>\n",
       "      <th>0</th>\n",
       "      <td>201712</td>\n",
       "      <td>92eb0f42c21942b6552362b9b114707d</td>\n",
       "      <td>SP</td>\n",
       "      <td>2017-02-05T18:47:13.000Z</td>\n",
       "      <td>2017-10-30T19:28:36.000Z</td>\n",
       "      <td>174</td>\n",
       "      <td>330</td>\n",
       "      <td>63</td>\n",
       "      <td>13.287</td>\n",
       "      <td>0.220</td>\n",
       "      <td>0.621</td>\n",
       "      <td>0.017</td>\n",
       "      <td>182</td>\n",
       "      <td>0</td>\n",
       "      <td>6</td>\n",
       "      <td>27</td>\n",
       "      <td>182</td>\n",
       "      <td>6081.330</td>\n",
       "      <td>0.000</td>\n",
       "      <td>212.620</td>\n",
       "      <td>813.180</td>\n",
       "      <td>6081.330</td>\n",
       "      <td>0.060</td>\n",
       "      <td>0.022</td>\n",
       "      <td>0.000</td>\n",
       "      <td>0.275</td>\n",
       "      <td>0.709</td>\n",
       "      <td>0.368</td>\n",
       "      <td>25</td>\n",
       "      <td>1</td>\n",
       "      <td>0</td>\n",
       "      <td>telefonia</td>\n",
       "      <td>813.180</td>\n",
       "      <td>0</td>\n",
       "    </tr>\n",
       "    <tr>\n",
       "      <th>1</th>\n",
       "      <td>201712</td>\n",
       "      <td>38874e327ce94d11390b96eb42d61928</td>\n",
       "      <td>SP</td>\n",
       "      <td>2017-02-09T22:05:38.000Z</td>\n",
       "      <td>2017-10-27T14:24:24.000Z</td>\n",
       "      <td>5</td>\n",
       "      <td>326</td>\n",
       "      <td>66</td>\n",
       "      <td>15.800</td>\n",
       "      <td>3.600</td>\n",
       "      <td>0.200</td>\n",
       "      <td>0.200</td>\n",
       "      <td>5</td>\n",
       "      <td>0</td>\n",
       "      <td>1</td>\n",
       "      <td>1</td>\n",
       "      <td>5</td>\n",
       "      <td>3375.210</td>\n",
       "      <td>0.000</td>\n",
       "      <td>155.720</td>\n",
       "      <td>155.720</td>\n",
       "      <td>3375.210</td>\n",
       "      <td>0.200</td>\n",
       "      <td>0.000</td>\n",
       "      <td>0.000</td>\n",
       "      <td>0.200</td>\n",
       "      <td>0.800</td>\n",
       "      <td>0.400</td>\n",
       "      <td>2</td>\n",
       "      <td>1</td>\n",
       "      <td>0</td>\n",
       "      <td>escritorio</td>\n",
       "      <td>155.720</td>\n",
       "      <td>1</td>\n",
       "    </tr>\n",
       "    <tr>\n",
       "      <th>2</th>\n",
       "      <td>201712</td>\n",
       "      <td>4a82c4af97ffc0fb2dc26bfdc03b1842</td>\n",
       "      <td>Se</td>\n",
       "      <td>2017-05-30T19:12:37.000Z</td>\n",
       "      <td>2017-08-15T14:31:33.000Z</td>\n",
       "      <td>3</td>\n",
       "      <td>216</td>\n",
       "      <td>139</td>\n",
       "      <td>12.667</td>\n",
       "      <td>0.000</td>\n",
       "      <td>0.667</td>\n",
       "      <td>0.000</td>\n",
       "      <td>3</td>\n",
       "      <td>0</td>\n",
       "      <td>0</td>\n",
       "      <td>1</td>\n",
       "      <td>3</td>\n",
       "      <td>210.900</td>\n",
       "      <td>0.000</td>\n",
       "      <td>0.000</td>\n",
       "      <td>78.770</td>\n",
       "      <td>210.900</td>\n",
       "      <td>0.000</td>\n",
       "      <td>0.000</td>\n",
       "      <td>0.000</td>\n",
       "      <td>0.333</td>\n",
       "      <td>0.667</td>\n",
       "      <td>0.000</td>\n",
       "      <td>3</td>\n",
       "      <td>1</td>\n",
       "      <td>0</td>\n",
       "      <td>ni</td>\n",
       "      <td>0.000</td>\n",
       "      <td>1</td>\n",
       "    </tr>\n",
       "  </tbody>\n",
       "</table>\n",
       "</div>"
      ],
      "text/plain": [
       "   yyyymm_ref                         seller_id seller_region            min_order_date            max_order_date  qty_customers  days_first_order_item  days_last_order_item  avg_days_dlv_cust  avg_days_dlv_cust_quarter  avg_days_approval  avg_days_approval_quarter  qty_order_item  qty_order_item_month  qty_order_item_quarter  qty_order_item_semester  qty_order_item_year  total_revenue  revenue_month  revenue_quarter  revenue_semester  revenue_year  total_outtime_ratio  total_not_delivered_ratio  total_canceled_ratio  total_bank_slip_ratio  total_cc_ratio  total_samestate_ratio  distinct_product  distinct_category  qty_review_low_4 best_category  revenue_category_semester  target\n",
       "0      201712  92eb0f42c21942b6552362b9b114707d            SP  2017-02-05T18:47:13.000Z  2017-10-30T19:28:36.000Z            174                    330                    63             13.287                      0.220              0.621                      0.017             182                     0                       6                       27                  182       6081.330          0.000          212.620           813.180      6081.330                0.060                      0.022                 0.000                  0.275           0.709                  0.368                25                  1                 0     telefonia                    813.180       0\n",
       "1      201712  38874e327ce94d11390b96eb42d61928            SP  2017-02-09T22:05:38.000Z  2017-10-27T14:24:24.000Z              5                    326                    66             15.800                      3.600              0.200                      0.200               5                     0                       1                        1                    5       3375.210          0.000          155.720           155.720      3375.210                0.200                      0.000                 0.000                  0.200           0.800                  0.400                 2                  1                 0    escritorio                    155.720       1\n",
       "2      201712  4a82c4af97ffc0fb2dc26bfdc03b1842            Se  2017-05-30T19:12:37.000Z  2017-08-15T14:31:33.000Z              3                    216                   139             12.667                      0.000              0.667                      0.000               3                     0                       0                        1                    3        210.900          0.000            0.000            78.770       210.900                0.000                      0.000                 0.000                  0.333           0.667                  0.000                 3                  1                 0            ni                      0.000       1"
      ]
     },
     "execution_count": 5,
     "metadata": {},
     "output_type": "execute_result"
    }
   ],
   "source": [
    "base.head(3)"
   ]
  },
  {
   "cell_type": "code",
   "execution_count": 6,
   "metadata": {},
   "outputs": [
    {
     "data": {
      "text/plain": [
       "yyyymm_ref                     int64\n",
       "seller_id                     object\n",
       "seller_region                 object\n",
       "min_order_date                object\n",
       "max_order_date                object\n",
       "qty_customers                  int64\n",
       "days_first_order_item          int64\n",
       "days_last_order_item           int64\n",
       "avg_days_dlv_cust            float64\n",
       "avg_days_dlv_cust_quarter    float64\n",
       "avg_days_approval            float64\n",
       "avg_days_approval_quarter    float64\n",
       "qty_order_item                 int64\n",
       "qty_order_item_month           int64\n",
       "qty_order_item_quarter         int64\n",
       "qty_order_item_semester        int64\n",
       "qty_order_item_year            int64\n",
       "total_revenue                float64\n",
       "revenue_month                float64\n",
       "revenue_quarter              float64\n",
       "revenue_semester             float64\n",
       "revenue_year                 float64\n",
       "total_outtime_ratio          float64\n",
       "total_not_delivered_ratio    float64\n",
       "total_canceled_ratio         float64\n",
       "total_bank_slip_ratio        float64\n",
       "total_cc_ratio               float64\n",
       "total_samestate_ratio        float64\n",
       "distinct_product               int64\n",
       "distinct_category              int64\n",
       "qty_review_low_4               int64\n",
       "best_category                 object\n",
       "revenue_category_semester    float64\n",
       "target                         int64\n",
       "dtype: object"
      ]
     },
     "execution_count": 6,
     "metadata": {},
     "output_type": "execute_result"
    }
   ],
   "source": [
    "base.dtypes"
   ]
  },
  {
   "cell_type": "code",
   "execution_count": 7,
   "metadata": {},
   "outputs": [
    {
     "data": {
      "text/plain": [
       "yyyymm_ref                      3\n",
       "seller_id                     994\n",
       "seller_region                   6\n",
       "min_order_date                994\n",
       "max_order_date               1060\n",
       "qty_customers                  78\n",
       "days_first_order_item         375\n",
       "days_last_order_item          154\n",
       "avg_days_dlv_cust             493\n",
       "avg_days_dlv_cust_quarter     487\n",
       "avg_days_approval             213\n",
       "avg_days_approval_quarter     166\n",
       "qty_order_item                 84\n",
       "qty_order_item_month            4\n",
       "qty_order_item_quarter         34\n",
       "qty_order_item_semester        61\n",
       "qty_order_item_year            88\n",
       "total_revenue                1055\n",
       "revenue_month                  20\n",
       "revenue_quarter               967\n",
       "revenue_semester             1308\n",
       "revenue_year                 1149\n",
       "total_outtime_ratio           143\n",
       "total_not_delivered_ratio     102\n",
       "total_canceled_ratio           49\n",
       "total_bank_slip_ratio         158\n",
       "total_cc_ratio                159\n",
       "total_samestate_ratio         183\n",
       "distinct_product               42\n",
       "distinct_category              13\n",
       "qty_review_low_4                2\n",
       "best_category                  16\n",
       "revenue_category_semester    1213\n",
       "target                          2\n",
       "dtype: int64"
      ]
     },
     "execution_count": 7,
     "metadata": {},
     "output_type": "execute_result"
    }
   ],
   "source": [
    "base.nunique()"
   ]
  },
  {
   "cell_type": "code",
   "execution_count": 8,
   "metadata": {},
   "outputs": [
    {
     "data": {
      "text/plain": [
       "yyyymm_ref                    0\n",
       "seller_id                     0\n",
       "seller_region                 0\n",
       "min_order_date                0\n",
       "max_order_date                0\n",
       "qty_customers                 0\n",
       "days_first_order_item         0\n",
       "days_last_order_item          0\n",
       "avg_days_dlv_cust            87\n",
       "avg_days_dlv_cust_quarter    32\n",
       "avg_days_approval             0\n",
       "avg_days_approval_quarter     0\n",
       "qty_order_item                0\n",
       "qty_order_item_month          0\n",
       "qty_order_item_quarter        0\n",
       "qty_order_item_semester       0\n",
       "qty_order_item_year           0\n",
       "total_revenue                 0\n",
       "revenue_month                 0\n",
       "revenue_quarter               0\n",
       "revenue_semester              0\n",
       "revenue_year                  0\n",
       "total_outtime_ratio           0\n",
       "total_not_delivered_ratio     0\n",
       "total_canceled_ratio          0\n",
       "total_bank_slip_ratio         0\n",
       "total_cc_ratio                0\n",
       "total_samestate_ratio         0\n",
       "distinct_product              0\n",
       "distinct_category             0\n",
       "qty_review_low_4              0\n",
       "best_category                 0\n",
       "revenue_category_semester     0\n",
       "target                        0\n",
       "dtype: int64"
      ]
     },
     "execution_count": 8,
     "metadata": {},
     "output_type": "execute_result"
    }
   ],
   "source": [
    "base.isnull().sum()"
   ]
  },
  {
   "cell_type": "code",
   "execution_count": 9,
   "metadata": {},
   "outputs": [
    {
     "data": {
      "text/plain": [
       "yyyymm_ref                   0\n",
       "seller_id                    0\n",
       "seller_region                0\n",
       "min_order_date               0\n",
       "max_order_date               0\n",
       "qty_customers                0\n",
       "days_first_order_item        0\n",
       "days_last_order_item         0\n",
       "avg_days_dlv_cust            0\n",
       "avg_days_dlv_cust_quarter    0\n",
       "avg_days_approval            0\n",
       "avg_days_approval_quarter    0\n",
       "qty_order_item               0\n",
       "qty_order_item_month         0\n",
       "qty_order_item_quarter       0\n",
       "qty_order_item_semester      0\n",
       "qty_order_item_year          0\n",
       "total_revenue                0\n",
       "revenue_month                0\n",
       "revenue_quarter              0\n",
       "revenue_semester             0\n",
       "revenue_year                 0\n",
       "total_outtime_ratio          0\n",
       "total_not_delivered_ratio    0\n",
       "total_canceled_ratio         0\n",
       "total_bank_slip_ratio        0\n",
       "total_cc_ratio               0\n",
       "total_samestate_ratio        0\n",
       "distinct_product             0\n",
       "distinct_category            0\n",
       "qty_review_low_4             0\n",
       "best_category                0\n",
       "revenue_category_semester    0\n",
       "target                       0\n",
       "dtype: int64"
      ]
     },
     "execution_count": 9,
     "metadata": {},
     "output_type": "execute_result"
    }
   ],
   "source": [
    "base.avg_days_dlv_cust = base.avg_days_dlv_cust.fillna(base.avg_days_dlv_cust.mean())\n",
    "base.avg_days_dlv_cust_quarter = base.avg_days_dlv_cust_quarter.fillna(base.avg_days_dlv_cust_quarter.mean())\n",
    "base.revenue_category_semester = base.revenue_category_semester.fillna(base.revenue_category_semester.mean())\n",
    "base.isnull().sum()"
   ]
  },
  {
   "cell_type": "code",
   "execution_count": 11,
   "metadata": {},
   "outputs": [],
   "source": [
    "dados = base[['seller_region',\n",
    "                'qty_customers',\n",
    "                'days_first_order_item',\n",
    "                'days_last_order_item',\n",
    "                'avg_days_dlv_cust',\n",
    "                'avg_days_dlv_cust_quarter',\n",
    "                'avg_days_approval',\n",
    "                'avg_days_approval_quarter',\n",
    "                'qty_order_item',\n",
    "                'qty_order_item_month',\n",
    "                'qty_order_item_quarter',\n",
    "                'qty_order_item_semester',\n",
    "                'qty_order_item_year',\n",
    "                'total_revenue',\n",
    "                'revenue_month',\n",
    "                'revenue_quarter',\n",
    "                'revenue_semester',\n",
    "                'revenue_year',\n",
    "                'total_outtime_ratio',\n",
    "                'total_not_delivered_ratio',\n",
    "                'total_canceled_ratio',\n",
    "                'total_bank_slip_ratio',\n",
    "                'total_cc_ratio',\n",
    "                'total_samestate_ratio',\n",
    "                'distinct_product',\n",
    "                'distinct_category',\n",
    "                'qty_review_low_4',\n",
    "                'best_category',\n",
    "                'revenue_category_semester',\n",
    "                'target']]"
   ]
  },
  {
   "cell_type": "markdown",
   "metadata": {},
   "source": [
    "# Criar dummies para var categoricas"
   ]
  },
  {
   "cell_type": "code",
   "execution_count": 12,
   "metadata": {},
   "outputs": [],
   "source": [
    "base_categoricas = ['seller_region',\n",
    "                    'best_category'\n",
    "                   ]\n",
    "dum = pd.get_dummies(dados,\n",
    "                    columns=base_categoricas,\n",
    "                    drop_first=True,\n",
    "                    prefix=base_categoricas,\n",
    "                     prefix_sep='_'\n",
    "                    )"
   ]
  },
  {
   "cell_type": "code",
   "execution_count": 13,
   "metadata": {},
   "outputs": [
    {
     "data": {
      "text/html": [
       "<div>\n",
       "<style scoped>\n",
       "    .dataframe tbody tr th:only-of-type {\n",
       "        vertical-align: middle;\n",
       "    }\n",
       "\n",
       "    .dataframe tbody tr th {\n",
       "        vertical-align: top;\n",
       "    }\n",
       "\n",
       "    .dataframe thead th {\n",
       "        text-align: right;\n",
       "    }\n",
       "</style>\n",
       "<table border=\"1\" class=\"dataframe\">\n",
       "  <thead>\n",
       "    <tr style=\"text-align: right;\">\n",
       "      <th></th>\n",
       "      <th>qty_customers</th>\n",
       "      <th>days_first_order_item</th>\n",
       "      <th>days_last_order_item</th>\n",
       "      <th>avg_days_dlv_cust</th>\n",
       "      <th>avg_days_dlv_cust_quarter</th>\n",
       "      <th>avg_days_approval</th>\n",
       "      <th>avg_days_approval_quarter</th>\n",
       "      <th>qty_order_item</th>\n",
       "      <th>qty_order_item_month</th>\n",
       "      <th>qty_order_item_quarter</th>\n",
       "      <th>qty_order_item_semester</th>\n",
       "      <th>qty_order_item_year</th>\n",
       "      <th>total_revenue</th>\n",
       "      <th>revenue_month</th>\n",
       "      <th>revenue_quarter</th>\n",
       "      <th>revenue_semester</th>\n",
       "      <th>revenue_year</th>\n",
       "      <th>total_outtime_ratio</th>\n",
       "      <th>total_not_delivered_ratio</th>\n",
       "      <th>total_canceled_ratio</th>\n",
       "      <th>total_bank_slip_ratio</th>\n",
       "      <th>total_cc_ratio</th>\n",
       "      <th>total_samestate_ratio</th>\n",
       "      <th>distinct_product</th>\n",
       "      <th>distinct_category</th>\n",
       "      <th>qty_review_low_4</th>\n",
       "      <th>revenue_category_semester</th>\n",
       "      <th>target</th>\n",
       "      <th>seller_region_N</th>\n",
       "      <th>seller_region_Ne</th>\n",
       "      <th>seller_region_S</th>\n",
       "      <th>seller_region_SP</th>\n",
       "      <th>seller_region_Se</th>\n",
       "      <th>best_category_automotivo</th>\n",
       "      <th>best_category_bebes</th>\n",
       "      <th>best_category_beleza_saude</th>\n",
       "      <th>best_category_eletro</th>\n",
       "      <th>best_category_escritorio</th>\n",
       "      <th>best_category_esporte_lazer</th>\n",
       "      <th>best_category_fashion</th>\n",
       "      <th>best_category_home</th>\n",
       "      <th>best_category_informatica</th>\n",
       "      <th>best_category_livros_papelaria</th>\n",
       "      <th>best_category_ni</th>\n",
       "      <th>best_category_pet_shop</th>\n",
       "      <th>best_category_presentes</th>\n",
       "      <th>best_category_servico</th>\n",
       "      <th>best_category_telefonia</th>\n",
       "    </tr>\n",
       "  </thead>\n",
       "  <tbody>\n",
       "    <tr>\n",
       "      <th>0</th>\n",
       "      <td>174</td>\n",
       "      <td>330</td>\n",
       "      <td>63</td>\n",
       "      <td>13.287</td>\n",
       "      <td>0.220</td>\n",
       "      <td>0.621</td>\n",
       "      <td>0.017</td>\n",
       "      <td>182</td>\n",
       "      <td>0</td>\n",
       "      <td>6</td>\n",
       "      <td>27</td>\n",
       "      <td>182</td>\n",
       "      <td>6081.330</td>\n",
       "      <td>0.000</td>\n",
       "      <td>212.620</td>\n",
       "      <td>813.180</td>\n",
       "      <td>6081.330</td>\n",
       "      <td>0.060</td>\n",
       "      <td>0.022</td>\n",
       "      <td>0.000</td>\n",
       "      <td>0.275</td>\n",
       "      <td>0.709</td>\n",
       "      <td>0.368</td>\n",
       "      <td>25</td>\n",
       "      <td>1</td>\n",
       "      <td>0</td>\n",
       "      <td>813.180</td>\n",
       "      <td>0</td>\n",
       "      <td>0</td>\n",
       "      <td>0</td>\n",
       "      <td>0</td>\n",
       "      <td>1</td>\n",
       "      <td>0</td>\n",
       "      <td>0</td>\n",
       "      <td>0</td>\n",
       "      <td>0</td>\n",
       "      <td>0</td>\n",
       "      <td>0</td>\n",
       "      <td>0</td>\n",
       "      <td>0</td>\n",
       "      <td>0</td>\n",
       "      <td>0</td>\n",
       "      <td>0</td>\n",
       "      <td>0</td>\n",
       "      <td>0</td>\n",
       "      <td>0</td>\n",
       "      <td>0</td>\n",
       "      <td>1</td>\n",
       "    </tr>\n",
       "    <tr>\n",
       "      <th>1</th>\n",
       "      <td>5</td>\n",
       "      <td>326</td>\n",
       "      <td>66</td>\n",
       "      <td>15.800</td>\n",
       "      <td>3.600</td>\n",
       "      <td>0.200</td>\n",
       "      <td>0.200</td>\n",
       "      <td>5</td>\n",
       "      <td>0</td>\n",
       "      <td>1</td>\n",
       "      <td>1</td>\n",
       "      <td>5</td>\n",
       "      <td>3375.210</td>\n",
       "      <td>0.000</td>\n",
       "      <td>155.720</td>\n",
       "      <td>155.720</td>\n",
       "      <td>3375.210</td>\n",
       "      <td>0.200</td>\n",
       "      <td>0.000</td>\n",
       "      <td>0.000</td>\n",
       "      <td>0.200</td>\n",
       "      <td>0.800</td>\n",
       "      <td>0.400</td>\n",
       "      <td>2</td>\n",
       "      <td>1</td>\n",
       "      <td>0</td>\n",
       "      <td>155.720</td>\n",
       "      <td>1</td>\n",
       "      <td>0</td>\n",
       "      <td>0</td>\n",
       "      <td>0</td>\n",
       "      <td>1</td>\n",
       "      <td>0</td>\n",
       "      <td>0</td>\n",
       "      <td>0</td>\n",
       "      <td>0</td>\n",
       "      <td>0</td>\n",
       "      <td>1</td>\n",
       "      <td>0</td>\n",
       "      <td>0</td>\n",
       "      <td>0</td>\n",
       "      <td>0</td>\n",
       "      <td>0</td>\n",
       "      <td>0</td>\n",
       "      <td>0</td>\n",
       "      <td>0</td>\n",
       "      <td>0</td>\n",
       "      <td>0</td>\n",
       "    </tr>\n",
       "    <tr>\n",
       "      <th>2</th>\n",
       "      <td>3</td>\n",
       "      <td>216</td>\n",
       "      <td>139</td>\n",
       "      <td>12.667</td>\n",
       "      <td>0.000</td>\n",
       "      <td>0.667</td>\n",
       "      <td>0.000</td>\n",
       "      <td>3</td>\n",
       "      <td>0</td>\n",
       "      <td>0</td>\n",
       "      <td>1</td>\n",
       "      <td>3</td>\n",
       "      <td>210.900</td>\n",
       "      <td>0.000</td>\n",
       "      <td>0.000</td>\n",
       "      <td>78.770</td>\n",
       "      <td>210.900</td>\n",
       "      <td>0.000</td>\n",
       "      <td>0.000</td>\n",
       "      <td>0.000</td>\n",
       "      <td>0.333</td>\n",
       "      <td>0.667</td>\n",
       "      <td>0.000</td>\n",
       "      <td>3</td>\n",
       "      <td>1</td>\n",
       "      <td>0</td>\n",
       "      <td>0.000</td>\n",
       "      <td>1</td>\n",
       "      <td>0</td>\n",
       "      <td>0</td>\n",
       "      <td>0</td>\n",
       "      <td>0</td>\n",
       "      <td>1</td>\n",
       "      <td>0</td>\n",
       "      <td>0</td>\n",
       "      <td>0</td>\n",
       "      <td>0</td>\n",
       "      <td>0</td>\n",
       "      <td>0</td>\n",
       "      <td>0</td>\n",
       "      <td>0</td>\n",
       "      <td>0</td>\n",
       "      <td>0</td>\n",
       "      <td>1</td>\n",
       "      <td>0</td>\n",
       "      <td>0</td>\n",
       "      <td>0</td>\n",
       "      <td>0</td>\n",
       "    </tr>\n",
       "  </tbody>\n",
       "</table>\n",
       "</div>"
      ],
      "text/plain": [
       "   qty_customers  days_first_order_item  days_last_order_item  avg_days_dlv_cust  avg_days_dlv_cust_quarter  avg_days_approval  avg_days_approval_quarter  qty_order_item  qty_order_item_month  qty_order_item_quarter  qty_order_item_semester  qty_order_item_year  total_revenue  revenue_month  revenue_quarter  revenue_semester  revenue_year  total_outtime_ratio  total_not_delivered_ratio  total_canceled_ratio  total_bank_slip_ratio  total_cc_ratio  total_samestate_ratio  distinct_product  distinct_category  qty_review_low_4  revenue_category_semester  target  seller_region_N  seller_region_Ne  seller_region_S  seller_region_SP  seller_region_Se  best_category_automotivo  best_category_bebes  best_category_beleza_saude  best_category_eletro  best_category_escritorio  best_category_esporte_lazer  best_category_fashion  best_category_home  best_category_informatica  best_category_livros_papelaria  best_category_ni  best_category_pet_shop  best_category_presentes  best_category_servico  \\\n",
       "0            174                    330                    63             13.287                      0.220              0.621                      0.017             182                     0                       6                       27                  182       6081.330          0.000          212.620           813.180      6081.330                0.060                      0.022                 0.000                  0.275           0.709                  0.368                25                  1                 0                    813.180       0                0                 0                0                 1                 0                         0                    0                           0                     0                         0                            0                      0                   0                          0                               0                 0                       0                        0                      0   \n",
       "1              5                    326                    66             15.800                      3.600              0.200                      0.200               5                     0                       1                        1                    5       3375.210          0.000          155.720           155.720      3375.210                0.200                      0.000                 0.000                  0.200           0.800                  0.400                 2                  1                 0                    155.720       1                0                 0                0                 1                 0                         0                    0                           0                     0                         1                            0                      0                   0                          0                               0                 0                       0                        0                      0   \n",
       "2              3                    216                   139             12.667                      0.000              0.667                      0.000               3                     0                       0                        1                    3        210.900          0.000            0.000            78.770       210.900                0.000                      0.000                 0.000                  0.333           0.667                  0.000                 3                  1                 0                      0.000       1                0                 0                0                 0                 1                         0                    0                           0                     0                         0                            0                      0                   0                          0                               0                 1                       0                        0                      0   \n",
       "\n",
       "   best_category_telefonia  \n",
       "0                        1  \n",
       "1                        0  \n",
       "2                        0  "
      ]
     },
     "execution_count": 13,
     "metadata": {},
     "output_type": "execute_result"
    }
   ],
   "source": [
    "dum.head(3)"
   ]
  },
  {
   "cell_type": "code",
   "execution_count": 14,
   "metadata": {},
   "outputs": [
    {
     "data": {
      "text/plain": [
       "Index(['qty_customers', 'days_first_order_item', 'days_last_order_item', 'avg_days_dlv_cust', 'avg_days_dlv_cust_quarter', 'avg_days_approval', 'avg_days_approval_quarter', 'qty_order_item', 'qty_order_item_month', 'qty_order_item_quarter', 'qty_order_item_semester', 'qty_order_item_year', 'total_revenue', 'revenue_month', 'revenue_quarter', 'revenue_semester', 'revenue_year', 'total_outtime_ratio', 'total_not_delivered_ratio', 'total_canceled_ratio', 'total_bank_slip_ratio', 'total_cc_ratio', 'total_samestate_ratio', 'distinct_product', 'distinct_category', 'qty_review_low_4', 'revenue_category_semester', 'target', 'seller_region_N', 'seller_region_Ne', 'seller_region_S', 'seller_region_SP', 'seller_region_Se', 'best_category_automotivo', 'best_category_bebes', 'best_category_beleza_saude', 'best_category_eletro', 'best_category_escritorio', 'best_category_esporte_lazer', 'best_category_fashion', 'best_category_home', 'best_category_informatica', 'best_category_livros_papelaria',\n",
       "       'best_category_ni', 'best_category_pet_shop', 'best_category_presentes', 'best_category_servico', 'best_category_telefonia'],\n",
       "      dtype='object')"
      ]
     },
     "execution_count": 14,
     "metadata": {},
     "output_type": "execute_result"
    }
   ],
   "source": [
    "dum.columns"
   ]
  },
  {
   "cell_type": "code",
   "execution_count": 17,
   "metadata": {},
   "outputs": [],
   "source": [
    "dados_selecionados = dum[['qty_customers', 'days_first_order_item', 'days_last_order_item', 'avg_days_dlv_cust', 'avg_days_dlv_cust_quarter', 'avg_days_approval', 'avg_days_approval_quarter', 'qty_order_item', 'qty_order_item_month', 'qty_order_item_quarter', 'qty_order_item_semester', 'qty_order_item_year', 'total_revenue', 'revenue_month', 'revenue_quarter', 'revenue_semester', 'revenue_year', 'total_outtime_ratio', 'total_not_delivered_ratio', 'total_canceled_ratio', 'total_bank_slip_ratio', 'total_cc_ratio', 'total_samestate_ratio', 'distinct_product', 'distinct_category', 'qty_review_low_4', 'revenue_category_semester', 'target', 'seller_region_N', 'seller_region_Ne', 'seller_region_S', 'seller_region_SP', 'seller_region_Se', 'best_category_automotivo', 'best_category_bebes', 'best_category_beleza_saude', 'best_category_eletro', 'best_category_escritorio', 'best_category_esporte_lazer', 'best_category_fashion', 'best_category_home', 'best_category_informatica', 'best_category_livros_papelaria',\n",
    "       'best_category_ni', 'best_category_pet_shop', 'best_category_presentes', 'best_category_servico', 'best_category_telefonia']]"
   ]
  },
  {
   "cell_type": "code",
   "execution_count": 18,
   "metadata": {},
   "outputs": [
    {
     "data": {
      "text/html": [
       "<div>\n",
       "<style scoped>\n",
       "    .dataframe tbody tr th:only-of-type {\n",
       "        vertical-align: middle;\n",
       "    }\n",
       "\n",
       "    .dataframe tbody tr th {\n",
       "        vertical-align: top;\n",
       "    }\n",
       "\n",
       "    .dataframe thead th {\n",
       "        text-align: right;\n",
       "    }\n",
       "</style>\n",
       "<table border=\"1\" class=\"dataframe\">\n",
       "  <thead>\n",
       "    <tr style=\"text-align: right;\">\n",
       "      <th></th>\n",
       "      <th>count</th>\n",
       "      <th>mean</th>\n",
       "      <th>std</th>\n",
       "      <th>min</th>\n",
       "      <th>25%</th>\n",
       "      <th>50%</th>\n",
       "      <th>75%</th>\n",
       "      <th>max</th>\n",
       "    </tr>\n",
       "  </thead>\n",
       "  <tbody>\n",
       "    <tr>\n",
       "      <th>qty_customers</th>\n",
       "      <td>1914.000</td>\n",
       "      <td>9.625</td>\n",
       "      <td>19.400</td>\n",
       "      <td>1.000</td>\n",
       "      <td>2.000</td>\n",
       "      <td>3.500</td>\n",
       "      <td>9.000</td>\n",
       "      <td>264.000</td>\n",
       "    </tr>\n",
       "    <tr>\n",
       "      <th>days_first_order_item</th>\n",
       "      <td>1914.000</td>\n",
       "      <td>196.457</td>\n",
       "      <td>108.618</td>\n",
       "      <td>31.000</td>\n",
       "      <td>104.000</td>\n",
       "      <td>172.000</td>\n",
       "      <td>296.000</td>\n",
       "      <td>418.000</td>\n",
       "    </tr>\n",
       "    <tr>\n",
       "      <th>days_last_order_item</th>\n",
       "      <td>1914.000</td>\n",
       "      <td>85.036</td>\n",
       "      <td>43.052</td>\n",
       "      <td>31.000</td>\n",
       "      <td>47.000</td>\n",
       "      <td>75.000</td>\n",
       "      <td>114.750</td>\n",
       "      <td>184.000</td>\n",
       "    </tr>\n",
       "    <tr>\n",
       "      <th>avg_days_dlv_cust</th>\n",
       "      <td>1914.000</td>\n",
       "      <td>14.187</td>\n",
       "      <td>7.493</td>\n",
       "      <td>1.000</td>\n",
       "      <td>9.750</td>\n",
       "      <td>13.000</td>\n",
       "      <td>16.000</td>\n",
       "      <td>86.000</td>\n",
       "    </tr>\n",
       "    <tr>\n",
       "      <th>avg_days_dlv_cust_quarter</th>\n",
       "      <td>1914.000</td>\n",
       "      <td>5.002</td>\n",
       "      <td>7.628</td>\n",
       "      <td>0.000</td>\n",
       "      <td>0.000</td>\n",
       "      <td>1.615</td>\n",
       "      <td>7.312</td>\n",
       "      <td>53.000</td>\n",
       "    </tr>\n",
       "    <tr>\n",
       "      <th>avg_days_approval</th>\n",
       "      <td>1914.000</td>\n",
       "      <td>0.524</td>\n",
       "      <td>0.569</td>\n",
       "      <td>0.000</td>\n",
       "      <td>0.000</td>\n",
       "      <td>0.426</td>\n",
       "      <td>0.750</td>\n",
       "      <td>4.000</td>\n",
       "    </tr>\n",
       "    <tr>\n",
       "      <th>avg_days_approval_quarter</th>\n",
       "      <td>1914.000</td>\n",
       "      <td>0.180</td>\n",
       "      <td>0.415</td>\n",
       "      <td>0.000</td>\n",
       "      <td>0.000</td>\n",
       "      <td>0.000</td>\n",
       "      <td>0.151</td>\n",
       "      <td>3.000</td>\n",
       "    </tr>\n",
       "    <tr>\n",
       "      <th>qty_order_item</th>\n",
       "      <td>1914.000</td>\n",
       "      <td>10.975</td>\n",
       "      <td>21.699</td>\n",
       "      <td>1.000</td>\n",
       "      <td>2.000</td>\n",
       "      <td>4.000</td>\n",
       "      <td>11.000</td>\n",
       "      <td>272.000</td>\n",
       "    </tr>\n",
       "    <tr>\n",
       "      <th>qty_order_item_month</th>\n",
       "      <td>1914.000</td>\n",
       "      <td>0.012</td>\n",
       "      <td>0.139</td>\n",
       "      <td>0.000</td>\n",
       "      <td>0.000</td>\n",
       "      <td>0.000</td>\n",
       "      <td>0.000</td>\n",
       "      <td>4.000</td>\n",
       "    </tr>\n",
       "    <tr>\n",
       "      <th>qty_order_item_quarter</th>\n",
       "      <td>1914.000</td>\n",
       "      <td>2.154</td>\n",
       "      <td>5.042</td>\n",
       "      <td>0.000</td>\n",
       "      <td>0.000</td>\n",
       "      <td>1.000</td>\n",
       "      <td>2.000</td>\n",
       "      <td>98.000</td>\n",
       "    </tr>\n",
       "    <tr>\n",
       "      <th>qty_order_item_semester</th>\n",
       "      <td>1914.000</td>\n",
       "      <td>5.870</td>\n",
       "      <td>11.306</td>\n",
       "      <td>1.000</td>\n",
       "      <td>1.000</td>\n",
       "      <td>3.000</td>\n",
       "      <td>6.000</td>\n",
       "      <td>197.000</td>\n",
       "    </tr>\n",
       "    <tr>\n",
       "      <th>qty_order_item_year</th>\n",
       "      <td>1914.000</td>\n",
       "      <td>10.740</td>\n",
       "      <td>21.350</td>\n",
       "      <td>1.000</td>\n",
       "      <td>2.000</td>\n",
       "      <td>4.000</td>\n",
       "      <td>10.000</td>\n",
       "      <td>272.000</td>\n",
       "    </tr>\n",
       "    <tr>\n",
       "      <th>total_revenue</th>\n",
       "      <td>1914.000</td>\n",
       "      <td>1850.939</td>\n",
       "      <td>3799.231</td>\n",
       "      <td>23.260</td>\n",
       "      <td>206.127</td>\n",
       "      <td>633.960</td>\n",
       "      <td>1782.995</td>\n",
       "      <td>59590.590</td>\n",
       "    </tr>\n",
       "    <tr>\n",
       "      <th>revenue_month</th>\n",
       "      <td>1914.000</td>\n",
       "      <td>2.224</td>\n",
       "      <td>29.693</td>\n",
       "      <td>0.000</td>\n",
       "      <td>0.000</td>\n",
       "      <td>0.000</td>\n",
       "      <td>0.000</td>\n",
       "      <td>670.770</td>\n",
       "    </tr>\n",
       "    <tr>\n",
       "      <th>revenue_quarter</th>\n",
       "      <td>1914.000</td>\n",
       "      <td>406.233</td>\n",
       "      <td>1128.710</td>\n",
       "      <td>0.000</td>\n",
       "      <td>0.000</td>\n",
       "      <td>84.780</td>\n",
       "      <td>364.885</td>\n",
       "      <td>18363.870</td>\n",
       "    </tr>\n",
       "    <tr>\n",
       "      <th>revenue_semester</th>\n",
       "      <td>1914.000</td>\n",
       "      <td>1022.587</td>\n",
       "      <td>2092.176</td>\n",
       "      <td>18.840</td>\n",
       "      <td>148.743</td>\n",
       "      <td>356.995</td>\n",
       "      <td>1058.290</td>\n",
       "      <td>29590.650</td>\n",
       "    </tr>\n",
       "    <tr>\n",
       "      <th>revenue_year</th>\n",
       "      <td>1914.000</td>\n",
       "      <td>1810.804</td>\n",
       "      <td>3736.495</td>\n",
       "      <td>23.260</td>\n",
       "      <td>204.840</td>\n",
       "      <td>626.565</td>\n",
       "      <td>1772.455</td>\n",
       "      <td>59590.590</td>\n",
       "    </tr>\n",
       "    <tr>\n",
       "      <th>total_outtime_ratio</th>\n",
       "      <td>1914.000</td>\n",
       "      <td>0.184</td>\n",
       "      <td>0.302</td>\n",
       "      <td>0.000</td>\n",
       "      <td>0.000</td>\n",
       "      <td>0.000</td>\n",
       "      <td>0.235</td>\n",
       "      <td>1.000</td>\n",
       "    </tr>\n",
       "    <tr>\n",
       "      <th>total_not_delivered_ratio</th>\n",
       "      <td>1914.000</td>\n",
       "      <td>0.090</td>\n",
       "      <td>0.233</td>\n",
       "      <td>0.000</td>\n",
       "      <td>0.000</td>\n",
       "      <td>0.000</td>\n",
       "      <td>0.019</td>\n",
       "      <td>1.000</td>\n",
       "    </tr>\n",
       "    <tr>\n",
       "      <th>total_canceled_ratio</th>\n",
       "      <td>1914.000</td>\n",
       "      <td>0.023</td>\n",
       "      <td>0.116</td>\n",
       "      <td>0.000</td>\n",
       "      <td>0.000</td>\n",
       "      <td>0.000</td>\n",
       "      <td>0.000</td>\n",
       "      <td>1.000</td>\n",
       "    </tr>\n",
       "    <tr>\n",
       "      <th>total_bank_slip_ratio</th>\n",
       "      <td>1914.000</td>\n",
       "      <td>0.210</td>\n",
       "      <td>0.259</td>\n",
       "      <td>0.000</td>\n",
       "      <td>0.000</td>\n",
       "      <td>0.138</td>\n",
       "      <td>0.333</td>\n",
       "      <td>1.000</td>\n",
       "    </tr>\n",
       "    <tr>\n",
       "      <th>total_cc_ratio</th>\n",
       "      <td>1914.000</td>\n",
       "      <td>0.769</td>\n",
       "      <td>0.268</td>\n",
       "      <td>0.000</td>\n",
       "      <td>0.652</td>\n",
       "      <td>0.833</td>\n",
       "      <td>1.000</td>\n",
       "      <td>1.000</td>\n",
       "    </tr>\n",
       "    <tr>\n",
       "      <th>total_samestate_ratio</th>\n",
       "      <td>1914.000</td>\n",
       "      <td>0.284</td>\n",
       "      <td>0.316</td>\n",
       "      <td>0.000</td>\n",
       "      <td>0.000</td>\n",
       "      <td>0.200</td>\n",
       "      <td>0.500</td>\n",
       "      <td>1.000</td>\n",
       "    </tr>\n",
       "    <tr>\n",
       "      <th>distinct_product</th>\n",
       "      <td>1914.000</td>\n",
       "      <td>4.701</td>\n",
       "      <td>6.434</td>\n",
       "      <td>1.000</td>\n",
       "      <td>1.000</td>\n",
       "      <td>2.000</td>\n",
       "      <td>5.000</td>\n",
       "      <td>69.000</td>\n",
       "    </tr>\n",
       "    <tr>\n",
       "      <th>distinct_category</th>\n",
       "      <td>1914.000</td>\n",
       "      <td>1.526</td>\n",
       "      <td>1.298</td>\n",
       "      <td>0.000</td>\n",
       "      <td>1.000</td>\n",
       "      <td>1.000</td>\n",
       "      <td>2.000</td>\n",
       "      <td>12.000</td>\n",
       "    </tr>\n",
       "    <tr>\n",
       "      <th>qty_review_low_4</th>\n",
       "      <td>1914.000</td>\n",
       "      <td>0.007</td>\n",
       "      <td>0.082</td>\n",
       "      <td>0.000</td>\n",
       "      <td>0.000</td>\n",
       "      <td>0.000</td>\n",
       "      <td>0.000</td>\n",
       "      <td>1.000</td>\n",
       "    </tr>\n",
       "    <tr>\n",
       "      <th>revenue_category_semester</th>\n",
       "      <td>1914.000</td>\n",
       "      <td>858.559</td>\n",
       "      <td>1821.937</td>\n",
       "      <td>0.000</td>\n",
       "      <td>117.180</td>\n",
       "      <td>319.480</td>\n",
       "      <td>892.030</td>\n",
       "      <td>29345.650</td>\n",
       "    </tr>\n",
       "    <tr>\n",
       "      <th>target</th>\n",
       "      <td>1914.000</td>\n",
       "      <td>0.644</td>\n",
       "      <td>0.479</td>\n",
       "      <td>0.000</td>\n",
       "      <td>0.000</td>\n",
       "      <td>1.000</td>\n",
       "      <td>1.000</td>\n",
       "      <td>1.000</td>\n",
       "    </tr>\n",
       "    <tr>\n",
       "      <th>seller_region_N</th>\n",
       "      <td>1914.000</td>\n",
       "      <td>0.002</td>\n",
       "      <td>0.040</td>\n",
       "      <td>0.000</td>\n",
       "      <td>0.000</td>\n",
       "      <td>0.000</td>\n",
       "      <td>0.000</td>\n",
       "      <td>1.000</td>\n",
       "    </tr>\n",
       "    <tr>\n",
       "      <th>seller_region_Ne</th>\n",
       "      <td>1914.000</td>\n",
       "      <td>0.020</td>\n",
       "      <td>0.140</td>\n",
       "      <td>0.000</td>\n",
       "      <td>0.000</td>\n",
       "      <td>0.000</td>\n",
       "      <td>0.000</td>\n",
       "      <td>1.000</td>\n",
       "    </tr>\n",
       "    <tr>\n",
       "      <th>seller_region_S</th>\n",
       "      <td>1914.000</td>\n",
       "      <td>0.235</td>\n",
       "      <td>0.424</td>\n",
       "      <td>0.000</td>\n",
       "      <td>0.000</td>\n",
       "      <td>0.000</td>\n",
       "      <td>0.000</td>\n",
       "      <td>1.000</td>\n",
       "    </tr>\n",
       "    <tr>\n",
       "      <th>seller_region_SP</th>\n",
       "      <td>1914.000</td>\n",
       "      <td>0.574</td>\n",
       "      <td>0.495</td>\n",
       "      <td>0.000</td>\n",
       "      <td>0.000</td>\n",
       "      <td>1.000</td>\n",
       "      <td>1.000</td>\n",
       "      <td>1.000</td>\n",
       "    </tr>\n",
       "    <tr>\n",
       "      <th>seller_region_Se</th>\n",
       "      <td>1914.000</td>\n",
       "      <td>0.150</td>\n",
       "      <td>0.357</td>\n",
       "      <td>0.000</td>\n",
       "      <td>0.000</td>\n",
       "      <td>0.000</td>\n",
       "      <td>0.000</td>\n",
       "      <td>1.000</td>\n",
       "    </tr>\n",
       "    <tr>\n",
       "      <th>best_category_automotivo</th>\n",
       "      <td>1914.000</td>\n",
       "      <td>0.066</td>\n",
       "      <td>0.248</td>\n",
       "      <td>0.000</td>\n",
       "      <td>0.000</td>\n",
       "      <td>0.000</td>\n",
       "      <td>0.000</td>\n",
       "      <td>1.000</td>\n",
       "    </tr>\n",
       "    <tr>\n",
       "      <th>best_category_bebes</th>\n",
       "      <td>1914.000</td>\n",
       "      <td>0.017</td>\n",
       "      <td>0.130</td>\n",
       "      <td>0.000</td>\n",
       "      <td>0.000</td>\n",
       "      <td>0.000</td>\n",
       "      <td>0.000</td>\n",
       "      <td>1.000</td>\n",
       "    </tr>\n",
       "    <tr>\n",
       "      <th>best_category_beleza_saude</th>\n",
       "      <td>1914.000</td>\n",
       "      <td>0.098</td>\n",
       "      <td>0.298</td>\n",
       "      <td>0.000</td>\n",
       "      <td>0.000</td>\n",
       "      <td>0.000</td>\n",
       "      <td>0.000</td>\n",
       "      <td>1.000</td>\n",
       "    </tr>\n",
       "    <tr>\n",
       "      <th>best_category_eletro</th>\n",
       "      <td>1914.000</td>\n",
       "      <td>0.042</td>\n",
       "      <td>0.200</td>\n",
       "      <td>0.000</td>\n",
       "      <td>0.000</td>\n",
       "      <td>0.000</td>\n",
       "      <td>0.000</td>\n",
       "      <td>1.000</td>\n",
       "    </tr>\n",
       "    <tr>\n",
       "      <th>best_category_escritorio</th>\n",
       "      <td>1914.000</td>\n",
       "      <td>0.007</td>\n",
       "      <td>0.082</td>\n",
       "      <td>0.000</td>\n",
       "      <td>0.000</td>\n",
       "      <td>0.000</td>\n",
       "      <td>0.000</td>\n",
       "      <td>1.000</td>\n",
       "    </tr>\n",
       "    <tr>\n",
       "      <th>best_category_esporte_lazer</th>\n",
       "      <td>1914.000</td>\n",
       "      <td>0.101</td>\n",
       "      <td>0.302</td>\n",
       "      <td>0.000</td>\n",
       "      <td>0.000</td>\n",
       "      <td>0.000</td>\n",
       "      <td>0.000</td>\n",
       "      <td>1.000</td>\n",
       "    </tr>\n",
       "    <tr>\n",
       "      <th>best_category_fashion</th>\n",
       "      <td>1914.000</td>\n",
       "      <td>0.050</td>\n",
       "      <td>0.218</td>\n",
       "      <td>0.000</td>\n",
       "      <td>0.000</td>\n",
       "      <td>0.000</td>\n",
       "      <td>0.000</td>\n",
       "      <td>1.000</td>\n",
       "    </tr>\n",
       "    <tr>\n",
       "      <th>best_category_home</th>\n",
       "      <td>1914.000</td>\n",
       "      <td>0.277</td>\n",
       "      <td>0.448</td>\n",
       "      <td>0.000</td>\n",
       "      <td>0.000</td>\n",
       "      <td>0.000</td>\n",
       "      <td>1.000</td>\n",
       "      <td>1.000</td>\n",
       "    </tr>\n",
       "    <tr>\n",
       "      <th>best_category_informatica</th>\n",
       "      <td>1914.000</td>\n",
       "      <td>0.058</td>\n",
       "      <td>0.234</td>\n",
       "      <td>0.000</td>\n",
       "      <td>0.000</td>\n",
       "      <td>0.000</td>\n",
       "      <td>0.000</td>\n",
       "      <td>1.000</td>\n",
       "    </tr>\n",
       "    <tr>\n",
       "      <th>best_category_livros_papelaria</th>\n",
       "      <td>1914.000</td>\n",
       "      <td>0.048</td>\n",
       "      <td>0.214</td>\n",
       "      <td>0.000</td>\n",
       "      <td>0.000</td>\n",
       "      <td>0.000</td>\n",
       "      <td>0.000</td>\n",
       "      <td>1.000</td>\n",
       "    </tr>\n",
       "    <tr>\n",
       "      <th>best_category_ni</th>\n",
       "      <td>1914.000</td>\n",
       "      <td>0.054</td>\n",
       "      <td>0.227</td>\n",
       "      <td>0.000</td>\n",
       "      <td>0.000</td>\n",
       "      <td>0.000</td>\n",
       "      <td>0.000</td>\n",
       "      <td>1.000</td>\n",
       "    </tr>\n",
       "    <tr>\n",
       "      <th>best_category_pet_shop</th>\n",
       "      <td>1914.000</td>\n",
       "      <td>0.021</td>\n",
       "      <td>0.145</td>\n",
       "      <td>0.000</td>\n",
       "      <td>0.000</td>\n",
       "      <td>0.000</td>\n",
       "      <td>0.000</td>\n",
       "      <td>1.000</td>\n",
       "    </tr>\n",
       "    <tr>\n",
       "      <th>best_category_presentes</th>\n",
       "      <td>1914.000</td>\n",
       "      <td>0.111</td>\n",
       "      <td>0.315</td>\n",
       "      <td>0.000</td>\n",
       "      <td>0.000</td>\n",
       "      <td>0.000</td>\n",
       "      <td>0.000</td>\n",
       "      <td>1.000</td>\n",
       "    </tr>\n",
       "    <tr>\n",
       "      <th>best_category_servico</th>\n",
       "      <td>1914.000</td>\n",
       "      <td>0.013</td>\n",
       "      <td>0.114</td>\n",
       "      <td>0.000</td>\n",
       "      <td>0.000</td>\n",
       "      <td>0.000</td>\n",
       "      <td>0.000</td>\n",
       "      <td>1.000</td>\n",
       "    </tr>\n",
       "    <tr>\n",
       "      <th>best_category_telefonia</th>\n",
       "      <td>1914.000</td>\n",
       "      <td>0.024</td>\n",
       "      <td>0.153</td>\n",
       "      <td>0.000</td>\n",
       "      <td>0.000</td>\n",
       "      <td>0.000</td>\n",
       "      <td>0.000</td>\n",
       "      <td>1.000</td>\n",
       "    </tr>\n",
       "  </tbody>\n",
       "</table>\n",
       "</div>"
      ],
      "text/plain": [
       "                                  count     mean      std    min     25%     50%      75%       max\n",
       "qty_customers                  1914.000    9.625   19.400  1.000   2.000   3.500    9.000   264.000\n",
       "days_first_order_item          1914.000  196.457  108.618 31.000 104.000 172.000  296.000   418.000\n",
       "days_last_order_item           1914.000   85.036   43.052 31.000  47.000  75.000  114.750   184.000\n",
       "avg_days_dlv_cust              1914.000   14.187    7.493  1.000   9.750  13.000   16.000    86.000\n",
       "avg_days_dlv_cust_quarter      1914.000    5.002    7.628  0.000   0.000   1.615    7.312    53.000\n",
       "avg_days_approval              1914.000    0.524    0.569  0.000   0.000   0.426    0.750     4.000\n",
       "avg_days_approval_quarter      1914.000    0.180    0.415  0.000   0.000   0.000    0.151     3.000\n",
       "qty_order_item                 1914.000   10.975   21.699  1.000   2.000   4.000   11.000   272.000\n",
       "qty_order_item_month           1914.000    0.012    0.139  0.000   0.000   0.000    0.000     4.000\n",
       "qty_order_item_quarter         1914.000    2.154    5.042  0.000   0.000   1.000    2.000    98.000\n",
       "qty_order_item_semester        1914.000    5.870   11.306  1.000   1.000   3.000    6.000   197.000\n",
       "qty_order_item_year            1914.000   10.740   21.350  1.000   2.000   4.000   10.000   272.000\n",
       "total_revenue                  1914.000 1850.939 3799.231 23.260 206.127 633.960 1782.995 59590.590\n",
       "revenue_month                  1914.000    2.224   29.693  0.000   0.000   0.000    0.000   670.770\n",
       "revenue_quarter                1914.000  406.233 1128.710  0.000   0.000  84.780  364.885 18363.870\n",
       "revenue_semester               1914.000 1022.587 2092.176 18.840 148.743 356.995 1058.290 29590.650\n",
       "revenue_year                   1914.000 1810.804 3736.495 23.260 204.840 626.565 1772.455 59590.590\n",
       "total_outtime_ratio            1914.000    0.184    0.302  0.000   0.000   0.000    0.235     1.000\n",
       "total_not_delivered_ratio      1914.000    0.090    0.233  0.000   0.000   0.000    0.019     1.000\n",
       "total_canceled_ratio           1914.000    0.023    0.116  0.000   0.000   0.000    0.000     1.000\n",
       "total_bank_slip_ratio          1914.000    0.210    0.259  0.000   0.000   0.138    0.333     1.000\n",
       "total_cc_ratio                 1914.000    0.769    0.268  0.000   0.652   0.833    1.000     1.000\n",
       "total_samestate_ratio          1914.000    0.284    0.316  0.000   0.000   0.200    0.500     1.000\n",
       "distinct_product               1914.000    4.701    6.434  1.000   1.000   2.000    5.000    69.000\n",
       "distinct_category              1914.000    1.526    1.298  0.000   1.000   1.000    2.000    12.000\n",
       "qty_review_low_4               1914.000    0.007    0.082  0.000   0.000   0.000    0.000     1.000\n",
       "revenue_category_semester      1914.000  858.559 1821.937  0.000 117.180 319.480  892.030 29345.650\n",
       "target                         1914.000    0.644    0.479  0.000   0.000   1.000    1.000     1.000\n",
       "seller_region_N                1914.000    0.002    0.040  0.000   0.000   0.000    0.000     1.000\n",
       "seller_region_Ne               1914.000    0.020    0.140  0.000   0.000   0.000    0.000     1.000\n",
       "seller_region_S                1914.000    0.235    0.424  0.000   0.000   0.000    0.000     1.000\n",
       "seller_region_SP               1914.000    0.574    0.495  0.000   0.000   1.000    1.000     1.000\n",
       "seller_region_Se               1914.000    0.150    0.357  0.000   0.000   0.000    0.000     1.000\n",
       "best_category_automotivo       1914.000    0.066    0.248  0.000   0.000   0.000    0.000     1.000\n",
       "best_category_bebes            1914.000    0.017    0.130  0.000   0.000   0.000    0.000     1.000\n",
       "best_category_beleza_saude     1914.000    0.098    0.298  0.000   0.000   0.000    0.000     1.000\n",
       "best_category_eletro           1914.000    0.042    0.200  0.000   0.000   0.000    0.000     1.000\n",
       "best_category_escritorio       1914.000    0.007    0.082  0.000   0.000   0.000    0.000     1.000\n",
       "best_category_esporte_lazer    1914.000    0.101    0.302  0.000   0.000   0.000    0.000     1.000\n",
       "best_category_fashion          1914.000    0.050    0.218  0.000   0.000   0.000    0.000     1.000\n",
       "best_category_home             1914.000    0.277    0.448  0.000   0.000   0.000    1.000     1.000\n",
       "best_category_informatica      1914.000    0.058    0.234  0.000   0.000   0.000    0.000     1.000\n",
       "best_category_livros_papelaria 1914.000    0.048    0.214  0.000   0.000   0.000    0.000     1.000\n",
       "best_category_ni               1914.000    0.054    0.227  0.000   0.000   0.000    0.000     1.000\n",
       "best_category_pet_shop         1914.000    0.021    0.145  0.000   0.000   0.000    0.000     1.000\n",
       "best_category_presentes        1914.000    0.111    0.315  0.000   0.000   0.000    0.000     1.000\n",
       "best_category_servico          1914.000    0.013    0.114  0.000   0.000   0.000    0.000     1.000\n",
       "best_category_telefonia        1914.000    0.024    0.153  0.000   0.000   0.000    0.000     1.000"
      ]
     },
     "execution_count": 18,
     "metadata": {},
     "output_type": "execute_result"
    }
   ],
   "source": [
    "dados_selecionados.describe().transpose()"
   ]
  },
  {
   "cell_type": "markdown",
   "metadata": {},
   "source": [
    "# Determinar melhores variaveis para todos os modelos"
   ]
  },
  {
   "cell_type": "code",
   "execution_count": 19,
   "metadata": {},
   "outputs": [],
   "source": [
    "from sklearn.feature_selection import SelectKBest\n",
    "from sklearn.feature_selection import chi2\n",
    "from sklearn.preprocessing import StandardScaler"
   ]
  },
  {
   "cell_type": "code",
   "execution_count": 20,
   "metadata": {},
   "outputs": [],
   "source": [
    "expl = dados_selecionados.drop(columns=['target'])\n",
    "target = dados_selecionados.target"
   ]
  },
  {
   "cell_type": "code",
   "execution_count": 21,
   "metadata": {},
   "outputs": [],
   "source": [
    "# Normalizar\n",
    "expl_norm = StandardScaler().fit_transform(expl)"
   ]
  },
  {
   "cell_type": "code",
   "execution_count": 22,
   "metadata": {},
   "outputs": [
    {
     "data": {
      "text/plain": [
       "array([[ 8.47528686,  1.22980258, -0.51198602, ..., -0.35386503,\n",
       "        -0.11504136,  6.37249525],\n",
       "       [-0.23848892,  1.19296653, -0.44228396, ..., -0.35386503,\n",
       "        -0.11504136, -0.1569244 ],\n",
       "       [-0.34161053,  0.1799751 ,  1.25379947, ..., -0.35386503,\n",
       "        -0.11504136, -0.1569244 ],\n",
       "       ...,\n",
       "       [-0.34161053, -0.29889358, -0.97666641, ..., -0.35386503,\n",
       "        -0.11504136, -0.1569244 ],\n",
       "       [-0.44473213, -1.45922922, -1.09283651, ..., -0.35386503,\n",
       "        -0.11504136, -0.1569244 ],\n",
       "       [-0.34161053,  0.80618799, -0.3725819 , ...,  2.82593622,\n",
       "        -0.11504136, -0.1569244 ]])"
      ]
     },
     "execution_count": 22,
     "metadata": {},
     "output_type": "execute_result"
    }
   ],
   "source": [
    "expl_norm"
   ]
  },
  {
   "cell_type": "markdown",
   "metadata": {},
   "source": [
    "### baseado em filtro"
   ]
  },
  {
   "cell_type": "code",
   "execution_count": 23,
   "metadata": {},
   "outputs": [
    {
     "data": {
      "text/plain": [
       "SelectKBest(k=25, score_func=<function chi2 at 0x0000024A7CA94318>)"
      ]
     },
     "execution_count": 23,
     "metadata": {},
     "output_type": "execute_result"
    }
   ],
   "source": [
    "chi_selector = SelectKBest(chi2,k=25)\n",
    "chi_selector.fit(expl,target)"
   ]
  },
  {
   "cell_type": "code",
   "execution_count": 24,
   "metadata": {},
   "outputs": [],
   "source": [
    "chi_support = chi_selector.get_support()\n",
    "chi_feature = expl.loc[:,chi_support].columns.tolist()"
   ]
  },
  {
   "cell_type": "code",
   "execution_count": 25,
   "metadata": {},
   "outputs": [
    {
     "name": "stdout",
     "output_type": "stream",
     "text": [
      "25  é número de variaveis selecionadas\n",
      "['qty_customers', 'days_first_order_item', 'days_last_order_item', 'avg_days_dlv_cust_quarter', 'avg_days_approval_quarter', 'qty_order_item', 'qty_order_item_month', 'qty_order_item_quarter', 'qty_order_item_semester', 'qty_order_item_year', 'total_revenue', 'revenue_month', 'revenue_quarter', 'revenue_semester', 'revenue_year', 'total_outtime_ratio', 'total_not_delivered_ratio', 'total_canceled_ratio', 'distinct_product', 'distinct_category', 'qty_review_low_4', 'revenue_category_semester', 'best_category_bebes', 'best_category_livros_papelaria', 'best_category_ni']\n"
     ]
    }
   ],
   "source": [
    "print(len(chi_feature), ' é número de variaveis selecionadas')\n",
    "print(chi_feature)"
   ]
  },
  {
   "cell_type": "markdown",
   "metadata": {},
   "source": [
    "### wraper"
   ]
  },
  {
   "cell_type": "code",
   "execution_count": 26,
   "metadata": {},
   "outputs": [],
   "source": [
    "from sklearn.feature_selection import RFE\n",
    "from sklearn.linear_model import LogisticRegression"
   ]
  },
  {
   "cell_type": "code",
   "execution_count": 27,
   "metadata": {},
   "outputs": [],
   "source": [
    "rfe_selector = RFE(estimator=LogisticRegression( C=1.0, class_weight=None, dual=False,\n",
    "                                                 fit_intercept=True, intercept_scaling=1,\n",
    "                                                 l1_ratio=None, max_iter=1000,\n",
    "                                                 multi_class='auto', n_jobs=None, penalty='l2',\n",
    "                                                 random_state=42, solver='lbfgs', tol=0.0001,\n",
    "                                                 verbose=0, warm_start=False),\n",
    "                  step=100,           \n",
    "                  n_features_to_select=25)\n",
    "rfe_selector.fit(expl,target)\n",
    "rfe_support = rfe_selector.get_support()\n",
    "rfe_feature = expl.loc[:,rfe_support].columns.tolist()"
   ]
  },
  {
   "cell_type": "code",
   "execution_count": 28,
   "metadata": {},
   "outputs": [
    {
     "name": "stdout",
     "output_type": "stream",
     "text": [
      "25  é número de variaveis selecionadas\n",
      "['qty_customers', 'days_last_order_item', 'avg_days_dlv_cust_quarter', 'qty_order_item', 'qty_order_item_quarter', 'qty_order_item_semester', 'qty_order_item_year', 'total_outtime_ratio', 'total_not_delivered_ratio', 'total_canceled_ratio', 'total_bank_slip_ratio', 'total_cc_ratio', 'total_samestate_ratio', 'distinct_category', 'qty_review_low_4', 'seller_region_S', 'seller_region_SP', 'best_category_bebes', 'best_category_beleza_saude', 'best_category_fashion', 'best_category_home', 'best_category_livros_papelaria', 'best_category_ni', 'best_category_presentes', 'best_category_telefonia']\n"
     ]
    }
   ],
   "source": [
    "print(len(rfe_feature), ' é número de variaveis selecionadas')\n",
    "print(rfe_feature)"
   ]
  },
  {
   "cell_type": "code",
   "execution_count": 29,
   "metadata": {},
   "outputs": [],
   "source": [
    "from sklearn.feature_selection import SelectFromModel\n",
    "from sklearn.ensemble import RandomForestClassifier\n",
    "rfe_selector1 = RFE(estimator=RandomForestClassifier(n_estimators=300),\n",
    "                  step=100,           \n",
    "                  n_features_to_select=25)\n",
    "rfe_selector1.fit(expl,target)\n",
    "rfe_support1 = rfe_selector1.get_support()\n",
    "rfe_feature1 = expl.loc[:,rfe_support1].columns.tolist()"
   ]
  },
  {
   "cell_type": "code",
   "execution_count": 30,
   "metadata": {},
   "outputs": [
    {
     "name": "stdout",
     "output_type": "stream",
     "text": [
      "25  é número de variaveis selecionadas\n",
      "['qty_customers', 'days_first_order_item', 'days_last_order_item', 'avg_days_dlv_cust', 'avg_days_dlv_cust_quarter', 'avg_days_approval', 'avg_days_approval_quarter', 'qty_order_item', 'qty_order_item_quarter', 'qty_order_item_semester', 'qty_order_item_year', 'total_revenue', 'revenue_quarter', 'revenue_semester', 'revenue_year', 'total_outtime_ratio', 'total_not_delivered_ratio', 'total_bank_slip_ratio', 'total_cc_ratio', 'total_samestate_ratio', 'distinct_product', 'distinct_category', 'revenue_category_semester', 'best_category_home', 'best_category_livros_papelaria']\n"
     ]
    }
   ],
   "source": [
    "print(len(rfe_feature1), ' é número de variaveis selecionadas')\n",
    "print(rfe_feature1)"
   ]
  },
  {
   "cell_type": "markdown",
   "metadata": {},
   "source": [
    "### Embarcada"
   ]
  },
  {
   "cell_type": "code",
   "execution_count": 31,
   "metadata": {},
   "outputs": [],
   "source": [
    "from sklearn.feature_selection import SelectFromModel\n",
    "from sklearn.ensemble import RandomForestClassifier"
   ]
  },
  {
   "cell_type": "code",
   "execution_count": 32,
   "metadata": {},
   "outputs": [],
   "source": [
    "rf_selector = SelectFromModel(estimator=RandomForestClassifier(n_estimators=300),\n",
    "                              max_features=25)\n",
    "rf_selector.fit(expl,target)\n",
    "rf_support = rf_selector.get_support()\n",
    "rf_feature = expl.loc[:,rf_support].columns.tolist()"
   ]
  },
  {
   "cell_type": "code",
   "execution_count": 33,
   "metadata": {},
   "outputs": [
    {
     "name": "stdout",
     "output_type": "stream",
     "text": [
      "22  é número de variaveis selecionadas\n",
      "['qty_customers', 'days_first_order_item', 'days_last_order_item', 'avg_days_dlv_cust', 'avg_days_dlv_cust_quarter', 'avg_days_approval', 'avg_days_approval_quarter', 'qty_order_item', 'qty_order_item_quarter', 'qty_order_item_semester', 'qty_order_item_year', 'total_revenue', 'revenue_quarter', 'revenue_semester', 'revenue_year', 'total_outtime_ratio', 'total_not_delivered_ratio', 'total_bank_slip_ratio', 'total_cc_ratio', 'total_samestate_ratio', 'distinct_product', 'revenue_category_semester']\n"
     ]
    }
   ],
   "source": [
    "print(len(rf_feature), ' é número de variaveis selecionadas')\n",
    "print(rf_feature)"
   ]
  },
  {
   "cell_type": "code",
   "execution_count": 34,
   "metadata": {},
   "outputs": [],
   "source": [
    "from sklearn.ensemble import GradientBoostingClassifier\n",
    "rf_selector1 = SelectFromModel(estimator=GradientBoostingClassifier(random_state=42),\n",
    "                              max_features=25)\n",
    "rf_selector1.fit(expl,target)\n",
    "rf_support1 = rf_selector1.get_support()\n",
    "rf_feature1 = expl.loc[:,rf_support1].columns.tolist()"
   ]
  },
  {
   "cell_type": "code",
   "execution_count": 35,
   "metadata": {},
   "outputs": [
    {
     "name": "stdout",
     "output_type": "stream",
     "text": [
      "9  é número de variaveis selecionadas\n",
      "['days_first_order_item', 'days_last_order_item', 'avg_days_dlv_cust', 'avg_days_dlv_cust_quarter', 'qty_order_item', 'total_revenue', 'revenue_quarter', 'total_not_delivered_ratio', 'revenue_category_semester']\n"
     ]
    }
   ],
   "source": [
    "print(len(rf_feature1), ' é número de variaveis selecionadas')\n",
    "print(rf_feature1)"
   ]
  },
  {
   "cell_type": "code",
   "execution_count": 36,
   "metadata": {},
   "outputs": [
    {
     "data": {
      "text/html": [
       "<div>\n",
       "<style scoped>\n",
       "    .dataframe tbody tr th:only-of-type {\n",
       "        vertical-align: middle;\n",
       "    }\n",
       "\n",
       "    .dataframe tbody tr th {\n",
       "        vertical-align: top;\n",
       "    }\n",
       "\n",
       "    .dataframe thead th {\n",
       "        text-align: right;\n",
       "    }\n",
       "</style>\n",
       "<table border=\"1\" class=\"dataframe\">\n",
       "  <thead>\n",
       "    <tr style=\"text-align: right;\">\n",
       "      <th></th>\n",
       "      <th>Variaveis</th>\n",
       "      <th>Chi-2</th>\n",
       "      <th>RFE</th>\n",
       "      <th>RFE1</th>\n",
       "      <th>RF</th>\n",
       "      <th>RF1</th>\n",
       "      <th>Total</th>\n",
       "    </tr>\n",
       "  </thead>\n",
       "  <tbody>\n",
       "    <tr>\n",
       "      <th>1</th>\n",
       "      <td>total_not_delivered_ratio</td>\n",
       "      <td>True</td>\n",
       "      <td>True</td>\n",
       "      <td>True</td>\n",
       "      <td>True</td>\n",
       "      <td>True</td>\n",
       "      <td>5</td>\n",
       "    </tr>\n",
       "    <tr>\n",
       "      <th>2</th>\n",
       "      <td>qty_order_item</td>\n",
       "      <td>True</td>\n",
       "      <td>True</td>\n",
       "      <td>True</td>\n",
       "      <td>True</td>\n",
       "      <td>True</td>\n",
       "      <td>5</td>\n",
       "    </tr>\n",
       "    <tr>\n",
       "      <th>3</th>\n",
       "      <td>days_last_order_item</td>\n",
       "      <td>True</td>\n",
       "      <td>True</td>\n",
       "      <td>True</td>\n",
       "      <td>True</td>\n",
       "      <td>True</td>\n",
       "      <td>5</td>\n",
       "    </tr>\n",
       "    <tr>\n",
       "      <th>4</th>\n",
       "      <td>avg_days_dlv_cust_quarter</td>\n",
       "      <td>True</td>\n",
       "      <td>True</td>\n",
       "      <td>True</td>\n",
       "      <td>True</td>\n",
       "      <td>True</td>\n",
       "      <td>5</td>\n",
       "    </tr>\n",
       "    <tr>\n",
       "      <th>5</th>\n",
       "      <td>total_revenue</td>\n",
       "      <td>True</td>\n",
       "      <td>False</td>\n",
       "      <td>True</td>\n",
       "      <td>True</td>\n",
       "      <td>True</td>\n",
       "      <td>4</td>\n",
       "    </tr>\n",
       "    <tr>\n",
       "      <th>6</th>\n",
       "      <td>total_outtime_ratio</td>\n",
       "      <td>True</td>\n",
       "      <td>True</td>\n",
       "      <td>True</td>\n",
       "      <td>True</td>\n",
       "      <td>False</td>\n",
       "      <td>4</td>\n",
       "    </tr>\n",
       "    <tr>\n",
       "      <th>7</th>\n",
       "      <td>revenue_quarter</td>\n",
       "      <td>True</td>\n",
       "      <td>False</td>\n",
       "      <td>True</td>\n",
       "      <td>True</td>\n",
       "      <td>True</td>\n",
       "      <td>4</td>\n",
       "    </tr>\n",
       "    <tr>\n",
       "      <th>8</th>\n",
       "      <td>revenue_category_semester</td>\n",
       "      <td>True</td>\n",
       "      <td>False</td>\n",
       "      <td>True</td>\n",
       "      <td>True</td>\n",
       "      <td>True</td>\n",
       "      <td>4</td>\n",
       "    </tr>\n",
       "    <tr>\n",
       "      <th>9</th>\n",
       "      <td>qty_order_item_year</td>\n",
       "      <td>True</td>\n",
       "      <td>True</td>\n",
       "      <td>True</td>\n",
       "      <td>True</td>\n",
       "      <td>False</td>\n",
       "      <td>4</td>\n",
       "    </tr>\n",
       "    <tr>\n",
       "      <th>10</th>\n",
       "      <td>qty_order_item_semester</td>\n",
       "      <td>True</td>\n",
       "      <td>True</td>\n",
       "      <td>True</td>\n",
       "      <td>True</td>\n",
       "      <td>False</td>\n",
       "      <td>4</td>\n",
       "    </tr>\n",
       "    <tr>\n",
       "      <th>11</th>\n",
       "      <td>qty_order_item_quarter</td>\n",
       "      <td>True</td>\n",
       "      <td>True</td>\n",
       "      <td>True</td>\n",
       "      <td>True</td>\n",
       "      <td>False</td>\n",
       "      <td>4</td>\n",
       "    </tr>\n",
       "    <tr>\n",
       "      <th>12</th>\n",
       "      <td>qty_customers</td>\n",
       "      <td>True</td>\n",
       "      <td>True</td>\n",
       "      <td>True</td>\n",
       "      <td>True</td>\n",
       "      <td>False</td>\n",
       "      <td>4</td>\n",
       "    </tr>\n",
       "    <tr>\n",
       "      <th>13</th>\n",
       "      <td>days_first_order_item</td>\n",
       "      <td>True</td>\n",
       "      <td>False</td>\n",
       "      <td>True</td>\n",
       "      <td>True</td>\n",
       "      <td>True</td>\n",
       "      <td>4</td>\n",
       "    </tr>\n",
       "    <tr>\n",
       "      <th>14</th>\n",
       "      <td>total_samestate_ratio</td>\n",
       "      <td>False</td>\n",
       "      <td>True</td>\n",
       "      <td>True</td>\n",
       "      <td>True</td>\n",
       "      <td>False</td>\n",
       "      <td>3</td>\n",
       "    </tr>\n",
       "    <tr>\n",
       "      <th>15</th>\n",
       "      <td>total_cc_ratio</td>\n",
       "      <td>False</td>\n",
       "      <td>True</td>\n",
       "      <td>True</td>\n",
       "      <td>True</td>\n",
       "      <td>False</td>\n",
       "      <td>3</td>\n",
       "    </tr>\n",
       "    <tr>\n",
       "      <th>16</th>\n",
       "      <td>total_bank_slip_ratio</td>\n",
       "      <td>False</td>\n",
       "      <td>True</td>\n",
       "      <td>True</td>\n",
       "      <td>True</td>\n",
       "      <td>False</td>\n",
       "      <td>3</td>\n",
       "    </tr>\n",
       "    <tr>\n",
       "      <th>17</th>\n",
       "      <td>revenue_year</td>\n",
       "      <td>True</td>\n",
       "      <td>False</td>\n",
       "      <td>True</td>\n",
       "      <td>True</td>\n",
       "      <td>False</td>\n",
       "      <td>3</td>\n",
       "    </tr>\n",
       "    <tr>\n",
       "      <th>18</th>\n",
       "      <td>revenue_semester</td>\n",
       "      <td>True</td>\n",
       "      <td>False</td>\n",
       "      <td>True</td>\n",
       "      <td>True</td>\n",
       "      <td>False</td>\n",
       "      <td>3</td>\n",
       "    </tr>\n",
       "    <tr>\n",
       "      <th>19</th>\n",
       "      <td>distinct_product</td>\n",
       "      <td>True</td>\n",
       "      <td>False</td>\n",
       "      <td>True</td>\n",
       "      <td>True</td>\n",
       "      <td>False</td>\n",
       "      <td>3</td>\n",
       "    </tr>\n",
       "    <tr>\n",
       "      <th>20</th>\n",
       "      <td>distinct_category</td>\n",
       "      <td>True</td>\n",
       "      <td>True</td>\n",
       "      <td>True</td>\n",
       "      <td>False</td>\n",
       "      <td>False</td>\n",
       "      <td>3</td>\n",
       "    </tr>\n",
       "    <tr>\n",
       "      <th>21</th>\n",
       "      <td>best_category_livros_papelaria</td>\n",
       "      <td>True</td>\n",
       "      <td>True</td>\n",
       "      <td>True</td>\n",
       "      <td>False</td>\n",
       "      <td>False</td>\n",
       "      <td>3</td>\n",
       "    </tr>\n",
       "    <tr>\n",
       "      <th>22</th>\n",
       "      <td>avg_days_dlv_cust</td>\n",
       "      <td>False</td>\n",
       "      <td>False</td>\n",
       "      <td>True</td>\n",
       "      <td>True</td>\n",
       "      <td>True</td>\n",
       "      <td>3</td>\n",
       "    </tr>\n",
       "    <tr>\n",
       "      <th>23</th>\n",
       "      <td>avg_days_approval_quarter</td>\n",
       "      <td>True</td>\n",
       "      <td>False</td>\n",
       "      <td>True</td>\n",
       "      <td>True</td>\n",
       "      <td>False</td>\n",
       "      <td>3</td>\n",
       "    </tr>\n",
       "    <tr>\n",
       "      <th>24</th>\n",
       "      <td>total_canceled_ratio</td>\n",
       "      <td>True</td>\n",
       "      <td>True</td>\n",
       "      <td>False</td>\n",
       "      <td>False</td>\n",
       "      <td>False</td>\n",
       "      <td>2</td>\n",
       "    </tr>\n",
       "    <tr>\n",
       "      <th>25</th>\n",
       "      <td>qty_review_low_4</td>\n",
       "      <td>True</td>\n",
       "      <td>True</td>\n",
       "      <td>False</td>\n",
       "      <td>False</td>\n",
       "      <td>False</td>\n",
       "      <td>2</td>\n",
       "    </tr>\n",
       "    <tr>\n",
       "      <th>26</th>\n",
       "      <td>best_category_ni</td>\n",
       "      <td>True</td>\n",
       "      <td>True</td>\n",
       "      <td>False</td>\n",
       "      <td>False</td>\n",
       "      <td>False</td>\n",
       "      <td>2</td>\n",
       "    </tr>\n",
       "    <tr>\n",
       "      <th>27</th>\n",
       "      <td>best_category_home</td>\n",
       "      <td>False</td>\n",
       "      <td>True</td>\n",
       "      <td>True</td>\n",
       "      <td>False</td>\n",
       "      <td>False</td>\n",
       "      <td>2</td>\n",
       "    </tr>\n",
       "    <tr>\n",
       "      <th>28</th>\n",
       "      <td>best_category_bebes</td>\n",
       "      <td>True</td>\n",
       "      <td>True</td>\n",
       "      <td>False</td>\n",
       "      <td>False</td>\n",
       "      <td>False</td>\n",
       "      <td>2</td>\n",
       "    </tr>\n",
       "    <tr>\n",
       "      <th>29</th>\n",
       "      <td>avg_days_approval</td>\n",
       "      <td>False</td>\n",
       "      <td>False</td>\n",
       "      <td>True</td>\n",
       "      <td>True</td>\n",
       "      <td>False</td>\n",
       "      <td>2</td>\n",
       "    </tr>\n",
       "    <tr>\n",
       "      <th>30</th>\n",
       "      <td>seller_region_SP</td>\n",
       "      <td>False</td>\n",
       "      <td>True</td>\n",
       "      <td>False</td>\n",
       "      <td>False</td>\n",
       "      <td>False</td>\n",
       "      <td>1</td>\n",
       "    </tr>\n",
       "    <tr>\n",
       "      <th>31</th>\n",
       "      <td>seller_region_S</td>\n",
       "      <td>False</td>\n",
       "      <td>True</td>\n",
       "      <td>False</td>\n",
       "      <td>False</td>\n",
       "      <td>False</td>\n",
       "      <td>1</td>\n",
       "    </tr>\n",
       "    <tr>\n",
       "      <th>32</th>\n",
       "      <td>revenue_month</td>\n",
       "      <td>True</td>\n",
       "      <td>False</td>\n",
       "      <td>False</td>\n",
       "      <td>False</td>\n",
       "      <td>False</td>\n",
       "      <td>1</td>\n",
       "    </tr>\n",
       "    <tr>\n",
       "      <th>33</th>\n",
       "      <td>qty_order_item_month</td>\n",
       "      <td>True</td>\n",
       "      <td>False</td>\n",
       "      <td>False</td>\n",
       "      <td>False</td>\n",
       "      <td>False</td>\n",
       "      <td>1</td>\n",
       "    </tr>\n",
       "    <tr>\n",
       "      <th>34</th>\n",
       "      <td>best_category_telefonia</td>\n",
       "      <td>False</td>\n",
       "      <td>True</td>\n",
       "      <td>False</td>\n",
       "      <td>False</td>\n",
       "      <td>False</td>\n",
       "      <td>1</td>\n",
       "    </tr>\n",
       "    <tr>\n",
       "      <th>35</th>\n",
       "      <td>best_category_presentes</td>\n",
       "      <td>False</td>\n",
       "      <td>True</td>\n",
       "      <td>False</td>\n",
       "      <td>False</td>\n",
       "      <td>False</td>\n",
       "      <td>1</td>\n",
       "    </tr>\n",
       "    <tr>\n",
       "      <th>36</th>\n",
       "      <td>best_category_fashion</td>\n",
       "      <td>False</td>\n",
       "      <td>True</td>\n",
       "      <td>False</td>\n",
       "      <td>False</td>\n",
       "      <td>False</td>\n",
       "      <td>1</td>\n",
       "    </tr>\n",
       "    <tr>\n",
       "      <th>37</th>\n",
       "      <td>best_category_beleza_saude</td>\n",
       "      <td>False</td>\n",
       "      <td>True</td>\n",
       "      <td>False</td>\n",
       "      <td>False</td>\n",
       "      <td>False</td>\n",
       "      <td>1</td>\n",
       "    </tr>\n",
       "    <tr>\n",
       "      <th>38</th>\n",
       "      <td>seller_region_Se</td>\n",
       "      <td>False</td>\n",
       "      <td>False</td>\n",
       "      <td>False</td>\n",
       "      <td>False</td>\n",
       "      <td>False</td>\n",
       "      <td>0</td>\n",
       "    </tr>\n",
       "    <tr>\n",
       "      <th>39</th>\n",
       "      <td>seller_region_Ne</td>\n",
       "      <td>False</td>\n",
       "      <td>False</td>\n",
       "      <td>False</td>\n",
       "      <td>False</td>\n",
       "      <td>False</td>\n",
       "      <td>0</td>\n",
       "    </tr>\n",
       "    <tr>\n",
       "      <th>40</th>\n",
       "      <td>seller_region_N</td>\n",
       "      <td>False</td>\n",
       "      <td>False</td>\n",
       "      <td>False</td>\n",
       "      <td>False</td>\n",
       "      <td>False</td>\n",
       "      <td>0</td>\n",
       "    </tr>\n",
       "    <tr>\n",
       "      <th>41</th>\n",
       "      <td>best_category_servico</td>\n",
       "      <td>False</td>\n",
       "      <td>False</td>\n",
       "      <td>False</td>\n",
       "      <td>False</td>\n",
       "      <td>False</td>\n",
       "      <td>0</td>\n",
       "    </tr>\n",
       "    <tr>\n",
       "      <th>42</th>\n",
       "      <td>best_category_pet_shop</td>\n",
       "      <td>False</td>\n",
       "      <td>False</td>\n",
       "      <td>False</td>\n",
       "      <td>False</td>\n",
       "      <td>False</td>\n",
       "      <td>0</td>\n",
       "    </tr>\n",
       "    <tr>\n",
       "      <th>43</th>\n",
       "      <td>best_category_informatica</td>\n",
       "      <td>False</td>\n",
       "      <td>False</td>\n",
       "      <td>False</td>\n",
       "      <td>False</td>\n",
       "      <td>False</td>\n",
       "      <td>0</td>\n",
       "    </tr>\n",
       "    <tr>\n",
       "      <th>44</th>\n",
       "      <td>best_category_esporte_lazer</td>\n",
       "      <td>False</td>\n",
       "      <td>False</td>\n",
       "      <td>False</td>\n",
       "      <td>False</td>\n",
       "      <td>False</td>\n",
       "      <td>0</td>\n",
       "    </tr>\n",
       "    <tr>\n",
       "      <th>45</th>\n",
       "      <td>best_category_escritorio</td>\n",
       "      <td>False</td>\n",
       "      <td>False</td>\n",
       "      <td>False</td>\n",
       "      <td>False</td>\n",
       "      <td>False</td>\n",
       "      <td>0</td>\n",
       "    </tr>\n",
       "    <tr>\n",
       "      <th>46</th>\n",
       "      <td>best_category_eletro</td>\n",
       "      <td>False</td>\n",
       "      <td>False</td>\n",
       "      <td>False</td>\n",
       "      <td>False</td>\n",
       "      <td>False</td>\n",
       "      <td>0</td>\n",
       "    </tr>\n",
       "    <tr>\n",
       "      <th>47</th>\n",
       "      <td>best_category_automotivo</td>\n",
       "      <td>False</td>\n",
       "      <td>False</td>\n",
       "      <td>False</td>\n",
       "      <td>False</td>\n",
       "      <td>False</td>\n",
       "      <td>0</td>\n",
       "    </tr>\n",
       "  </tbody>\n",
       "</table>\n",
       "</div>"
      ],
      "text/plain": [
       "                         Variaveis  Chi-2    RFE   RFE1     RF    RF1  Total\n",
       "1        total_not_delivered_ratio   True   True   True   True   True      5\n",
       "2                   qty_order_item   True   True   True   True   True      5\n",
       "3             days_last_order_item   True   True   True   True   True      5\n",
       "4        avg_days_dlv_cust_quarter   True   True   True   True   True      5\n",
       "5                    total_revenue   True  False   True   True   True      4\n",
       "6              total_outtime_ratio   True   True   True   True  False      4\n",
       "7                  revenue_quarter   True  False   True   True   True      4\n",
       "8        revenue_category_semester   True  False   True   True   True      4\n",
       "9              qty_order_item_year   True   True   True   True  False      4\n",
       "10         qty_order_item_semester   True   True   True   True  False      4\n",
       "11          qty_order_item_quarter   True   True   True   True  False      4\n",
       "12                   qty_customers   True   True   True   True  False      4\n",
       "13           days_first_order_item   True  False   True   True   True      4\n",
       "14           total_samestate_ratio  False   True   True   True  False      3\n",
       "15                  total_cc_ratio  False   True   True   True  False      3\n",
       "16           total_bank_slip_ratio  False   True   True   True  False      3\n",
       "17                    revenue_year   True  False   True   True  False      3\n",
       "18                revenue_semester   True  False   True   True  False      3\n",
       "19                distinct_product   True  False   True   True  False      3\n",
       "20               distinct_category   True   True   True  False  False      3\n",
       "21  best_category_livros_papelaria   True   True   True  False  False      3\n",
       "22               avg_days_dlv_cust  False  False   True   True   True      3\n",
       "23       avg_days_approval_quarter   True  False   True   True  False      3\n",
       "24            total_canceled_ratio   True   True  False  False  False      2\n",
       "25                qty_review_low_4   True   True  False  False  False      2\n",
       "26                best_category_ni   True   True  False  False  False      2\n",
       "27              best_category_home  False   True   True  False  False      2\n",
       "28             best_category_bebes   True   True  False  False  False      2\n",
       "29               avg_days_approval  False  False   True   True  False      2\n",
       "30                seller_region_SP  False   True  False  False  False      1\n",
       "31                 seller_region_S  False   True  False  False  False      1\n",
       "32                   revenue_month   True  False  False  False  False      1\n",
       "33            qty_order_item_month   True  False  False  False  False      1\n",
       "34         best_category_telefonia  False   True  False  False  False      1\n",
       "35         best_category_presentes  False   True  False  False  False      1\n",
       "36           best_category_fashion  False   True  False  False  False      1\n",
       "37      best_category_beleza_saude  False   True  False  False  False      1\n",
       "38                seller_region_Se  False  False  False  False  False      0\n",
       "39                seller_region_Ne  False  False  False  False  False      0\n",
       "40                 seller_region_N  False  False  False  False  False      0\n",
       "41           best_category_servico  False  False  False  False  False      0\n",
       "42          best_category_pet_shop  False  False  False  False  False      0\n",
       "43       best_category_informatica  False  False  False  False  False      0\n",
       "44     best_category_esporte_lazer  False  False  False  False  False      0\n",
       "45        best_category_escritorio  False  False  False  False  False      0\n",
       "46            best_category_eletro  False  False  False  False  False      0\n",
       "47        best_category_automotivo  False  False  False  False  False      0"
      ]
     },
     "execution_count": 36,
     "metadata": {},
     "output_type": "execute_result"
    }
   ],
   "source": [
    "#comparando \n",
    "feature_selection_df = pd.DataFrame({'Variaveis': expl.columns,\n",
    "                                    'Chi-2':chi_support,\n",
    "                                    'RFE': rfe_support,\n",
    "                                     'RFE1':rfe_support1,\n",
    "                                    'RF':rf_support,\n",
    "                                    'RF1':rf_support1})\n",
    "\n",
    "#count\n",
    "feature_selection_df['Total'] = np.sum(feature_selection_df,axis=1)\n",
    "\n",
    "#print\n",
    "feature_selection_df = feature_selection_df.sort_values(['Total','Variaveis'],\n",
    "                                                        ascending=False)\n",
    "feature_selection_df.index = range(1, len(feature_selection_df)+1)\n",
    "feature_selection_df"
   ]
  },
  {
   "cell_type": "code",
   "execution_count": 37,
   "metadata": {},
   "outputs": [
    {
     "data": {
      "text/plain": [
       "1          total_not_delivered_ratio\n",
       "2                     qty_order_item\n",
       "3               days_last_order_item\n",
       "4          avg_days_dlv_cust_quarter\n",
       "5                      total_revenue\n",
       "6                total_outtime_ratio\n",
       "7                    revenue_quarter\n",
       "8          revenue_category_semester\n",
       "9                qty_order_item_year\n",
       "10           qty_order_item_semester\n",
       "11            qty_order_item_quarter\n",
       "12                     qty_customers\n",
       "13             days_first_order_item\n",
       "14             total_samestate_ratio\n",
       "15                    total_cc_ratio\n",
       "16             total_bank_slip_ratio\n",
       "17                      revenue_year\n",
       "18                  revenue_semester\n",
       "19                  distinct_product\n",
       "20                 distinct_category\n",
       "21    best_category_livros_papelaria\n",
       "22                 avg_days_dlv_cust\n",
       "23         avg_days_approval_quarter\n",
       "24              total_canceled_ratio\n",
       "25                  qty_review_low_4\n",
       "26                  best_category_ni\n",
       "27                best_category_home\n",
       "28               best_category_bebes\n",
       "29                 avg_days_approval\n",
       "30                  seller_region_SP\n",
       "31                   seller_region_S\n",
       "32                     revenue_month\n",
       "33              qty_order_item_month\n",
       "34           best_category_telefonia\n",
       "35           best_category_presentes\n",
       "36             best_category_fashion\n",
       "37        best_category_beleza_saude\n",
       "Name: Variaveis, dtype: object"
      ]
     },
     "execution_count": 37,
     "metadata": {},
     "output_type": "execute_result"
    }
   ],
   "source": [
    "feature_selection_df[feature_selection_df.Total.isin([5,4,3,2,1])].Variaveis"
   ]
  },
  {
   "cell_type": "code",
   "execution_count": 39,
   "metadata": {},
   "outputs": [],
   "source": [
    "explicativas = dados_selecionados[['total_samestate_ratio',\n",
    "                                    'distinct_product',\n",
    "                                    'days_last_order_item',\n",
    "                                    'total_revenue',\n",
    "                                    'total_not_delivered_ratio',\n",
    "                                    'revenue_year',\n",
    "                                    'revenue_semester',\n",
    "                                    'revenue_quarter',\n",
    "                                    'revenue_category_semester',\n",
    "                                    'qty_order_item_year',\n",
    "                                    'qty_order_item_semester',\n",
    "                                    'qty_order_item_quarter',\n",
    "                                    'qty_order_item',\n",
    "                                    'days_first_order_item',\n",
    "                                    'avg_days_dlv_cust_quarter',\n",
    "                                    'total_outtime_ratio',\n",
    "                                    'total_cc_ratio',\n",
    "                                    'total_bank_slip_ratio',\n",
    "                                    'qty_customers',\n",
    "                                    'distinct_category',\n",
    "                                    'avg_days_dlv_cust',\n",
    "                                    'avg_days_approval_quarter',\n",
    "                                    'avg_days_approval',\n",
    "                                    'total_canceled_ratio',\n",
    "                                    'seller_region_SP',\n",
    "                                    'seller_region_Ne',\n",
    "                                    'best_category_ni',\n",
    "                                    'best_category_fashion',\n",
    "                                    'best_category_bebes',\n",
    "                                    'seller_region_Se',\n",
    "                                    'seller_region_S',\n",
    "                                    'best_category_presentes',\n",
    "                                    'best_category_livros_papelaria',\n",
    "                                    'best_category_esporte_lazer',\n",
    "                                    'best_category_eletro',\n",
    "                                    'best_category_beleza_saude',\n",
    "                                    'best_category_automotivo'                                   \n",
    "                                  ]]"
   ]
  },
  {
   "cell_type": "markdown",
   "metadata": {},
   "source": [
    "# Treino só com variaveis escolhas"
   ]
  },
  {
   "cell_type": "code",
   "execution_count": 40,
   "metadata": {},
   "outputs": [],
   "source": [
    "from sklearn.model_selection import train_test_split"
   ]
  },
  {
   "cell_type": "code",
   "execution_count": 41,
   "metadata": {},
   "outputs": [],
   "source": [
    "x_treino, x_teste, y_treino, y_teste = train_test_split(explicativas,\n",
    "                                                       target,\n",
    "                                                       test_size=0.25,\n",
    "                                                       random_state = 2)"
   ]
  },
  {
   "cell_type": "markdown",
   "metadata": {},
   "source": [
    "# Regressão Logistica"
   ]
  },
  {
   "cell_type": "code",
   "execution_count": 42,
   "metadata": {},
   "outputs": [],
   "source": [
    "# dicionario\n",
    "lr_grid_dc = {\n",
    "    'tol': [0.0001,0.00001,0.000001],\n",
    "    'C': [1.0,2,3,5],\n",
    "    'random_state' : [42]\n",
    "}"
   ]
  },
  {
   "cell_type": "code",
   "execution_count": 43,
   "metadata": {},
   "outputs": [],
   "source": [
    "lr = LogisticRegression()"
   ]
  },
  {
   "cell_type": "code",
   "execution_count": 44,
   "metadata": {},
   "outputs": [
    {
     "data": {
      "text/plain": [
       "GridSearchCV(cv=5, error_score=nan,\n",
       "             estimator=LogisticRegression(C=1.0, class_weight=None, dual=False,\n",
       "                                          fit_intercept=True,\n",
       "                                          intercept_scaling=1, l1_ratio=None,\n",
       "                                          max_iter=100, multi_class='auto',\n",
       "                                          n_jobs=None, penalty='l2',\n",
       "                                          random_state=None, solver='lbfgs',\n",
       "                                          tol=0.0001, verbose=0,\n",
       "                                          warm_start=False),\n",
       "             iid='deprecated', n_jobs=None,\n",
       "             param_grid={'C': [1.0, 2, 3, 5], 'random_state': [42],\n",
       "                         'tol': [0.0001, 1e-05, 1e-06]},\n",
       "             pre_dispatch='2*n_jobs', refit=True, return_train_score=False,\n",
       "             scoring=None, verbose=0)"
      ]
     },
     "execution_count": 44,
     "metadata": {},
     "output_type": "execute_result"
    }
   ],
   "source": [
    "from sklearn.model_selection import GridSearchCV\n",
    "lr_grid = GridSearchCV(estimator=lr,\n",
    "                      param_grid=lr_grid_dc,\n",
    "                       cv=5)\n",
    "\n",
    "lr_grid.fit(x_treino,y_treino)"
   ]
  },
  {
   "cell_type": "code",
   "execution_count": 45,
   "metadata": {},
   "outputs": [
    {
     "data": {
      "text/plain": [
       "{'C': 3, 'random_state': 42, 'tol': 0.0001}"
      ]
     },
     "execution_count": 45,
     "metadata": {},
     "output_type": "execute_result"
    }
   ],
   "source": [
    "lr_grid.best_params_"
   ]
  },
  {
   "cell_type": "code",
   "execution_count": 46,
   "metadata": {},
   "outputs": [
    {
     "data": {
      "text/plain": [
       "0.7191637630662021"
      ]
     },
     "execution_count": 46,
     "metadata": {},
     "output_type": "execute_result"
    }
   ],
   "source": [
    "lr_grid.best_score_"
   ]
  },
  {
   "cell_type": "code",
   "execution_count": 47,
   "metadata": {},
   "outputs": [
    {
     "name": "stdout",
     "output_type": "stream",
     "text": [
      "C:\\MyGit\\databricks_projetofinal_fia\\notebook\n",
      "C:\\MyGit\\databricks_projetofinal_fia\\model\n",
      "C:\\MyGit\\databricks_projetofinal_fia\\model\\modelo_lr_schurn_gridsearch.pkl\n",
      "C:\\MyGit\\databricks_projetofinal_fia\\notebook\n",
      "C:\\MyGit\\databricks_projetofinal_fia\\model\n",
      "C:\\MyGit\\databricks_projetofinal_fia\\model\\modelo_lr_schurn_gridsearch.pkl\n"
     ]
    }
   ],
   "source": [
    "from sklearn.externals import joblib\n",
    "joblib.dump(lr_grid.best_estimator_,path_base('modelo_lr_schurn_gridsearch.pkl','model'),compress=1)\n",
    "modelo_treinado_lr = open(path_base('modelo_lr_schurn_gridsearch.pkl','model'),'rb')\n",
    "model_lr = joblib.load(modelo_treinado_lr)"
   ]
  },
  {
   "cell_type": "code",
   "execution_count": 48,
   "metadata": {},
   "outputs": [
    {
     "data": {
      "text/plain": [
       "LogisticRegression(C=3, class_weight=None, dual=False, fit_intercept=True,\n",
       "                   intercept_scaling=1, l1_ratio=None, max_iter=100,\n",
       "                   multi_class='auto', n_jobs=None, penalty='l2',\n",
       "                   random_state=42, solver='lbfgs', tol=0.0001, verbose=0,\n",
       "                   warm_start=False)"
      ]
     },
     "execution_count": 48,
     "metadata": {},
     "output_type": "execute_result"
    }
   ],
   "source": [
    "model_lr"
   ]
  },
  {
   "cell_type": "code",
   "execution_count": 49,
   "metadata": {},
   "outputs": [
    {
     "data": {
      "text/plain": [
       "array([1, 1, 1, 0, 1, 1, 0, 1, 1, 0, 1, 1, 1, 1, 1, 1, 0, 1, 1, 1, 1, 1,\n",
       "       1, 0, 0, 1, 1, 0, 1, 1, 1, 0, 1, 0, 1, 1, 1, 0, 1, 0, 1, 1, 0, 1,\n",
       "       1, 1, 1, 1, 0, 1, 0, 1, 1, 1, 1, 1, 1, 1, 1, 0, 1, 1, 1, 1, 1, 1,\n",
       "       1, 0, 0, 1, 0, 1, 1, 1, 1, 1, 1, 0, 1, 0, 1, 0, 1, 1, 0, 0, 1, 0,\n",
       "       1, 0, 1, 1, 0, 1, 0, 0, 1, 1, 0, 1, 1, 1, 1, 1, 1, 1, 1, 0, 0, 1,\n",
       "       1, 1, 1, 1, 1, 1, 1, 1, 1, 1, 1, 1, 1, 1, 1, 0, 1, 0, 1, 1, 1, 1,\n",
       "       0, 1, 1, 1, 1, 0, 1, 0, 1, 1, 1, 1, 1, 0, 1, 1, 1, 1, 1, 1, 1, 0,\n",
       "       1, 1, 1, 0, 1, 1, 1, 1, 1, 1, 1, 0, 1, 0, 1, 1, 1, 1, 1, 1, 1, 1,\n",
       "       1, 0, 0, 1, 1, 1, 1, 0, 1, 1, 1, 1, 1, 1, 0, 1, 1, 1, 1, 1, 1, 0,\n",
       "       0, 1, 0, 1, 0, 1, 1, 1, 0, 1, 1, 1, 1, 1, 1, 1, 1, 1, 1, 0, 0, 0,\n",
       "       1, 0, 1, 0, 1, 1, 1, 1, 1, 1, 0, 1, 0, 1, 1, 0, 1, 1, 1, 1, 1, 1,\n",
       "       1, 1, 1, 1, 0, 1, 1, 1, 1, 1, 1, 0, 0, 1, 0, 1, 1, 1, 1, 1, 1, 1,\n",
       "       1, 1, 1, 0, 1, 0, 1, 1, 0, 1, 1, 1, 1, 0, 0, 1, 0, 0, 1, 1, 1, 1,\n",
       "       0, 1, 0, 1, 1, 1, 0, 1, 1, 0, 0, 1, 1, 1, 1, 1, 1, 1, 1, 1, 1, 1,\n",
       "       1, 1, 1, 1, 1, 1, 0, 1, 1, 1, 0, 1, 1, 1, 1, 1, 1, 1, 0, 0, 1, 0,\n",
       "       1, 1, 1, 1, 0, 1, 0, 0, 0, 1, 0, 1, 1, 1, 1, 1, 0, 1, 1, 1, 0, 1,\n",
       "       1, 0, 1, 1, 1, 1, 0, 1, 1, 1, 0, 1, 1, 1, 0, 0, 1, 1, 0, 1, 1, 1,\n",
       "       1, 1, 0, 1, 1, 1, 1, 1, 1, 1, 1, 1, 1, 1, 1, 1, 1, 0, 1, 1, 0, 0,\n",
       "       1, 1, 0, 1, 1, 1, 1, 0, 1, 1, 0, 1, 0, 0, 1, 1, 1, 0, 1, 1, 1, 1,\n",
       "       1, 1, 0, 1, 1, 0, 1, 1, 1, 0, 1, 1, 1, 1, 1, 1, 1, 1, 1, 0, 1, 1,\n",
       "       0, 1, 1, 0, 1, 1, 1, 1, 1, 1, 0, 0, 1, 1, 1, 0, 1, 1, 1, 1, 1, 1,\n",
       "       1, 1, 1, 1, 1, 0, 0, 1, 1, 1, 1, 1, 1, 1, 0, 1, 1], dtype=int64)"
      ]
     },
     "execution_count": 49,
     "metadata": {},
     "output_type": "execute_result"
    }
   ],
   "source": [
    "model_lr.predict(x_teste)"
   ]
  },
  {
   "cell_type": "code",
   "execution_count": 50,
   "metadata": {},
   "outputs": [
    {
     "name": "stdout",
     "output_type": "stream",
     "text": [
      "Teste:  71.19\n",
      "Matriz:  [[ 80 104]\n",
      " [ 34 261]]\n"
     ]
    }
   ],
   "source": [
    "from sklearn.metrics import accuracy_score\n",
    "y_lr_teste = model_lr.predict(x_teste)\n",
    "acc_lr_teste = round(accuracy_score(y_lr_teste,y_teste)*100,2)\n",
    "matriz = confusion_matrix(y_teste,y_lr_teste)\n",
    "print('Teste: ',acc_lr_teste)\n",
    "print('Matriz: ',matriz)"
   ]
  },
  {
   "cell_type": "markdown",
   "metadata": {},
   "source": [
    "# Tree"
   ]
  },
  {
   "cell_type": "code",
   "execution_count": 51,
   "metadata": {},
   "outputs": [],
   "source": [
    "# dicionario\n",
    "tree_grid_dc = { 'min_samples_leaf': [1,5,10],\n",
    "                'min_samples_split': [1.0,5],\n",
    "                'max_depth': [1,5,12],\n",
    "                'criterion': ['gini','entropy'],\n",
    "                'random_state' : [42]\n",
    "}"
   ]
  },
  {
   "cell_type": "code",
   "execution_count": 52,
   "metadata": {},
   "outputs": [],
   "source": [
    "from sklearn.tree import DecisionTreeClassifier\n",
    "tree = DecisionTreeClassifier()"
   ]
  },
  {
   "cell_type": "code",
   "execution_count": 53,
   "metadata": {},
   "outputs": [
    {
     "data": {
      "text/plain": [
       "GridSearchCV(cv=5, error_score=nan,\n",
       "             estimator=DecisionTreeClassifier(ccp_alpha=0.0, class_weight=None,\n",
       "                                              criterion='gini', max_depth=None,\n",
       "                                              max_features=None,\n",
       "                                              max_leaf_nodes=None,\n",
       "                                              min_impurity_decrease=0.0,\n",
       "                                              min_impurity_split=None,\n",
       "                                              min_samples_leaf=1,\n",
       "                                              min_samples_split=2,\n",
       "                                              min_weight_fraction_leaf=0.0,\n",
       "                                              presort='deprecated',\n",
       "                                              random_state=None,\n",
       "                                              splitter='best'),\n",
       "             iid='deprecated', n_jobs=None,\n",
       "             param_grid={'criterion': ['gini', 'entropy'],\n",
       "                         'max_depth': [1, 5, 12],\n",
       "                         'min_samples_leaf': [1, 5, 10],\n",
       "                         'min_samples_split': [1.0, 5], 'random_state': [42]},\n",
       "             pre_dispatch='2*n_jobs', refit=True, return_train_score=False,\n",
       "             scoring=None, verbose=0)"
      ]
     },
     "execution_count": 53,
     "metadata": {},
     "output_type": "execute_result"
    }
   ],
   "source": [
    "from sklearn.model_selection import GridSearchCV\n",
    "tree_grid = GridSearchCV(estimator=tree,\n",
    "                      param_grid=tree_grid_dc,\n",
    "                       cv=5)\n",
    "\n",
    "tree_grid.fit(x_treino,y_treino)"
   ]
  },
  {
   "cell_type": "code",
   "execution_count": 54,
   "metadata": {},
   "outputs": [
    {
     "data": {
      "text/plain": [
       "{'criterion': 'gini',\n",
       " 'max_depth': 5,\n",
       " 'min_samples_leaf': 1,\n",
       " 'min_samples_split': 5,\n",
       " 'random_state': 42}"
      ]
     },
     "execution_count": 54,
     "metadata": {},
     "output_type": "execute_result"
    }
   ],
   "source": [
    "tree_grid.best_params_"
   ]
  },
  {
   "cell_type": "code",
   "execution_count": 55,
   "metadata": {},
   "outputs": [
    {
     "data": {
      "text/plain": [
       "0.7017421602787457"
      ]
     },
     "execution_count": 55,
     "metadata": {},
     "output_type": "execute_result"
    }
   ],
   "source": [
    "tree_grid.best_score_"
   ]
  },
  {
   "cell_type": "code",
   "execution_count": 56,
   "metadata": {},
   "outputs": [
    {
     "name": "stdout",
     "output_type": "stream",
     "text": [
      "C:\\MyGit\\databricks_projetofinal_fia\\notebook\n",
      "C:\\MyGit\\databricks_projetofinal_fia\\model\n",
      "C:\\MyGit\\databricks_projetofinal_fia\\model\\modelo_tree_schurn_gridsearch.pkl\n",
      "C:\\MyGit\\databricks_projetofinal_fia\\notebook\n",
      "C:\\MyGit\\databricks_projetofinal_fia\\model\n",
      "C:\\MyGit\\databricks_projetofinal_fia\\model\\modelo_tree_schurn_gridsearch.pkl\n"
     ]
    }
   ],
   "source": [
    "joblib.dump(tree_grid.best_estimator_,path_base('modelo_tree_schurn_gridsearch.pkl','model'),compress=1)\n",
    "modelo_treinado_tree = open(path_base('modelo_tree_schurn_gridsearch.pkl','model'),'rb')\n",
    "model_tree = joblib.load(modelo_treinado_tree)"
   ]
  },
  {
   "cell_type": "code",
   "execution_count": 57,
   "metadata": {},
   "outputs": [
    {
     "data": {
      "text/plain": [
       "DecisionTreeClassifier(ccp_alpha=0.0, class_weight=None, criterion='gini',\n",
       "                       max_depth=5, max_features=None, max_leaf_nodes=None,\n",
       "                       min_impurity_decrease=0.0, min_impurity_split=None,\n",
       "                       min_samples_leaf=1, min_samples_split=5,\n",
       "                       min_weight_fraction_leaf=0.0, presort='deprecated',\n",
       "                       random_state=42, splitter='best')"
      ]
     },
     "execution_count": 57,
     "metadata": {},
     "output_type": "execute_result"
    }
   ],
   "source": [
    "model_tree"
   ]
  },
  {
   "cell_type": "code",
   "execution_count": 58,
   "metadata": {},
   "outputs": [
    {
     "data": {
      "text/plain": [
       "array([1, 1, 1, 0, 0, 0, 1, 1, 1, 0, 1, 0, 1, 1, 1, 0, 0, 1, 1, 1, 0, 1,\n",
       "       1, 1, 0, 1, 1, 0, 1, 0, 1, 0, 1, 0, 1, 1, 0, 0, 1, 0, 0, 1, 0, 1,\n",
       "       1, 1, 1, 1, 0, 0, 0, 1, 1, 1, 1, 1, 1, 1, 1, 0, 1, 1, 0, 1, 1, 0,\n",
       "       1, 0, 0, 0, 0, 1, 1, 1, 0, 1, 1, 0, 1, 0, 1, 0, 0, 1, 0, 0, 0, 0,\n",
       "       1, 0, 1, 1, 0, 1, 0, 0, 0, 1, 0, 0, 1, 1, 1, 0, 1, 0, 1, 0, 0, 1,\n",
       "       0, 1, 1, 1, 1, 0, 1, 1, 1, 1, 1, 1, 0, 0, 1, 0, 1, 0, 1, 1, 1, 1,\n",
       "       0, 0, 0, 1, 1, 0, 0, 1, 1, 1, 1, 1, 1, 1, 1, 1, 1, 0, 0, 1, 0, 0,\n",
       "       1, 1, 1, 0, 1, 1, 1, 0, 1, 1, 1, 0, 1, 0, 1, 1, 1, 1, 0, 1, 1, 0,\n",
       "       0, 0, 1, 1, 1, 1, 1, 0, 0, 1, 1, 1, 0, 0, 0, 0, 0, 0, 1, 0, 1, 0,\n",
       "       1, 0, 0, 0, 0, 1, 1, 0, 0, 1, 0, 0, 1, 0, 1, 1, 0, 1, 1, 0, 0, 0,\n",
       "       1, 0, 0, 0, 0, 0, 1, 1, 0, 0, 0, 1, 0, 1, 1, 0, 1, 1, 1, 1, 1, 1,\n",
       "       0, 1, 0, 0, 1, 1, 1, 1, 1, 1, 1, 0, 0, 1, 0, 1, 1, 1, 0, 0, 0, 1,\n",
       "       1, 0, 1, 0, 0, 0, 0, 0, 0, 1, 0, 1, 0, 0, 0, 1, 0, 0, 1, 0, 0, 1,\n",
       "       0, 0, 0, 1, 1, 0, 0, 1, 1, 0, 0, 1, 0, 1, 1, 1, 1, 1, 1, 1, 1, 1,\n",
       "       1, 1, 1, 1, 1, 1, 0, 1, 0, 1, 0, 1, 1, 0, 0, 0, 1, 0, 0, 0, 1, 0,\n",
       "       0, 1, 1, 1, 0, 1, 0, 1, 1, 0, 0, 1, 0, 0, 0, 1, 1, 1, 0, 0, 1, 1,\n",
       "       0, 0, 0, 1, 0, 1, 0, 1, 1, 1, 0, 1, 1, 1, 1, 0, 1, 1, 1, 0, 0, 1,\n",
       "       1, 1, 0, 1, 1, 1, 1, 1, 1, 1, 1, 1, 1, 1, 1, 1, 0, 0, 1, 1, 0, 0,\n",
       "       0, 0, 0, 1, 1, 1, 1, 0, 1, 1, 1, 1, 0, 0, 0, 1, 1, 0, 0, 1, 1, 1,\n",
       "       1, 1, 0, 0, 1, 0, 1, 1, 1, 0, 0, 1, 0, 0, 1, 1, 1, 1, 1, 0, 1, 1,\n",
       "       0, 1, 1, 0, 1, 1, 0, 0, 1, 1, 0, 1, 1, 1, 1, 0, 1, 1, 1, 0, 1, 1,\n",
       "       0, 1, 1, 1, 1, 0, 0, 1, 1, 0, 1, 0, 1, 1, 0, 1, 1], dtype=int64)"
      ]
     },
     "execution_count": 58,
     "metadata": {},
     "output_type": "execute_result"
    }
   ],
   "source": [
    "model_tree.predict(x_teste)"
   ]
  },
  {
   "cell_type": "code",
   "execution_count": 59,
   "metadata": {},
   "outputs": [
    {
     "name": "stdout",
     "output_type": "stream",
     "text": [
      "Teste:  70.35\n",
      "Matriz:  [[121  63]\n",
      " [ 79 216]]\n"
     ]
    }
   ],
   "source": [
    "y_tree_teste = model_tree.predict(x_teste)\n",
    "acc_tree_teste = round(accuracy_score(y_tree_teste,y_teste)*100,2)\n",
    "matriz = confusion_matrix(y_teste,y_tree_teste)\n",
    "print('Teste: ',acc_tree_teste)\n",
    "print('Matriz: ',matriz)"
   ]
  },
  {
   "cell_type": "code",
   "execution_count": 60,
   "metadata": {},
   "outputs": [
    {
     "data": {
      "image/png": "[encoded data removed]",
      "text/plain": [
       "<Figure size 432x288 with 1 Axes>"
      ]
     },
     "metadata": {
      "needs_background": "light"
     },
     "output_type": "display_data"
    }
   ],
   "source": [
    "import sklearn.metrics as metrics\n",
    "# calculate the fpr and tpr for all thresholds of the classification\n",
    "probs = model_tree.predict_proba(x_teste)\n",
    "preds = probs[:,1]\n",
    "fpr, tpr, threshold = metrics.roc_curve(y_teste, preds)\n",
    "roc_auc = metrics.auc(fpr, tpr)\n",
    "\n",
    "# method I: plt\n",
    "import matplotlib.pyplot as plt\n",
    "plt.title('Receiver Operating Characteristic')\n",
    "plt.plot(fpr, tpr, 'b', label = 'AUC = %0.2f' % roc_auc)\n",
    "plt.legend(loc = 'lower right')\n",
    "plt.plot([0, 1], [0, 1],'r--')\n",
    "plt.xlim([0, 1])\n",
    "plt.ylim([0, 1])\n",
    "plt.ylabel('True Positive Rate')\n",
    "plt.xlabel('False Positive Rate')\n",
    "plt.show()\n",
    "\n"
   ]
  },
  {
   "cell_type": "markdown",
   "metadata": {},
   "source": [
    "# Random Forest"
   ]
  },
  {
   "cell_type": "code",
   "execution_count": 61,
   "metadata": {},
   "outputs": [],
   "source": [
    "rf_grid_dc = {\n",
    "    'n_estimators': [100,500],\n",
    "    'criterion': ['entropy'],\n",
    "    'bootstrap': [True],\n",
    "    'random_state' : [42]\n",
    "}"
   ]
  },
  {
   "cell_type": "code",
   "execution_count": 62,
   "metadata": {},
   "outputs": [],
   "source": [
    "from sklearn.ensemble import RandomForestClassifier\n",
    "rf = RandomForestClassifier()\n"
   ]
  },
  {
   "cell_type": "code",
   "execution_count": 63,
   "metadata": {},
   "outputs": [],
   "source": [
    "from sklearn.model_selection import GridSearchCV\n",
    "rf_grid = GridSearchCV(estimator=rf,\n",
    "                      param_grid=rf_grid_dc,\n",
    "                       scoring ='accuracy',\n",
    "                       cv=5)"
   ]
  },
  {
   "cell_type": "code",
   "execution_count": 64,
   "metadata": {},
   "outputs": [
    {
     "data": {
      "text/plain": [
       "GridSearchCV(cv=5, error_score=nan,\n",
       "             estimator=RandomForestClassifier(bootstrap=True, ccp_alpha=0.0,\n",
       "                                              class_weight=None,\n",
       "                                              criterion='gini', max_depth=None,\n",
       "                                              max_features='auto',\n",
       "                                              max_leaf_nodes=None,\n",
       "                                              max_samples=None,\n",
       "                                              min_impurity_decrease=0.0,\n",
       "                                              min_impurity_split=None,\n",
       "                                              min_samples_leaf=1,\n",
       "                                              min_samples_split=2,\n",
       "                                              min_weight_fraction_leaf=0.0,\n",
       "                                              n_estimators=100, n_jobs=None,\n",
       "                                              oob_score=False,\n",
       "                                              random_state=None, verbose=0,\n",
       "                                              warm_start=False),\n",
       "             iid='deprecated', n_jobs=None,\n",
       "             param_grid={'bootstrap': [True], 'criterion': ['entropy'],\n",
       "                         'n_estimators': [100, 500], 'random_state': [42]},\n",
       "             pre_dispatch='2*n_jobs', refit=True, return_train_score=False,\n",
       "             scoring='accuracy', verbose=0)"
      ]
     },
     "execution_count": 64,
     "metadata": {},
     "output_type": "execute_result"
    }
   ],
   "source": [
    "rf_grid.fit(x_treino,y_treino)"
   ]
  },
  {
   "cell_type": "code",
   "execution_count": 65,
   "metadata": {},
   "outputs": [
    {
     "data": {
      "text/plain": [
       "{'bootstrap': True,\n",
       " 'criterion': 'entropy',\n",
       " 'n_estimators': 500,\n",
       " 'random_state': 42}"
      ]
     },
     "execution_count": 65,
     "metadata": {},
     "output_type": "execute_result"
    }
   ],
   "source": [
    "rf_grid.best_params_"
   ]
  },
  {
   "cell_type": "code",
   "execution_count": 66,
   "metadata": {},
   "outputs": [
    {
     "data": {
      "text/plain": [
       "0.7560975609756098"
      ]
     },
     "execution_count": 66,
     "metadata": {},
     "output_type": "execute_result"
    }
   ],
   "source": [
    "rf_grid.best_score_"
   ]
  },
  {
   "cell_type": "code",
   "execution_count": 67,
   "metadata": {},
   "outputs": [
    {
     "name": "stdout",
     "output_type": "stream",
     "text": [
      "C:\\MyGit\\databricks_projetofinal_fia\\notebook\n",
      "C:\\MyGit\\databricks_projetofinal_fia\\model\n",
      "C:\\MyGit\\databricks_projetofinal_fia\\model\\modelo_rf_schurn_gridsearch.pkl\n",
      "C:\\MyGit\\databricks_projetofinal_fia\\notebook\n",
      "C:\\MyGit\\databricks_projetofinal_fia\\model\n",
      "C:\\MyGit\\databricks_projetofinal_fia\\model\\modelo_rf_schurn_gridsearch.pkl\n"
     ]
    }
   ],
   "source": [
    "joblib.dump(rf_grid.best_estimator_,path_base('modelo_rf_schurn_gridsearch.pkl','model'),compress=1)\n",
    "modelo_treinado_rf = open(path_base('modelo_rf_schurn_gridsearch.pkl','model'),'rb')\n",
    "model_rf = joblib.load(modelo_treinado_rf)"
   ]
  },
  {
   "cell_type": "code",
   "execution_count": 68,
   "metadata": {},
   "outputs": [
    {
     "data": {
      "text/plain": [
       "RandomForestClassifier(bootstrap=True, ccp_alpha=0.0, class_weight=None,\n",
       "                       criterion='entropy', max_depth=None, max_features='auto',\n",
       "                       max_leaf_nodes=None, max_samples=None,\n",
       "                       min_impurity_decrease=0.0, min_impurity_split=None,\n",
       "                       min_samples_leaf=1, min_samples_split=2,\n",
       "                       min_weight_fraction_leaf=0.0, n_estimators=500,\n",
       "                       n_jobs=None, oob_score=False, random_state=42, verbose=0,\n",
       "                       warm_start=False)"
      ]
     },
     "execution_count": 68,
     "metadata": {},
     "output_type": "execute_result"
    }
   ],
   "source": [
    "model_rf"
   ]
  },
  {
   "cell_type": "code",
   "execution_count": 69,
   "metadata": {},
   "outputs": [
    {
     "data": {
      "text/plain": [
       "array([1, 1, 1, 0, 0, 0, 1, 1, 1, 0, 1, 1, 1, 1, 1, 0, 1, 1, 1, 1, 1, 1,\n",
       "       1, 0, 0, 1, 1, 0, 1, 0, 1, 0, 0, 0, 1, 1, 1, 0, 1, 0, 1, 1, 0, 1,\n",
       "       1, 1, 1, 1, 0, 1, 1, 0, 1, 1, 1, 1, 1, 1, 1, 0, 1, 1, 1, 1, 1, 1,\n",
       "       1, 0, 0, 0, 1, 1, 0, 1, 0, 1, 0, 0, 0, 0, 1, 1, 0, 1, 0, 1, 0, 0,\n",
       "       1, 1, 0, 1, 0, 1, 0, 0, 0, 1, 1, 1, 1, 1, 1, 1, 1, 0, 1, 0, 0, 1,\n",
       "       0, 1, 1, 1, 1, 1, 1, 1, 1, 1, 1, 1, 0, 1, 0, 0, 1, 0, 0, 1, 1, 1,\n",
       "       0, 1, 1, 1, 1, 0, 1, 0, 1, 1, 0, 1, 1, 0, 0, 1, 1, 1, 0, 1, 0, 0,\n",
       "       1, 1, 1, 0, 1, 1, 1, 0, 1, 1, 1, 0, 1, 0, 0, 1, 1, 1, 0, 1, 1, 0,\n",
       "       1, 0, 0, 1, 1, 1, 0, 0, 1, 1, 1, 1, 1, 0, 1, 0, 1, 0, 1, 0, 1, 0,\n",
       "       1, 1, 0, 1, 0, 1, 1, 0, 1, 1, 1, 0, 1, 0, 1, 1, 1, 1, 1, 0, 0, 0,\n",
       "       1, 1, 0, 1, 0, 1, 1, 1, 0, 0, 0, 0, 0, 0, 1, 0, 1, 1, 0, 1, 1, 1,\n",
       "       1, 1, 0, 1, 0, 1, 1, 1, 1, 1, 1, 0, 0, 1, 0, 1, 1, 1, 0, 1, 0, 1,\n",
       "       1, 0, 1, 0, 1, 0, 0, 0, 0, 1, 1, 1, 1, 0, 0, 1, 0, 0, 1, 0, 0, 1,\n",
       "       0, 1, 0, 1, 1, 0, 0, 1, 1, 0, 0, 0, 0, 1, 1, 1, 1, 1, 1, 1, 1, 1,\n",
       "       1, 1, 0, 1, 1, 1, 0, 1, 1, 1, 0, 1, 1, 0, 1, 0, 1, 1, 0, 0, 1, 0,\n",
       "       1, 1, 0, 1, 0, 1, 1, 1, 1, 0, 0, 1, 0, 1, 1, 1, 1, 1, 1, 0, 0, 1,\n",
       "       1, 0, 0, 1, 1, 1, 0, 1, 1, 1, 0, 1, 1, 0, 1, 0, 1, 1, 1, 1, 1, 1,\n",
       "       0, 1, 0, 1, 1, 1, 1, 1, 1, 1, 1, 1, 1, 1, 1, 1, 1, 0, 1, 1, 0, 0,\n",
       "       0, 1, 0, 1, 1, 1, 1, 0, 1, 1, 0, 1, 0, 1, 0, 0, 1, 0, 0, 1, 1, 1,\n",
       "       1, 1, 0, 1, 1, 0, 1, 1, 1, 0, 1, 0, 0, 0, 1, 1, 1, 1, 1, 1, 1, 1,\n",
       "       1, 1, 1, 0, 1, 1, 1, 0, 1, 1, 0, 0, 1, 1, 1, 0, 1, 1, 1, 1, 1, 1,\n",
       "       1, 1, 1, 1, 1, 0, 0, 1, 1, 1, 1, 1, 1, 1, 0, 1, 1], dtype=int64)"
      ]
     },
     "execution_count": 69,
     "metadata": {},
     "output_type": "execute_result"
    }
   ],
   "source": [
    "model_rf.predict(x_teste)"
   ]
  },
  {
   "cell_type": "code",
   "execution_count": 70,
   "metadata": {},
   "outputs": [
    {
     "name": "stdout",
     "output_type": "stream",
     "text": [
      "Teste:  80.79\n",
      "Matriz:  [[128  56]\n",
      " [ 36 259]]\n"
     ]
    }
   ],
   "source": [
    "y_rf_teste = model_rf.predict(x_teste)\n",
    "acc_rf_teste = round(accuracy_score(y_rf_teste,y_teste)*100,2)\n",
    "matriz = confusion_matrix(y_teste,y_rf_teste)\n",
    "print('Teste: ',acc_rf_teste)\n",
    "print('Matriz: ',matriz)"
   ]
  },
  {
   "cell_type": "code",
   "execution_count": 71,
   "metadata": {},
   "outputs": [
    {
     "data": {
      "image/png": "[encoded data removed]",
      "text/plain": [
       "<Figure size 432x288 with 1 Axes>"
      ]
     },
     "metadata": {
      "needs_background": "light"
     },
     "output_type": "display_data"
    }
   ],
   "source": [
    "import sklearn.metrics as metrics\n",
    "# calculate the fpr and tpr for all thresholds of the classification\n",
    "probs = model_rf.predict_proba(x_teste)\n",
    "preds = probs[:,1]\n",
    "fpr, tpr, threshold = metrics.roc_curve(y_teste, preds)\n",
    "roc_auc = metrics.auc(fpr, tpr)\n",
    "\n",
    "# method I: plt\n",
    "import matplotlib.pyplot as plt\n",
    "plt.title('Receiver Operating Characteristic')\n",
    "plt.plot(fpr, tpr, 'b', label = 'AUC = %0.2f' % roc_auc)\n",
    "plt.legend(loc = 'lower right')\n",
    "plt.plot([0, 1], [0, 1],'r--')\n",
    "plt.xlim([0, 1])\n",
    "plt.ylim([0, 1])\n",
    "plt.ylabel('True Positive Rate')\n",
    "plt.xlabel('False Positive Rate')\n",
    "plt.show()"
   ]
  },
  {
   "cell_type": "markdown",
   "metadata": {},
   "source": [
    "# Gradient Boosting"
   ]
  },
  {
   "cell_type": "code",
   "execution_count": 72,
   "metadata": {},
   "outputs": [],
   "source": [
    "# dicionario\n",
    "gb_grid_dc = {\n",
    "    'min_samples_leaf': [5,20,30],\n",
    "    'min_samples_split': [1.0,3,5],\n",
    "    'max_depth': [5,12,20],\n",
    "    'n_estimators': [50,200,400],\n",
    "    'random_state' : [42]\n",
    "}"
   ]
  },
  {
   "cell_type": "code",
   "execution_count": 73,
   "metadata": {},
   "outputs": [],
   "source": [
    "from sklearn.ensemble import GradientBoostingClassifier\n",
    "gb = GradientBoostingClassifier()\n"
   ]
  },
  {
   "cell_type": "code",
   "execution_count": 74,
   "metadata": {},
   "outputs": [],
   "source": [
    "from sklearn.model_selection import GridSearchCV\n",
    "gb_grid = GridSearchCV(estimator=gb,\n",
    "                      param_grid=gb_grid_dc,\n",
    "                       cv=5)"
   ]
  },
  {
   "cell_type": "code",
   "execution_count": 75,
   "metadata": {},
   "outputs": [
    {
     "data": {
      "text/plain": [
       "GridSearchCV(cv=5, error_score=nan,\n",
       "             estimator=GradientBoostingClassifier(ccp_alpha=0.0,\n",
       "                                                  criterion='friedman_mse',\n",
       "                                                  init=None, learning_rate=0.1,\n",
       "                                                  loss='deviance', max_depth=3,\n",
       "                                                  max_features=None,\n",
       "                                                  max_leaf_nodes=None,\n",
       "                                                  min_impurity_decrease=0.0,\n",
       "                                                  min_impurity_split=None,\n",
       "                                                  min_samples_leaf=1,\n",
       "                                                  min_samples_split=2,\n",
       "                                                  min_weight_fraction_leaf=0.0,\n",
       "                                                  n_estimators=100,\n",
       "                                                  n_iter_no_c...\n",
       "                                                  presort='deprecated',\n",
       "                                                  random_state=None,\n",
       "                                                  subsample=1.0, tol=0.0001,\n",
       "                                                  validation_fraction=0.1,\n",
       "                                                  verbose=0, warm_start=False),\n",
       "             iid='deprecated', n_jobs=None,\n",
       "             param_grid={'max_depth': [5, 12, 20],\n",
       "                         'min_samples_leaf': [5, 20, 30],\n",
       "                         'min_samples_split': [1.0, 3, 5],\n",
       "                         'n_estimators': [50, 200, 400], 'random_state': [42]},\n",
       "             pre_dispatch='2*n_jobs', refit=True, return_train_score=False,\n",
       "             scoring=None, verbose=0)"
      ]
     },
     "execution_count": 75,
     "metadata": {},
     "output_type": "execute_result"
    }
   ],
   "source": [
    "gb_grid.fit(x_treino,y_treino)"
   ]
  },
  {
   "cell_type": "code",
   "execution_count": 76,
   "metadata": {},
   "outputs": [
    {
     "data": {
      "text/plain": [
       "{'max_depth': 5,\n",
       " 'min_samples_leaf': 5,\n",
       " 'min_samples_split': 3,\n",
       " 'n_estimators': 400,\n",
       " 'random_state': 42}"
      ]
     },
     "execution_count": 76,
     "metadata": {},
     "output_type": "execute_result"
    }
   ],
   "source": [
    "gb_grid.best_params_"
   ]
  },
  {
   "cell_type": "code",
   "execution_count": 77,
   "metadata": {},
   "outputs": [
    {
     "data": {
      "text/plain": [
       "0.7797909407665505"
      ]
     },
     "execution_count": 77,
     "metadata": {},
     "output_type": "execute_result"
    }
   ],
   "source": [
    "gb_grid.best_score_"
   ]
  },
  {
   "cell_type": "code",
   "execution_count": 78,
   "metadata": {},
   "outputs": [
    {
     "name": "stdout",
     "output_type": "stream",
     "text": [
      "C:\\MyGit\\databricks_projetofinal_fia\\notebook\n",
      "C:\\MyGit\\databricks_projetofinal_fia\\model\n",
      "C:\\MyGit\\databricks_projetofinal_fia\\model\\modelo_gb_schurn_gridsearch.pkl\n",
      "C:\\MyGit\\databricks_projetofinal_fia\\notebook\n",
      "C:\\MyGit\\databricks_projetofinal_fia\\model\n",
      "C:\\MyGit\\databricks_projetofinal_fia\\model\\modelo_gb_schurn_gridsearch.pkl\n"
     ]
    }
   ],
   "source": [
    "joblib.dump(gb_grid.best_estimator_,path_base('modelo_gb_schurn_gridsearch.pkl','model'),compress=1)\n",
    "modelo_treinado_gb = open(path_base('modelo_gb_schurn_gridsearch.pkl','model'),'rb')\n",
    "model_gb = joblib.load(modelo_treinado_gb)"
   ]
  },
  {
   "cell_type": "code",
   "execution_count": 79,
   "metadata": {},
   "outputs": [
    {
     "data": {
      "text/plain": [
       "GradientBoostingClassifier(ccp_alpha=0.0, criterion='friedman_mse', init=None,\n",
       "                           learning_rate=0.1, loss='deviance', max_depth=5,\n",
       "                           max_features=None, max_leaf_nodes=None,\n",
       "                           min_impurity_decrease=0.0, min_impurity_split=None,\n",
       "                           min_samples_leaf=5, min_samples_split=3,\n",
       "                           min_weight_fraction_leaf=0.0, n_estimators=400,\n",
       "                           n_iter_no_change=None, presort='deprecated',\n",
       "                           random_state=42, subsample=1.0, tol=0.0001,\n",
       "                           validation_fraction=0.1, verbose=0,\n",
       "                           warm_start=False)"
      ]
     },
     "execution_count": 79,
     "metadata": {},
     "output_type": "execute_result"
    }
   ],
   "source": [
    "model_gb"
   ]
  },
  {
   "cell_type": "code",
   "execution_count": 80,
   "metadata": {},
   "outputs": [
    {
     "data": {
      "text/plain": [
       "array([1, 1, 1, 0, 1, 1, 1, 1, 1, 0, 1, 1, 1, 1, 1, 0, 0, 1, 1, 1, 1, 1,\n",
       "       1, 0, 0, 1, 1, 0, 1, 0, 1, 0, 0, 0, 1, 0, 0, 0, 1, 0, 0, 1, 0, 1,\n",
       "       1, 1, 1, 1, 0, 1, 1, 0, 1, 1, 1, 1, 1, 1, 1, 0, 0, 1, 1, 1, 1, 0,\n",
       "       1, 0, 0, 0, 1, 1, 1, 1, 1, 1, 0, 0, 0, 0, 1, 0, 1, 1, 0, 0, 1, 0,\n",
       "       1, 0, 0, 1, 0, 1, 0, 0, 1, 1, 1, 1, 1, 1, 0, 0, 1, 0, 1, 1, 0, 1,\n",
       "       0, 1, 1, 1, 1, 0, 1, 1, 1, 1, 1, 1, 0, 1, 0, 0, 1, 0, 0, 0, 1, 1,\n",
       "       0, 1, 1, 1, 1, 0, 1, 1, 1, 1, 1, 1, 1, 0, 0, 1, 1, 1, 0, 1, 0, 0,\n",
       "       1, 1, 1, 1, 1, 1, 1, 0, 1, 1, 1, 0, 1, 1, 0, 1, 1, 1, 0, 1, 1, 1,\n",
       "       1, 0, 0, 1, 1, 0, 1, 1, 1, 1, 1, 1, 1, 0, 1, 0, 1, 0, 1, 0, 1, 0,\n",
       "       1, 0, 0, 1, 0, 1, 1, 0, 1, 1, 1, 0, 1, 0, 1, 0, 1, 1, 1, 1, 1, 0,\n",
       "       1, 0, 1, 1, 0, 1, 1, 1, 1, 1, 1, 0, 0, 0, 1, 0, 1, 1, 1, 1, 1, 1,\n",
       "       0, 1, 0, 1, 0, 1, 1, 1, 1, 1, 1, 0, 0, 1, 0, 1, 1, 0, 0, 0, 0, 1,\n",
       "       1, 0, 1, 0, 1, 0, 0, 1, 0, 1, 1, 1, 1, 0, 0, 1, 0, 0, 1, 0, 1, 1,\n",
       "       0, 0, 0, 0, 1, 1, 0, 0, 1, 0, 0, 0, 1, 1, 1, 1, 1, 1, 1, 1, 1, 1,\n",
       "       0, 1, 0, 1, 1, 1, 0, 1, 1, 1, 0, 1, 1, 0, 1, 0, 1, 1, 1, 1, 1, 0,\n",
       "       1, 1, 1, 1, 0, 1, 1, 1, 1, 0, 0, 1, 0, 1, 1, 1, 1, 1, 1, 0, 0, 1,\n",
       "       0, 0, 0, 1, 1, 1, 0, 1, 1, 1, 0, 1, 1, 0, 1, 0, 0, 1, 1, 1, 1, 1,\n",
       "       0, 1, 0, 1, 1, 1, 0, 1, 1, 1, 1, 1, 1, 1, 1, 1, 1, 0, 1, 1, 0, 0,\n",
       "       1, 1, 0, 1, 0, 1, 1, 0, 1, 1, 0, 1, 0, 1, 1, 0, 0, 1, 1, 1, 1, 1,\n",
       "       1, 1, 0, 1, 1, 1, 0, 1, 1, 0, 1, 0, 0, 0, 1, 1, 1, 1, 1, 1, 1, 1,\n",
       "       0, 0, 1, 0, 1, 1, 1, 0, 1, 1, 1, 0, 1, 1, 1, 0, 0, 1, 1, 1, 1, 1,\n",
       "       1, 1, 1, 1, 1, 0, 0, 1, 1, 1, 1, 1, 1, 1, 1, 1, 1], dtype=int64)"
      ]
     },
     "execution_count": 80,
     "metadata": {},
     "output_type": "execute_result"
    }
   ],
   "source": [
    "model_gb.predict(x_teste)"
   ]
  },
  {
   "cell_type": "code",
   "execution_count": 81,
   "metadata": {},
   "outputs": [
    {
     "name": "stdout",
     "output_type": "stream",
     "text": [
      "Teste:  81.42\n",
      "Matriz:  [[128  56]\n",
      " [ 33 262]]\n"
     ]
    }
   ],
   "source": [
    "y_gb_teste = model_gb.predict(x_teste)\n",
    "acc_gb_teste = round(accuracy_score(y_gb_teste,y_teste)*100,2)\n",
    "matriz = confusion_matrix(y_teste,y_gb_teste)\n",
    "print('Teste: ',acc_gb_teste)\n",
    "print('Matriz: ',matriz)"
   ]
  },
  {
   "cell_type": "code",
   "execution_count": 82,
   "metadata": {},
   "outputs": [
    {
     "data": {
      "image/png": "[encoded data removed]",
      "text/plain": [
       "<Figure size 432x288 with 1 Axes>"
      ]
     },
     "metadata": {
      "needs_background": "light"
     },
     "output_type": "display_data"
    }
   ],
   "source": [
    "import sklearn.metrics as metrics\n",
    "# calculate the fpr and tpr for all thresholds of the classification\n",
    "probs = model_gb.predict_proba(x_teste)\n",
    "preds = probs[:,1]\n",
    "fpr, tpr, threshold = metrics.roc_curve(y_teste, preds)\n",
    "roc_auc = metrics.auc(fpr, tpr)\n",
    "\n",
    "# method I: plt\n",
    "import matplotlib.pyplot as plt\n",
    "plt.title('Receiver Operating Characteristic')\n",
    "plt.plot(fpr, tpr, 'b', label = 'AUC = %0.2f' % roc_auc)\n",
    "plt.legend(loc = 'lower right')\n",
    "plt.plot([0, 1], [0, 1],'r--')\n",
    "plt.xlim([0, 1])\n",
    "plt.ylim([0, 1])\n",
    "plt.ylabel('True Positive Rate')\n",
    "plt.xlabel('False Positive Rate')\n",
    "plt.show()"
   ]
  },
  {
   "cell_type": "markdown",
   "metadata": {},
   "source": [
    "# Neural"
   ]
  },
  {
   "cell_type": "code",
   "execution_count": 83,
   "metadata": {},
   "outputs": [],
   "source": [
    "# dicionario\n",
    "mlp_grid_dc = {\n",
    "    'max_iter': [10,100],\n",
    "    'tol': [0.00010,0.000010],\n",
    "    'solver': ['adam'],\n",
    "    'hidden_layer_sizes':[(50,50),(300)],\n",
    "    'activation': ['relu'],\n",
    "    'random_state' : [42]\n",
    "}"
   ]
  },
  {
   "cell_type": "code",
   "execution_count": 84,
   "metadata": {},
   "outputs": [],
   "source": [
    "from sklearn.neural_network import MLPClassifier\n",
    "mlp = MLPClassifier(verbose = False)\n"
   ]
  },
  {
   "cell_type": "code",
   "execution_count": 85,
   "metadata": {},
   "outputs": [],
   "source": [
    "from sklearn.model_selection import GridSearchCV\n",
    "mlp_grid = GridSearchCV(estimator=mlp,\n",
    "                      param_grid=mlp_grid_dc,\n",
    "                       cv=5)"
   ]
  },
  {
   "cell_type": "code",
   "execution_count": 86,
   "metadata": {},
   "outputs": [
    {
     "data": {
      "text/plain": [
       "GridSearchCV(cv=5, error_score=nan,\n",
       "             estimator=MLPClassifier(activation='relu', alpha=0.0001,\n",
       "                                     batch_size='auto', beta_1=0.9,\n",
       "                                     beta_2=0.999, early_stopping=False,\n",
       "                                     epsilon=1e-08, hidden_layer_sizes=(100,),\n",
       "                                     learning_rate='constant',\n",
       "                                     learning_rate_init=0.001, max_fun=15000,\n",
       "                                     max_iter=200, momentum=0.9,\n",
       "                                     n_iter_no_change=10,\n",
       "                                     nesterovs_momentum=True, power_t=0.5,\n",
       "                                     random_state...le=True,\n",
       "                                     solver='adam', tol=0.0001,\n",
       "                                     validation_fraction=0.1, verbose=False,\n",
       "                                     warm_start=False),\n",
       "             iid='deprecated', n_jobs=None,\n",
       "             param_grid={'activation': ['relu'],\n",
       "                         'hidden_layer_sizes': [(50, 50), 300],\n",
       "                         'max_iter': [10, 100], 'random_state': [42],\n",
       "                         'solver': ['adam'], 'tol': [0.0001, 1e-05]},\n",
       "             pre_dispatch='2*n_jobs', refit=True, return_train_score=False,\n",
       "             scoring=None, verbose=0)"
      ]
     },
     "execution_count": 86,
     "metadata": {},
     "output_type": "execute_result"
    }
   ],
   "source": [
    "mlp_grid.fit(x_treino,y_treino)"
   ]
  },
  {
   "cell_type": "code",
   "execution_count": 87,
   "metadata": {},
   "outputs": [
    {
     "data": {
      "text/plain": [
       "{'activation': 'relu',\n",
       " 'hidden_layer_sizes': (50, 50),\n",
       " 'max_iter': 100,\n",
       " 'random_state': 42,\n",
       " 'solver': 'adam',\n",
       " 'tol': 0.0001}"
      ]
     },
     "execution_count": 87,
     "metadata": {},
     "output_type": "execute_result"
    }
   ],
   "source": [
    "mlp_grid.best_params_"
   ]
  },
  {
   "cell_type": "code",
   "execution_count": 88,
   "metadata": {},
   "outputs": [
    {
     "data": {
      "text/plain": [
       "0.6703832752613239"
      ]
     },
     "execution_count": 88,
     "metadata": {},
     "output_type": "execute_result"
    }
   ],
   "source": [
    "mlp_grid.best_score_"
   ]
  },
  {
   "cell_type": "code",
   "execution_count": 89,
   "metadata": {},
   "outputs": [
    {
     "name": "stdout",
     "output_type": "stream",
     "text": [
      "C:\\MyGit\\databricks_projetofinal_fia\\notebook\n",
      "C:\\MyGit\\databricks_projetofinal_fia\\model\n",
      "C:\\MyGit\\databricks_projetofinal_fia\\model\\modelo_mlp_schurn_gridsearch.pkl\n",
      "C:\\MyGit\\databricks_projetofinal_fia\\notebook\n",
      "C:\\MyGit\\databricks_projetofinal_fia\\model\n",
      "C:\\MyGit\\databricks_projetofinal_fia\\model\\modelo_mlp_schurn_gridsearch.pkl\n"
     ]
    }
   ],
   "source": [
    "from sklearn.externals import joblib\n",
    "joblib.dump(mlp_grid.best_estimator_,path_base('modelo_mlp_schurn_gridsearch.pkl','model'),compress=1)\n",
    "modelo_treinado_mlp = open(path_base('modelo_mlp_schurn_gridsearch.pkl','model'),'rb')\n",
    "model_mlp = joblib.load(modelo_treinado_mlp)"
   ]
  },
  {
   "cell_type": "code",
   "execution_count": 90,
   "metadata": {},
   "outputs": [
    {
     "data": {
      "text/plain": [
       "MLPClassifier(activation='relu', alpha=0.0001, batch_size='auto', beta_1=0.9,\n",
       "              beta_2=0.999, early_stopping=False, epsilon=1e-08,\n",
       "              hidden_layer_sizes=(50, 50), learning_rate='constant',\n",
       "              learning_rate_init=0.001, max_fun=15000, max_iter=100,\n",
       "              momentum=0.9, n_iter_no_change=10, nesterovs_momentum=True,\n",
       "              power_t=0.5, random_state=42, shuffle=True, solver='adam',\n",
       "              tol=0.0001, validation_fraction=0.1, verbose=False,\n",
       "              warm_start=False)"
      ]
     },
     "execution_count": 90,
     "metadata": {},
     "output_type": "execute_result"
    }
   ],
   "source": [
    "model_mlp"
   ]
  },
  {
   "cell_type": "code",
   "execution_count": 91,
   "metadata": {},
   "outputs": [
    {
     "data": {
      "text/plain": [
       "array([1, 1, 1, 1, 0, 1, 1, 1, 1, 0, 1, 1, 1, 1, 1, 1, 1, 1, 1, 1, 1, 1,\n",
       "       1, 1, 1, 1, 1, 0, 1, 1, 1, 1, 0, 1, 1, 1, 0, 1, 1, 1, 1, 1, 0, 1,\n",
       "       1, 1, 1, 1, 0, 1, 0, 1, 1, 0, 1, 1, 1, 1, 1, 0, 1, 1, 1, 1, 1, 1,\n",
       "       1, 1, 0, 1, 1, 1, 0, 1, 1, 1, 1, 0, 1, 1, 1, 0, 1, 1, 0, 0, 1, 1,\n",
       "       0, 0, 1, 1, 0, 1, 1, 0, 1, 1, 1, 1, 1, 1, 1, 1, 1, 1, 1, 0, 0, 1,\n",
       "       1, 1, 1, 1, 1, 1, 1, 1, 1, 1, 1, 1, 1, 1, 1, 1, 1, 0, 1, 1, 1, 1,\n",
       "       1, 1, 1, 1, 1, 1, 1, 1, 0, 1, 1, 1, 1, 1, 1, 1, 1, 0, 0, 1, 1, 0,\n",
       "       1, 1, 1, 1, 1, 1, 1, 1, 1, 1, 1, 1, 1, 0, 1, 1, 1, 1, 1, 1, 1, 1,\n",
       "       1, 1, 0, 1, 1, 0, 1, 0, 1, 1, 1, 1, 1, 1, 1, 1, 1, 1, 1, 1, 1, 1,\n",
       "       0, 1, 0, 1, 0, 1, 1, 1, 1, 1, 1, 1, 0, 1, 1, 0, 1, 1, 1, 1, 1, 1,\n",
       "       1, 1, 1, 1, 1, 1, 1, 1, 0, 1, 1, 1, 0, 0, 1, 0, 1, 1, 0, 1, 1, 1,\n",
       "       1, 1, 1, 1, 1, 1, 1, 1, 1, 1, 1, 1, 0, 1, 0, 1, 1, 1, 1, 1, 1, 1,\n",
       "       1, 0, 1, 1, 1, 0, 1, 1, 1, 1, 1, 1, 0, 0, 0, 1, 0, 0, 1, 1, 1, 1,\n",
       "       0, 1, 1, 1, 1, 1, 1, 0, 1, 0, 1, 1, 1, 1, 1, 1, 1, 1, 1, 1, 1, 1,\n",
       "       1, 1, 1, 1, 1, 1, 1, 1, 1, 1, 1, 1, 1, 1, 1, 1, 1, 1, 0, 0, 1, 1,\n",
       "       1, 1, 1, 1, 0, 1, 0, 0, 1, 1, 0, 1, 1, 1, 1, 1, 0, 1, 1, 1, 1, 1,\n",
       "       1, 1, 1, 1, 1, 1, 1, 1, 1, 1, 0, 1, 1, 0, 1, 0, 1, 1, 1, 1, 1, 1,\n",
       "       1, 1, 1, 1, 1, 1, 1, 1, 1, 1, 1, 1, 1, 0, 1, 1, 1, 1, 1, 1, 0, 0,\n",
       "       0, 1, 0, 1, 1, 0, 1, 1, 0, 1, 1, 1, 0, 1, 1, 0, 1, 1, 1, 1, 1, 1,\n",
       "       1, 1, 0, 1, 1, 1, 1, 1, 1, 1, 0, 0, 1, 1, 1, 1, 1, 1, 1, 1, 0, 1,\n",
       "       0, 1, 1, 1, 1, 1, 1, 1, 1, 1, 0, 1, 1, 1, 1, 1, 1, 1, 1, 1, 1, 1,\n",
       "       1, 0, 1, 1, 1, 0, 1, 1, 1, 1, 1, 1, 1, 1, 1, 1, 1], dtype=int64)"
      ]
     },
     "execution_count": 91,
     "metadata": {},
     "output_type": "execute_result"
    }
   ],
   "source": [
    "model_mlp.predict(x_teste)"
   ]
  },
  {
   "cell_type": "code",
   "execution_count": 92,
   "metadata": {},
   "outputs": [
    {
     "name": "stdout",
     "output_type": "stream",
     "text": [
      "Teste:  67.43\n",
      "Matriz:  [[ 54 130]\n",
      " [ 26 269]]\n"
     ]
    }
   ],
   "source": [
    "from sklearn.metrics import accuracy_score\n",
    "y_mlp_teste = model_mlp.predict(x_teste)\n",
    "acc_mlp_teste = round(accuracy_score(y_mlp_teste,y_teste)*100,2)\n",
    "\n",
    "matriz = confusion_matrix(y_teste,y_mlp_teste)\n",
    "print('Teste: ',acc_mlp_teste)\n",
    "print('Matriz: ',matriz)"
   ]
  },
  {
   "cell_type": "markdown",
   "metadata": {},
   "source": [
    "# xgboost"
   ]
  },
  {
   "cell_type": "code",
   "execution_count": 93,
   "metadata": {},
   "outputs": [],
   "source": [
    "# dicionario\n",
    "xgbc_grid_dc = {\n",
    "    'max_depth': [8],\n",
    "    'learning_rate': [0.1,0.05],\n",
    "    'n_estimators': [200,400],\n",
    "    'colsample_bytree':[0.3,0.8],\n",
    "    'max_depth': [8,12],\n",
    "    'reg_alpha': [10,5],\n",
    "    'random_state' : [42]\n",
    "}"
   ]
  },
  {
   "cell_type": "code",
   "execution_count": 94,
   "metadata": {},
   "outputs": [],
   "source": [
    "import xgboost as xgb\n",
    "from sklearn.metrics import mean_squared_error"
   ]
  },
  {
   "cell_type": "code",
   "execution_count": 95,
   "metadata": {},
   "outputs": [],
   "source": [
    "xgbc = xgb.XGBClassifier(objective='binary:logistic',booster='gbtree',n_jobs=2)"
   ]
  },
  {
   "cell_type": "code",
   "execution_count": 96,
   "metadata": {},
   "outputs": [],
   "source": [
    "from sklearn.model_selection import GridSearchCV\n",
    "xgbc_grid = GridSearchCV(estimator=xgbc,\n",
    "                          param_grid=xgbc_grid_dc,\n",
    "                           cv=5)"
   ]
  },
  {
   "cell_type": "code",
   "execution_count": 97,
   "metadata": {},
   "outputs": [
    {
     "data": {
      "text/plain": [
       "GridSearchCV(cv=5, error_score=nan,\n",
       "             estimator=XGBClassifier(base_score=0.5, booster='gbtree',\n",
       "                                     colsample_bylevel=1, colsample_bynode=1,\n",
       "                                     colsample_bytree=1, gamma=0,\n",
       "                                     learning_rate=0.1, max_delta_step=0,\n",
       "                                     max_depth=3, min_child_weight=1,\n",
       "                                     missing=None, n_estimators=100, n_jobs=2,\n",
       "                                     nthread=None, objective='binary:logistic',\n",
       "                                     random_state=0, reg_alpha=0, reg_lambda=1,\n",
       "                                     scale_pos_weight=1, seed=None, silent=None,\n",
       "                                     subsample=1, verbosity=1),\n",
       "             iid='deprecated', n_jobs=None,\n",
       "             param_grid={'colsample_bytree': [0.3, 0.8],\n",
       "                         'learning_rate': [0.1, 0.05], 'max_depth': [8, 12],\n",
       "                         'n_estimators': [200, 400], 'random_state': [42],\n",
       "                         'reg_alpha': [10, 5]},\n",
       "             pre_dispatch='2*n_jobs', refit=True, return_train_score=False,\n",
       "             scoring=None, verbose=0)"
      ]
     },
     "execution_count": 97,
     "metadata": {},
     "output_type": "execute_result"
    }
   ],
   "source": [
    "xgbc_grid.fit(x_treino,y_treino)"
   ]
  },
  {
   "cell_type": "code",
   "execution_count": 98,
   "metadata": {},
   "outputs": [
    {
     "data": {
      "text/plain": [
       "{'colsample_bytree': 0.8,\n",
       " 'learning_rate': 0.05,\n",
       " 'max_depth': 12,\n",
       " 'n_estimators': 200,\n",
       " 'random_state': 42,\n",
       " 'reg_alpha': 5}"
      ]
     },
     "execution_count": 98,
     "metadata": {},
     "output_type": "execute_result"
    }
   ],
   "source": [
    "xgbc_grid.best_params_"
   ]
  },
  {
   "cell_type": "code",
   "execution_count": 99,
   "metadata": {},
   "outputs": [
    {
     "data": {
      "text/plain": [
       "0.754006968641115"
      ]
     },
     "execution_count": 99,
     "metadata": {},
     "output_type": "execute_result"
    }
   ],
   "source": [
    "xgbc_grid.best_score_"
   ]
  },
  {
   "cell_type": "code",
   "execution_count": 100,
   "metadata": {},
   "outputs": [
    {
     "name": "stdout",
     "output_type": "stream",
     "text": [
      "C:\\MyGit\\databricks_projetofinal_fia\\notebook\n",
      "C:\\MyGit\\databricks_projetofinal_fia\\model\n",
      "C:\\MyGit\\databricks_projetofinal_fia\\model\\modelo_xgbc_schurn_gridsearch.pkl\n",
      "C:\\MyGit\\databricks_projetofinal_fia\\notebook\n",
      "C:\\MyGit\\databricks_projetofinal_fia\\model\n",
      "C:\\MyGit\\databricks_projetofinal_fia\\model\\modelo_xgbc_schurn_gridsearch.pkl\n"
     ]
    }
   ],
   "source": [
    "from sklearn.externals import joblib\n",
    "joblib.dump(xgbc_grid.best_estimator_,path_base('modelo_xgbc_schurn_gridsearch.pkl','model'),compress=1)\n",
    "modelo_treinado_xgbc = open(path_base('modelo_xgbc_schurn_gridsearch.pkl','model'),'rb')\n",
    "model_xgbc = joblib.load(modelo_treinado_xgbc)"
   ]
  },
  {
   "cell_type": "code",
   "execution_count": 101,
   "metadata": {},
   "outputs": [
    {
     "data": {
      "text/plain": [
       "XGBClassifier(base_score=0.5, booster='gbtree', colsample_bylevel=1,\n",
       "              colsample_bynode=1, colsample_bytree=0.8, gamma=0,\n",
       "              learning_rate=0.05, max_delta_step=0, max_depth=12,\n",
       "              min_child_weight=1, missing=nan, n_estimators=200, n_jobs=2,\n",
       "              nthread=None, objective='binary:logistic', random_state=42,\n",
       "              reg_alpha=5, reg_lambda=1, scale_pos_weight=1, seed=None,\n",
       "              silent=None, subsample=1, verbosity=1)"
      ]
     },
     "execution_count": 101,
     "metadata": {},
     "output_type": "execute_result"
    }
   ],
   "source": [
    "model_xgbc"
   ]
  },
  {
   "cell_type": "code",
   "execution_count": 102,
   "metadata": {},
   "outputs": [
    {
     "data": {
      "text/plain": [
       "array([1, 1, 1, 0, 0, 0, 1, 1, 1, 0, 1, 1, 1, 1, 1, 0, 0, 1, 1, 1, 1, 1,\n",
       "       1, 0, 0, 1, 1, 0, 1, 0, 1, 0, 0, 0, 1, 1, 0, 0, 1, 0, 1, 1, 0, 1,\n",
       "       1, 1, 1, 1, 0, 1, 1, 0, 1, 1, 1, 1, 1, 1, 1, 0, 1, 1, 1, 1, 1, 1,\n",
       "       1, 0, 0, 0, 1, 1, 0, 1, 0, 1, 0, 0, 1, 0, 1, 1, 0, 1, 0, 1, 0, 0,\n",
       "       1, 0, 1, 1, 0, 1, 0, 1, 0, 1, 0, 1, 1, 1, 1, 0, 1, 0, 1, 0, 0, 1,\n",
       "       1, 1, 1, 1, 1, 1, 1, 1, 1, 1, 1, 1, 0, 1, 0, 0, 1, 0, 1, 1, 1, 1,\n",
       "       0, 1, 1, 1, 1, 0, 0, 1, 1, 1, 0, 1, 1, 0, 0, 1, 1, 1, 0, 1, 0, 0,\n",
       "       1, 1, 1, 1, 1, 1, 1, 0, 1, 1, 1, 0, 1, 0, 0, 1, 1, 1, 1, 1, 1, 0,\n",
       "       1, 0, 0, 1, 1, 1, 0, 0, 1, 1, 1, 1, 1, 0, 1, 0, 1, 0, 1, 0, 1, 0,\n",
       "       1, 0, 0, 1, 0, 1, 1, 0, 1, 1, 1, 1, 1, 0, 1, 0, 0, 1, 1, 0, 0, 0,\n",
       "       1, 0, 1, 1, 0, 1, 1, 1, 0, 1, 0, 0, 0, 0, 1, 0, 1, 1, 1, 1, 1, 1,\n",
       "       1, 1, 0, 1, 0, 1, 1, 1, 1, 1, 1, 0, 0, 1, 0, 1, 1, 1, 0, 1, 0, 1,\n",
       "       1, 0, 1, 0, 1, 0, 0, 0, 0, 1, 1, 1, 1, 0, 0, 1, 0, 0, 1, 0, 1, 1,\n",
       "       0, 0, 0, 0, 1, 0, 1, 1, 1, 0, 0, 0, 0, 1, 1, 1, 1, 1, 1, 1, 1, 1,\n",
       "       0, 1, 0, 1, 1, 1, 0, 1, 1, 1, 0, 1, 1, 0, 1, 0, 1, 1, 0, 0, 1, 0,\n",
       "       1, 1, 0, 1, 0, 1, 1, 1, 1, 0, 0, 1, 0, 1, 1, 1, 1, 1, 1, 0, 0, 1,\n",
       "       1, 0, 0, 1, 1, 1, 0, 1, 1, 1, 0, 1, 1, 1, 1, 0, 0, 1, 1, 1, 1, 1,\n",
       "       0, 1, 0, 1, 1, 1, 0, 1, 1, 1, 1, 1, 1, 1, 1, 1, 1, 0, 1, 1, 0, 0,\n",
       "       1, 1, 0, 1, 0, 1, 1, 0, 1, 1, 0, 1, 0, 1, 0, 0, 1, 0, 1, 1, 1, 1,\n",
       "       1, 1, 0, 1, 1, 1, 1, 1, 1, 0, 1, 0, 0, 0, 1, 1, 1, 1, 1, 1, 1, 1,\n",
       "       0, 1, 1, 0, 1, 1, 1, 0, 1, 1, 0, 0, 1, 1, 1, 0, 0, 1, 1, 1, 1, 1,\n",
       "       1, 1, 1, 1, 1, 0, 0, 1, 1, 1, 1, 1, 1, 1, 0, 1, 1], dtype=int64)"
      ]
     },
     "execution_count": 102,
     "metadata": {},
     "output_type": "execute_result"
    }
   ],
   "source": [
    "model_xgbc.predict(x_teste)"
   ]
  },
  {
   "cell_type": "code",
   "execution_count": 103,
   "metadata": {},
   "outputs": [
    {
     "name": "stdout",
     "output_type": "stream",
     "text": [
      "Teste:  79.54\n",
      "Matriz:  [[125  59]\n",
      " [ 39 256]]\n"
     ]
    }
   ],
   "source": [
    "from sklearn.metrics import accuracy_score\n",
    "y_xgbc_teste = model_xgbc.predict(x_teste)\n",
    "acc_xgbc_teste = round(accuracy_score(y_xgbc_teste,y_teste)*100,2)\n",
    "matriz = confusion_matrix(y_teste,y_xgbc_teste)\n",
    "print('Teste: ',acc_xgbc_teste)\n",
    "print('Matriz: ',matriz)"
   ]
  },
  {
   "cell_type": "code",
   "execution_count": 104,
   "metadata": {},
   "outputs": [
    {
     "data": {
      "image/png": "[encoded data removed]",
      "text/plain": [
       "<Figure size 432x288 with 1 Axes>"
      ]
     },
     "metadata": {
      "needs_background": "light"
     },
     "output_type": "display_data"
    }
   ],
   "source": [
    "import sklearn.metrics as metrics\n",
    "# calculate the fpr and tpr for all thresholds of the classification\n",
    "probs = model_xgbc.predict_proba(x_teste)\n",
    "preds = probs[:,1]\n",
    "fpr, tpr, threshold = metrics.roc_curve(y_teste, preds)\n",
    "roc_auc = metrics.auc(fpr, tpr)\n",
    "\n",
    "# method I: plt\n",
    "import matplotlib.pyplot as plt\n",
    "plt.title('Receiver Operating Characteristic')\n",
    "plt.plot(fpr, tpr, 'b', label = 'AUC = %0.2f' % roc_auc)\n",
    "plt.legend(loc = 'lower right')\n",
    "plt.plot([0, 1], [0, 1],'r--')\n",
    "plt.xlim([0, 1])\n",
    "plt.ylim([0, 1])\n",
    "plt.ylabel('True Positive Rate')\n",
    "plt.xlabel('False Positive Rate')\n",
    "plt.show()"
   ]
  },
  {
   "cell_type": "markdown",
   "metadata": {},
   "source": [
    "# Conclusão\n",
    "<ul>\n",
    "<li>Feito análise inicial com seleção de variáveis e grid search e algorítimo com melhor resultado foi\n",
    "    Gradient Boost com accuracy média na base de treino 77.97 e de 81.42 na base de testes e com AUC = 0.91 </li>\n",
    "</ul>"
   ]
  },
  {
   "cell_type": "code",
   "execution_count": null,
   "metadata": {},
   "outputs": [],
   "source": []
  }
 ],
 "metadata": {
  "kernelspec": {
   "display_name": "Python 3",
   "language": "python",
   "name": "python3"
  },
  "language_info": {
   "codemirror_mode": {
    "name": "ipython",
    "version": 3
   },
   "file_extension": ".py",
   "mimetype": "text/x-python",
   "name": "python",
   "nbconvert_exporter": "python",
   "pygments_lexer": "ipython3",
   "version": "3.7.6"
  }
 },
 "nbformat": 4,
 "nbformat_minor": 4
}
