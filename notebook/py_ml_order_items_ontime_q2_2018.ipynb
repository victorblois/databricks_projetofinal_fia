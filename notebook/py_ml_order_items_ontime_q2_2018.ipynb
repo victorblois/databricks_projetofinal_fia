{
 "cells": [
  {
   "cell_type": "code",
   "execution_count": 49,
   "metadata": {},
   "outputs": [],
   "source": [
    "import pandas as pd\n",
    "import numpy as np\n",
    "import matplotlib.pyplot as plt\n",
    "import seaborn as sns\n",
    "import matplotlib\n",
    "matplotlib.use('TkAgg')\n",
    "%matplotlib inline\n",
    "import warnings\n",
    "warnings.filterwarnings('ignore')"
   ]
  },
  {
   "cell_type": "code",
   "execution_count": 50,
   "metadata": {},
   "outputs": [],
   "source": [
    "pd.set_option('precision',4)\n",
    "pd.set_option('display.float_format', lambda x: '%.3f' % x)\n",
    "pd.set_option('display.max_rows', 500)\n",
    "pd.set_option('display.max_columns', 500)\n",
    "pd.set_option('display.width', 1000)"
   ]
  },
  {
   "cell_type": "markdown",
   "metadata": {},
   "source": [
    "# Importar Bases"
   ]
  },
  {
   "cell_type": "code",
   "execution_count": 51,
   "metadata": {},
   "outputs": [],
   "source": [
    "import os.path\n",
    "def path_base(base_name,folder):\n",
    "    current_dir = os.path.abspath(os.path.join(os.getcwd()))\n",
    "    print(current_dir)\n",
    "    data_dir = current_dir.replace('notebook',folder)\n",
    "    print(data_dir)\n",
    "    data_base = data_dir + '\\\\' + base_name\n",
    "    print(data_base)\n",
    "    return data_base"
   ]
  },
  {
   "cell_type": "code",
   "execution_count": 52,
   "metadata": {},
   "outputs": [
    {
     "name": "stdout",
     "output_type": "stream",
     "text": [
      "C:\\MyGit\\databricks_projetofinal_fia\\notebook\n",
      "C:\\MyGit\\databricks_projetofinal_fia\\data\n",
      "C:\\MyGit\\databricks_projetofinal_fia\\data\\db_ml_order_items_ontime_q2.csv\n"
     ]
    }
   ],
   "source": [
    "base = pd.read_csv(path_base('db_ml_order_items_ontime_q2.csv','data'))"
   ]
  },
  {
   "cell_type": "code",
   "execution_count": 53,
   "metadata": {},
   "outputs": [
    {
     "data": {
      "text/html": [
       "<div>\n",
       "<style scoped>\n",
       "    .dataframe tbody tr th:only-of-type {\n",
       "        vertical-align: middle;\n",
       "    }\n",
       "\n",
       "    .dataframe tbody tr th {\n",
       "        vertical-align: top;\n",
       "    }\n",
       "\n",
       "    .dataframe thead th {\n",
       "        text-align: right;\n",
       "    }\n",
       "</style>\n",
       "<table border=\"1\" class=\"dataframe\">\n",
       "  <thead>\n",
       "    <tr style=\"text-align: right;\">\n",
       "      <th></th>\n",
       "      <th>order_id</th>\n",
       "      <th>order_item_id</th>\n",
       "      <th>customer_id</th>\n",
       "      <th>seller_id</th>\n",
       "      <th>customer_unique_id</th>\n",
       "      <th>order_status</th>\n",
       "      <th>order_date</th>\n",
       "      <th>order_dow</th>\n",
       "      <th>order_yyyymm</th>\n",
       "      <th>order_h</th>\n",
       "      <th>days_estimated_dlv</th>\n",
       "      <th>days_limit_ship</th>\n",
       "      <th>price</th>\n",
       "      <th>freight_value</th>\n",
       "      <th>seller_region</th>\n",
       "      <th>customer_region</th>\n",
       "      <th>is_samestate</th>\n",
       "      <th>product_id</th>\n",
       "      <th>product_category_name</th>\n",
       "      <th>product_description_lenght</th>\n",
       "      <th>product_photos_qty</th>\n",
       "      <th>product_weight_g</th>\n",
       "      <th>product_volume_cm3</th>\n",
       "      <th>is_voucher</th>\n",
       "      <th>is_bankslip</th>\n",
       "      <th>is_cc</th>\n",
       "      <th>is_dc</th>\n",
       "      <th>total_outtime_ratio_seller</th>\n",
       "      <th>qty_review_low_4_seller</th>\n",
       "      <th>total_not_delivered_ratio_seller</th>\n",
       "      <th>total_canceled_ratio_seller</th>\n",
       "      <th>total_bank_slip_ratio_seller</th>\n",
       "      <th>total_cc_ratio_seller</th>\n",
       "      <th>total_samestate_ratio_seller</th>\n",
       "      <th>revenue_semester_seller</th>\n",
       "      <th>qty_customers_seller</th>\n",
       "      <th>days_first_order_item_seller</th>\n",
       "      <th>is_new_seller</th>\n",
       "      <th>distinct_product_seller</th>\n",
       "      <th>distinct_category_seller</th>\n",
       "      <th>target</th>\n",
       "    </tr>\n",
       "  </thead>\n",
       "  <tbody>\n",
       "    <tr>\n",
       "      <th>0</th>\n",
       "      <td>d6021b689d20a82e885a61d75888df6a</td>\n",
       "      <td>1</td>\n",
       "      <td>e811ef51626307094e57cf8d443dd4fb</td>\n",
       "      <td>0e982cff76cc0579f632cea8a0e38c9d</td>\n",
       "      <td>5a6012519d0cf9a2103bd2170a81b833</td>\n",
       "      <td>delivered</td>\n",
       "      <td>2018-04-03T07:28:21.000Z</td>\n",
       "      <td>3</td>\n",
       "      <td>201804</td>\n",
       "      <td>0-7</td>\n",
       "      <td>22</td>\n",
       "      <td>6</td>\n",
       "      <td>109.000</td>\n",
       "      <td>18.640</td>\n",
       "      <td>S</td>\n",
       "      <td>SP</td>\n",
       "      <td>0</td>\n",
       "      <td>4f9172df8e9ae60aa90c14fb36afbcbb</td>\n",
       "      <td>presentes</td>\n",
       "      <td>214.000</td>\n",
       "      <td>1.000</td>\n",
       "      <td>1450</td>\n",
       "      <td>8184</td>\n",
       "      <td>0</td>\n",
       "      <td>0</td>\n",
       "      <td>1</td>\n",
       "      <td>0</td>\n",
       "      <td>0.556</td>\n",
       "      <td>0</td>\n",
       "      <td>0.556</td>\n",
       "      <td>0.000</td>\n",
       "      <td>0.333</td>\n",
       "      <td>0.667</td>\n",
       "      <td>0.778</td>\n",
       "      <td>847.340</td>\n",
       "      <td>5</td>\n",
       "      <td>187</td>\n",
       "      <td>0</td>\n",
       "      <td>6</td>\n",
       "      <td>1</td>\n",
       "      <td>1</td>\n",
       "    </tr>\n",
       "    <tr>\n",
       "      <th>1</th>\n",
       "      <td>d6021b689d20a82e885a61d75888df6a</td>\n",
       "      <td>2</td>\n",
       "      <td>e811ef51626307094e57cf8d443dd4fb</td>\n",
       "      <td>0e982cff76cc0579f632cea8a0e38c9d</td>\n",
       "      <td>5a6012519d0cf9a2103bd2170a81b833</td>\n",
       "      <td>delivered</td>\n",
       "      <td>2018-04-03T07:28:21.000Z</td>\n",
       "      <td>3</td>\n",
       "      <td>201804</td>\n",
       "      <td>0-7</td>\n",
       "      <td>22</td>\n",
       "      <td>6</td>\n",
       "      <td>109.000</td>\n",
       "      <td>18.640</td>\n",
       "      <td>S</td>\n",
       "      <td>SP</td>\n",
       "      <td>0</td>\n",
       "      <td>4f9172df8e9ae60aa90c14fb36afbcbb</td>\n",
       "      <td>presentes</td>\n",
       "      <td>214.000</td>\n",
       "      <td>1.000</td>\n",
       "      <td>1450</td>\n",
       "      <td>8184</td>\n",
       "      <td>0</td>\n",
       "      <td>0</td>\n",
       "      <td>1</td>\n",
       "      <td>0</td>\n",
       "      <td>0.556</td>\n",
       "      <td>0</td>\n",
       "      <td>0.556</td>\n",
       "      <td>0.000</td>\n",
       "      <td>0.333</td>\n",
       "      <td>0.667</td>\n",
       "      <td>0.778</td>\n",
       "      <td>847.340</td>\n",
       "      <td>5</td>\n",
       "      <td>187</td>\n",
       "      <td>0</td>\n",
       "      <td>6</td>\n",
       "      <td>1</td>\n",
       "      <td>1</td>\n",
       "    </tr>\n",
       "    <tr>\n",
       "      <th>2</th>\n",
       "      <td>36b1f4e20647a8599217e502c9ed45e0</td>\n",
       "      <td>2</td>\n",
       "      <td>3bd9cab16ac6be6b2cf08859994a06e3</td>\n",
       "      <td>0e982cff76cc0579f632cea8a0e38c9d</td>\n",
       "      <td>3baae02c3b608a48d1dfbb678fe30d3a</td>\n",
       "      <td>delivered</td>\n",
       "      <td>2018-04-02T19:44:20.000Z</td>\n",
       "      <td>2</td>\n",
       "      <td>201804</td>\n",
       "      <td>18-23</td>\n",
       "      <td>10</td>\n",
       "      <td>4</td>\n",
       "      <td>37.380</td>\n",
       "      <td>8.650</td>\n",
       "      <td>S</td>\n",
       "      <td>S</td>\n",
       "      <td>1</td>\n",
       "      <td>6d7bc0518cc2406af3d486526806d50e</td>\n",
       "      <td>presentes</td>\n",
       "      <td>184.000</td>\n",
       "      <td>1.000</td>\n",
       "      <td>383</td>\n",
       "      <td>3430</td>\n",
       "      <td>0</td>\n",
       "      <td>0</td>\n",
       "      <td>1</td>\n",
       "      <td>0</td>\n",
       "      <td>0.556</td>\n",
       "      <td>0</td>\n",
       "      <td>0.556</td>\n",
       "      <td>0.000</td>\n",
       "      <td>0.333</td>\n",
       "      <td>0.667</td>\n",
       "      <td>0.778</td>\n",
       "      <td>847.340</td>\n",
       "      <td>5</td>\n",
       "      <td>187</td>\n",
       "      <td>0</td>\n",
       "      <td>6</td>\n",
       "      <td>1</td>\n",
       "      <td>1</td>\n",
       "    </tr>\n",
       "  </tbody>\n",
       "</table>\n",
       "</div>"
      ],
      "text/plain": [
       "                           order_id  order_item_id                       customer_id                         seller_id                customer_unique_id order_status                order_date  order_dow  order_yyyymm order_h  days_estimated_dlv  days_limit_ship   price  freight_value seller_region customer_region  is_samestate                        product_id product_category_name  product_description_lenght  product_photos_qty  product_weight_g  product_volume_cm3  is_voucher  is_bankslip  is_cc  is_dc  total_outtime_ratio_seller  qty_review_low_4_seller  total_not_delivered_ratio_seller  total_canceled_ratio_seller  total_bank_slip_ratio_seller  total_cc_ratio_seller  total_samestate_ratio_seller  revenue_semester_seller  qty_customers_seller  days_first_order_item_seller  is_new_seller  distinct_product_seller  distinct_category_seller  target\n",
       "0  d6021b689d20a82e885a61d75888df6a              1  e811ef51626307094e57cf8d443dd4fb  0e982cff76cc0579f632cea8a0e38c9d  5a6012519d0cf9a2103bd2170a81b833    delivered  2018-04-03T07:28:21.000Z          3        201804     0-7                  22                6 109.000         18.640             S              SP             0  4f9172df8e9ae60aa90c14fb36afbcbb             presentes                     214.000               1.000              1450                8184           0            0      1      0                       0.556                        0                             0.556                        0.000                         0.333                  0.667                         0.778                  847.340                     5                           187              0                        6                         1       1\n",
       "1  d6021b689d20a82e885a61d75888df6a              2  e811ef51626307094e57cf8d443dd4fb  0e982cff76cc0579f632cea8a0e38c9d  5a6012519d0cf9a2103bd2170a81b833    delivered  2018-04-03T07:28:21.000Z          3        201804     0-7                  22                6 109.000         18.640             S              SP             0  4f9172df8e9ae60aa90c14fb36afbcbb             presentes                     214.000               1.000              1450                8184           0            0      1      0                       0.556                        0                             0.556                        0.000                         0.333                  0.667                         0.778                  847.340                     5                           187              0                        6                         1       1\n",
       "2  36b1f4e20647a8599217e502c9ed45e0              2  3bd9cab16ac6be6b2cf08859994a06e3  0e982cff76cc0579f632cea8a0e38c9d  3baae02c3b608a48d1dfbb678fe30d3a    delivered  2018-04-02T19:44:20.000Z          2        201804   18-23                  10                4  37.380          8.650             S               S             1  6d7bc0518cc2406af3d486526806d50e             presentes                     184.000               1.000               383                3430           0            0      1      0                       0.556                        0                             0.556                        0.000                         0.333                  0.667                         0.778                  847.340                     5                           187              0                        6                         1       1"
      ]
     },
     "execution_count": 53,
     "metadata": {},
     "output_type": "execute_result"
    }
   ],
   "source": [
    "base.head(3)"
   ]
  },
  {
   "cell_type": "code",
   "execution_count": 54,
   "metadata": {},
   "outputs": [
    {
     "data": {
      "text/plain": [
       "order_id                             object\n",
       "order_item_id                         int64\n",
       "customer_id                          object\n",
       "seller_id                            object\n",
       "customer_unique_id                   object\n",
       "order_status                         object\n",
       "order_date                           object\n",
       "order_dow                             int64\n",
       "order_yyyymm                          int64\n",
       "order_h                              object\n",
       "days_estimated_dlv                    int64\n",
       "days_limit_ship                       int64\n",
       "price                               float64\n",
       "freight_value                       float64\n",
       "seller_region                        object\n",
       "customer_region                      object\n",
       "is_samestate                          int64\n",
       "product_id                           object\n",
       "product_category_name                object\n",
       "product_description_lenght          float64\n",
       "product_photos_qty                  float64\n",
       "product_weight_g                      int64\n",
       "product_volume_cm3                    int64\n",
       "is_voucher                            int64\n",
       "is_bankslip                           int64\n",
       "is_cc                                 int64\n",
       "is_dc                                 int64\n",
       "total_outtime_ratio_seller          float64\n",
       "qty_review_low_4_seller               int64\n",
       "total_not_delivered_ratio_seller    float64\n",
       "total_canceled_ratio_seller         float64\n",
       "total_bank_slip_ratio_seller        float64\n",
       "total_cc_ratio_seller               float64\n",
       "total_samestate_ratio_seller        float64\n",
       "revenue_semester_seller             float64\n",
       "qty_customers_seller                  int64\n",
       "days_first_order_item_seller          int64\n",
       "is_new_seller                         int64\n",
       "distinct_product_seller               int64\n",
       "distinct_category_seller              int64\n",
       "target                                int64\n",
       "dtype: object"
      ]
     },
     "execution_count": 54,
     "metadata": {},
     "output_type": "execute_result"
    }
   ],
   "source": [
    "base.dtypes"
   ]
  },
  {
   "cell_type": "code",
   "execution_count": 55,
   "metadata": {},
   "outputs": [
    {
     "data": {
      "text/plain": [
       "order_id                            19947\n",
       "order_item_id                          13\n",
       "customer_id                         19947\n",
       "seller_id                            1680\n",
       "customer_unique_id                  19685\n",
       "order_status                            5\n",
       "order_date                          19854\n",
       "order_dow                               7\n",
       "order_yyyymm                            3\n",
       "order_h                                 5\n",
       "days_estimated_dlv                     63\n",
       "days_limit_ship                        38\n",
       "price                                2518\n",
       "freight_value                        3872\n",
       "seller_region                           5\n",
       "customer_region                         6\n",
       "is_samestate                            2\n",
       "product_id                           9663\n",
       "product_category_name                  17\n",
       "product_description_lenght           2114\n",
       "product_photos_qty                     14\n",
       "product_weight_g                     1263\n",
       "product_volume_cm3                   2445\n",
       "is_voucher                              2\n",
       "is_bankslip                             2\n",
       "is_cc                                   2\n",
       "is_dc                                   2\n",
       "total_outtime_ratio_seller            704\n",
       "qty_review_low_4_seller                 8\n",
       "total_not_delivered_ratio_seller      372\n",
       "total_canceled_ratio_seller           179\n",
       "total_bank_slip_ratio_seller          787\n",
       "total_cc_ratio_seller                 784\n",
       "total_samestate_ratio_seller          949\n",
       "revenue_semester_seller              2821\n",
       "qty_customers_seller                  337\n",
       "days_first_order_item_seller          507\n",
       "is_new_seller                           2\n",
       "distinct_product_seller               164\n",
       "distinct_category_seller               23\n",
       "target                                  2\n",
       "dtype: int64"
      ]
     },
     "execution_count": 55,
     "metadata": {},
     "output_type": "execute_result"
    }
   ],
   "source": [
    "base.nunique()"
   ]
  },
  {
   "cell_type": "code",
   "execution_count": 56,
   "metadata": {},
   "outputs": [
    {
     "data": {
      "text/plain": [
       "order_id                              0\n",
       "order_item_id                         0\n",
       "customer_id                           0\n",
       "seller_id                             0\n",
       "customer_unique_id                    0\n",
       "order_status                          0\n",
       "order_date                            0\n",
       "order_dow                             0\n",
       "order_yyyymm                          0\n",
       "order_h                               0\n",
       "days_estimated_dlv                    0\n",
       "days_limit_ship                       0\n",
       "price                                 0\n",
       "freight_value                         0\n",
       "seller_region                         0\n",
       "customer_region                       0\n",
       "is_samestate                          0\n",
       "product_id                            0\n",
       "product_category_name                 0\n",
       "product_description_lenght          142\n",
       "product_photos_qty                  142\n",
       "product_weight_g                      0\n",
       "product_volume_cm3                    0\n",
       "is_voucher                            0\n",
       "is_bankslip                           0\n",
       "is_cc                                 0\n",
       "is_dc                                 0\n",
       "total_outtime_ratio_seller            0\n",
       "qty_review_low_4_seller               0\n",
       "total_not_delivered_ratio_seller      0\n",
       "total_canceled_ratio_seller           0\n",
       "total_bank_slip_ratio_seller          0\n",
       "total_cc_ratio_seller                 0\n",
       "total_samestate_ratio_seller          0\n",
       "revenue_semester_seller               0\n",
       "qty_customers_seller                  0\n",
       "days_first_order_item_seller          0\n",
       "is_new_seller                         0\n",
       "distinct_product_seller               0\n",
       "distinct_category_seller              0\n",
       "target                                0\n",
       "dtype: int64"
      ]
     },
     "execution_count": 56,
     "metadata": {},
     "output_type": "execute_result"
    }
   ],
   "source": [
    "base.isnull().sum()"
   ]
  },
  {
   "cell_type": "code",
   "execution_count": 57,
   "metadata": {},
   "outputs": [
    {
     "data": {
      "text/plain": [
       "order_id                            0\n",
       "order_item_id                       0\n",
       "customer_id                         0\n",
       "seller_id                           0\n",
       "customer_unique_id                  0\n",
       "order_status                        0\n",
       "order_date                          0\n",
       "order_dow                           0\n",
       "order_yyyymm                        0\n",
       "order_h                             0\n",
       "days_estimated_dlv                  0\n",
       "days_limit_ship                     0\n",
       "price                               0\n",
       "freight_value                       0\n",
       "seller_region                       0\n",
       "customer_region                     0\n",
       "is_samestate                        0\n",
       "product_id                          0\n",
       "product_category_name               0\n",
       "product_description_lenght          0\n",
       "product_photos_qty                  0\n",
       "product_weight_g                    0\n",
       "product_volume_cm3                  0\n",
       "is_voucher                          0\n",
       "is_bankslip                         0\n",
       "is_cc                               0\n",
       "is_dc                               0\n",
       "total_outtime_ratio_seller          0\n",
       "qty_review_low_4_seller             0\n",
       "total_not_delivered_ratio_seller    0\n",
       "total_canceled_ratio_seller         0\n",
       "total_bank_slip_ratio_seller        0\n",
       "total_cc_ratio_seller               0\n",
       "total_samestate_ratio_seller        0\n",
       "revenue_semester_seller             0\n",
       "qty_customers_seller                0\n",
       "days_first_order_item_seller        0\n",
       "is_new_seller                       0\n",
       "distinct_product_seller             0\n",
       "distinct_category_seller            0\n",
       "target                              0\n",
       "dtype: int64"
      ]
     },
     "execution_count": 57,
     "metadata": {},
     "output_type": "execute_result"
    }
   ],
   "source": [
    "base.product_description_lenght = base.product_description_lenght.fillna(base.product_description_lenght.mean())\n",
    "base.product_photos_qty = base.product_photos_qty.fillna(base.product_photos_qty.mean())\n",
    "base.isnull().sum()"
   ]
  },
  {
   "cell_type": "code",
   "execution_count": 58,
   "metadata": {},
   "outputs": [],
   "source": [
    "dados = base[['order_dow',\n",
    "            'order_h',\n",
    "            'days_estimated_dlv',\n",
    "            'days_limit_ship',\n",
    "            'price',\n",
    "            'freight_value',\n",
    "            'seller_region',\n",
    "            'customer_region',\n",
    "            'is_samestate',\n",
    "            'product_category_name',\n",
    "            'product_description_lenght',\n",
    "            'product_photos_qty',\n",
    "            'product_weight_g',\n",
    "            'product_volume_cm3',\n",
    "            'is_voucher',\n",
    "            'is_bankslip',\n",
    "            'is_cc',\n",
    "            'is_dc',\n",
    "            'total_outtime_ratio_seller',\n",
    "            'qty_review_low_4_seller',\n",
    "            'total_not_delivered_ratio_seller',\n",
    "            'total_canceled_ratio_seller',\n",
    "            'total_samestate_ratio_seller',\n",
    "            'total_bank_slip_ratio_seller',\n",
    "            'total_cc_ratio_seller',\n",
    "            'revenue_semester_seller',\n",
    "            'qty_customers_seller',\n",
    "            'days_first_order_item_seller',\n",
    "            'is_new_seller',\n",
    "            'distinct_product_seller',             \n",
    "            'distinct_category_seller',\n",
    "            'target']]"
   ]
  },
  {
   "cell_type": "markdown",
   "metadata": {},
   "source": [
    "# Criar dummies para var categoricas"
   ]
  },
  {
   "cell_type": "code",
   "execution_count": 59,
   "metadata": {},
   "outputs": [],
   "source": [
    "base_categoricas = ['order_dow',\n",
    "                    'order_h',\n",
    "                    'seller_region',\n",
    "                    'customer_region',\n",
    "                    #'is_samestate',\n",
    "                    'product_category_name',\n",
    "                    #'is_voucher',\n",
    "                    #'is_bankslip',\n",
    "                    #'is_cc',\n",
    "                    #'is_dc',\n",
    "                    #'is_new_seller'\n",
    "                   ]\n",
    "dum = pd.get_dummies(dados,\n",
    "                    columns=base_categoricas,\n",
    "                    drop_first=True,\n",
    "                    prefix=base_categoricas,\n",
    "                     prefix_sep='_'\n",
    "                    )"
   ]
  },
  {
   "cell_type": "code",
   "execution_count": 60,
   "metadata": {},
   "outputs": [
    {
     "data": {
      "text/html": [
       "<div>\n",
       "<style scoped>\n",
       "    .dataframe tbody tr th:only-of-type {\n",
       "        vertical-align: middle;\n",
       "    }\n",
       "\n",
       "    .dataframe tbody tr th {\n",
       "        vertical-align: top;\n",
       "    }\n",
       "\n",
       "    .dataframe thead th {\n",
       "        text-align: right;\n",
       "    }\n",
       "</style>\n",
       "<table border=\"1\" class=\"dataframe\">\n",
       "  <thead>\n",
       "    <tr style=\"text-align: right;\">\n",
       "      <th></th>\n",
       "      <th>days_estimated_dlv</th>\n",
       "      <th>days_limit_ship</th>\n",
       "      <th>price</th>\n",
       "      <th>freight_value</th>\n",
       "      <th>is_samestate</th>\n",
       "      <th>product_description_lenght</th>\n",
       "      <th>product_photos_qty</th>\n",
       "      <th>product_weight_g</th>\n",
       "      <th>product_volume_cm3</th>\n",
       "      <th>is_voucher</th>\n",
       "      <th>is_bankslip</th>\n",
       "      <th>is_cc</th>\n",
       "      <th>is_dc</th>\n",
       "      <th>total_outtime_ratio_seller</th>\n",
       "      <th>qty_review_low_4_seller</th>\n",
       "      <th>total_not_delivered_ratio_seller</th>\n",
       "      <th>total_canceled_ratio_seller</th>\n",
       "      <th>total_samestate_ratio_seller</th>\n",
       "      <th>total_bank_slip_ratio_seller</th>\n",
       "      <th>total_cc_ratio_seller</th>\n",
       "      <th>revenue_semester_seller</th>\n",
       "      <th>qty_customers_seller</th>\n",
       "      <th>days_first_order_item_seller</th>\n",
       "      <th>is_new_seller</th>\n",
       "      <th>distinct_product_seller</th>\n",
       "      <th>distinct_category_seller</th>\n",
       "      <th>target</th>\n",
       "      <th>order_dow_2</th>\n",
       "      <th>order_dow_3</th>\n",
       "      <th>order_dow_4</th>\n",
       "      <th>order_dow_5</th>\n",
       "      <th>order_dow_6</th>\n",
       "      <th>order_dow_7</th>\n",
       "      <th>order_h_12-15</th>\n",
       "      <th>order_h_16-17</th>\n",
       "      <th>order_h_18-23</th>\n",
       "      <th>order_h_8-11</th>\n",
       "      <th>seller_region_Ne</th>\n",
       "      <th>seller_region_S</th>\n",
       "      <th>seller_region_SP</th>\n",
       "      <th>seller_region_Se</th>\n",
       "      <th>customer_region_N</th>\n",
       "      <th>customer_region_Ne</th>\n",
       "      <th>customer_region_S</th>\n",
       "      <th>customer_region_SP</th>\n",
       "      <th>customer_region_Se</th>\n",
       "      <th>product_category_name_automotivo</th>\n",
       "      <th>product_category_name_bebes</th>\n",
       "      <th>product_category_name_beleza_saude</th>\n",
       "      <th>product_category_name_eletro</th>\n",
       "      <th>product_category_name_escritorio</th>\n",
       "      <th>product_category_name_esporte_lazer</th>\n",
       "      <th>product_category_name_fashion</th>\n",
       "      <th>product_category_name_home</th>\n",
       "      <th>product_category_name_informatica</th>\n",
       "      <th>product_category_name_livros_papelaria</th>\n",
       "      <th>product_category_name_ni</th>\n",
       "      <th>product_category_name_pet_shop</th>\n",
       "      <th>product_category_name_preentes</th>\n",
       "      <th>product_category_name_presentes</th>\n",
       "      <th>product_category_name_servico</th>\n",
       "      <th>product_category_name_telefonia</th>\n",
       "    </tr>\n",
       "  </thead>\n",
       "  <tbody>\n",
       "    <tr>\n",
       "      <th>0</th>\n",
       "      <td>22</td>\n",
       "      <td>6</td>\n",
       "      <td>109.000</td>\n",
       "      <td>18.640</td>\n",
       "      <td>0</td>\n",
       "      <td>214.000</td>\n",
       "      <td>1.000</td>\n",
       "      <td>1450</td>\n",
       "      <td>8184</td>\n",
       "      <td>0</td>\n",
       "      <td>0</td>\n",
       "      <td>1</td>\n",
       "      <td>0</td>\n",
       "      <td>0.556</td>\n",
       "      <td>0</td>\n",
       "      <td>0.556</td>\n",
       "      <td>0.000</td>\n",
       "      <td>0.778</td>\n",
       "      <td>0.333</td>\n",
       "      <td>0.667</td>\n",
       "      <td>847.340</td>\n",
       "      <td>5</td>\n",
       "      <td>187</td>\n",
       "      <td>0</td>\n",
       "      <td>6</td>\n",
       "      <td>1</td>\n",
       "      <td>1</td>\n",
       "      <td>0</td>\n",
       "      <td>1</td>\n",
       "      <td>0</td>\n",
       "      <td>0</td>\n",
       "      <td>0</td>\n",
       "      <td>0</td>\n",
       "      <td>0</td>\n",
       "      <td>0</td>\n",
       "      <td>0</td>\n",
       "      <td>0</td>\n",
       "      <td>0</td>\n",
       "      <td>1</td>\n",
       "      <td>0</td>\n",
       "      <td>0</td>\n",
       "      <td>0</td>\n",
       "      <td>0</td>\n",
       "      <td>0</td>\n",
       "      <td>1</td>\n",
       "      <td>0</td>\n",
       "      <td>0</td>\n",
       "      <td>0</td>\n",
       "      <td>0</td>\n",
       "      <td>0</td>\n",
       "      <td>0</td>\n",
       "      <td>0</td>\n",
       "      <td>0</td>\n",
       "      <td>0</td>\n",
       "      <td>0</td>\n",
       "      <td>0</td>\n",
       "      <td>0</td>\n",
       "      <td>0</td>\n",
       "      <td>0</td>\n",
       "      <td>1</td>\n",
       "      <td>0</td>\n",
       "      <td>0</td>\n",
       "    </tr>\n",
       "    <tr>\n",
       "      <th>1</th>\n",
       "      <td>22</td>\n",
       "      <td>6</td>\n",
       "      <td>109.000</td>\n",
       "      <td>18.640</td>\n",
       "      <td>0</td>\n",
       "      <td>214.000</td>\n",
       "      <td>1.000</td>\n",
       "      <td>1450</td>\n",
       "      <td>8184</td>\n",
       "      <td>0</td>\n",
       "      <td>0</td>\n",
       "      <td>1</td>\n",
       "      <td>0</td>\n",
       "      <td>0.556</td>\n",
       "      <td>0</td>\n",
       "      <td>0.556</td>\n",
       "      <td>0.000</td>\n",
       "      <td>0.778</td>\n",
       "      <td>0.333</td>\n",
       "      <td>0.667</td>\n",
       "      <td>847.340</td>\n",
       "      <td>5</td>\n",
       "      <td>187</td>\n",
       "      <td>0</td>\n",
       "      <td>6</td>\n",
       "      <td>1</td>\n",
       "      <td>1</td>\n",
       "      <td>0</td>\n",
       "      <td>1</td>\n",
       "      <td>0</td>\n",
       "      <td>0</td>\n",
       "      <td>0</td>\n",
       "      <td>0</td>\n",
       "      <td>0</td>\n",
       "      <td>0</td>\n",
       "      <td>0</td>\n",
       "      <td>0</td>\n",
       "      <td>0</td>\n",
       "      <td>1</td>\n",
       "      <td>0</td>\n",
       "      <td>0</td>\n",
       "      <td>0</td>\n",
       "      <td>0</td>\n",
       "      <td>0</td>\n",
       "      <td>1</td>\n",
       "      <td>0</td>\n",
       "      <td>0</td>\n",
       "      <td>0</td>\n",
       "      <td>0</td>\n",
       "      <td>0</td>\n",
       "      <td>0</td>\n",
       "      <td>0</td>\n",
       "      <td>0</td>\n",
       "      <td>0</td>\n",
       "      <td>0</td>\n",
       "      <td>0</td>\n",
       "      <td>0</td>\n",
       "      <td>0</td>\n",
       "      <td>0</td>\n",
       "      <td>1</td>\n",
       "      <td>0</td>\n",
       "      <td>0</td>\n",
       "    </tr>\n",
       "    <tr>\n",
       "      <th>2</th>\n",
       "      <td>10</td>\n",
       "      <td>4</td>\n",
       "      <td>37.380</td>\n",
       "      <td>8.650</td>\n",
       "      <td>1</td>\n",
       "      <td>184.000</td>\n",
       "      <td>1.000</td>\n",
       "      <td>383</td>\n",
       "      <td>3430</td>\n",
       "      <td>0</td>\n",
       "      <td>0</td>\n",
       "      <td>1</td>\n",
       "      <td>0</td>\n",
       "      <td>0.556</td>\n",
       "      <td>0</td>\n",
       "      <td>0.556</td>\n",
       "      <td>0.000</td>\n",
       "      <td>0.778</td>\n",
       "      <td>0.333</td>\n",
       "      <td>0.667</td>\n",
       "      <td>847.340</td>\n",
       "      <td>5</td>\n",
       "      <td>187</td>\n",
       "      <td>0</td>\n",
       "      <td>6</td>\n",
       "      <td>1</td>\n",
       "      <td>1</td>\n",
       "      <td>1</td>\n",
       "      <td>0</td>\n",
       "      <td>0</td>\n",
       "      <td>0</td>\n",
       "      <td>0</td>\n",
       "      <td>0</td>\n",
       "      <td>0</td>\n",
       "      <td>0</td>\n",
       "      <td>1</td>\n",
       "      <td>0</td>\n",
       "      <td>0</td>\n",
       "      <td>1</td>\n",
       "      <td>0</td>\n",
       "      <td>0</td>\n",
       "      <td>0</td>\n",
       "      <td>0</td>\n",
       "      <td>1</td>\n",
       "      <td>0</td>\n",
       "      <td>0</td>\n",
       "      <td>0</td>\n",
       "      <td>0</td>\n",
       "      <td>0</td>\n",
       "      <td>0</td>\n",
       "      <td>0</td>\n",
       "      <td>0</td>\n",
       "      <td>0</td>\n",
       "      <td>0</td>\n",
       "      <td>0</td>\n",
       "      <td>0</td>\n",
       "      <td>0</td>\n",
       "      <td>0</td>\n",
       "      <td>0</td>\n",
       "      <td>1</td>\n",
       "      <td>0</td>\n",
       "      <td>0</td>\n",
       "    </tr>\n",
       "  </tbody>\n",
       "</table>\n",
       "</div>"
      ],
      "text/plain": [
       "   days_estimated_dlv  days_limit_ship   price  freight_value  is_samestate  product_description_lenght  product_photos_qty  product_weight_g  product_volume_cm3  is_voucher  is_bankslip  is_cc  is_dc  total_outtime_ratio_seller  qty_review_low_4_seller  total_not_delivered_ratio_seller  total_canceled_ratio_seller  total_samestate_ratio_seller  total_bank_slip_ratio_seller  total_cc_ratio_seller  revenue_semester_seller  qty_customers_seller  days_first_order_item_seller  is_new_seller  distinct_product_seller  distinct_category_seller  target  order_dow_2  order_dow_3  order_dow_4  order_dow_5  order_dow_6  order_dow_7  order_h_12-15  order_h_16-17  order_h_18-23  order_h_8-11  seller_region_Ne  seller_region_S  seller_region_SP  seller_region_Se  customer_region_N  customer_region_Ne  customer_region_S  customer_region_SP  customer_region_Se  product_category_name_automotivo  product_category_name_bebes  product_category_name_beleza_saude  product_category_name_eletro  \\\n",
       "0                  22                6 109.000         18.640             0                     214.000               1.000              1450                8184           0            0      1      0                       0.556                        0                             0.556                        0.000                         0.778                         0.333                  0.667                  847.340                     5                           187              0                        6                         1       1            0            1            0            0            0            0              0              0              0             0                 0                1                 0                 0                  0                   0                  0                   1                   0                                 0                            0                                   0                             0   \n",
       "1                  22                6 109.000         18.640             0                     214.000               1.000              1450                8184           0            0      1      0                       0.556                        0                             0.556                        0.000                         0.778                         0.333                  0.667                  847.340                     5                           187              0                        6                         1       1            0            1            0            0            0            0              0              0              0             0                 0                1                 0                 0                  0                   0                  0                   1                   0                                 0                            0                                   0                             0   \n",
       "2                  10                4  37.380          8.650             1                     184.000               1.000               383                3430           0            0      1      0                       0.556                        0                             0.556                        0.000                         0.778                         0.333                  0.667                  847.340                     5                           187              0                        6                         1       1            1            0            0            0            0            0              0              0              1             0                 0                1                 0                 0                  0                   0                  1                   0                   0                                 0                            0                                   0                             0   \n",
       "\n",
       "   product_category_name_escritorio  product_category_name_esporte_lazer  product_category_name_fashion  product_category_name_home  product_category_name_informatica  product_category_name_livros_papelaria  product_category_name_ni  product_category_name_pet_shop  product_category_name_preentes  product_category_name_presentes  product_category_name_servico  product_category_name_telefonia  \n",
       "0                                 0                                    0                              0                           0                                  0                                       0                         0                               0                               0                                1                              0                                0  \n",
       "1                                 0                                    0                              0                           0                                  0                                       0                         0                               0                               0                                1                              0                                0  \n",
       "2                                 0                                    0                              0                           0                                  0                                       0                         0                               0                               0                                1                              0                                0  "
      ]
     },
     "execution_count": 60,
     "metadata": {},
     "output_type": "execute_result"
    }
   ],
   "source": [
    "dum.head(3)"
   ]
  },
  {
   "cell_type": "code",
   "execution_count": 61,
   "metadata": {},
   "outputs": [
    {
     "data": {
      "text/plain": [
       "Index(['days_estimated_dlv', 'days_limit_ship', 'price', 'freight_value', 'is_samestate', 'product_description_lenght', 'product_photos_qty', 'product_weight_g', 'product_volume_cm3', 'is_voucher', 'is_bankslip', 'is_cc', 'is_dc', 'total_outtime_ratio_seller', 'qty_review_low_4_seller', 'total_not_delivered_ratio_seller', 'total_canceled_ratio_seller', 'total_samestate_ratio_seller', 'total_bank_slip_ratio_seller', 'total_cc_ratio_seller', 'revenue_semester_seller', 'qty_customers_seller', 'days_first_order_item_seller', 'is_new_seller', 'distinct_product_seller', 'distinct_category_seller', 'target', 'order_dow_2', 'order_dow_3', 'order_dow_4', 'order_dow_5', 'order_dow_6', 'order_dow_7', 'order_h_12-15', 'order_h_16-17', 'order_h_18-23', 'order_h_8-11', 'seller_region_Ne', 'seller_region_S', 'seller_region_SP', 'seller_region_Se', 'customer_region_N', 'customer_region_Ne', 'customer_region_S', 'customer_region_SP', 'customer_region_Se', 'product_category_name_automotivo',\n",
       "       'product_category_name_bebes', 'product_category_name_beleza_saude', 'product_category_name_eletro', 'product_category_name_escritorio', 'product_category_name_esporte_lazer', 'product_category_name_fashion', 'product_category_name_home', 'product_category_name_informatica', 'product_category_name_livros_papelaria', 'product_category_name_ni', 'product_category_name_pet_shop', 'product_category_name_preentes', 'product_category_name_presentes', 'product_category_name_servico', 'product_category_name_telefonia'],\n",
       "      dtype='object')"
      ]
     },
     "execution_count": 61,
     "metadata": {},
     "output_type": "execute_result"
    }
   ],
   "source": [
    "dum.columns"
   ]
  },
  {
   "cell_type": "code",
   "execution_count": 62,
   "metadata": {},
   "outputs": [],
   "source": [
    "dados_selecionados = dum[['days_estimated_dlv', 'days_limit_ship', 'price', 'freight_value', 'is_samestate', 'product_description_lenght', 'product_photos_qty', 'product_weight_g', 'product_volume_cm3', 'is_voucher', 'is_bankslip', 'is_cc', 'is_dc', 'total_outtime_ratio_seller', 'qty_review_low_4_seller', 'total_not_delivered_ratio_seller', 'total_canceled_ratio_seller', 'total_samestate_ratio_seller', 'total_bank_slip_ratio_seller', 'total_cc_ratio_seller', 'revenue_semester_seller', 'qty_customers_seller', 'days_first_order_item_seller', 'is_new_seller', 'distinct_product_seller', 'distinct_category_seller', 'target', 'order_dow_2', 'order_dow_3', 'order_dow_4', 'order_dow_5', 'order_dow_6', 'order_dow_7', 'order_h_12-15', 'order_h_16-17', 'order_h_18-23', 'order_h_8-11', 'seller_region_Ne', 'seller_region_S', 'seller_region_SP', 'seller_region_Se', 'customer_region_N', 'customer_region_Ne', 'customer_region_S', 'customer_region_SP', 'customer_region_Se', 'product_category_name_automotivo',\n",
    "       'product_category_name_bebes', 'product_category_name_beleza_saude', 'product_category_name_eletro', 'product_category_name_escritorio', 'product_category_name_esporte_lazer', 'product_category_name_fashion', 'product_category_name_home', 'product_category_name_informatica', 'product_category_name_livros_papelaria', 'product_category_name_ni', 'product_category_name_pet_shop', 'product_category_name_preentes', 'product_category_name_presentes', 'product_category_name_servico', 'product_category_name_telefonia']]"
   ]
  },
  {
   "cell_type": "code",
   "execution_count": 63,
   "metadata": {},
   "outputs": [
    {
     "data": {
      "text/html": [
       "<div>\n",
       "<style scoped>\n",
       "    .dataframe tbody tr th:only-of-type {\n",
       "        vertical-align: middle;\n",
       "    }\n",
       "\n",
       "    .dataframe tbody tr th {\n",
       "        vertical-align: top;\n",
       "    }\n",
       "\n",
       "    .dataframe thead th {\n",
       "        text-align: right;\n",
       "    }\n",
       "</style>\n",
       "<table border=\"1\" class=\"dataframe\">\n",
       "  <thead>\n",
       "    <tr style=\"text-align: right;\">\n",
       "      <th></th>\n",
       "      <th>count</th>\n",
       "      <th>mean</th>\n",
       "      <th>std</th>\n",
       "      <th>min</th>\n",
       "      <th>25%</th>\n",
       "      <th>50%</th>\n",
       "      <th>75%</th>\n",
       "      <th>max</th>\n",
       "    </tr>\n",
       "  </thead>\n",
       "  <tbody>\n",
       "    <tr>\n",
       "      <th>days_estimated_dlv</th>\n",
       "      <td>22978.000</td>\n",
       "      <td>25.324</td>\n",
       "      <td>9.326</td>\n",
       "      <td>8.000</td>\n",
       "      <td>19.000</td>\n",
       "      <td>25.000</td>\n",
       "      <td>31.000</td>\n",
       "      <td>83.000</td>\n",
       "    </tr>\n",
       "    <tr>\n",
       "      <th>days_limit_ship</th>\n",
       "      <td>22978.000</td>\n",
       "      <td>6.425</td>\n",
       "      <td>3.104</td>\n",
       "      <td>2.000</td>\n",
       "      <td>4.000</td>\n",
       "      <td>6.000</td>\n",
       "      <td>8.000</td>\n",
       "      <td>51.000</td>\n",
       "    </tr>\n",
       "    <tr>\n",
       "      <th>price</th>\n",
       "      <td>22978.000</td>\n",
       "      <td>124.392</td>\n",
       "      <td>191.370</td>\n",
       "      <td>0.850</td>\n",
       "      <td>39.990</td>\n",
       "      <td>79.000</td>\n",
       "      <td>135.000</td>\n",
       "      <td>4590.000</td>\n",
       "    </tr>\n",
       "    <tr>\n",
       "      <th>freight_value</th>\n",
       "      <td>22978.000</td>\n",
       "      <td>20.623</td>\n",
       "      <td>17.639</td>\n",
       "      <td>0.000</td>\n",
       "      <td>12.790</td>\n",
       "      <td>17.930</td>\n",
       "      <td>22.770</td>\n",
       "      <td>409.680</td>\n",
       "    </tr>\n",
       "    <tr>\n",
       "      <th>is_samestate</th>\n",
       "      <td>22978.000</td>\n",
       "      <td>0.398</td>\n",
       "      <td>0.489</td>\n",
       "      <td>0.000</td>\n",
       "      <td>0.000</td>\n",
       "      <td>0.000</td>\n",
       "      <td>1.000</td>\n",
       "      <td>1.000</td>\n",
       "    </tr>\n",
       "    <tr>\n",
       "      <th>product_description_lenght</th>\n",
       "      <td>22978.000</td>\n",
       "      <td>816.603</td>\n",
       "      <td>651.470</td>\n",
       "      <td>4.000</td>\n",
       "      <td>368.000</td>\n",
       "      <td>638.000</td>\n",
       "      <td>1007.000</td>\n",
       "      <td>3956.000</td>\n",
       "    </tr>\n",
       "    <tr>\n",
       "      <th>product_photos_qty</th>\n",
       "      <td>22978.000</td>\n",
       "      <td>2.223</td>\n",
       "      <td>1.714</td>\n",
       "      <td>1.000</td>\n",
       "      <td>1.000</td>\n",
       "      <td>1.000</td>\n",
       "      <td>3.000</td>\n",
       "      <td>19.000</td>\n",
       "    </tr>\n",
       "    <tr>\n",
       "      <th>product_weight_g</th>\n",
       "      <td>22978.000</td>\n",
       "      <td>2079.287</td>\n",
       "      <td>3634.769</td>\n",
       "      <td>2.000</td>\n",
       "      <td>300.000</td>\n",
       "      <td>650.000</td>\n",
       "      <td>1813.000</td>\n",
       "      <td>30000.000</td>\n",
       "    </tr>\n",
       "    <tr>\n",
       "      <th>product_volume_cm3</th>\n",
       "      <td>22978.000</td>\n",
       "      <td>14381.719</td>\n",
       "      <td>21425.161</td>\n",
       "      <td>168.000</td>\n",
       "      <td>2800.000</td>\n",
       "      <td>6000.000</td>\n",
       "      <td>17100.000</td>\n",
       "      <td>262080.000</td>\n",
       "    </tr>\n",
       "    <tr>\n",
       "      <th>is_voucher</th>\n",
       "      <td>22978.000</td>\n",
       "      <td>0.033</td>\n",
       "      <td>0.177</td>\n",
       "      <td>0.000</td>\n",
       "      <td>0.000</td>\n",
       "      <td>0.000</td>\n",
       "      <td>0.000</td>\n",
       "      <td>1.000</td>\n",
       "    </tr>\n",
       "    <tr>\n",
       "      <th>is_bankslip</th>\n",
       "      <td>22978.000</td>\n",
       "      <td>0.187</td>\n",
       "      <td>0.390</td>\n",
       "      <td>0.000</td>\n",
       "      <td>0.000</td>\n",
       "      <td>0.000</td>\n",
       "      <td>0.000</td>\n",
       "      <td>1.000</td>\n",
       "    </tr>\n",
       "    <tr>\n",
       "      <th>is_cc</th>\n",
       "      <td>22978.000</td>\n",
       "      <td>0.784</td>\n",
       "      <td>0.412</td>\n",
       "      <td>0.000</td>\n",
       "      <td>1.000</td>\n",
       "      <td>1.000</td>\n",
       "      <td>1.000</td>\n",
       "      <td>1.000</td>\n",
       "    </tr>\n",
       "    <tr>\n",
       "      <th>is_dc</th>\n",
       "      <td>22978.000</td>\n",
       "      <td>0.016</td>\n",
       "      <td>0.127</td>\n",
       "      <td>0.000</td>\n",
       "      <td>0.000</td>\n",
       "      <td>0.000</td>\n",
       "      <td>0.000</td>\n",
       "      <td>1.000</td>\n",
       "    </tr>\n",
       "    <tr>\n",
       "      <th>total_outtime_ratio_seller</th>\n",
       "      <td>22978.000</td>\n",
       "      <td>0.112</td>\n",
       "      <td>0.116</td>\n",
       "      <td>0.000</td>\n",
       "      <td>0.052</td>\n",
       "      <td>0.093</td>\n",
       "      <td>0.137</td>\n",
       "      <td>1.000</td>\n",
       "    </tr>\n",
       "    <tr>\n",
       "      <th>qty_review_low_4_seller</th>\n",
       "      <td>22978.000</td>\n",
       "      <td>0.358</td>\n",
       "      <td>1.248</td>\n",
       "      <td>0.000</td>\n",
       "      <td>0.000</td>\n",
       "      <td>0.000</td>\n",
       "      <td>0.000</td>\n",
       "      <td>13.000</td>\n",
       "    </tr>\n",
       "    <tr>\n",
       "      <th>total_not_delivered_ratio_seller</th>\n",
       "      <td>22978.000</td>\n",
       "      <td>0.016</td>\n",
       "      <td>0.039</td>\n",
       "      <td>0.000</td>\n",
       "      <td>0.000</td>\n",
       "      <td>0.008</td>\n",
       "      <td>0.019</td>\n",
       "      <td>1.000</td>\n",
       "    </tr>\n",
       "    <tr>\n",
       "      <th>total_canceled_ratio_seller</th>\n",
       "      <td>22978.000</td>\n",
       "      <td>0.002</td>\n",
       "      <td>0.013</td>\n",
       "      <td>0.000</td>\n",
       "      <td>0.000</td>\n",
       "      <td>0.000</td>\n",
       "      <td>0.001</td>\n",
       "      <td>1.000</td>\n",
       "    </tr>\n",
       "    <tr>\n",
       "      <th>total_samestate_ratio_seller</th>\n",
       "      <td>22978.000</td>\n",
       "      <td>0.339</td>\n",
       "      <td>0.214</td>\n",
       "      <td>0.000</td>\n",
       "      <td>0.167</td>\n",
       "      <td>0.372</td>\n",
       "      <td>0.474</td>\n",
       "      <td>1.000</td>\n",
       "    </tr>\n",
       "    <tr>\n",
       "      <th>total_bank_slip_ratio_seller</th>\n",
       "      <td>22978.000</td>\n",
       "      <td>0.182</td>\n",
       "      <td>0.121</td>\n",
       "      <td>0.000</td>\n",
       "      <td>0.125</td>\n",
       "      <td>0.184</td>\n",
       "      <td>0.240</td>\n",
       "      <td>1.000</td>\n",
       "    </tr>\n",
       "    <tr>\n",
       "      <th>total_cc_ratio_seller</th>\n",
       "      <td>22978.000</td>\n",
       "      <td>0.731</td>\n",
       "      <td>0.224</td>\n",
       "      <td>0.000</td>\n",
       "      <td>0.710</td>\n",
       "      <td>0.775</td>\n",
       "      <td>0.841</td>\n",
       "      <td>1.000</td>\n",
       "    </tr>\n",
       "    <tr>\n",
       "      <th>revenue_semester_seller</th>\n",
       "      <td>22978.000</td>\n",
       "      <td>20721.642</td>\n",
       "      <td>30120.820</td>\n",
       "      <td>0.000</td>\n",
       "      <td>1688.300</td>\n",
       "      <td>6416.510</td>\n",
       "      <td>24134.120</td>\n",
       "      <td>131876.330</td>\n",
       "    </tr>\n",
       "    <tr>\n",
       "      <th>qty_customers_seller</th>\n",
       "      <td>22978.000</td>\n",
       "      <td>244.152</td>\n",
       "      <td>361.357</td>\n",
       "      <td>0.000</td>\n",
       "      <td>16.000</td>\n",
       "      <td>74.000</td>\n",
       "      <td>293.000</td>\n",
       "      <td>1608.000</td>\n",
       "    </tr>\n",
       "    <tr>\n",
       "      <th>days_first_order_item_seller</th>\n",
       "      <td>22978.000</td>\n",
       "      <td>246.004</td>\n",
       "      <td>162.764</td>\n",
       "      <td>0.000</td>\n",
       "      <td>95.000</td>\n",
       "      <td>244.000</td>\n",
       "      <td>415.000</td>\n",
       "      <td>512.000</td>\n",
       "    </tr>\n",
       "    <tr>\n",
       "      <th>is_new_seller</th>\n",
       "      <td>22978.000</td>\n",
       "      <td>0.131</td>\n",
       "      <td>0.337</td>\n",
       "      <td>0.000</td>\n",
       "      <td>0.000</td>\n",
       "      <td>0.000</td>\n",
       "      <td>0.000</td>\n",
       "      <td>1.000</td>\n",
       "    </tr>\n",
       "    <tr>\n",
       "      <th>distinct_product_seller</th>\n",
       "      <td>22978.000</td>\n",
       "      <td>47.944</td>\n",
       "      <td>65.769</td>\n",
       "      <td>0.000</td>\n",
       "      <td>7.000</td>\n",
       "      <td>21.000</td>\n",
       "      <td>58.000</td>\n",
       "      <td>365.000</td>\n",
       "    </tr>\n",
       "    <tr>\n",
       "      <th>distinct_category_seller</th>\n",
       "      <td>22978.000</td>\n",
       "      <td>3.893</td>\n",
       "      <td>4.445</td>\n",
       "      <td>0.000</td>\n",
       "      <td>1.000</td>\n",
       "      <td>2.000</td>\n",
       "      <td>5.000</td>\n",
       "      <td>25.000</td>\n",
       "    </tr>\n",
       "    <tr>\n",
       "      <th>target</th>\n",
       "      <td>22978.000</td>\n",
       "      <td>0.938</td>\n",
       "      <td>0.241</td>\n",
       "      <td>0.000</td>\n",
       "      <td>1.000</td>\n",
       "      <td>1.000</td>\n",
       "      <td>1.000</td>\n",
       "      <td>1.000</td>\n",
       "    </tr>\n",
       "    <tr>\n",
       "      <th>order_dow_2</th>\n",
       "      <td>22978.000</td>\n",
       "      <td>0.172</td>\n",
       "      <td>0.377</td>\n",
       "      <td>0.000</td>\n",
       "      <td>0.000</td>\n",
       "      <td>0.000</td>\n",
       "      <td>0.000</td>\n",
       "      <td>1.000</td>\n",
       "    </tr>\n",
       "    <tr>\n",
       "      <th>order_dow_3</th>\n",
       "      <td>22978.000</td>\n",
       "      <td>0.161</td>\n",
       "      <td>0.367</td>\n",
       "      <td>0.000</td>\n",
       "      <td>0.000</td>\n",
       "      <td>0.000</td>\n",
       "      <td>0.000</td>\n",
       "      <td>1.000</td>\n",
       "    </tr>\n",
       "    <tr>\n",
       "      <th>order_dow_4</th>\n",
       "      <td>22978.000</td>\n",
       "      <td>0.163</td>\n",
       "      <td>0.370</td>\n",
       "      <td>0.000</td>\n",
       "      <td>0.000</td>\n",
       "      <td>0.000</td>\n",
       "      <td>0.000</td>\n",
       "      <td>1.000</td>\n",
       "    </tr>\n",
       "    <tr>\n",
       "      <th>order_dow_5</th>\n",
       "      <td>22978.000</td>\n",
       "      <td>0.153</td>\n",
       "      <td>0.360</td>\n",
       "      <td>0.000</td>\n",
       "      <td>0.000</td>\n",
       "      <td>0.000</td>\n",
       "      <td>0.000</td>\n",
       "      <td>1.000</td>\n",
       "    </tr>\n",
       "    <tr>\n",
       "      <th>order_dow_6</th>\n",
       "      <td>22978.000</td>\n",
       "      <td>0.132</td>\n",
       "      <td>0.338</td>\n",
       "      <td>0.000</td>\n",
       "      <td>0.000</td>\n",
       "      <td>0.000</td>\n",
       "      <td>0.000</td>\n",
       "      <td>1.000</td>\n",
       "    </tr>\n",
       "    <tr>\n",
       "      <th>order_dow_7</th>\n",
       "      <td>22978.000</td>\n",
       "      <td>0.100</td>\n",
       "      <td>0.300</td>\n",
       "      <td>0.000</td>\n",
       "      <td>0.000</td>\n",
       "      <td>0.000</td>\n",
       "      <td>0.000</td>\n",
       "      <td>1.000</td>\n",
       "    </tr>\n",
       "    <tr>\n",
       "      <th>order_h_12-15</th>\n",
       "      <td>22978.000</td>\n",
       "      <td>0.186</td>\n",
       "      <td>0.389</td>\n",
       "      <td>0.000</td>\n",
       "      <td>0.000</td>\n",
       "      <td>0.000</td>\n",
       "      <td>0.000</td>\n",
       "      <td>1.000</td>\n",
       "    </tr>\n",
       "    <tr>\n",
       "      <th>order_h_16-17</th>\n",
       "      <td>22978.000</td>\n",
       "      <td>0.194</td>\n",
       "      <td>0.396</td>\n",
       "      <td>0.000</td>\n",
       "      <td>0.000</td>\n",
       "      <td>0.000</td>\n",
       "      <td>0.000</td>\n",
       "      <td>1.000</td>\n",
       "    </tr>\n",
       "    <tr>\n",
       "      <th>order_h_18-23</th>\n",
       "      <td>22978.000</td>\n",
       "      <td>0.340</td>\n",
       "      <td>0.474</td>\n",
       "      <td>0.000</td>\n",
       "      <td>0.000</td>\n",
       "      <td>0.000</td>\n",
       "      <td>1.000</td>\n",
       "      <td>1.000</td>\n",
       "    </tr>\n",
       "    <tr>\n",
       "      <th>order_h_8-11</th>\n",
       "      <td>22978.000</td>\n",
       "      <td>0.218</td>\n",
       "      <td>0.413</td>\n",
       "      <td>0.000</td>\n",
       "      <td>0.000</td>\n",
       "      <td>0.000</td>\n",
       "      <td>0.000</td>\n",
       "      <td>1.000</td>\n",
       "    </tr>\n",
       "    <tr>\n",
       "      <th>seller_region_Ne</th>\n",
       "      <td>22978.000</td>\n",
       "      <td>0.019</td>\n",
       "      <td>0.135</td>\n",
       "      <td>0.000</td>\n",
       "      <td>0.000</td>\n",
       "      <td>0.000</td>\n",
       "      <td>0.000</td>\n",
       "      <td>1.000</td>\n",
       "    </tr>\n",
       "    <tr>\n",
       "      <th>seller_region_S</th>\n",
       "      <td>22978.000</td>\n",
       "      <td>0.120</td>\n",
       "      <td>0.325</td>\n",
       "      <td>0.000</td>\n",
       "      <td>0.000</td>\n",
       "      <td>0.000</td>\n",
       "      <td>0.000</td>\n",
       "      <td>1.000</td>\n",
       "    </tr>\n",
       "    <tr>\n",
       "      <th>seller_region_SP</th>\n",
       "      <td>22978.000</td>\n",
       "      <td>0.731</td>\n",
       "      <td>0.443</td>\n",
       "      <td>0.000</td>\n",
       "      <td>0.000</td>\n",
       "      <td>1.000</td>\n",
       "      <td>1.000</td>\n",
       "      <td>1.000</td>\n",
       "    </tr>\n",
       "    <tr>\n",
       "      <th>seller_region_Se</th>\n",
       "      <td>22978.000</td>\n",
       "      <td>0.118</td>\n",
       "      <td>0.323</td>\n",
       "      <td>0.000</td>\n",
       "      <td>0.000</td>\n",
       "      <td>0.000</td>\n",
       "      <td>0.000</td>\n",
       "      <td>1.000</td>\n",
       "    </tr>\n",
       "    <tr>\n",
       "      <th>customer_region_N</th>\n",
       "      <td>22978.000</td>\n",
       "      <td>0.015</td>\n",
       "      <td>0.122</td>\n",
       "      <td>0.000</td>\n",
       "      <td>0.000</td>\n",
       "      <td>0.000</td>\n",
       "      <td>0.000</td>\n",
       "      <td>1.000</td>\n",
       "    </tr>\n",
       "    <tr>\n",
       "      <th>customer_region_Ne</th>\n",
       "      <td>22978.000</td>\n",
       "      <td>0.083</td>\n",
       "      <td>0.277</td>\n",
       "      <td>0.000</td>\n",
       "      <td>0.000</td>\n",
       "      <td>0.000</td>\n",
       "      <td>0.000</td>\n",
       "      <td>1.000</td>\n",
       "    </tr>\n",
       "    <tr>\n",
       "      <th>customer_region_S</th>\n",
       "      <td>22978.000</td>\n",
       "      <td>0.136</td>\n",
       "      <td>0.343</td>\n",
       "      <td>0.000</td>\n",
       "      <td>0.000</td>\n",
       "      <td>0.000</td>\n",
       "      <td>0.000</td>\n",
       "      <td>1.000</td>\n",
       "    </tr>\n",
       "    <tr>\n",
       "      <th>customer_region_SP</th>\n",
       "      <td>22978.000</td>\n",
       "      <td>0.456</td>\n",
       "      <td>0.498</td>\n",
       "      <td>0.000</td>\n",
       "      <td>0.000</td>\n",
       "      <td>0.000</td>\n",
       "      <td>1.000</td>\n",
       "      <td>1.000</td>\n",
       "    </tr>\n",
       "    <tr>\n",
       "      <th>customer_region_Se</th>\n",
       "      <td>22978.000</td>\n",
       "      <td>0.253</td>\n",
       "      <td>0.435</td>\n",
       "      <td>0.000</td>\n",
       "      <td>0.000</td>\n",
       "      <td>0.000</td>\n",
       "      <td>1.000</td>\n",
       "      <td>1.000</td>\n",
       "    </tr>\n",
       "    <tr>\n",
       "      <th>product_category_name_automotivo</th>\n",
       "      <td>22978.000</td>\n",
       "      <td>0.042</td>\n",
       "      <td>0.201</td>\n",
       "      <td>0.000</td>\n",
       "      <td>0.000</td>\n",
       "      <td>0.000</td>\n",
       "      <td>0.000</td>\n",
       "      <td>1.000</td>\n",
       "    </tr>\n",
       "    <tr>\n",
       "      <th>product_category_name_bebes</th>\n",
       "      <td>22978.000</td>\n",
       "      <td>0.032</td>\n",
       "      <td>0.175</td>\n",
       "      <td>0.000</td>\n",
       "      <td>0.000</td>\n",
       "      <td>0.000</td>\n",
       "      <td>0.000</td>\n",
       "      <td>1.000</td>\n",
       "    </tr>\n",
       "    <tr>\n",
       "      <th>product_category_name_beleza_saude</th>\n",
       "      <td>22978.000</td>\n",
       "      <td>0.127</td>\n",
       "      <td>0.333</td>\n",
       "      <td>0.000</td>\n",
       "      <td>0.000</td>\n",
       "      <td>0.000</td>\n",
       "      <td>0.000</td>\n",
       "      <td>1.000</td>\n",
       "    </tr>\n",
       "    <tr>\n",
       "      <th>product_category_name_eletro</th>\n",
       "      <td>22978.000</td>\n",
       "      <td>0.058</td>\n",
       "      <td>0.233</td>\n",
       "      <td>0.000</td>\n",
       "      <td>0.000</td>\n",
       "      <td>0.000</td>\n",
       "      <td>0.000</td>\n",
       "      <td>1.000</td>\n",
       "    </tr>\n",
       "    <tr>\n",
       "      <th>product_category_name_escritorio</th>\n",
       "      <td>22978.000</td>\n",
       "      <td>0.014</td>\n",
       "      <td>0.116</td>\n",
       "      <td>0.000</td>\n",
       "      <td>0.000</td>\n",
       "      <td>0.000</td>\n",
       "      <td>0.000</td>\n",
       "      <td>1.000</td>\n",
       "    </tr>\n",
       "    <tr>\n",
       "      <th>product_category_name_esporte_lazer</th>\n",
       "      <td>22978.000</td>\n",
       "      <td>0.066</td>\n",
       "      <td>0.248</td>\n",
       "      <td>0.000</td>\n",
       "      <td>0.000</td>\n",
       "      <td>0.000</td>\n",
       "      <td>0.000</td>\n",
       "      <td>1.000</td>\n",
       "    </tr>\n",
       "    <tr>\n",
       "      <th>product_category_name_fashion</th>\n",
       "      <td>22978.000</td>\n",
       "      <td>0.022</td>\n",
       "      <td>0.148</td>\n",
       "      <td>0.000</td>\n",
       "      <td>0.000</td>\n",
       "      <td>0.000</td>\n",
       "      <td>0.000</td>\n",
       "      <td>1.000</td>\n",
       "    </tr>\n",
       "    <tr>\n",
       "      <th>product_category_name_home</th>\n",
       "      <td>22978.000</td>\n",
       "      <td>0.327</td>\n",
       "      <td>0.469</td>\n",
       "      <td>0.000</td>\n",
       "      <td>0.000</td>\n",
       "      <td>0.000</td>\n",
       "      <td>1.000</td>\n",
       "      <td>1.000</td>\n",
       "    </tr>\n",
       "    <tr>\n",
       "      <th>product_category_name_informatica</th>\n",
       "      <td>22978.000</td>\n",
       "      <td>0.063</td>\n",
       "      <td>0.244</td>\n",
       "      <td>0.000</td>\n",
       "      <td>0.000</td>\n",
       "      <td>0.000</td>\n",
       "      <td>0.000</td>\n",
       "      <td>1.000</td>\n",
       "    </tr>\n",
       "    <tr>\n",
       "      <th>product_category_name_livros_papelaria</th>\n",
       "      <td>22978.000</td>\n",
       "      <td>0.032</td>\n",
       "      <td>0.177</td>\n",
       "      <td>0.000</td>\n",
       "      <td>0.000</td>\n",
       "      <td>0.000</td>\n",
       "      <td>0.000</td>\n",
       "      <td>1.000</td>\n",
       "    </tr>\n",
       "    <tr>\n",
       "      <th>product_category_name_ni</th>\n",
       "      <td>22978.000</td>\n",
       "      <td>0.006</td>\n",
       "      <td>0.078</td>\n",
       "      <td>0.000</td>\n",
       "      <td>0.000</td>\n",
       "      <td>0.000</td>\n",
       "      <td>0.000</td>\n",
       "      <td>1.000</td>\n",
       "    </tr>\n",
       "    <tr>\n",
       "      <th>product_category_name_pet_shop</th>\n",
       "      <td>22978.000</td>\n",
       "      <td>0.021</td>\n",
       "      <td>0.144</td>\n",
       "      <td>0.000</td>\n",
       "      <td>0.000</td>\n",
       "      <td>0.000</td>\n",
       "      <td>0.000</td>\n",
       "      <td>1.000</td>\n",
       "    </tr>\n",
       "    <tr>\n",
       "      <th>product_category_name_preentes</th>\n",
       "      <td>22978.000</td>\n",
       "      <td>0.000</td>\n",
       "      <td>0.009</td>\n",
       "      <td>0.000</td>\n",
       "      <td>0.000</td>\n",
       "      <td>0.000</td>\n",
       "      <td>0.000</td>\n",
       "      <td>1.000</td>\n",
       "    </tr>\n",
       "    <tr>\n",
       "      <th>product_category_name_presentes</th>\n",
       "      <td>22978.000</td>\n",
       "      <td>0.132</td>\n",
       "      <td>0.339</td>\n",
       "      <td>0.000</td>\n",
       "      <td>0.000</td>\n",
       "      <td>0.000</td>\n",
       "      <td>0.000</td>\n",
       "      <td>1.000</td>\n",
       "    </tr>\n",
       "    <tr>\n",
       "      <th>product_category_name_servico</th>\n",
       "      <td>22978.000</td>\n",
       "      <td>0.010</td>\n",
       "      <td>0.098</td>\n",
       "      <td>0.000</td>\n",
       "      <td>0.000</td>\n",
       "      <td>0.000</td>\n",
       "      <td>0.000</td>\n",
       "      <td>1.000</td>\n",
       "    </tr>\n",
       "    <tr>\n",
       "      <th>product_category_name_telefonia</th>\n",
       "      <td>22978.000</td>\n",
       "      <td>0.035</td>\n",
       "      <td>0.184</td>\n",
       "      <td>0.000</td>\n",
       "      <td>0.000</td>\n",
       "      <td>0.000</td>\n",
       "      <td>0.000</td>\n",
       "      <td>1.000</td>\n",
       "    </tr>\n",
       "  </tbody>\n",
       "</table>\n",
       "</div>"
      ],
      "text/plain": [
       "                                           count      mean       std     min      25%      50%       75%        max\n",
       "days_estimated_dlv                     22978.000    25.324     9.326   8.000   19.000   25.000    31.000     83.000\n",
       "days_limit_ship                        22978.000     6.425     3.104   2.000    4.000    6.000     8.000     51.000\n",
       "price                                  22978.000   124.392   191.370   0.850   39.990   79.000   135.000   4590.000\n",
       "freight_value                          22978.000    20.623    17.639   0.000   12.790   17.930    22.770    409.680\n",
       "is_samestate                           22978.000     0.398     0.489   0.000    0.000    0.000     1.000      1.000\n",
       "product_description_lenght             22978.000   816.603   651.470   4.000  368.000  638.000  1007.000   3956.000\n",
       "product_photos_qty                     22978.000     2.223     1.714   1.000    1.000    1.000     3.000     19.000\n",
       "product_weight_g                       22978.000  2079.287  3634.769   2.000  300.000  650.000  1813.000  30000.000\n",
       "product_volume_cm3                     22978.000 14381.719 21425.161 168.000 2800.000 6000.000 17100.000 262080.000\n",
       "is_voucher                             22978.000     0.033     0.177   0.000    0.000    0.000     0.000      1.000\n",
       "is_bankslip                            22978.000     0.187     0.390   0.000    0.000    0.000     0.000      1.000\n",
       "is_cc                                  22978.000     0.784     0.412   0.000    1.000    1.000     1.000      1.000\n",
       "is_dc                                  22978.000     0.016     0.127   0.000    0.000    0.000     0.000      1.000\n",
       "total_outtime_ratio_seller             22978.000     0.112     0.116   0.000    0.052    0.093     0.137      1.000\n",
       "qty_review_low_4_seller                22978.000     0.358     1.248   0.000    0.000    0.000     0.000     13.000\n",
       "total_not_delivered_ratio_seller       22978.000     0.016     0.039   0.000    0.000    0.008     0.019      1.000\n",
       "total_canceled_ratio_seller            22978.000     0.002     0.013   0.000    0.000    0.000     0.001      1.000\n",
       "total_samestate_ratio_seller           22978.000     0.339     0.214   0.000    0.167    0.372     0.474      1.000\n",
       "total_bank_slip_ratio_seller           22978.000     0.182     0.121   0.000    0.125    0.184     0.240      1.000\n",
       "total_cc_ratio_seller                  22978.000     0.731     0.224   0.000    0.710    0.775     0.841      1.000\n",
       "revenue_semester_seller                22978.000 20721.642 30120.820   0.000 1688.300 6416.510 24134.120 131876.330\n",
       "qty_customers_seller                   22978.000   244.152   361.357   0.000   16.000   74.000   293.000   1608.000\n",
       "days_first_order_item_seller           22978.000   246.004   162.764   0.000   95.000  244.000   415.000    512.000\n",
       "is_new_seller                          22978.000     0.131     0.337   0.000    0.000    0.000     0.000      1.000\n",
       "distinct_product_seller                22978.000    47.944    65.769   0.000    7.000   21.000    58.000    365.000\n",
       "distinct_category_seller               22978.000     3.893     4.445   0.000    1.000    2.000     5.000     25.000\n",
       "target                                 22978.000     0.938     0.241   0.000    1.000    1.000     1.000      1.000\n",
       "order_dow_2                            22978.000     0.172     0.377   0.000    0.000    0.000     0.000      1.000\n",
       "order_dow_3                            22978.000     0.161     0.367   0.000    0.000    0.000     0.000      1.000\n",
       "order_dow_4                            22978.000     0.163     0.370   0.000    0.000    0.000     0.000      1.000\n",
       "order_dow_5                            22978.000     0.153     0.360   0.000    0.000    0.000     0.000      1.000\n",
       "order_dow_6                            22978.000     0.132     0.338   0.000    0.000    0.000     0.000      1.000\n",
       "order_dow_7                            22978.000     0.100     0.300   0.000    0.000    0.000     0.000      1.000\n",
       "order_h_12-15                          22978.000     0.186     0.389   0.000    0.000    0.000     0.000      1.000\n",
       "order_h_16-17                          22978.000     0.194     0.396   0.000    0.000    0.000     0.000      1.000\n",
       "order_h_18-23                          22978.000     0.340     0.474   0.000    0.000    0.000     1.000      1.000\n",
       "order_h_8-11                           22978.000     0.218     0.413   0.000    0.000    0.000     0.000      1.000\n",
       "seller_region_Ne                       22978.000     0.019     0.135   0.000    0.000    0.000     0.000      1.000\n",
       "seller_region_S                        22978.000     0.120     0.325   0.000    0.000    0.000     0.000      1.000\n",
       "seller_region_SP                       22978.000     0.731     0.443   0.000    0.000    1.000     1.000      1.000\n",
       "seller_region_Se                       22978.000     0.118     0.323   0.000    0.000    0.000     0.000      1.000\n",
       "customer_region_N                      22978.000     0.015     0.122   0.000    0.000    0.000     0.000      1.000\n",
       "customer_region_Ne                     22978.000     0.083     0.277   0.000    0.000    0.000     0.000      1.000\n",
       "customer_region_S                      22978.000     0.136     0.343   0.000    0.000    0.000     0.000      1.000\n",
       "customer_region_SP                     22978.000     0.456     0.498   0.000    0.000    0.000     1.000      1.000\n",
       "customer_region_Se                     22978.000     0.253     0.435   0.000    0.000    0.000     1.000      1.000\n",
       "product_category_name_automotivo       22978.000     0.042     0.201   0.000    0.000    0.000     0.000      1.000\n",
       "product_category_name_bebes            22978.000     0.032     0.175   0.000    0.000    0.000     0.000      1.000\n",
       "product_category_name_beleza_saude     22978.000     0.127     0.333   0.000    0.000    0.000     0.000      1.000\n",
       "product_category_name_eletro           22978.000     0.058     0.233   0.000    0.000    0.000     0.000      1.000\n",
       "product_category_name_escritorio       22978.000     0.014     0.116   0.000    0.000    0.000     0.000      1.000\n",
       "product_category_name_esporte_lazer    22978.000     0.066     0.248   0.000    0.000    0.000     0.000      1.000\n",
       "product_category_name_fashion          22978.000     0.022     0.148   0.000    0.000    0.000     0.000      1.000\n",
       "product_category_name_home             22978.000     0.327     0.469   0.000    0.000    0.000     1.000      1.000\n",
       "product_category_name_informatica      22978.000     0.063     0.244   0.000    0.000    0.000     0.000      1.000\n",
       "product_category_name_livros_papelaria 22978.000     0.032     0.177   0.000    0.000    0.000     0.000      1.000\n",
       "product_category_name_ni               22978.000     0.006     0.078   0.000    0.000    0.000     0.000      1.000\n",
       "product_category_name_pet_shop         22978.000     0.021     0.144   0.000    0.000    0.000     0.000      1.000\n",
       "product_category_name_preentes         22978.000     0.000     0.009   0.000    0.000    0.000     0.000      1.000\n",
       "product_category_name_presentes        22978.000     0.132     0.339   0.000    0.000    0.000     0.000      1.000\n",
       "product_category_name_servico          22978.000     0.010     0.098   0.000    0.000    0.000     0.000      1.000\n",
       "product_category_name_telefonia        22978.000     0.035     0.184   0.000    0.000    0.000     0.000      1.000"
      ]
     },
     "execution_count": 63,
     "metadata": {},
     "output_type": "execute_result"
    }
   ],
   "source": [
    "dados_selecionados.describe().transpose()"
   ]
  },
  {
   "cell_type": "markdown",
   "metadata": {},
   "source": [
    "# Determinar melhores variaveis para todos os modelos"
   ]
  },
  {
   "cell_type": "code",
   "execution_count": 64,
   "metadata": {},
   "outputs": [],
   "source": [
    "from sklearn.feature_selection import SelectKBest\n",
    "from sklearn.feature_selection import chi2\n",
    "from sklearn.preprocessing import StandardScaler"
   ]
  },
  {
   "cell_type": "code",
   "execution_count": 65,
   "metadata": {},
   "outputs": [],
   "source": [
    "expl = dados_selecionados.drop(columns=['target'])\n",
    "target = dados_selecionados.target"
   ]
  },
  {
   "cell_type": "code",
   "execution_count": 66,
   "metadata": {},
   "outputs": [],
   "source": [
    "# Normalizar\n",
    "expl_norm = StandardScaler().fit_transform(expl)"
   ]
  },
  {
   "cell_type": "code",
   "execution_count": 67,
   "metadata": {},
   "outputs": [
    {
     "data": {
      "text/plain": [
       "array([[-0.35643511, -0.13692461, -0.08043462, ...,  2.56339715,\n",
       "        -0.09944248, -0.19041712],\n",
       "       [-0.35643511, -0.13692461, -0.08043462, ...,  2.56339715,\n",
       "        -0.09944248, -0.19041712],\n",
       "       [-1.64320229, -0.78118663, -0.45469131, ...,  2.56339715,\n",
       "        -0.09944248, -0.19041712],\n",
       "       ...,\n",
       "       [ 1.14479327,  2.44012349, -0.38926693, ..., -0.39010732,\n",
       "        -0.09944248, -0.19041712],\n",
       "       [ 0.50140968,  2.11799248, -0.38926693, ..., -0.39010732,\n",
       "        -0.09944248, -0.19041712],\n",
       "       [-0.35643511,  0.82946843,  0.54141047, ..., -0.39010732,\n",
       "        -0.09944248, -0.19041712]])"
      ]
     },
     "execution_count": 67,
     "metadata": {},
     "output_type": "execute_result"
    }
   ],
   "source": [
    "expl_norm"
   ]
  },
  {
   "cell_type": "markdown",
   "metadata": {},
   "source": [
    "### baseado em filtro"
   ]
  },
  {
   "cell_type": "code",
   "execution_count": 21,
   "metadata": {},
   "outputs": [
    {
     "data": {
      "text/plain": [
       "SelectKBest(k=25, score_func=<function chi2 at 0x0000022E4A0731F8>)"
      ]
     },
     "execution_count": 21,
     "metadata": {},
     "output_type": "execute_result"
    }
   ],
   "source": [
    "chi_selector = SelectKBest(chi2,k=25)\n",
    "chi_selector.fit(expl,target)"
   ]
  },
  {
   "cell_type": "code",
   "execution_count": 22,
   "metadata": {},
   "outputs": [],
   "source": [
    "chi_support = chi_selector.get_support()\n",
    "chi_feature = expl.loc[:,chi_support].columns.tolist()"
   ]
  },
  {
   "cell_type": "code",
   "execution_count": 23,
   "metadata": {},
   "outputs": [
    {
     "name": "stdout",
     "output_type": "stream",
     "text": [
      "25  é número de variaveis selecionadas\n",
      "['days_estimated_dlv', 'price', 'freight_value', 'is_samestate', 'product_description_lenght', 'product_weight_g', 'product_volume_cm3', 'total_outtime_ratio_seller', 'qty_review_low_4_seller', 'total_not_delivered_ratio_seller', 'revenue_semester_seller', 'qty_customers_seller', 'days_first_order_item_seller', 'distinct_product_seller', 'order_dow_7', 'order_h_18-23', 'order_h_8-11', 'seller_region_Ne', 'seller_region_S', 'customer_region_N', 'customer_region_Ne', 'customer_region_S', 'customer_region_SP', 'customer_region_Se', 'product_category_name_beleza_saude']\n"
     ]
    }
   ],
   "source": [
    "print(len(chi_feature), ' é número de variaveis selecionadas')\n",
    "print(chi_feature)"
   ]
  },
  {
   "cell_type": "markdown",
   "metadata": {},
   "source": [
    "### wraper"
   ]
  },
  {
   "cell_type": "code",
   "execution_count": 24,
   "metadata": {},
   "outputs": [],
   "source": [
    "from sklearn.feature_selection import RFE\n",
    "from sklearn.linear_model import LogisticRegression"
   ]
  },
  {
   "cell_type": "code",
   "execution_count": 25,
   "metadata": {},
   "outputs": [],
   "source": [
    "rfe_selector = RFE(estimator=LogisticRegression( C=1.0, class_weight=None, dual=False,\n",
    "                                                 fit_intercept=True, intercept_scaling=1,\n",
    "                                                 l1_ratio=None, max_iter=1000,\n",
    "                                                 multi_class='auto', n_jobs=None, penalty='l2',\n",
    "                                                 random_state=42, solver='lbfgs', tol=0.0001,\n",
    "                                                 verbose=0, warm_start=False),\n",
    "                  step=100,           \n",
    "                  n_features_to_select=25)\n",
    "rfe_selector.fit(expl,target)\n",
    "rfe_support = rfe_selector.get_support()\n",
    "rfe_feature = expl.loc[:,rfe_support].columns.tolist()"
   ]
  },
  {
   "cell_type": "code",
   "execution_count": 26,
   "metadata": {},
   "outputs": [
    {
     "name": "stdout",
     "output_type": "stream",
     "text": [
      "25  é número de variaveis selecionadas\n",
      "['days_estimated_dlv', 'days_limit_ship', 'freight_value', 'is_samestate', 'product_photos_qty', 'is_cc', 'qty_review_low_4_seller', 'total_samestate_ratio_seller', 'total_cc_ratio_seller', 'is_new_seller', 'distinct_category_seller', 'order_dow_2', 'order_dow_3', 'order_dow_5', 'order_dow_6', 'order_h_12-15', 'order_h_8-11', 'seller_region_S', 'seller_region_SP', 'customer_region_N', 'customer_region_Ne', 'customer_region_S', 'customer_region_SP', 'customer_region_Se', 'product_category_name_home']\n"
     ]
    }
   ],
   "source": [
    "print(len(rfe_feature), ' é número de variaveis selecionadas')\n",
    "print(rfe_feature)"
   ]
  },
  {
   "cell_type": "code",
   "execution_count": 27,
   "metadata": {},
   "outputs": [],
   "source": [
    "from sklearn.feature_selection import SelectFromModel\n",
    "from sklearn.ensemble import RandomForestClassifier\n",
    "rfe_selector1 = RFE(estimator=RandomForestClassifier(n_estimators=300),\n",
    "                  step=100,           \n",
    "                  n_features_to_select=25)\n",
    "rfe_selector1.fit(expl,target)\n",
    "rfe_support1 = rfe_selector1.get_support()\n",
    "rfe_feature1 = expl.loc[:,rfe_support1].columns.tolist()"
   ]
  },
  {
   "cell_type": "code",
   "execution_count": 28,
   "metadata": {},
   "outputs": [
    {
     "name": "stdout",
     "output_type": "stream",
     "text": [
      "25  é número de variaveis selecionadas\n",
      "['days_estimated_dlv', 'days_limit_ship', 'price', 'freight_value', 'product_description_lenght', 'product_photos_qty', 'product_weight_g', 'product_volume_cm3', 'total_outtime_ratio_seller', 'total_not_delivered_ratio_seller', 'total_canceled_ratio_seller', 'total_samestate_ratio_seller', 'total_bank_slip_ratio_seller', 'total_cc_ratio_seller', 'revenue_semester_seller', 'qty_customers_seller', 'days_first_order_item_seller', 'distinct_product_seller', 'distinct_category_seller', 'order_dow_2', 'order_dow_4', 'order_h_16-17', 'order_h_18-23', 'order_h_8-11', 'customer_region_Ne']\n"
     ]
    }
   ],
   "source": [
    "print(len(rfe_feature1), ' é número de variaveis selecionadas')\n",
    "print(rfe_feature1)"
   ]
  },
  {
   "cell_type": "markdown",
   "metadata": {},
   "source": [
    "### Embarcada"
   ]
  },
  {
   "cell_type": "code",
   "execution_count": 29,
   "metadata": {},
   "outputs": [],
   "source": [
    "from sklearn.feature_selection import SelectFromModel\n",
    "from sklearn.ensemble import RandomForestClassifier"
   ]
  },
  {
   "cell_type": "code",
   "execution_count": 30,
   "metadata": {},
   "outputs": [],
   "source": [
    "rf_selector = SelectFromModel(estimator=RandomForestClassifier(n_estimators=300),\n",
    "                              max_features=25)\n",
    "rf_selector.fit(expl,target)\n",
    "rf_support = rf_selector.get_support()\n",
    "rf_feature = expl.loc[:,rf_support].columns.tolist()"
   ]
  },
  {
   "cell_type": "code",
   "execution_count": 31,
   "metadata": {},
   "outputs": [
    {
     "name": "stdout",
     "output_type": "stream",
     "text": [
      "19  é número de variaveis selecionadas\n",
      "['days_estimated_dlv', 'days_limit_ship', 'price', 'freight_value', 'product_description_lenght', 'product_photos_qty', 'product_weight_g', 'product_volume_cm3', 'total_outtime_ratio_seller', 'total_not_delivered_ratio_seller', 'total_samestate_ratio_seller', 'total_bank_slip_ratio_seller', 'total_cc_ratio_seller', 'revenue_semester_seller', 'qty_customers_seller', 'days_first_order_item_seller', 'distinct_product_seller', 'distinct_category_seller', 'customer_region_Ne']\n"
     ]
    }
   ],
   "source": [
    "print(len(rf_feature), ' é número de variaveis selecionadas')\n",
    "print(rf_feature)"
   ]
  },
  {
   "cell_type": "code",
   "execution_count": 32,
   "metadata": {},
   "outputs": [],
   "source": [
    "from sklearn.ensemble import GradientBoostingClassifier\n",
    "rf_selector1 = SelectFromModel(estimator=GradientBoostingClassifier(random_state=42),\n",
    "                              max_features=25)\n",
    "rf_selector1.fit(expl,target)\n",
    "rf_support1 = rf_selector1.get_support()\n",
    "rf_feature1 = expl.loc[:,rf_support1].columns.tolist()"
   ]
  },
  {
   "cell_type": "code",
   "execution_count": 33,
   "metadata": {},
   "outputs": [
    {
     "name": "stdout",
     "output_type": "stream",
     "text": [
      "15  é número de variaveis selecionadas\n",
      "['days_estimated_dlv', 'days_limit_ship', 'price', 'freight_value', 'is_samestate', 'product_description_lenght', 'product_weight_g', 'total_outtime_ratio_seller', 'total_not_delivered_ratio_seller', 'revenue_semester_seller', 'days_first_order_item_seller', 'seller_region_Ne', 'customer_region_N', 'customer_region_Ne', 'customer_region_Se']\n"
     ]
    }
   ],
   "source": [
    "print(len(rf_feature1), ' é número de variaveis selecionadas')\n",
    "print(rf_feature1)"
   ]
  },
  {
   "cell_type": "code",
   "execution_count": 34,
   "metadata": {},
   "outputs": [
    {
     "data": {
      "text/html": [
       "<div>\n",
       "<style scoped>\n",
       "    .dataframe tbody tr th:only-of-type {\n",
       "        vertical-align: middle;\n",
       "    }\n",
       "\n",
       "    .dataframe tbody tr th {\n",
       "        vertical-align: top;\n",
       "    }\n",
       "\n",
       "    .dataframe thead th {\n",
       "        text-align: right;\n",
       "    }\n",
       "</style>\n",
       "<table border=\"1\" class=\"dataframe\">\n",
       "  <thead>\n",
       "    <tr style=\"text-align: right;\">\n",
       "      <th></th>\n",
       "      <th>Variaveis</th>\n",
       "      <th>Chi-2</th>\n",
       "      <th>RFE</th>\n",
       "      <th>RFE1</th>\n",
       "      <th>RF</th>\n",
       "      <th>RF1</th>\n",
       "      <th>Total</th>\n",
       "    </tr>\n",
       "  </thead>\n",
       "  <tbody>\n",
       "    <tr>\n",
       "      <th>1</th>\n",
       "      <td>freight_value</td>\n",
       "      <td>True</td>\n",
       "      <td>True</td>\n",
       "      <td>True</td>\n",
       "      <td>True</td>\n",
       "      <td>True</td>\n",
       "      <td>5</td>\n",
       "    </tr>\n",
       "    <tr>\n",
       "      <th>2</th>\n",
       "      <td>days_estimated_dlv</td>\n",
       "      <td>True</td>\n",
       "      <td>True</td>\n",
       "      <td>True</td>\n",
       "      <td>True</td>\n",
       "      <td>True</td>\n",
       "      <td>5</td>\n",
       "    </tr>\n",
       "    <tr>\n",
       "      <th>3</th>\n",
       "      <td>customer_region_Ne</td>\n",
       "      <td>True</td>\n",
       "      <td>True</td>\n",
       "      <td>True</td>\n",
       "      <td>True</td>\n",
       "      <td>True</td>\n",
       "      <td>5</td>\n",
       "    </tr>\n",
       "    <tr>\n",
       "      <th>4</th>\n",
       "      <td>total_outtime_ratio_seller</td>\n",
       "      <td>True</td>\n",
       "      <td>False</td>\n",
       "      <td>True</td>\n",
       "      <td>True</td>\n",
       "      <td>True</td>\n",
       "      <td>4</td>\n",
       "    </tr>\n",
       "    <tr>\n",
       "      <th>5</th>\n",
       "      <td>total_not_delivered_ratio_seller</td>\n",
       "      <td>True</td>\n",
       "      <td>False</td>\n",
       "      <td>True</td>\n",
       "      <td>True</td>\n",
       "      <td>True</td>\n",
       "      <td>4</td>\n",
       "    </tr>\n",
       "    <tr>\n",
       "      <th>6</th>\n",
       "      <td>revenue_semester_seller</td>\n",
       "      <td>True</td>\n",
       "      <td>False</td>\n",
       "      <td>True</td>\n",
       "      <td>True</td>\n",
       "      <td>True</td>\n",
       "      <td>4</td>\n",
       "    </tr>\n",
       "    <tr>\n",
       "      <th>7</th>\n",
       "      <td>product_weight_g</td>\n",
       "      <td>True</td>\n",
       "      <td>False</td>\n",
       "      <td>True</td>\n",
       "      <td>True</td>\n",
       "      <td>True</td>\n",
       "      <td>4</td>\n",
       "    </tr>\n",
       "    <tr>\n",
       "      <th>8</th>\n",
       "      <td>product_description_lenght</td>\n",
       "      <td>True</td>\n",
       "      <td>False</td>\n",
       "      <td>True</td>\n",
       "      <td>True</td>\n",
       "      <td>True</td>\n",
       "      <td>4</td>\n",
       "    </tr>\n",
       "    <tr>\n",
       "      <th>9</th>\n",
       "      <td>price</td>\n",
       "      <td>True</td>\n",
       "      <td>False</td>\n",
       "      <td>True</td>\n",
       "      <td>True</td>\n",
       "      <td>True</td>\n",
       "      <td>4</td>\n",
       "    </tr>\n",
       "    <tr>\n",
       "      <th>10</th>\n",
       "      <td>days_limit_ship</td>\n",
       "      <td>False</td>\n",
       "      <td>True</td>\n",
       "      <td>True</td>\n",
       "      <td>True</td>\n",
       "      <td>True</td>\n",
       "      <td>4</td>\n",
       "    </tr>\n",
       "    <tr>\n",
       "      <th>11</th>\n",
       "      <td>days_first_order_item_seller</td>\n",
       "      <td>True</td>\n",
       "      <td>False</td>\n",
       "      <td>True</td>\n",
       "      <td>True</td>\n",
       "      <td>True</td>\n",
       "      <td>4</td>\n",
       "    </tr>\n",
       "    <tr>\n",
       "      <th>12</th>\n",
       "      <td>total_samestate_ratio_seller</td>\n",
       "      <td>False</td>\n",
       "      <td>True</td>\n",
       "      <td>True</td>\n",
       "      <td>True</td>\n",
       "      <td>False</td>\n",
       "      <td>3</td>\n",
       "    </tr>\n",
       "    <tr>\n",
       "      <th>13</th>\n",
       "      <td>total_cc_ratio_seller</td>\n",
       "      <td>False</td>\n",
       "      <td>True</td>\n",
       "      <td>True</td>\n",
       "      <td>True</td>\n",
       "      <td>False</td>\n",
       "      <td>3</td>\n",
       "    </tr>\n",
       "    <tr>\n",
       "      <th>14</th>\n",
       "      <td>qty_customers_seller</td>\n",
       "      <td>True</td>\n",
       "      <td>False</td>\n",
       "      <td>True</td>\n",
       "      <td>True</td>\n",
       "      <td>False</td>\n",
       "      <td>3</td>\n",
       "    </tr>\n",
       "    <tr>\n",
       "      <th>15</th>\n",
       "      <td>product_volume_cm3</td>\n",
       "      <td>True</td>\n",
       "      <td>False</td>\n",
       "      <td>True</td>\n",
       "      <td>True</td>\n",
       "      <td>False</td>\n",
       "      <td>3</td>\n",
       "    </tr>\n",
       "    <tr>\n",
       "      <th>16</th>\n",
       "      <td>product_photos_qty</td>\n",
       "      <td>False</td>\n",
       "      <td>True</td>\n",
       "      <td>True</td>\n",
       "      <td>True</td>\n",
       "      <td>False</td>\n",
       "      <td>3</td>\n",
       "    </tr>\n",
       "    <tr>\n",
       "      <th>17</th>\n",
       "      <td>order_h_8-11</td>\n",
       "      <td>True</td>\n",
       "      <td>True</td>\n",
       "      <td>True</td>\n",
       "      <td>False</td>\n",
       "      <td>False</td>\n",
       "      <td>3</td>\n",
       "    </tr>\n",
       "    <tr>\n",
       "      <th>18</th>\n",
       "      <td>is_samestate</td>\n",
       "      <td>True</td>\n",
       "      <td>True</td>\n",
       "      <td>False</td>\n",
       "      <td>False</td>\n",
       "      <td>True</td>\n",
       "      <td>3</td>\n",
       "    </tr>\n",
       "    <tr>\n",
       "      <th>19</th>\n",
       "      <td>distinct_product_seller</td>\n",
       "      <td>True</td>\n",
       "      <td>False</td>\n",
       "      <td>True</td>\n",
       "      <td>True</td>\n",
       "      <td>False</td>\n",
       "      <td>3</td>\n",
       "    </tr>\n",
       "    <tr>\n",
       "      <th>20</th>\n",
       "      <td>distinct_category_seller</td>\n",
       "      <td>False</td>\n",
       "      <td>True</td>\n",
       "      <td>True</td>\n",
       "      <td>True</td>\n",
       "      <td>False</td>\n",
       "      <td>3</td>\n",
       "    </tr>\n",
       "    <tr>\n",
       "      <th>21</th>\n",
       "      <td>customer_region_Se</td>\n",
       "      <td>True</td>\n",
       "      <td>True</td>\n",
       "      <td>False</td>\n",
       "      <td>False</td>\n",
       "      <td>True</td>\n",
       "      <td>3</td>\n",
       "    </tr>\n",
       "    <tr>\n",
       "      <th>22</th>\n",
       "      <td>customer_region_N</td>\n",
       "      <td>True</td>\n",
       "      <td>True</td>\n",
       "      <td>False</td>\n",
       "      <td>False</td>\n",
       "      <td>True</td>\n",
       "      <td>3</td>\n",
       "    </tr>\n",
       "    <tr>\n",
       "      <th>23</th>\n",
       "      <td>total_bank_slip_ratio_seller</td>\n",
       "      <td>False</td>\n",
       "      <td>False</td>\n",
       "      <td>True</td>\n",
       "      <td>True</td>\n",
       "      <td>False</td>\n",
       "      <td>2</td>\n",
       "    </tr>\n",
       "    <tr>\n",
       "      <th>24</th>\n",
       "      <td>seller_region_S</td>\n",
       "      <td>True</td>\n",
       "      <td>True</td>\n",
       "      <td>False</td>\n",
       "      <td>False</td>\n",
       "      <td>False</td>\n",
       "      <td>2</td>\n",
       "    </tr>\n",
       "    <tr>\n",
       "      <th>25</th>\n",
       "      <td>seller_region_Ne</td>\n",
       "      <td>True</td>\n",
       "      <td>False</td>\n",
       "      <td>False</td>\n",
       "      <td>False</td>\n",
       "      <td>True</td>\n",
       "      <td>2</td>\n",
       "    </tr>\n",
       "    <tr>\n",
       "      <th>26</th>\n",
       "      <td>qty_review_low_4_seller</td>\n",
       "      <td>True</td>\n",
       "      <td>True</td>\n",
       "      <td>False</td>\n",
       "      <td>False</td>\n",
       "      <td>False</td>\n",
       "      <td>2</td>\n",
       "    </tr>\n",
       "    <tr>\n",
       "      <th>27</th>\n",
       "      <td>order_h_18-23</td>\n",
       "      <td>True</td>\n",
       "      <td>False</td>\n",
       "      <td>True</td>\n",
       "      <td>False</td>\n",
       "      <td>False</td>\n",
       "      <td>2</td>\n",
       "    </tr>\n",
       "    <tr>\n",
       "      <th>28</th>\n",
       "      <td>order_dow_2</td>\n",
       "      <td>False</td>\n",
       "      <td>True</td>\n",
       "      <td>True</td>\n",
       "      <td>False</td>\n",
       "      <td>False</td>\n",
       "      <td>2</td>\n",
       "    </tr>\n",
       "    <tr>\n",
       "      <th>29</th>\n",
       "      <td>customer_region_SP</td>\n",
       "      <td>True</td>\n",
       "      <td>True</td>\n",
       "      <td>False</td>\n",
       "      <td>False</td>\n",
       "      <td>False</td>\n",
       "      <td>2</td>\n",
       "    </tr>\n",
       "    <tr>\n",
       "      <th>30</th>\n",
       "      <td>customer_region_S</td>\n",
       "      <td>True</td>\n",
       "      <td>True</td>\n",
       "      <td>False</td>\n",
       "      <td>False</td>\n",
       "      <td>False</td>\n",
       "      <td>2</td>\n",
       "    </tr>\n",
       "    <tr>\n",
       "      <th>31</th>\n",
       "      <td>total_canceled_ratio_seller</td>\n",
       "      <td>False</td>\n",
       "      <td>False</td>\n",
       "      <td>True</td>\n",
       "      <td>False</td>\n",
       "      <td>False</td>\n",
       "      <td>1</td>\n",
       "    </tr>\n",
       "    <tr>\n",
       "      <th>32</th>\n",
       "      <td>seller_region_SP</td>\n",
       "      <td>False</td>\n",
       "      <td>True</td>\n",
       "      <td>False</td>\n",
       "      <td>False</td>\n",
       "      <td>False</td>\n",
       "      <td>1</td>\n",
       "    </tr>\n",
       "    <tr>\n",
       "      <th>33</th>\n",
       "      <td>product_category_name_home</td>\n",
       "      <td>False</td>\n",
       "      <td>True</td>\n",
       "      <td>False</td>\n",
       "      <td>False</td>\n",
       "      <td>False</td>\n",
       "      <td>1</td>\n",
       "    </tr>\n",
       "    <tr>\n",
       "      <th>34</th>\n",
       "      <td>product_category_name_beleza_saude</td>\n",
       "      <td>True</td>\n",
       "      <td>False</td>\n",
       "      <td>False</td>\n",
       "      <td>False</td>\n",
       "      <td>False</td>\n",
       "      <td>1</td>\n",
       "    </tr>\n",
       "    <tr>\n",
       "      <th>35</th>\n",
       "      <td>order_h_16-17</td>\n",
       "      <td>False</td>\n",
       "      <td>False</td>\n",
       "      <td>True</td>\n",
       "      <td>False</td>\n",
       "      <td>False</td>\n",
       "      <td>1</td>\n",
       "    </tr>\n",
       "    <tr>\n",
       "      <th>36</th>\n",
       "      <td>order_h_12-15</td>\n",
       "      <td>False</td>\n",
       "      <td>True</td>\n",
       "      <td>False</td>\n",
       "      <td>False</td>\n",
       "      <td>False</td>\n",
       "      <td>1</td>\n",
       "    </tr>\n",
       "    <tr>\n",
       "      <th>37</th>\n",
       "      <td>order_dow_7</td>\n",
       "      <td>True</td>\n",
       "      <td>False</td>\n",
       "      <td>False</td>\n",
       "      <td>False</td>\n",
       "      <td>False</td>\n",
       "      <td>1</td>\n",
       "    </tr>\n",
       "    <tr>\n",
       "      <th>38</th>\n",
       "      <td>order_dow_6</td>\n",
       "      <td>False</td>\n",
       "      <td>True</td>\n",
       "      <td>False</td>\n",
       "      <td>False</td>\n",
       "      <td>False</td>\n",
       "      <td>1</td>\n",
       "    </tr>\n",
       "    <tr>\n",
       "      <th>39</th>\n",
       "      <td>order_dow_5</td>\n",
       "      <td>False</td>\n",
       "      <td>True</td>\n",
       "      <td>False</td>\n",
       "      <td>False</td>\n",
       "      <td>False</td>\n",
       "      <td>1</td>\n",
       "    </tr>\n",
       "    <tr>\n",
       "      <th>40</th>\n",
       "      <td>order_dow_4</td>\n",
       "      <td>False</td>\n",
       "      <td>False</td>\n",
       "      <td>True</td>\n",
       "      <td>False</td>\n",
       "      <td>False</td>\n",
       "      <td>1</td>\n",
       "    </tr>\n",
       "    <tr>\n",
       "      <th>41</th>\n",
       "      <td>order_dow_3</td>\n",
       "      <td>False</td>\n",
       "      <td>True</td>\n",
       "      <td>False</td>\n",
       "      <td>False</td>\n",
       "      <td>False</td>\n",
       "      <td>1</td>\n",
       "    </tr>\n",
       "    <tr>\n",
       "      <th>42</th>\n",
       "      <td>is_new_seller</td>\n",
       "      <td>False</td>\n",
       "      <td>True</td>\n",
       "      <td>False</td>\n",
       "      <td>False</td>\n",
       "      <td>False</td>\n",
       "      <td>1</td>\n",
       "    </tr>\n",
       "    <tr>\n",
       "      <th>43</th>\n",
       "      <td>is_cc</td>\n",
       "      <td>False</td>\n",
       "      <td>True</td>\n",
       "      <td>False</td>\n",
       "      <td>False</td>\n",
       "      <td>False</td>\n",
       "      <td>1</td>\n",
       "    </tr>\n",
       "    <tr>\n",
       "      <th>44</th>\n",
       "      <td>seller_region_Se</td>\n",
       "      <td>False</td>\n",
       "      <td>False</td>\n",
       "      <td>False</td>\n",
       "      <td>False</td>\n",
       "      <td>False</td>\n",
       "      <td>0</td>\n",
       "    </tr>\n",
       "    <tr>\n",
       "      <th>45</th>\n",
       "      <td>product_category_name_telefonia</td>\n",
       "      <td>False</td>\n",
       "      <td>False</td>\n",
       "      <td>False</td>\n",
       "      <td>False</td>\n",
       "      <td>False</td>\n",
       "      <td>0</td>\n",
       "    </tr>\n",
       "    <tr>\n",
       "      <th>46</th>\n",
       "      <td>product_category_name_servico</td>\n",
       "      <td>False</td>\n",
       "      <td>False</td>\n",
       "      <td>False</td>\n",
       "      <td>False</td>\n",
       "      <td>False</td>\n",
       "      <td>0</td>\n",
       "    </tr>\n",
       "    <tr>\n",
       "      <th>47</th>\n",
       "      <td>product_category_name_presentes</td>\n",
       "      <td>False</td>\n",
       "      <td>False</td>\n",
       "      <td>False</td>\n",
       "      <td>False</td>\n",
       "      <td>False</td>\n",
       "      <td>0</td>\n",
       "    </tr>\n",
       "    <tr>\n",
       "      <th>48</th>\n",
       "      <td>product_category_name_preentes</td>\n",
       "      <td>False</td>\n",
       "      <td>False</td>\n",
       "      <td>False</td>\n",
       "      <td>False</td>\n",
       "      <td>False</td>\n",
       "      <td>0</td>\n",
       "    </tr>\n",
       "    <tr>\n",
       "      <th>49</th>\n",
       "      <td>product_category_name_pet_shop</td>\n",
       "      <td>False</td>\n",
       "      <td>False</td>\n",
       "      <td>False</td>\n",
       "      <td>False</td>\n",
       "      <td>False</td>\n",
       "      <td>0</td>\n",
       "    </tr>\n",
       "    <tr>\n",
       "      <th>50</th>\n",
       "      <td>product_category_name_ni</td>\n",
       "      <td>False</td>\n",
       "      <td>False</td>\n",
       "      <td>False</td>\n",
       "      <td>False</td>\n",
       "      <td>False</td>\n",
       "      <td>0</td>\n",
       "    </tr>\n",
       "    <tr>\n",
       "      <th>51</th>\n",
       "      <td>product_category_name_livros_papelaria</td>\n",
       "      <td>False</td>\n",
       "      <td>False</td>\n",
       "      <td>False</td>\n",
       "      <td>False</td>\n",
       "      <td>False</td>\n",
       "      <td>0</td>\n",
       "    </tr>\n",
       "    <tr>\n",
       "      <th>52</th>\n",
       "      <td>product_category_name_informatica</td>\n",
       "      <td>False</td>\n",
       "      <td>False</td>\n",
       "      <td>False</td>\n",
       "      <td>False</td>\n",
       "      <td>False</td>\n",
       "      <td>0</td>\n",
       "    </tr>\n",
       "    <tr>\n",
       "      <th>53</th>\n",
       "      <td>product_category_name_fashion</td>\n",
       "      <td>False</td>\n",
       "      <td>False</td>\n",
       "      <td>False</td>\n",
       "      <td>False</td>\n",
       "      <td>False</td>\n",
       "      <td>0</td>\n",
       "    </tr>\n",
       "    <tr>\n",
       "      <th>54</th>\n",
       "      <td>product_category_name_esporte_lazer</td>\n",
       "      <td>False</td>\n",
       "      <td>False</td>\n",
       "      <td>False</td>\n",
       "      <td>False</td>\n",
       "      <td>False</td>\n",
       "      <td>0</td>\n",
       "    </tr>\n",
       "    <tr>\n",
       "      <th>55</th>\n",
       "      <td>product_category_name_escritorio</td>\n",
       "      <td>False</td>\n",
       "      <td>False</td>\n",
       "      <td>False</td>\n",
       "      <td>False</td>\n",
       "      <td>False</td>\n",
       "      <td>0</td>\n",
       "    </tr>\n",
       "    <tr>\n",
       "      <th>56</th>\n",
       "      <td>product_category_name_eletro</td>\n",
       "      <td>False</td>\n",
       "      <td>False</td>\n",
       "      <td>False</td>\n",
       "      <td>False</td>\n",
       "      <td>False</td>\n",
       "      <td>0</td>\n",
       "    </tr>\n",
       "    <tr>\n",
       "      <th>57</th>\n",
       "      <td>product_category_name_bebes</td>\n",
       "      <td>False</td>\n",
       "      <td>False</td>\n",
       "      <td>False</td>\n",
       "      <td>False</td>\n",
       "      <td>False</td>\n",
       "      <td>0</td>\n",
       "    </tr>\n",
       "    <tr>\n",
       "      <th>58</th>\n",
       "      <td>product_category_name_automotivo</td>\n",
       "      <td>False</td>\n",
       "      <td>False</td>\n",
       "      <td>False</td>\n",
       "      <td>False</td>\n",
       "      <td>False</td>\n",
       "      <td>0</td>\n",
       "    </tr>\n",
       "    <tr>\n",
       "      <th>59</th>\n",
       "      <td>is_voucher</td>\n",
       "      <td>False</td>\n",
       "      <td>False</td>\n",
       "      <td>False</td>\n",
       "      <td>False</td>\n",
       "      <td>False</td>\n",
       "      <td>0</td>\n",
       "    </tr>\n",
       "    <tr>\n",
       "      <th>60</th>\n",
       "      <td>is_dc</td>\n",
       "      <td>False</td>\n",
       "      <td>False</td>\n",
       "      <td>False</td>\n",
       "      <td>False</td>\n",
       "      <td>False</td>\n",
       "      <td>0</td>\n",
       "    </tr>\n",
       "    <tr>\n",
       "      <th>61</th>\n",
       "      <td>is_bankslip</td>\n",
       "      <td>False</td>\n",
       "      <td>False</td>\n",
       "      <td>False</td>\n",
       "      <td>False</td>\n",
       "      <td>False</td>\n",
       "      <td>0</td>\n",
       "    </tr>\n",
       "  </tbody>\n",
       "</table>\n",
       "</div>"
      ],
      "text/plain": [
       "                                 Variaveis  Chi-2    RFE   RFE1     RF    RF1  Total\n",
       "1                            freight_value   True   True   True   True   True      5\n",
       "2                       days_estimated_dlv   True   True   True   True   True      5\n",
       "3                       customer_region_Ne   True   True   True   True   True      5\n",
       "4               total_outtime_ratio_seller   True  False   True   True   True      4\n",
       "5         total_not_delivered_ratio_seller   True  False   True   True   True      4\n",
       "6                  revenue_semester_seller   True  False   True   True   True      4\n",
       "7                         product_weight_g   True  False   True   True   True      4\n",
       "8               product_description_lenght   True  False   True   True   True      4\n",
       "9                                    price   True  False   True   True   True      4\n",
       "10                         days_limit_ship  False   True   True   True   True      4\n",
       "11            days_first_order_item_seller   True  False   True   True   True      4\n",
       "12            total_samestate_ratio_seller  False   True   True   True  False      3\n",
       "13                   total_cc_ratio_seller  False   True   True   True  False      3\n",
       "14                    qty_customers_seller   True  False   True   True  False      3\n",
       "15                      product_volume_cm3   True  False   True   True  False      3\n",
       "16                      product_photos_qty  False   True   True   True  False      3\n",
       "17                            order_h_8-11   True   True   True  False  False      3\n",
       "18                            is_samestate   True   True  False  False   True      3\n",
       "19                 distinct_product_seller   True  False   True   True  False      3\n",
       "20                distinct_category_seller  False   True   True   True  False      3\n",
       "21                      customer_region_Se   True   True  False  False   True      3\n",
       "22                       customer_region_N   True   True  False  False   True      3\n",
       "23            total_bank_slip_ratio_seller  False  False   True   True  False      2\n",
       "24                         seller_region_S   True   True  False  False  False      2\n",
       "25                        seller_region_Ne   True  False  False  False   True      2\n",
       "26                 qty_review_low_4_seller   True   True  False  False  False      2\n",
       "27                           order_h_18-23   True  False   True  False  False      2\n",
       "28                             order_dow_2  False   True   True  False  False      2\n",
       "29                      customer_region_SP   True   True  False  False  False      2\n",
       "30                       customer_region_S   True   True  False  False  False      2\n",
       "31             total_canceled_ratio_seller  False  False   True  False  False      1\n",
       "32                        seller_region_SP  False   True  False  False  False      1\n",
       "33              product_category_name_home  False   True  False  False  False      1\n",
       "34      product_category_name_beleza_saude   True  False  False  False  False      1\n",
       "35                           order_h_16-17  False  False   True  False  False      1\n",
       "36                           order_h_12-15  False   True  False  False  False      1\n",
       "37                             order_dow_7   True  False  False  False  False      1\n",
       "38                             order_dow_6  False   True  False  False  False      1\n",
       "39                             order_dow_5  False   True  False  False  False      1\n",
       "40                             order_dow_4  False  False   True  False  False      1\n",
       "41                             order_dow_3  False   True  False  False  False      1\n",
       "42                           is_new_seller  False   True  False  False  False      1\n",
       "43                                   is_cc  False   True  False  False  False      1\n",
       "44                        seller_region_Se  False  False  False  False  False      0\n",
       "45         product_category_name_telefonia  False  False  False  False  False      0\n",
       "46           product_category_name_servico  False  False  False  False  False      0\n",
       "47         product_category_name_presentes  False  False  False  False  False      0\n",
       "48          product_category_name_preentes  False  False  False  False  False      0\n",
       "49          product_category_name_pet_shop  False  False  False  False  False      0\n",
       "50                product_category_name_ni  False  False  False  False  False      0\n",
       "51  product_category_name_livros_papelaria  False  False  False  False  False      0\n",
       "52       product_category_name_informatica  False  False  False  False  False      0\n",
       "53           product_category_name_fashion  False  False  False  False  False      0\n",
       "54     product_category_name_esporte_lazer  False  False  False  False  False      0\n",
       "55        product_category_name_escritorio  False  False  False  False  False      0\n",
       "56            product_category_name_eletro  False  False  False  False  False      0\n",
       "57             product_category_name_bebes  False  False  False  False  False      0\n",
       "58        product_category_name_automotivo  False  False  False  False  False      0\n",
       "59                              is_voucher  False  False  False  False  False      0\n",
       "60                                   is_dc  False  False  False  False  False      0\n",
       "61                             is_bankslip  False  False  False  False  False      0"
      ]
     },
     "execution_count": 34,
     "metadata": {},
     "output_type": "execute_result"
    }
   ],
   "source": [
    "#comparando \n",
    "feature_selection_df = pd.DataFrame({'Variaveis': expl.columns,\n",
    "                                    'Chi-2':chi_support,\n",
    "                                    'RFE': rfe_support,\n",
    "                                     'RFE1':rfe_support1,\n",
    "                                    'RF':rf_support,\n",
    "                                    'RF1':rf_support1})\n",
    "\n",
    "#count\n",
    "feature_selection_df['Total'] = np.sum(feature_selection_df,axis=1)\n",
    "\n",
    "#print\n",
    "feature_selection_df = feature_selection_df.sort_values(['Total','Variaveis'],\n",
    "                                                        ascending=False)\n",
    "feature_selection_df.index = range(1, len(feature_selection_df)+1)\n",
    "feature_selection_df"
   ]
  },
  {
   "cell_type": "code",
   "execution_count": 36,
   "metadata": {},
   "outputs": [
    {
     "data": {
      "text/plain": [
       "1                          freight_value\n",
       "2                     days_estimated_dlv\n",
       "3                     customer_region_Ne\n",
       "4             total_outtime_ratio_seller\n",
       "5       total_not_delivered_ratio_seller\n",
       "6                revenue_semester_seller\n",
       "7                       product_weight_g\n",
       "8             product_description_lenght\n",
       "9                                  price\n",
       "10                       days_limit_ship\n",
       "11          days_first_order_item_seller\n",
       "12          total_samestate_ratio_seller\n",
       "13                 total_cc_ratio_seller\n",
       "14                  qty_customers_seller\n",
       "15                    product_volume_cm3\n",
       "16                    product_photos_qty\n",
       "17                          order_h_8-11\n",
       "18                          is_samestate\n",
       "19               distinct_product_seller\n",
       "20              distinct_category_seller\n",
       "21                    customer_region_Se\n",
       "22                     customer_region_N\n",
       "23          total_bank_slip_ratio_seller\n",
       "24                       seller_region_S\n",
       "25                      seller_region_Ne\n",
       "26               qty_review_low_4_seller\n",
       "27                         order_h_18-23\n",
       "28                           order_dow_2\n",
       "29                    customer_region_SP\n",
       "30                     customer_region_S\n",
       "31           total_canceled_ratio_seller\n",
       "32                      seller_region_SP\n",
       "33            product_category_name_home\n",
       "34    product_category_name_beleza_saude\n",
       "35                         order_h_16-17\n",
       "36                         order_h_12-15\n",
       "37                           order_dow_7\n",
       "38                           order_dow_6\n",
       "39                           order_dow_5\n",
       "40                           order_dow_4\n",
       "41                           order_dow_3\n",
       "42                         is_new_seller\n",
       "43                                 is_cc\n",
       "Name: Variaveis, dtype: object"
      ]
     },
     "execution_count": 36,
     "metadata": {},
     "output_type": "execute_result"
    }
   ],
   "source": [
    "feature_selection_df[feature_selection_df.Total.isin([5,4,3,2,1])].Variaveis"
   ]
  },
  {
   "cell_type": "code",
   "execution_count": 68,
   "metadata": {},
   "outputs": [],
   "source": [
    "explicativas = dados_selecionados[['freight_value',\n",
    "                                    'days_estimated_dlv',\n",
    "                                    'customer_region_Ne',\n",
    "                                    'total_outtime_ratio_seller',\n",
    "                                    'total_not_delivered_ratio_seller',\n",
    "                                    'revenue_semester_seller',\n",
    "                                    'product_weight_g',\n",
    "                                    'product_description_lenght',\n",
    "                                    'price',\n",
    "                                    'days_limit_ship',\n",
    "                                    'days_first_order_item_seller',\n",
    "                                    'total_samestate_ratio_seller',\n",
    "                                    'total_cc_ratio_seller',\n",
    "                                    'qty_customers_seller',\n",
    "                                    'product_volume_cm3',\n",
    "                                    'product_photos_qty',\n",
    "                                    'order_h_8-11',\n",
    "                                    'is_samestate',\n",
    "                                    'distinct_product_seller',\n",
    "                                    'distinct_category_seller',\n",
    "                                    'customer_region_Se',\n",
    "                                    'customer_region_N',\n",
    "                                    'total_bank_slip_ratio_seller',\n",
    "                                    'seller_region_S',\n",
    "                                    'seller_region_Ne',\n",
    "                                    'qty_review_low_4_seller',\n",
    "                                    'order_h_18-23',\n",
    "                                    'order_dow_2',\n",
    "                                    'customer_region_SP',\n",
    "                                    'customer_region_S',\n",
    "                                    'total_canceled_ratio_seller',\n",
    "                                    'seller_region_SP',\n",
    "                                    'product_category_name_home',\n",
    "                                    'product_category_name_beleza_saude',\n",
    "                                    'order_h_16-17',\n",
    "                                    'order_h_12-15',\n",
    "                                    'order_dow_7',\n",
    "                                    'order_dow_6',\n",
    "                                    'order_dow_5',\n",
    "                                    'order_dow_4',\n",
    "                                    'order_dow_3',\n",
    "                                    'is_new_seller',\n",
    "                                    'is_cc'\n",
    "                                  ]]"
   ]
  },
  {
   "cell_type": "markdown",
   "metadata": {},
   "source": [
    "# Treino só com variaveis escolhas"
   ]
  },
  {
   "cell_type": "code",
   "execution_count": 69,
   "metadata": {},
   "outputs": [],
   "source": [
    "from sklearn.model_selection import train_test_split"
   ]
  },
  {
   "cell_type": "code",
   "execution_count": 70,
   "metadata": {},
   "outputs": [],
   "source": [
    "x_treino, x_teste, y_treino, y_teste = train_test_split(explicativas,\n",
    "                                                       target,\n",
    "                                                       test_size=0.25,\n",
    "                                                       random_state = 2)"
   ]
  },
  {
   "cell_type": "markdown",
   "metadata": {},
   "source": [
    "# Regressão Logistica"
   ]
  },
  {
   "cell_type": "code",
   "execution_count": 71,
   "metadata": {},
   "outputs": [],
   "source": [
    "# dicionario\n",
    "lr_grid_dc = {\n",
    "    'tol': [0.0001,0.00001,0.000001],\n",
    "    'C': [1.0,2,3,5]\n",
    "}"
   ]
  },
  {
   "cell_type": "code",
   "execution_count": 72,
   "metadata": {},
   "outputs": [],
   "source": [
    "lr = LogisticRegression(random_state=2)"
   ]
  },
  {
   "cell_type": "code",
   "execution_count": 73,
   "metadata": {},
   "outputs": [
    {
     "data": {
      "text/plain": [
       "GridSearchCV(cv=5, error_score=nan,\n",
       "             estimator=LogisticRegression(C=1.0, class_weight=None, dual=False,\n",
       "                                          fit_intercept=True,\n",
       "                                          intercept_scaling=1, l1_ratio=None,\n",
       "                                          max_iter=100, multi_class='auto',\n",
       "                                          n_jobs=None, penalty='l2',\n",
       "                                          random_state=2, solver='lbfgs',\n",
       "                                          tol=0.0001, verbose=0,\n",
       "                                          warm_start=False),\n",
       "             iid='deprecated', n_jobs=None,\n",
       "             param_grid={'C': [1.0, 2, 3, 5], 'tol': [0.0001, 1e-05, 1e-06]},\n",
       "             pre_dispatch='2*n_jobs', refit=True, return_train_score=False,\n",
       "             scoring=None, verbose=0)"
      ]
     },
     "execution_count": 73,
     "metadata": {},
     "output_type": "execute_result"
    }
   ],
   "source": [
    "from sklearn.model_selection import GridSearchCV\n",
    "lr_grid = GridSearchCV(estimator=lr,\n",
    "                      param_grid=lr_grid_dc,\n",
    "                       cv=5)\n",
    "\n",
    "lr_grid.fit(x_treino,y_treino)"
   ]
  },
  {
   "cell_type": "code",
   "execution_count": 74,
   "metadata": {},
   "outputs": [
    {
     "data": {
      "text/plain": [
       "{'C': 1.0, 'tol': 0.0001}"
      ]
     },
     "execution_count": 74,
     "metadata": {},
     "output_type": "execute_result"
    }
   ],
   "source": [
    "lr_grid.best_params_"
   ]
  },
  {
   "cell_type": "code",
   "execution_count": 75,
   "metadata": {},
   "outputs": [
    {
     "data": {
      "text/plain": [
       "0.9377937799841426"
      ]
     },
     "execution_count": 75,
     "metadata": {},
     "output_type": "execute_result"
    }
   ],
   "source": [
    "lr_grid.best_score_"
   ]
  },
  {
   "cell_type": "code",
   "execution_count": 76,
   "metadata": {},
   "outputs": [
    {
     "name": "stdout",
     "output_type": "stream",
     "text": [
      "C:\\MyGit\\databricks_projetofinal_fia\\notebook\n",
      "C:\\MyGit\\databricks_projetofinal_fia\\model\n",
      "C:\\MyGit\\databricks_projetofinal_fia\\model\\modelo_lr_ontime_gridsearch.pkl\n",
      "C:\\MyGit\\databricks_projetofinal_fia\\notebook\n",
      "C:\\MyGit\\databricks_projetofinal_fia\\model\n",
      "C:\\MyGit\\databricks_projetofinal_fia\\model\\modelo_lr_ontime_gridsearch.pkl\n"
     ]
    }
   ],
   "source": [
    "from sklearn.externals import joblib\n",
    "joblib.dump(lr_grid.best_estimator_,path_base('modelo_lr_ontime_gridsearch.pkl','model'),compress=1)\n",
    "modelo_treinado_lr = open(path_base('modelo_lr_ontime_gridsearch.pkl','model'),'rb')\n",
    "model_lr = joblib.load(modelo_treinado_lr)"
   ]
  },
  {
   "cell_type": "code",
   "execution_count": 77,
   "metadata": {},
   "outputs": [
    {
     "data": {
      "text/plain": [
       "LogisticRegression(C=1.0, class_weight=None, dual=False, fit_intercept=True,\n",
       "                   intercept_scaling=1, l1_ratio=None, max_iter=100,\n",
       "                   multi_class='auto', n_jobs=None, penalty='l2',\n",
       "                   random_state=2, solver='lbfgs', tol=0.0001, verbose=0,\n",
       "                   warm_start=False)"
      ]
     },
     "execution_count": 77,
     "metadata": {},
     "output_type": "execute_result"
    }
   ],
   "source": [
    "model_lr"
   ]
  },
  {
   "cell_type": "code",
   "execution_count": 78,
   "metadata": {},
   "outputs": [
    {
     "data": {
      "text/plain": [
       "array([1, 1, 1, ..., 1, 1, 1], dtype=int64)"
      ]
     },
     "execution_count": 78,
     "metadata": {},
     "output_type": "execute_result"
    }
   ],
   "source": [
    "model_lr.predict(x_teste)"
   ]
  },
  {
   "cell_type": "code",
   "execution_count": 79,
   "metadata": {},
   "outputs": [
    {
     "name": "stdout",
     "output_type": "stream",
     "text": [
      "Teste:  93.82\n"
     ]
    }
   ],
   "source": [
    "from sklearn.metrics import accuracy_score\n",
    "y_gb_teste = model_lr.predict(x_teste)\n",
    "acc_gb_teste = round(accuracy_score(y_gb_teste,y_teste)*100,2)\n",
    "print('Teste: ',acc_gb_teste)"
   ]
  },
  {
   "cell_type": "markdown",
   "metadata": {},
   "source": [
    "# Tree"
   ]
  },
  {
   "cell_type": "code",
   "execution_count": 80,
   "metadata": {},
   "outputs": [],
   "source": [
    "# dicionario\n",
    "tree_grid_dc = { 'min_samples_leaf': [1,5,10],\n",
    "                'min_samples_split': [1.0,5],\n",
    "                'max_depth': [1,5,12],\n",
    "                'criterion': ['gini','entropy']\n",
    "}"
   ]
  },
  {
   "cell_type": "code",
   "execution_count": 81,
   "metadata": {},
   "outputs": [],
   "source": [
    "from sklearn.tree import DecisionTreeClassifier\n",
    "tree = DecisionTreeClassifier(random_state=2)"
   ]
  },
  {
   "cell_type": "code",
   "execution_count": 82,
   "metadata": {},
   "outputs": [
    {
     "data": {
      "text/plain": [
       "GridSearchCV(cv=5, error_score=nan,\n",
       "             estimator=DecisionTreeClassifier(ccp_alpha=0.0, class_weight=None,\n",
       "                                              criterion='gini', max_depth=None,\n",
       "                                              max_features=None,\n",
       "                                              max_leaf_nodes=None,\n",
       "                                              min_impurity_decrease=0.0,\n",
       "                                              min_impurity_split=None,\n",
       "                                              min_samples_leaf=1,\n",
       "                                              min_samples_split=2,\n",
       "                                              min_weight_fraction_leaf=0.0,\n",
       "                                              presort='deprecated',\n",
       "                                              random_state=2, splitter='best'),\n",
       "             iid='deprecated', n_jobs=None,\n",
       "             param_grid={'criterion': ['gini', 'entropy'],\n",
       "                         'max_depth': [1, 5, 12],\n",
       "                         'min_samples_leaf': [1, 5, 10],\n",
       "                         'min_samples_split': [1.0, 5]},\n",
       "             pre_dispatch='2*n_jobs', refit=True, return_train_score=False,\n",
       "             scoring=None, verbose=0)"
      ]
     },
     "execution_count": 82,
     "metadata": {},
     "output_type": "execute_result"
    }
   ],
   "source": [
    "from sklearn.model_selection import GridSearchCV\n",
    "tree_grid = GridSearchCV(estimator=tree,\n",
    "                      param_grid=tree_grid_dc,\n",
    "                       cv=5)\n",
    "\n",
    "tree_grid.fit(x_treino,y_treino)"
   ]
  },
  {
   "cell_type": "code",
   "execution_count": 83,
   "metadata": {},
   "outputs": [
    {
     "data": {
      "text/plain": [
       "{'criterion': 'gini',\n",
       " 'max_depth': 1,\n",
       " 'min_samples_leaf': 1,\n",
       " 'min_samples_split': 1.0}"
      ]
     },
     "execution_count": 83,
     "metadata": {},
     "output_type": "execute_result"
    }
   ],
   "source": [
    "tree_grid.best_params_"
   ]
  },
  {
   "cell_type": "code",
   "execution_count": 84,
   "metadata": {},
   "outputs": [
    {
     "data": {
      "text/plain": [
       "0.9377937799841426"
      ]
     },
     "execution_count": 84,
     "metadata": {},
     "output_type": "execute_result"
    }
   ],
   "source": [
    "tree_grid.best_score_"
   ]
  },
  {
   "cell_type": "code",
   "execution_count": 85,
   "metadata": {},
   "outputs": [
    {
     "name": "stdout",
     "output_type": "stream",
     "text": [
      "C:\\MyGit\\databricks_projetofinal_fia\\notebook\n",
      "C:\\MyGit\\databricks_projetofinal_fia\\model\n",
      "C:\\MyGit\\databricks_projetofinal_fia\\model\\modelo_tree_ontime_gridsearch.pkl\n",
      "C:\\MyGit\\databricks_projetofinal_fia\\notebook\n",
      "C:\\MyGit\\databricks_projetofinal_fia\\model\n",
      "C:\\MyGit\\databricks_projetofinal_fia\\model\\modelo_tree_ontime_gridsearch.pkl\n"
     ]
    }
   ],
   "source": [
    "joblib.dump(tree_grid.best_estimator_,path_base('modelo_tree_ontime_gridsearch.pkl','model'),compress=1)\n",
    "modelo_treinado_tree = open(path_base('modelo_tree_ontime_gridsearch.pkl','model'),'rb')\n",
    "model_tree = joblib.load(modelo_treinado_tree)"
   ]
  },
  {
   "cell_type": "code",
   "execution_count": 86,
   "metadata": {},
   "outputs": [
    {
     "data": {
      "text/plain": [
       "DecisionTreeClassifier(ccp_alpha=0.0, class_weight=None, criterion='gini',\n",
       "                       max_depth=1, max_features=None, max_leaf_nodes=None,\n",
       "                       min_impurity_decrease=0.0, min_impurity_split=None,\n",
       "                       min_samples_leaf=1, min_samples_split=1.0,\n",
       "                       min_weight_fraction_leaf=0.0, presort='deprecated',\n",
       "                       random_state=2, splitter='best')"
      ]
     },
     "execution_count": 86,
     "metadata": {},
     "output_type": "execute_result"
    }
   ],
   "source": [
    "model_tree"
   ]
  },
  {
   "cell_type": "code",
   "execution_count": 87,
   "metadata": {},
   "outputs": [
    {
     "data": {
      "text/plain": [
       "array([1, 1, 1, ..., 1, 1, 1], dtype=int64)"
      ]
     },
     "execution_count": 87,
     "metadata": {},
     "output_type": "execute_result"
    }
   ],
   "source": [
    "model_tree.predict(x_teste)"
   ]
  },
  {
   "cell_type": "code",
   "execution_count": 88,
   "metadata": {},
   "outputs": [
    {
     "name": "stdout",
     "output_type": "stream",
     "text": [
      "Teste:  93.82\n"
     ]
    }
   ],
   "source": [
    "y_tree_teste = model_tree.predict(x_teste)\n",
    "acc_tree_teste = round(accuracy_score(y_tree_teste,y_teste)*100,2)\n",
    "print('Teste: ',acc_tree_teste)"
   ]
  },
  {
   "cell_type": "code",
   "execution_count": 89,
   "metadata": {},
   "outputs": [
    {
     "data": {
      "image/png": "[encoded data removed]",
      "text/plain": [
       "<Figure size 432x288 with 1 Axes>"
      ]
     },
     "metadata": {
      "needs_background": "light"
     },
     "output_type": "display_data"
    }
   ],
   "source": [
    "import sklearn.metrics as metrics\n",
    "# calculate the fpr and tpr for all thresholds of the classification\n",
    "probs = model_tree.predict_proba(x_teste)\n",
    "preds = probs[:,1]\n",
    "fpr, tpr, threshold = metrics.roc_curve(y_teste, preds)\n",
    "roc_auc = metrics.auc(fpr, tpr)\n",
    "\n",
    "# method I: plt\n",
    "import matplotlib.pyplot as plt\n",
    "plt.title('Receiver Operating Characteristic')\n",
    "plt.plot(fpr, tpr, 'b', label = 'AUC = %0.2f' % roc_auc)\n",
    "plt.legend(loc = 'lower right')\n",
    "plt.plot([0, 1], [0, 1],'r--')\n",
    "plt.xlim([0, 1])\n",
    "plt.ylim([0, 1])\n",
    "plt.ylabel('True Positive Rate')\n",
    "plt.xlabel('False Positive Rate')\n",
    "plt.show()\n",
    "\n"
   ]
  },
  {
   "cell_type": "markdown",
   "metadata": {},
   "source": [
    "# Random Forest"
   ]
  },
  {
   "cell_type": "code",
   "execution_count": 90,
   "metadata": {},
   "outputs": [],
   "source": [
    "rf_grid_dc = {\n",
    "    'n_estimators': [100,500,1000],\n",
    "    'criterion': ['entropy'],\n",
    "    'bootstrap': [True]\n",
    "}"
   ]
  },
  {
   "cell_type": "code",
   "execution_count": 91,
   "metadata": {},
   "outputs": [],
   "source": [
    "from sklearn.ensemble import RandomForestClassifier\n",
    "rf = RandomForestClassifier(random_state=2)\n"
   ]
  },
  {
   "cell_type": "code",
   "execution_count": 92,
   "metadata": {},
   "outputs": [],
   "source": [
    "from sklearn.model_selection import GridSearchCV\n",
    "rf_grid = GridSearchCV(estimator=rf,\n",
    "                      param_grid=rf_grid_dc,\n",
    "                       scoring ='accuracy',\n",
    "                       cv=5)"
   ]
  },
  {
   "cell_type": "code",
   "execution_count": 93,
   "metadata": {},
   "outputs": [
    {
     "data": {
      "text/plain": [
       "GridSearchCV(cv=5, error_score=nan,\n",
       "             estimator=RandomForestClassifier(bootstrap=True, ccp_alpha=0.0,\n",
       "                                              class_weight=None,\n",
       "                                              criterion='gini', max_depth=None,\n",
       "                                              max_features='auto',\n",
       "                                              max_leaf_nodes=None,\n",
       "                                              max_samples=None,\n",
       "                                              min_impurity_decrease=0.0,\n",
       "                                              min_impurity_split=None,\n",
       "                                              min_samples_leaf=1,\n",
       "                                              min_samples_split=2,\n",
       "                                              min_weight_fraction_leaf=0.0,\n",
       "                                              n_estimators=100, n_jobs=None,\n",
       "                                              oob_score=False, random_state=2,\n",
       "                                              verbose=0, warm_start=False),\n",
       "             iid='deprecated', n_jobs=None,\n",
       "             param_grid={'bootstrap': [True], 'criterion': ['entropy'],\n",
       "                         'n_estimators': [100, 500, 1000]},\n",
       "             pre_dispatch='2*n_jobs', refit=True, return_train_score=False,\n",
       "             scoring='accuracy', verbose=0)"
      ]
     },
     "execution_count": 93,
     "metadata": {},
     "output_type": "execute_result"
    }
   ],
   "source": [
    "rf_grid.fit(x_treino,y_treino)"
   ]
  },
  {
   "cell_type": "code",
   "execution_count": 94,
   "metadata": {},
   "outputs": [
    {
     "data": {
      "text/plain": [
       "{'bootstrap': True, 'criterion': 'entropy', 'n_estimators': 1000}"
      ]
     },
     "execution_count": 94,
     "metadata": {},
     "output_type": "execute_result"
    }
   ],
   "source": [
    "rf_grid.best_params_"
   ]
  },
  {
   "cell_type": "code",
   "execution_count": 95,
   "metadata": {},
   "outputs": [
    {
     "data": {
      "text/plain": [
       "0.9444090523592393"
      ]
     },
     "execution_count": 95,
     "metadata": {},
     "output_type": "execute_result"
    }
   ],
   "source": [
    "rf_grid.best_score_"
   ]
  },
  {
   "cell_type": "code",
   "execution_count": 96,
   "metadata": {},
   "outputs": [
    {
     "name": "stdout",
     "output_type": "stream",
     "text": [
      "C:\\MyGit\\databricks_projetofinal_fia\\notebook\n",
      "C:\\MyGit\\databricks_projetofinal_fia\\model\n",
      "C:\\MyGit\\databricks_projetofinal_fia\\model\\modelo_rf_ontime_gridsearch.pkl\n",
      "C:\\MyGit\\databricks_projetofinal_fia\\notebook\n",
      "C:\\MyGit\\databricks_projetofinal_fia\\model\n",
      "C:\\MyGit\\databricks_projetofinal_fia\\model\\modelo_rf_ontime_gridsearch.pkl\n"
     ]
    }
   ],
   "source": [
    "joblib.dump(rf_grid.best_estimator_,path_base('modelo_rf_ontime_gridsearch.pkl','model'),compress=1)\n",
    "modelo_treinado_rf = open(path_base('modelo_rf_ontime_gridsearch.pkl','model'),'rb')\n",
    "model_rf = joblib.load(modelo_treinado_rf)"
   ]
  },
  {
   "cell_type": "code",
   "execution_count": 97,
   "metadata": {},
   "outputs": [
    {
     "data": {
      "text/plain": [
       "RandomForestClassifier(bootstrap=True, ccp_alpha=0.0, class_weight=None,\n",
       "                       criterion='entropy', max_depth=None, max_features='auto',\n",
       "                       max_leaf_nodes=None, max_samples=None,\n",
       "                       min_impurity_decrease=0.0, min_impurity_split=None,\n",
       "                       min_samples_leaf=1, min_samples_split=2,\n",
       "                       min_weight_fraction_leaf=0.0, n_estimators=1000,\n",
       "                       n_jobs=None, oob_score=False, random_state=2, verbose=0,\n",
       "                       warm_start=False)"
      ]
     },
     "execution_count": 97,
     "metadata": {},
     "output_type": "execute_result"
    }
   ],
   "source": [
    "model_rf"
   ]
  },
  {
   "cell_type": "code",
   "execution_count": 98,
   "metadata": {},
   "outputs": [
    {
     "data": {
      "text/plain": [
       "array([1, 1, 1, ..., 1, 1, 1], dtype=int64)"
      ]
     },
     "execution_count": 98,
     "metadata": {},
     "output_type": "execute_result"
    }
   ],
   "source": [
    "model_rf.predict(x_teste)"
   ]
  },
  {
   "cell_type": "code",
   "execution_count": 99,
   "metadata": {},
   "outputs": [
    {
     "name": "stdout",
     "output_type": "stream",
     "text": [
      "Teste:  94.52\n"
     ]
    }
   ],
   "source": [
    "y_rf_teste = model_rf.predict(x_teste)\n",
    "acc_rf_teste = round(accuracy_score(y_rf_teste,y_teste)*100,2)\n",
    "print('Teste: ',acc_rf_teste)"
   ]
  },
  {
   "cell_type": "code",
   "execution_count": 100,
   "metadata": {},
   "outputs": [
    {
     "data": {
      "image/png": "[encoded data removed]",
      "text/plain": [
       "<Figure size 432x288 with 1 Axes>"
      ]
     },
     "metadata": {
      "needs_background": "light"
     },
     "output_type": "display_data"
    }
   ],
   "source": [
    "import sklearn.metrics as metrics\n",
    "# calculate the fpr and tpr for all thresholds of the classification\n",
    "probs = model_rf.predict_proba(x_teste)\n",
    "preds = probs[:,1]\n",
    "fpr, tpr, threshold = metrics.roc_curve(y_teste, preds)\n",
    "roc_auc = metrics.auc(fpr, tpr)\n",
    "\n",
    "# method I: plt\n",
    "import matplotlib.pyplot as plt\n",
    "plt.title('Receiver Operating Characteristic')\n",
    "plt.plot(fpr, tpr, 'b', label = 'AUC = %0.2f' % roc_auc)\n",
    "plt.legend(loc = 'lower right')\n",
    "plt.plot([0, 1], [0, 1],'r--')\n",
    "plt.xlim([0, 1])\n",
    "plt.ylim([0, 1])\n",
    "plt.ylabel('True Positive Rate')\n",
    "plt.xlabel('False Positive Rate')\n",
    "plt.show()"
   ]
  },
  {
   "cell_type": "markdown",
   "metadata": {},
   "source": [
    "# Gradient Boosting"
   ]
  },
  {
   "cell_type": "code",
   "execution_count": 101,
   "metadata": {},
   "outputs": [],
   "source": [
    "# dicionario\n",
    "gb_grid_dc = {\n",
    "    'min_samples_leaf': [1,10,20],\n",
    "    'min_samples_split': [1.0,3,10],\n",
    "    'max_depth': [1,5,12],\n",
    "    'n_estimators': [10,50,200]\n",
    "}"
   ]
  },
  {
   "cell_type": "code",
   "execution_count": 102,
   "metadata": {},
   "outputs": [],
   "source": [
    "from sklearn.ensemble import GradientBoostingClassifier\n",
    "gb = GradientBoostingClassifier(random_state=2)\n"
   ]
  },
  {
   "cell_type": "code",
   "execution_count": 103,
   "metadata": {},
   "outputs": [],
   "source": [
    "from sklearn.model_selection import GridSearchCV\n",
    "gb_grid = GridSearchCV(estimator=gb,\n",
    "                      param_grid=gb_grid_dc,\n",
    "                       cv=5)"
   ]
  },
  {
   "cell_type": "code",
   "execution_count": 104,
   "metadata": {},
   "outputs": [
    {
     "data": {
      "text/plain": [
       "GridSearchCV(cv=5, error_score=nan,\n",
       "             estimator=GradientBoostingClassifier(ccp_alpha=0.0,\n",
       "                                                  criterion='friedman_mse',\n",
       "                                                  init=None, learning_rate=0.1,\n",
       "                                                  loss='deviance', max_depth=3,\n",
       "                                                  max_features=None,\n",
       "                                                  max_leaf_nodes=None,\n",
       "                                                  min_impurity_decrease=0.0,\n",
       "                                                  min_impurity_split=None,\n",
       "                                                  min_samples_leaf=1,\n",
       "                                                  min_samples_split=2,\n",
       "                                                  min_weight_fraction_leaf=0.0,\n",
       "                                                  n_estimators=100,\n",
       "                                                  n_iter_no_c...one,\n",
       "                                                  presort='deprecated',\n",
       "                                                  random_state=2, subsample=1.0,\n",
       "                                                  tol=0.0001,\n",
       "                                                  validation_fraction=0.1,\n",
       "                                                  verbose=0, warm_start=False),\n",
       "             iid='deprecated', n_jobs=None,\n",
       "             param_grid={'max_depth': [1, 5, 12],\n",
       "                         'min_samples_leaf': [1, 10, 20],\n",
       "                         'min_samples_split': [1.0, 3, 10],\n",
       "                         'n_estimators': [10, 50, 200]},\n",
       "             pre_dispatch='2*n_jobs', refit=True, return_train_score=False,\n",
       "             scoring=None, verbose=0)"
      ]
     },
     "execution_count": 104,
     "metadata": {},
     "output_type": "execute_result"
    }
   ],
   "source": [
    "gb_grid.fit(x_treino,y_treino)"
   ]
  },
  {
   "cell_type": "code",
   "execution_count": 105,
   "metadata": {},
   "outputs": [
    {
     "data": {
      "text/plain": [
       "{'max_depth': 12,\n",
       " 'min_samples_leaf': 10,\n",
       " 'min_samples_split': 3,\n",
       " 'n_estimators': 50}"
      ]
     },
     "execution_count": 105,
     "metadata": {},
     "output_type": "execute_result"
    }
   ],
   "source": [
    "gb_grid.best_params_"
   ]
  },
  {
   "cell_type": "code",
   "execution_count": 106,
   "metadata": {},
   "outputs": [
    {
     "data": {
      "text/plain": [
       "0.9427842492087715"
      ]
     },
     "execution_count": 106,
     "metadata": {},
     "output_type": "execute_result"
    }
   ],
   "source": [
    "gb_grid.best_score_"
   ]
  },
  {
   "cell_type": "code",
   "execution_count": 107,
   "metadata": {},
   "outputs": [
    {
     "name": "stdout",
     "output_type": "stream",
     "text": [
      "C:\\MyGit\\databricks_projetofinal_fia\\notebook\n",
      "C:\\MyGit\\databricks_projetofinal_fia\\model\n",
      "C:\\MyGit\\databricks_projetofinal_fia\\model\\modelo_gb_ontime_gridsearch.pkl\n",
      "C:\\MyGit\\databricks_projetofinal_fia\\notebook\n",
      "C:\\MyGit\\databricks_projetofinal_fia\\model\n",
      "C:\\MyGit\\databricks_projetofinal_fia\\model\\modelo_gb_ontime_gridsearch.pkl\n"
     ]
    }
   ],
   "source": [
    "joblib.dump(gb_grid.best_estimator_,path_base('modelo_gb_ontime_gridsearch.pkl','model'),compress=1)\n",
    "modelo_treinado_gb = open(path_base('modelo_gb_ontime_gridsearch.pkl','model'),'rb')\n",
    "model_gb = joblib.load(modelo_treinado_gb)"
   ]
  },
  {
   "cell_type": "code",
   "execution_count": 108,
   "metadata": {},
   "outputs": [
    {
     "data": {
      "text/plain": [
       "GradientBoostingClassifier(ccp_alpha=0.0, criterion='friedman_mse', init=None,\n",
       "                           learning_rate=0.1, loss='deviance', max_depth=12,\n",
       "                           max_features=None, max_leaf_nodes=None,\n",
       "                           min_impurity_decrease=0.0, min_impurity_split=None,\n",
       "                           min_samples_leaf=10, min_samples_split=3,\n",
       "                           min_weight_fraction_leaf=0.0, n_estimators=50,\n",
       "                           n_iter_no_change=None, presort='deprecated',\n",
       "                           random_state=2, subsample=1.0, tol=0.0001,\n",
       "                           validation_fraction=0.1, verbose=0,\n",
       "                           warm_start=False)"
      ]
     },
     "execution_count": 108,
     "metadata": {},
     "output_type": "execute_result"
    }
   ],
   "source": [
    "model_gb"
   ]
  },
  {
   "cell_type": "code",
   "execution_count": 109,
   "metadata": {},
   "outputs": [
    {
     "data": {
      "text/plain": [
       "array([1, 1, 1, ..., 1, 1, 1], dtype=int64)"
      ]
     },
     "execution_count": 109,
     "metadata": {},
     "output_type": "execute_result"
    }
   ],
   "source": [
    "model_gb.predict(x_teste)"
   ]
  },
  {
   "cell_type": "code",
   "execution_count": 110,
   "metadata": {},
   "outputs": [
    {
     "name": "stdout",
     "output_type": "stream",
     "text": [
      "Teste:  93.96\n"
     ]
    }
   ],
   "source": [
    "y_gb_teste = model_gb.predict(x_teste)\n",
    "acc_gb_teste = round(accuracy_score(y_gb_teste,y_teste)*100,2)\n",
    "print('Teste: ',acc_gb_teste)"
   ]
  },
  {
   "cell_type": "code",
   "execution_count": 111,
   "metadata": {},
   "outputs": [
    {
     "data": {
      "image/png": "[encoded data removed]",
      "text/plain": [
       "<Figure size 432x288 with 1 Axes>"
      ]
     },
     "metadata": {
      "needs_background": "light"
     },
     "output_type": "display_data"
    }
   ],
   "source": [
    "import sklearn.metrics as metrics\n",
    "# calculate the fpr and tpr for all thresholds of the classification\n",
    "probs = model_gb.predict_proba(x_teste)\n",
    "preds = probs[:,1]\n",
    "fpr, tpr, threshold = metrics.roc_curve(y_teste, preds)\n",
    "roc_auc = metrics.auc(fpr, tpr)\n",
    "\n",
    "# method I: plt\n",
    "import matplotlib.pyplot as plt\n",
    "plt.title('Receiver Operating Characteristic')\n",
    "plt.plot(fpr, tpr, 'b', label = 'AUC = %0.2f' % roc_auc)\n",
    "plt.legend(loc = 'lower right')\n",
    "plt.plot([0, 1], [0, 1],'r--')\n",
    "plt.xlim([0, 1])\n",
    "plt.ylim([0, 1])\n",
    "plt.ylabel('True Positive Rate')\n",
    "plt.xlabel('False Positive Rate')\n",
    "plt.show()"
   ]
  },
  {
   "cell_type": "markdown",
   "metadata": {},
   "source": [
    "# Neural"
   ]
  },
  {
   "cell_type": "code",
   "execution_count": 112,
   "metadata": {},
   "outputs": [],
   "source": [
    "# dicionario\n",
    "mlp_grid_dc = {\n",
    "    'max_iter': [10,100],\n",
    "    'tol': [0.00010,0.000010],\n",
    "    'solver': ['adam'],\n",
    "    'hidden_layer_sizes':[(50,50),(300)],\n",
    "    'activation': ['relu']\n",
    "}"
   ]
  },
  {
   "cell_type": "code",
   "execution_count": 113,
   "metadata": {},
   "outputs": [],
   "source": [
    "from sklearn.neural_network import MLPClassifier\n",
    "mlp = MLPClassifier(verbose = False,random_state=2)\n"
   ]
  },
  {
   "cell_type": "code",
   "execution_count": 114,
   "metadata": {},
   "outputs": [],
   "source": [
    "from sklearn.model_selection import GridSearchCV\n",
    "mlp_grid = GridSearchCV(estimator=mlp,\n",
    "                      param_grid=mlp_grid_dc,\n",
    "                       cv=5)"
   ]
  },
  {
   "cell_type": "code",
   "execution_count": 115,
   "metadata": {},
   "outputs": [
    {
     "data": {
      "text/plain": [
       "GridSearchCV(cv=5, error_score=nan,\n",
       "             estimator=MLPClassifier(activation='relu', alpha=0.0001,\n",
       "                                     batch_size='auto', beta_1=0.9,\n",
       "                                     beta_2=0.999, early_stopping=False,\n",
       "                                     epsilon=1e-08, hidden_layer_sizes=(100,),\n",
       "                                     learning_rate='constant',\n",
       "                                     learning_rate_init=0.001, max_fun=15000,\n",
       "                                     max_iter=200, momentum=0.9,\n",
       "                                     n_iter_no_change=10,\n",
       "                                     nesterovs_momentum=True, power_t=0.5,\n",
       "                                     random_state=2, shuffle=True,\n",
       "                                     solver='adam', tol=0.0001,\n",
       "                                     validation_fraction=0.1, verbose=False,\n",
       "                                     warm_start=False),\n",
       "             iid='deprecated', n_jobs=None,\n",
       "             param_grid={'activation': ['relu'],\n",
       "                         'hidden_layer_sizes': [(50, 50), 300],\n",
       "                         'max_iter': [10, 100], 'solver': ['adam'],\n",
       "                         'tol': [0.0001, 1e-05]},\n",
       "             pre_dispatch='2*n_jobs', refit=True, return_train_score=False,\n",
       "             scoring=None, verbose=0)"
      ]
     },
     "execution_count": 115,
     "metadata": {},
     "output_type": "execute_result"
    }
   ],
   "source": [
    "mlp_grid.fit(x_treino,y_treino)"
   ]
  },
  {
   "cell_type": "code",
   "execution_count": 116,
   "metadata": {},
   "outputs": [
    {
     "data": {
      "text/plain": [
       "{'activation': 'relu',\n",
       " 'hidden_layer_sizes': 300,\n",
       " 'max_iter': 10,\n",
       " 'solver': 'adam',\n",
       " 'tol': 0.0001}"
      ]
     },
     "execution_count": 116,
     "metadata": {},
     "output_type": "execute_result"
    }
   ],
   "source": [
    "mlp_grid.best_params_"
   ]
  },
  {
   "cell_type": "code",
   "execution_count": 117,
   "metadata": {},
   "outputs": [
    {
     "data": {
      "text/plain": [
       "0.9354723151222364"
      ]
     },
     "execution_count": 117,
     "metadata": {},
     "output_type": "execute_result"
    }
   ],
   "source": [
    "mlp_grid.best_score_"
   ]
  },
  {
   "cell_type": "code",
   "execution_count": 118,
   "metadata": {},
   "outputs": [
    {
     "name": "stdout",
     "output_type": "stream",
     "text": [
      "C:\\MyGit\\databricks_projetofinal_fia\\notebook\n",
      "C:\\MyGit\\databricks_projetofinal_fia\\model\n",
      "C:\\MyGit\\databricks_projetofinal_fia\\model\\modelo_mlp_ontime_gridsearch.pkl\n",
      "C:\\MyGit\\databricks_projetofinal_fia\\notebook\n",
      "C:\\MyGit\\databricks_projetofinal_fia\\model\n",
      "C:\\MyGit\\databricks_projetofinal_fia\\model\\modelo_mlp_ontime_gridsearch.pkl\n"
     ]
    }
   ],
   "source": [
    "from sklearn.externals import joblib\n",
    "joblib.dump(mlp_grid.best_estimator_,path_base('modelo_mlp_ontime_gridsearch.pkl','model'),compress=1)\n",
    "modelo_treinado_mlp = open(path_base('modelo_mlp_ontime_gridsearch.pkl','model'),'rb')\n",
    "model_mlp = joblib.load(modelo_treinado_mlp)"
   ]
  },
  {
   "cell_type": "code",
   "execution_count": 119,
   "metadata": {},
   "outputs": [
    {
     "data": {
      "text/plain": [
       "MLPClassifier(activation='relu', alpha=0.0001, batch_size='auto', beta_1=0.9,\n",
       "              beta_2=0.999, early_stopping=False, epsilon=1e-08,\n",
       "              hidden_layer_sizes=300, learning_rate='constant',\n",
       "              learning_rate_init=0.001, max_fun=15000, max_iter=10,\n",
       "              momentum=0.9, n_iter_no_change=10, nesterovs_momentum=True,\n",
       "              power_t=0.5, random_state=2, shuffle=True, solver='adam',\n",
       "              tol=0.0001, validation_fraction=0.1, verbose=False,\n",
       "              warm_start=False)"
      ]
     },
     "execution_count": 119,
     "metadata": {},
     "output_type": "execute_result"
    }
   ],
   "source": [
    "model_mlp"
   ]
  },
  {
   "cell_type": "code",
   "execution_count": 120,
   "metadata": {},
   "outputs": [
    {
     "data": {
      "text/plain": [
       "array([1, 1, 1, ..., 1, 1, 1], dtype=int64)"
      ]
     },
     "execution_count": 120,
     "metadata": {},
     "output_type": "execute_result"
    }
   ],
   "source": [
    "model_mlp.predict(x_teste)"
   ]
  },
  {
   "cell_type": "code",
   "execution_count": 121,
   "metadata": {},
   "outputs": [
    {
     "name": "stdout",
     "output_type": "stream",
     "text": [
      "Teste:  93.82\n"
     ]
    }
   ],
   "source": [
    "from sklearn.metrics import accuracy_score\n",
    "y_mlp_teste = model_mlp.predict(x_teste)\n",
    "acc_mlp_teste = round(accuracy_score(y_mlp_teste,y_teste)*100,2)\n",
    "print('Teste: ',acc_mlp_teste)"
   ]
  },
  {
   "cell_type": "markdown",
   "metadata": {},
   "source": [
    "# xgboost"
   ]
  },
  {
   "cell_type": "code",
   "execution_count": 122,
   "metadata": {},
   "outputs": [],
   "source": [
    "# dicionario\n",
    "xgbc_grid_dc = {\n",
    "    'max_depth': [8],\n",
    "    'learning_rate': [0.1],\n",
    "    'n_estimators': [400,800],\n",
    "    'colsample_bytree':[0.3,0.8],\n",
    "    'reg_alpha': [2,5]\n",
    "}"
   ]
  },
  {
   "cell_type": "code",
   "execution_count": 123,
   "metadata": {},
   "outputs": [],
   "source": [
    "import xgboost as xgb\n",
    "from sklearn.metrics import mean_squared_error"
   ]
  },
  {
   "cell_type": "code",
   "execution_count": 124,
   "metadata": {},
   "outputs": [],
   "source": [
    "xgbc = xgb.XGBClassifier(objective='binary:logistic',booster='gbtree',n_jobs=2)"
   ]
  },
  {
   "cell_type": "code",
   "execution_count": 125,
   "metadata": {},
   "outputs": [],
   "source": [
    "from sklearn.model_selection import GridSearchCV\n",
    "xgbc_grid = GridSearchCV(estimator=xgbc,\n",
    "                          param_grid=xgbc_grid_dc,\n",
    "                           cv=5)"
   ]
  },
  {
   "cell_type": "code",
   "execution_count": 126,
   "metadata": {},
   "outputs": [
    {
     "data": {
      "text/plain": [
       "GridSearchCV(cv=5, error_score=nan,\n",
       "             estimator=XGBClassifier(base_score=0.5, booster='gbtree',\n",
       "                                     colsample_bylevel=1, colsample_bynode=1,\n",
       "                                     colsample_bytree=1, gamma=0,\n",
       "                                     learning_rate=0.1, max_delta_step=0,\n",
       "                                     max_depth=3, min_child_weight=1,\n",
       "                                     missing=None, n_estimators=100, n_jobs=2,\n",
       "                                     nthread=None, objective='binary:logistic',\n",
       "                                     random_state=0, reg_alpha=0, reg_lambda=1,\n",
       "                                     scale_pos_weight=1, seed=None, silent=None,\n",
       "                                     subsample=1, verbosity=1),\n",
       "             iid='deprecated', n_jobs=None,\n",
       "             param_grid={'colsample_bytree': [0.3, 0.8], 'learning_rate': [0.1],\n",
       "                         'max_depth': [8], 'n_estimators': [400, 800],\n",
       "                         'reg_alpha': [2, 5]},\n",
       "             pre_dispatch='2*n_jobs', refit=True, return_train_score=False,\n",
       "             scoring=None, verbose=0)"
      ]
     },
     "execution_count": 126,
     "metadata": {},
     "output_type": "execute_result"
    }
   ],
   "source": [
    "xgbc_grid.fit(x_treino,y_treino)"
   ]
  },
  {
   "cell_type": "code",
   "execution_count": 127,
   "metadata": {},
   "outputs": [
    {
     "data": {
      "text/plain": [
       "{'colsample_bytree': 0.3,\n",
       " 'learning_rate': 0.1,\n",
       " 'max_depth': 8,\n",
       " 'n_estimators': 800,\n",
       " 'reg_alpha': 2}"
      ]
     },
     "execution_count": 127,
     "metadata": {},
     "output_type": "execute_result"
    }
   ],
   "source": [
    "xgbc_grid.best_params_"
   ]
  },
  {
   "cell_type": "code",
   "execution_count": 128,
   "metadata": {},
   "outputs": [
    {
     "data": {
      "text/plain": [
       "0.941797833741723"
      ]
     },
     "execution_count": 128,
     "metadata": {},
     "output_type": "execute_result"
    }
   ],
   "source": [
    "xgbc_grid.best_score_"
   ]
  },
  {
   "cell_type": "code",
   "execution_count": 129,
   "metadata": {},
   "outputs": [
    {
     "name": "stdout",
     "output_type": "stream",
     "text": [
      "C:\\MyGit\\databricks_projetofinal_fia\\notebook\n",
      "C:\\MyGit\\databricks_projetofinal_fia\\model\n",
      "C:\\MyGit\\databricks_projetofinal_fia\\model\\modelo_xgbc_ontime_gridsearch.pkl\n",
      "C:\\MyGit\\databricks_projetofinal_fia\\notebook\n",
      "C:\\MyGit\\databricks_projetofinal_fia\\model\n",
      "C:\\MyGit\\databricks_projetofinal_fia\\model\\modelo_xgbc_ontime_gridsearch.pkl\n"
     ]
    }
   ],
   "source": [
    "from sklearn.externals import joblib\n",
    "joblib.dump(xgbc_grid.best_estimator_,path_base('modelo_xgbc_ontime_gridsearch.pkl','model'),compress=1)\n",
    "modelo_treinado_xgbc = open(path_base('modelo_xgbc_ontime_gridsearch.pkl','model'),'rb')\n",
    "model_xgbc = joblib.load(modelo_treinado_xgbc)"
   ]
  },
  {
   "cell_type": "code",
   "execution_count": 130,
   "metadata": {},
   "outputs": [
    {
     "data": {
      "text/plain": [
       "XGBClassifier(base_score=0.5, booster='gbtree', colsample_bylevel=1,\n",
       "              colsample_bynode=1, colsample_bytree=0.3, gamma=0,\n",
       "              learning_rate=0.1, max_delta_step=0, max_depth=8,\n",
       "              min_child_weight=1, missing=nan, n_estimators=800, n_jobs=2,\n",
       "              nthread=None, objective='binary:logistic', random_state=0,\n",
       "              reg_alpha=2, reg_lambda=1, scale_pos_weight=1, seed=None,\n",
       "              silent=None, subsample=1, verbosity=1)"
      ]
     },
     "execution_count": 130,
     "metadata": {},
     "output_type": "execute_result"
    }
   ],
   "source": [
    "model_xgbc"
   ]
  },
  {
   "cell_type": "code",
   "execution_count": 131,
   "metadata": {},
   "outputs": [
    {
     "data": {
      "text/plain": [
       "array([1, 1, 1, ..., 1, 1, 1], dtype=int64)"
      ]
     },
     "execution_count": 131,
     "metadata": {},
     "output_type": "execute_result"
    }
   ],
   "source": [
    "model_xgbc.predict(x_teste)"
   ]
  },
  {
   "cell_type": "code",
   "execution_count": 132,
   "metadata": {},
   "outputs": [
    {
     "name": "stdout",
     "output_type": "stream",
     "text": [
      "Teste:  94.33\n"
     ]
    }
   ],
   "source": [
    "from sklearn.metrics import accuracy_score\n",
    "y_xgbc_teste = model_xgbc.predict(x_teste)\n",
    "acc_xgbc_teste = round(accuracy_score(y_xgbc_teste,y_teste)*100,2)\n",
    "print('Teste: ',acc_xgbc_teste)"
   ]
  },
  {
   "cell_type": "code",
   "execution_count": 133,
   "metadata": {},
   "outputs": [
    {
     "data": {
      "image/png": "[encoded data removed]",
      "text/plain": [
       "<Figure size 432x288 with 1 Axes>"
      ]
     },
     "metadata": {
      "needs_background": "light"
     },
     "output_type": "display_data"
    }
   ],
   "source": [
    "import sklearn.metrics as metrics\n",
    "# calculate the fpr and tpr for all thresholds of the classification\n",
    "probs = model_xgbc.predict_proba(x_teste)\n",
    "preds = probs[:,1]\n",
    "fpr, tpr, threshold = metrics.roc_curve(y_teste, preds)\n",
    "roc_auc = metrics.auc(fpr, tpr)\n",
    "\n",
    "# method I: plt\n",
    "import matplotlib.pyplot as plt\n",
    "plt.title('Receiver Operating Characteristic')\n",
    "plt.plot(fpr, tpr, 'b', label = 'AUC = %0.2f' % roc_auc)\n",
    "plt.legend(loc = 'lower right')\n",
    "plt.plot([0, 1], [0, 1],'r--')\n",
    "plt.xlim([0, 1])\n",
    "plt.ylim([0, 1])\n",
    "plt.ylabel('True Positive Rate')\n",
    "plt.xlabel('False Positive Rate')\n",
    "plt.show()"
   ]
  },
  {
   "cell_type": "markdown",
   "metadata": {},
   "source": [
    "#### Conclusão\n",
    "<ul>\n",
    "<li>Feito análise inicial com seleção de variáveis e grid search e algorítimo com melhor resultado foi\n",
    "    Random Forest com accuracy média na base de treino 0.944 e de 94.52 na base de testes e com AUC = 0.82 </li>\n",
    "</ul>\n"
   ]
  },
  {
   "cell_type": "code",
   "execution_count": null,
   "metadata": {},
   "outputs": [],
   "source": []
  }
 ],
 "metadata": {
  "kernelspec": {
   "display_name": "Python 3",
   "language": "python",
   "name": "python3"
  },
  "language_info": {
   "codemirror_mode": {
    "name": "ipython",
    "version": 3
   },
   "file_extension": ".py",
   "mimetype": "text/x-python",
   "name": "python",
   "nbconvert_exporter": "python",
   "pygments_lexer": "ipython3",
   "version": "3.7.6"
  }
 },
 "nbformat": 4,
 "nbformat_minor": 4
}
